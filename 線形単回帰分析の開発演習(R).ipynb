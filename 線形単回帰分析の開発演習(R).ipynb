{
 "cells": [
  {
   "cell_type": "code",
   "execution_count": 1,
   "metadata": {},
   "outputs": [
    {
     "name": "stderr",
     "output_type": "stream",
     "text": [
      "Warning message:\n",
      "\"package 'ggsci' was built under R version 4.0.3\"\n"
     ]
    }
   ],
   "source": [
    "# 必要なライブラリ\n",
    "library(data.table) # 前処理\n",
    "library(ggplot2)    # 散布図と回帰直線\n",
    "library(ggsci)      # 散布図と回帰直線"
   ]
  },
  {
   "cell_type": "code",
   "execution_count": null,
   "metadata": {},
   "outputs": [],
   "source": [
    "# 必要なライブラリ\n",
    "library(data.table) # 前処理\n",
    "library(ggplot2)    # 散布図と回帰直線\n",
    "library(ggsci)      # 散布図と回帰直線"
   ]
  },
  {
   "cell_type": "code",
   "execution_count": 2,
   "metadata": {},
   "outputs": [
    {
     "data": {
      "text/html": [
       "<table>\n",
       "<caption>A data.table: 52 × 2</caption>\n",
       "<thead>\n",
       "\t<tr><th scope=col>英語</th><th scope=col>数学</th></tr>\n",
       "\t<tr><th scope=col>&lt;int&gt;</th><th scope=col>&lt;int&gt;</th></tr>\n",
       "</thead>\n",
       "<tbody>\n",
       "\t<tr><td>35</td><td>32</td></tr>\n",
       "\t<tr><td>60</td><td>60</td></tr>\n",
       "\t<tr><td>80</td><td>58</td></tr>\n",
       "\t<tr><td>65</td><td>55</td></tr>\n",
       "\t<tr><td>60</td><td>60</td></tr>\n",
       "\t<tr><td>41</td><td>45</td></tr>\n",
       "\t<tr><td>22</td><td>33</td></tr>\n",
       "\t<tr><td>85</td><td>87</td></tr>\n",
       "\t<tr><td>75</td><td>91</td></tr>\n",
       "\t<tr><td>90</td><td>95</td></tr>\n",
       "\t<tr><td>65</td><td>58</td></tr>\n",
       "\t<tr><td>66</td><td>92</td></tr>\n",
       "\t<tr><td>80</td><td>95</td></tr>\n",
       "\t<tr><td>80</td><td>85</td></tr>\n",
       "\t<tr><td>74</td><td>80</td></tr>\n",
       "\t<tr><td>63</td><td>36</td></tr>\n",
       "\t<tr><td>56</td><td>65</td></tr>\n",
       "\t<tr><td>84</td><td>75</td></tr>\n",
       "\t<tr><td>45</td><td>44</td></tr>\n",
       "\t<tr><td>40</td><td>20</td></tr>\n",
       "\t<tr><td>25</td><td>35</td></tr>\n",
       "\t<tr><td>61</td><td>55</td></tr>\n",
       "\t<tr><td>47</td><td>37</td></tr>\n",
       "\t<tr><td>20</td><td>20</td></tr>\n",
       "\t<tr><td>65</td><td>55</td></tr>\n",
       "\t<tr><td>12</td><td>13</td></tr>\n",
       "\t<tr><td>38</td><td>55</td></tr>\n",
       "\t<tr><td>59</td><td>54</td></tr>\n",
       "\t<tr><td>70</td><td>65</td></tr>\n",
       "\t<tr><td>85</td><td>50</td></tr>\n",
       "\t<tr><td>35</td><td>52</td></tr>\n",
       "\t<tr><td>25</td><td>25</td></tr>\n",
       "\t<tr><td>69</td><td>75</td></tr>\n",
       "\t<tr><td>30</td><td>45</td></tr>\n",
       "\t<tr><td>70</td><td>72</td></tr>\n",
       "\t<tr><td>84</td><td>85</td></tr>\n",
       "\t<tr><td>52</td><td>58</td></tr>\n",
       "\t<tr><td>50</td><td>65</td></tr>\n",
       "\t<tr><td>85</td><td>76</td></tr>\n",
       "\t<tr><td>69</td><td>85</td></tr>\n",
       "\t<tr><td>72</td><td>73</td></tr>\n",
       "\t<tr><td>60</td><td>75</td></tr>\n",
       "\t<tr><td>54</td><td>60</td></tr>\n",
       "\t<tr><td>86</td><td>72</td></tr>\n",
       "\t<tr><td>55</td><td>55</td></tr>\n",
       "\t<tr><td>47</td><td>27</td></tr>\n",
       "\t<tr><td>25</td><td>35</td></tr>\n",
       "\t<tr><td>55</td><td>55</td></tr>\n",
       "\t<tr><td>55</td><td>35</td></tr>\n",
       "\t<tr><td>45</td><td>60</td></tr>\n",
       "\t<tr><td>75</td><td>55</td></tr>\n",
       "\t<tr><td>72</td><td>47</td></tr>\n",
       "</tbody>\n",
       "</table>\n"
      ],
      "text/latex": [
       "A data.table: 52 × 2\n",
       "\\begin{tabular}{ll}\n",
       " 英語 & 数学\\\\\n",
       " <int> & <int>\\\\\n",
       "\\hline\n",
       "\t 35 & 32\\\\\n",
       "\t 60 & 60\\\\\n",
       "\t 80 & 58\\\\\n",
       "\t 65 & 55\\\\\n",
       "\t 60 & 60\\\\\n",
       "\t 41 & 45\\\\\n",
       "\t 22 & 33\\\\\n",
       "\t 85 & 87\\\\\n",
       "\t 75 & 91\\\\\n",
       "\t 90 & 95\\\\\n",
       "\t 65 & 58\\\\\n",
       "\t 66 & 92\\\\\n",
       "\t 80 & 95\\\\\n",
       "\t 80 & 85\\\\\n",
       "\t 74 & 80\\\\\n",
       "\t 63 & 36\\\\\n",
       "\t 56 & 65\\\\\n",
       "\t 84 & 75\\\\\n",
       "\t 45 & 44\\\\\n",
       "\t 40 & 20\\\\\n",
       "\t 25 & 35\\\\\n",
       "\t 61 & 55\\\\\n",
       "\t 47 & 37\\\\\n",
       "\t 20 & 20\\\\\n",
       "\t 65 & 55\\\\\n",
       "\t 12 & 13\\\\\n",
       "\t 38 & 55\\\\\n",
       "\t 59 & 54\\\\\n",
       "\t 70 & 65\\\\\n",
       "\t 85 & 50\\\\\n",
       "\t 35 & 52\\\\\n",
       "\t 25 & 25\\\\\n",
       "\t 69 & 75\\\\\n",
       "\t 30 & 45\\\\\n",
       "\t 70 & 72\\\\\n",
       "\t 84 & 85\\\\\n",
       "\t 52 & 58\\\\\n",
       "\t 50 & 65\\\\\n",
       "\t 85 & 76\\\\\n",
       "\t 69 & 85\\\\\n",
       "\t 72 & 73\\\\\n",
       "\t 60 & 75\\\\\n",
       "\t 54 & 60\\\\\n",
       "\t 86 & 72\\\\\n",
       "\t 55 & 55\\\\\n",
       "\t 47 & 27\\\\\n",
       "\t 25 & 35\\\\\n",
       "\t 55 & 55\\\\\n",
       "\t 55 & 35\\\\\n",
       "\t 45 & 60\\\\\n",
       "\t 75 & 55\\\\\n",
       "\t 72 & 47\\\\\n",
       "\\end{tabular}\n"
      ],
      "text/markdown": [
       "\n",
       "A data.table: 52 × 2\n",
       "\n",
       "| 英語 &lt;int&gt; | 数学 &lt;int&gt; |\n",
       "|---|---|\n",
       "| 35 | 32 |\n",
       "| 60 | 60 |\n",
       "| 80 | 58 |\n",
       "| 65 | 55 |\n",
       "| 60 | 60 |\n",
       "| 41 | 45 |\n",
       "| 22 | 33 |\n",
       "| 85 | 87 |\n",
       "| 75 | 91 |\n",
       "| 90 | 95 |\n",
       "| 65 | 58 |\n",
       "| 66 | 92 |\n",
       "| 80 | 95 |\n",
       "| 80 | 85 |\n",
       "| 74 | 80 |\n",
       "| 63 | 36 |\n",
       "| 56 | 65 |\n",
       "| 84 | 75 |\n",
       "| 45 | 44 |\n",
       "| 40 | 20 |\n",
       "| 25 | 35 |\n",
       "| 61 | 55 |\n",
       "| 47 | 37 |\n",
       "| 20 | 20 |\n",
       "| 65 | 55 |\n",
       "| 12 | 13 |\n",
       "| 38 | 55 |\n",
       "| 59 | 54 |\n",
       "| 70 | 65 |\n",
       "| 85 | 50 |\n",
       "| 35 | 52 |\n",
       "| 25 | 25 |\n",
       "| 69 | 75 |\n",
       "| 30 | 45 |\n",
       "| 70 | 72 |\n",
       "| 84 | 85 |\n",
       "| 52 | 58 |\n",
       "| 50 | 65 |\n",
       "| 85 | 76 |\n",
       "| 69 | 85 |\n",
       "| 72 | 73 |\n",
       "| 60 | 75 |\n",
       "| 54 | 60 |\n",
       "| 86 | 72 |\n",
       "| 55 | 55 |\n",
       "| 47 | 27 |\n",
       "| 25 | 35 |\n",
       "| 55 | 55 |\n",
       "| 55 | 35 |\n",
       "| 45 | 60 |\n",
       "| 75 | 55 |\n",
       "| 72 | 47 |\n",
       "\n"
      ],
      "text/plain": [
       "   英語 数学\n",
       "1  35   32  \n",
       "2  60   60  \n",
       "3  80   58  \n",
       "4  65   55  \n",
       "5  60   60  \n",
       "6  41   45  \n",
       "7  22   33  \n",
       "8  85   87  \n",
       "9  75   91  \n",
       "10 90   95  \n",
       "11 65   58  \n",
       "12 66   92  \n",
       "13 80   95  \n",
       "14 80   85  \n",
       "15 74   80  \n",
       "16 63   36  \n",
       "17 56   65  \n",
       "18 84   75  \n",
       "19 45   44  \n",
       "20 40   20  \n",
       "21 25   35  \n",
       "22 61   55  \n",
       "23 47   37  \n",
       "24 20   20  \n",
       "25 65   55  \n",
       "26 12   13  \n",
       "27 38   55  \n",
       "28 59   54  \n",
       "29 70   65  \n",
       "30 85   50  \n",
       "31 35   52  \n",
       "32 25   25  \n",
       "33 69   75  \n",
       "34 30   45  \n",
       "35 70   72  \n",
       "36 84   85  \n",
       "37 52   58  \n",
       "38 50   65  \n",
       "39 85   76  \n",
       "40 69   85  \n",
       "41 72   73  \n",
       "42 60   75  \n",
       "43 54   60  \n",
       "44 86   72  \n",
       "45 55   55  \n",
       "46 47   27  \n",
       "47 25   35  \n",
       "48 55   55  \n",
       "49 55   35  \n",
       "50 45   60  \n",
       "51 75   55  \n",
       "52 72   47  "
      ]
     },
     "metadata": {},
     "output_type": "display_data"
    }
   ],
   "source": [
    "# ローデータ.csvの読込\n",
    "raw_data <- fread(\"example_OLS.csv\")\n",
    "raw_data"
   ]
  },
  {
   "cell_type": "code",
   "execution_count": 3,
   "metadata": {},
   "outputs": [
    {
     "data": {
      "text/plain": [
       "   Min. 1st Qu.  Median    Mean 3rd Qu.    Max. \n",
       "  12.00   45.00   60.00   58.04   72.50   90.00 "
      ]
     },
     "metadata": {},
     "output_type": "display_data"
    }
   ],
   "source": [
    "# 目的変数(英語)の要約統計量を求める。\n",
    "summary(raw_data$英語)"
   ]
  },
  {
   "cell_type": "code",
   "execution_count": 4,
   "metadata": {},
   "outputs": [
    {
     "name": "stderr",
     "output_type": "stream",
     "text": [
      "`geom_smooth()` using formula 'y ~ x'\n",
      "\n"
     ]
    },
    {
     "data": {
      "image/png": "[encoded data removed]",
      "text/plain": [
       "plot without title"
      ]
     },
     "metadata": {
      "image/png": {
       "height": 420,
       "width": 420
      }
     },
     "output_type": "display_data"
    }
   ],
   "source": [
    "# 平均 ≒ 中央値と目視確認した為、散布図を描画する。\n",
    "g <- ggplot(raw_data, aes(x = 数学, y = 英語))\n",
    "g <- g + geom_point()\n",
    "g <- g + geom_smooth(method = \"lm\")\n",
    "g <- g + scale_color_nejm()\n",
    "plot(g)"
   ]
  },
  {
   "cell_type": "code",
   "execution_count": 5,
   "metadata": {},
   "outputs": [],
   "source": [
    "# 相関関係に仮説を立てることができた為、最小二乗法による線形単回帰分析を行う。\n",
    "OLS <- lm(英語~数学, raw_data)"
   ]
  },
  {
   "cell_type": "code",
   "execution_count": 6,
   "metadata": {},
   "outputs": [
    {
     "data": {
      "text/plain": [
       "\n",
       "Call:\n",
       "lm(formula = 英語 ~ 数学, data = raw_data)\n",
       "\n",
       "Residuals:\n",
       "    Min      1Q  Median      3Q     Max \n",
       "-18.820  -8.757  -0.509   7.181  32.704 \n",
       "\n",
       "Coefficients:\n",
       "            Estimate Std. Error t value Pr(>|t|)    \n",
       "(Intercept) 14.20862    5.11050   2.780  0.00764 ** \n",
       "数学         0.76175    0.08362   9.109 3.37e-12 ***\n",
       "---\n",
       "Signif. codes:  0 '***' 0.001 '**' 0.01 '*' 0.05 '.' 0.1 ' ' 1\n",
       "\n",
       "Residual standard error: 12.42 on 50 degrees of freedom\n",
       "Multiple R-squared:  0.624,\tAdjusted R-squared:  0.6165 \n",
       "F-statistic: 82.98 on 1 and 50 DF,  p-value: 3.366e-12\n"
      ]
     },
     "metadata": {},
     "output_type": "display_data"
    }
   ],
   "source": [
    "# 回帰分析結果表を出力する。\n",
    "summary(OLS)"
   ]
  }
 ],
 "metadata": {
  "kernelspec": {
   "display_name": "R",
   "language": "R",
   "name": "ir"
  },
  "language_info": {
   "codemirror_mode": "r",
   "file_extension": ".r",
   "mimetype": "text/x-r-source",
   "name": "R",
   "pygments_lexer": "r",
   "version": "4.0.2"
  }
 },
 "nbformat": 4,
 "nbformat_minor": 4
}

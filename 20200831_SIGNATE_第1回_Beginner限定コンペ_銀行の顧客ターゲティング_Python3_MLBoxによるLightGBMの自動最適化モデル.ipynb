{
 "cells": [
  {
   "cell_type": "markdown",
   "metadata": {
    "colab": {
     "base_uri": "https://localhost:8080/",
     "height": 206
    },
    "colab_type": "code",
    "id": "Le7UJxbajqHQ",
    "outputId": "b2d3f434-79e1-4da9-8dba-5f3ba40f4799"
   },
   "source": [
    "# 最適化に必要なライブラリ\n",
    "1. 前処理\n",
    "1. ハイパーパラメータ\n",
    "1. 評価関数"
   ]
  },
  {
   "cell_type": "code",
   "execution_count": 32,
   "metadata": {},
   "outputs": [],
   "source": [
    "# 基本操作\n",
    "import pandas as pd\n",
    "import numpy as np"
   ]
  },
  {
   "cell_type": "code",
   "execution_count": 33,
   "metadata": {},
   "outputs": [],
   "source": [
    "from mlbox.preprocessing import * # 前処理の最適化\n",
    "from mlbox.optimisation import *\n",
    "from mlbox.prediction import *"
   ]
  },
  {
   "cell_type": "code",
   "execution_count": 34,
   "metadata": {},
   "outputs": [],
   "source": [
    "import featuretools as ft # 特徴量エンジニアリング\n",
    "import featuretools.variable_types as vtypes"
   ]
  },
  {
   "cell_type": "code",
   "execution_count": 35,
   "metadata": {},
   "outputs": [],
   "source": [
    "from sklearn.metrics import make_scorer\n",
    "from sklearn import metrics"
   ]
  },
  {
   "cell_type": "markdown",
   "metadata": {},
   "source": [
    "# 前処理の自動化"
   ]
  },
  {
   "cell_type": "code",
   "execution_count": 36,
   "metadata": {
    "colab": {},
    "colab_type": "code",
    "id": "f3OahsEpjvpa"
   },
   "outputs": [],
   "source": [
    "paths = [\"./0_input/train.csv\", \"./0_input/test.csv\"] #to modify\n",
    "target_name = \"y\" #to modify"
   ]
  },
  {
   "cell_type": "code",
   "execution_count": 37,
   "metadata": {
    "colab": {},
    "colab_type": "code",
    "id": "_F7npfdTjxkG"
   },
   "outputs": [
    {
     "name": "stdout",
     "output_type": "stream",
     "text": [
      "\n",
      "reading csv : train.csv ...\n",
      "cleaning data ...\n",
      "CPU time: 0.19073486328125 seconds\n",
      "\n",
      "reading csv : test.csv ...\n",
      "cleaning data ...\n",
      "CPU time: 0.1282029151916504 seconds\n",
      "\n",
      "> Number of common features : 17\n",
      "\n",
      "gathering and crunching for train and test datasets ...\n",
      "reindexing for train and test datasets ...\n",
      "dropping training duplicates ...\n",
      "dropping constant variables on training set ...\n",
      "\n",
      "> Number of categorical features: 9\n",
      "> Number of numerical features: 8\n",
      "> Number of training samples : 27100\n",
      "> Number of test samples : 18050\n",
      "\n",
      "> You have no missing values on train set...\n",
      "\n",
      "> Task : classification\n",
      "0.0    24988\n",
      "1.0     2112\n",
      "Name: y, dtype: int64\n",
      "\n",
      "encoding target ...\n"
     ]
    }
   ],
   "source": [
    "# Preprocessing\n",
    "data = Reader(sep = \",\").train_test_split(paths, target_name)"
   ]
  },
  {
   "cell_type": "code",
   "execution_count": 38,
   "metadata": {
    "colab": {},
    "colab_type": "code",
    "id": "5rEcnv0MjzoV"
   },
   "outputs": [
    {
     "name": "stdout",
     "output_type": "stream",
     "text": [
      "\n",
      "computing drifts ...\n",
      "CPU time: 1.0722665786743164 seconds\n",
      "\n",
      "> Top 10 drifts\n",
      "\n",
      "('id', 0.3261392973597328)\n",
      "('job', 0.013323940264333256)\n",
      "('balance', 0.011248062475084364)\n",
      "('contact', 0.007256787725772096)\n",
      "('month', 0.007167981519150324)\n",
      "('pdays', 0.007133620222628867)\n",
      "('housing', 0.006552422033915484)\n",
      "('age', 0.00620428289601449)\n",
      "('duration', 0.0055432572497471355)\n",
      "('campaign', 0.005348198423812622)\n",
      "\n",
      "> Deleted variables : []\n",
      "> Drift coefficients dumped into directory : save\n"
     ]
    }
   ],
   "source": [
    "data = Drift_thresholder().fit_transform(data)  #deleting non-stable variables"
   ]
  },
  {
   "cell_type": "code",
   "execution_count": 39,
   "metadata": {
    "colab": {},
    "colab_type": "code",
    "id": "DATUaMTlj2ew"
   },
   "outputs": [
    {
     "data": {
      "text/plain": [
       "{'strategy': 'dummification', 'verbose': False}"
      ]
     },
     "execution_count": 39,
     "metadata": {},
     "output_type": "execute_result"
    }
   ],
   "source": [
    "# Encoding\n",
    "Categorical_encoder(strategy = \"dummification\").get_params()"
   ]
  },
  {
   "cell_type": "markdown",
   "metadata": {},
   "source": [
    "# 特徴量エンジニアリング"
   ]
  },
  {
   "cell_type": "code",
   "execution_count": 40,
   "metadata": {},
   "outputs": [],
   "source": [
    "# ダミー変数の生成\n",
    "item_df = pd.DataFrame(data['train'])\n",
    "item_df = pd.get_dummies(item_df)\n",
    "\n",
    "tx_df = pd.DataFrame(data['test'])\n",
    "tx_df = pd.get_dummies(tx_df)"
   ]
  },
  {
   "cell_type": "code",
   "execution_count": 41,
   "metadata": {},
   "outputs": [],
   "source": [
    "es = ft.EntitySet(id='id')"
   ]
  },
  {
   "cell_type": "code",
   "execution_count": 42,
   "metadata": {},
   "outputs": [],
   "source": [
    "es = es.entity_from_dataframe(entity_id='train',\n",
    "                              dataframe=item_df,\n",
    "                              index = 'id'\n",
    "                             )"
   ]
  },
  {
   "cell_type": "code",
   "execution_count": 43,
   "metadata": {},
   "outputs": [],
   "source": [
    "es = es.entity_from_dataframe(entity_id='test',\n",
    "                              dataframe=tx_df,\n",
    "                              index = 'id'\n",
    "                             )"
   ]
  },
  {
   "cell_type": "code",
   "execution_count": 44,
   "metadata": {},
   "outputs": [
    {
     "name": "stderr",
     "output_type": "stream",
     "text": [
      "C:\\Users\\sator\\anaconda3\\envs\\MLBoxEnv\\lib\\site-packages\\featuretools\\synthesis\\dfs.py:313: UnusedPrimitiveWarning: Some specified primitives were not used during DFS:\n",
      "  agg_primitives: ['count', 'max', 'mean', 'min', 'mode', 'percent_true', 'skew', 'std', 'sum']\n",
      "This may be caused by a using a value of max_depth that is too small, not setting interesting values, or it may indicate no compatible variable types for the primitive were found in the data.\n",
      "  warnings.warn(warning_msg, UnusedPrimitiveWarning)\n"
     ]
    },
    {
     "ename": "AttributeError",
     "evalue": "'tuple' object has no attribute 'reset_index'",
     "output_type": "error",
     "traceback": [
      "\u001b[1;31m---------------------------------------------------------------------------\u001b[0m",
      "\u001b[1;31mAttributeError\u001b[0m                            Traceback (most recent call last)",
      "\u001b[1;32m<ipython-input-44-fe90f3c6a7ad>\u001b[0m in \u001b[0;36m<module>\u001b[1;34m\u001b[0m\n\u001b[0;32m      4\u001b[0m                        \u001b[0mcutoff_time_in_index\u001b[0m\u001b[1;33m=\u001b[0m\u001b[1;32mTrue\u001b[0m\u001b[1;33m\u001b[0m\u001b[1;33m\u001b[0m\u001b[0m\n\u001b[0;32m      5\u001b[0m                       )\n\u001b[1;32m----> 6\u001b[1;33m \u001b[0mfeature_train\u001b[0m \u001b[1;33m=\u001b[0m \u001b[0mfeature_train\u001b[0m\u001b[1;33m.\u001b[0m\u001b[0mreset_index\u001b[0m\u001b[1;33m(\u001b[0m\u001b[0minplace\u001b[0m\u001b[1;33m=\u001b[0m\u001b[1;32mTrue\u001b[0m\u001b[1;33m)\u001b[0m\u001b[1;33m\u001b[0m\u001b[1;33m\u001b[0m\u001b[0m\n\u001b[0m\u001b[0;32m      7\u001b[0m \u001b[0mfeature_train\u001b[0m\u001b[1;33m\u001b[0m\u001b[1;33m\u001b[0m\u001b[0m\n",
      "\u001b[1;31mAttributeError\u001b[0m: 'tuple' object has no attribute 'reset_index'"
     ]
    }
   ],
   "source": [
    "feature_train = ft.dfs(entityset=es, \n",
    "                       target_entity='train',\n",
    "                       agg_primitives=['sum', 'std', 'max', 'skew', 'min', 'mean', 'count', 'percent_true', 'mode'], \n",
    "                       cutoff_time_in_index=True\n",
    "                      )\n",
    "feature_train = feature_train.reset_index(inplace=True)\n",
    "feature_train"
   ]
  },
  {
   "cell_type": "code",
   "execution_count": null,
   "metadata": {},
   "outputs": [],
   "source": [
    "feature_test = ft.dfs(entityset=es, \n",
    "                      target_entity='test',\n",
    "                      agg_primitives=['sum', 'std', 'max', 'skew', 'min', 'mean', 'count', 'percent_true', 'mode'], \n",
    "                      cutoff_time_in_index=True\n",
    "                     )\n",
    "feature_test = feature_test.reset_index(inplace=True)\n",
    "feature_test"
   ]
  },
  {
   "cell_type": "code",
   "execution_count": null,
   "metadata": {},
   "outputs": [],
   "source": [
    "y = pd.read_csv(\"./0_input/train.csv\")\n",
    "y = ['y']\n",
    "y = pd.DataFrame(y)"
   ]
  },
  {
   "cell_type": "code",
   "execution_count": null,
   "metadata": {},
   "outputs": [],
   "source": [
    "train = pd.concat([feature_train, y], axis=1)\n",
    "train"
   ]
  },
  {
   "cell_type": "code",
   "execution_count": null,
   "metadata": {},
   "outputs": [],
   "source": []
  },
  {
   "cell_type": "code",
   "execution_count": null,
   "metadata": {},
   "outputs": [],
   "source": []
  },
  {
   "cell_type": "markdown",
   "metadata": {},
   "source": [
    "# LightGBMの最適化"
   ]
  },
  {
   "cell_type": "code",
   "execution_count": null,
   "metadata": {
    "colab": {},
    "colab_type": "code",
    "id": "xswWPjfLj5Yy"
   },
   "outputs": [],
   "source": [
    "# Model(二値分類)\n",
    "Clf_feature_selector()"
   ]
  },
  {
   "cell_type": "code",
   "execution_count": null,
   "metadata": {
    "colab": {},
    "colab_type": "code",
    "id": "MrSF3BZ2j7dR"
   },
   "outputs": [],
   "source": [
    "Classifier().get_estimator()"
   ]
  },
  {
   "cell_type": "code",
   "execution_count": null,
   "metadata": {},
   "outputs": [],
   "source": [
    "AUC = make_scorer(metrics.auc, greater_is_better=True, needs_proba=True)"
   ]
  },
  {
   "cell_type": "code",
   "execution_count": null,
   "metadata": {
    "colab": {},
    "colab_type": "code",
    "id": "yl878bJQj9e_"
   },
   "outputs": [],
   "source": [
    "# Optimisation\n",
    "opt = Optimiser(scoring = AUC, n_folds = 5)\n",
    "\n",
    "params = {\n",
    "     \"ne__numerical_strategy\" : int(0),\n",
    "     \"ce__strategy\" : \"label_encoding\",\n",
    "     \"fs__threshold\" : int(3),\n",
    "     \"stck__base_estimators\" : [Regressor(strategy = \"LightGBM\")],\n",
    "    #  \"stck__base_estimators\" : [Regressor(strategy = \"RandomForest\"), Regressor(strategy = \"ExtraTrees\")],\n",
    "     \"est__strategy\" : \"Linear\"\n",
    "}\n",
    "opt.evaluate(params, data)"
   ]
  },
  {
   "cell_type": "code",
   "execution_count": null,
   "metadata": {
    "colab": {},
    "colab_type": "code",
    "id": "aT55lg1Vj_5K"
   },
   "outputs": [],
   "source": [
    "space = {    \n",
    "        'est__strategy':{\"search\":\"choice\",\n",
    "                                  \"space\":[\"LightGBM\"]},    \n",
    "        'est__n_estimators':{\"search\":\"choice\",\n",
    "                                  \"space\":[150]},    \n",
    "        'est__colsample_bytree':{\"search\":\"uniform\",\n",
    "                                  \"space\":[0.8,0.95]},\n",
    "        'est__subsample':{\"search\":\"uniform\",\n",
    "                                  \"space\":[0.8,0.95]},\n",
    "        'est__max_depth':{\"search\":\"choice\",\n",
    "                                  \"space\":[5,6,7,8,9]},\n",
    "        'est__learning_rate':{\"search\":\"choice\",\n",
    "                                  \"space\":[0.07]} \n",
    "        }\n",
    "\n",
    "# 最適化シミュレーション\n",
    "best = opt.optimise(space, data, max_evals = int(2000)) #"
   ]
  },
  {
   "cell_type": "code",
   "execution_count": null,
   "metadata": {
    "colab": {},
    "colab_type": "code",
    "id": "7USragSlkFcP"
   },
   "outputs": [],
   "source": [
    "# Prediction\n",
    "Predictor().fit_predict(best, data)"
   ]
  },
  {
   "cell_type": "markdown",
   "metadata": {},
   "source": [
    "# 提出処理\n",
    "- コンペティションの規定に依る。"
   ]
  },
  {
   "cell_type": "code",
   "execution_count": null,
   "metadata": {
    "colab": {},
    "colab_type": "code",
    "id": "dF4J0-lJkLpV"
   },
   "outputs": [],
   "source": [
    "preds = pd.read_csv(\"save/\"+\"y\"+\"_predictions.csv\")\n",
    "result =  preds[\"y_predicted\"].values\n",
    "id = np.arange(1, 18051, 1)\n",
    "result = pd.DataFrame(result, columns = list('1'))\n",
    "id = pd.DataFrame(id, columns = list('0'))\n",
    "submit = pd.concat([id, result], axis = 1)\n",
    "print(submit)\n",
    "submit.to_csv(\"./1_output/mlbox.csv\", index = False)"
   ]
  }
 ],
 "metadata": {
  "accelerator": "TPU",
  "colab": {
   "collapsed_sections": [],
   "name": "20200831_AutoML(MLBox)によるLightGBMの自動最適化モデル_Python3(TPU/GPU).ipynb",
   "provenance": []
  },
  "kernelspec": {
   "display_name": "Python 3",
   "language": "python",
   "name": "python3"
  },
  "language_info": {
   "codemirror_mode": {
    "name": "ipython",
    "version": 3
   },
   "file_extension": ".py",
   "mimetype": "text/x-python",
   "name": "python",
   "nbconvert_exporter": "python",
   "pygments_lexer": "ipython3",
   "version": "3.8.5"
  }
 },
 "nbformat": 4,
 "nbformat_minor": 1
}

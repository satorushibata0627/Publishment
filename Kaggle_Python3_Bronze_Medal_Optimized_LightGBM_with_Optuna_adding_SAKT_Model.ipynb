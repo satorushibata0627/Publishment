{
 "cells": [
  {
   "cell_type": "markdown",
   "metadata": {
    "papermill": {
     "duration": 0.068503,
     "end_time": "2020-12-27T09:04:34.003982",
     "exception": false,
     "start_time": "2020-12-27T09:04:33.935479",
     "status": "completed"
    },
    "tags": []
   },
   "source": [
    "## \"Improvement of optimized LightGBM with Optuna adding SAKT Model\""
   ]
  },
  {
   "cell_type": "markdown",
   "metadata": {
    "papermill": {
     "duration": 0.06677,
     "end_time": "2020-12-27T09:04:34.138840",
     "exception": false,
     "start_time": "2020-12-27T09:04:34.072070",
     "status": "completed"
    },
    "tags": []
   },
   "source": [
    "### Points:\n",
    "1. This Notebook is based on [Riiid LGBM bagging2 + SAKT =0.781](https://www.kaggle.com/ammarnassanalhajali/riiid-lgbm-bagging2-sakt-0-781);\n",
    "1. I use optimized parameters with Optuna for it;\n",
    "1. This version added visualization and empirical analysis of the submission."
   ]
  },
  {
   "cell_type": "markdown",
   "metadata": {
    "papermill": {
     "duration": 0.066107,
     "end_time": "2020-12-27T09:04:34.272308",
     "exception": false,
     "start_time": "2020-12-27T09:04:34.206201",
     "status": "completed"
    },
    "tags": []
   },
   "source": [
    "### Source Notebooks:\n",
    "1. [SAKT + Riiid LGBM bagging2 LB 0.780](https://www.kaggle.com/leadbest/sakt-riiid-lgbm-bagging2)\n",
    "1. [SAKT with Randomization & State Updates LB0.771](https://www.kaggle.com/leadbest/sakt-with-randomization-state-updates)\n",
    "1. [Riiid! LGBM bagging2 LB0.772](https://www.kaggle.com/zephyrwang666/riiid-lgbm-bagging2)\n",
    "1. [Riiid LGBM bagging2 + SAKT =0.781](https://www.kaggle.com/ammarnassanalhajali/riiid-lgbm-bagging2-sakt-0-781/output?select=group.pkl)\n",
    "1. [Riiid!: Optimized LightGBM with Optuna](https://www.kaggle.com/satorushibata/riiid-optimized-lightgbm-with-optuna?scriptVersionId=50192148)\n",
    "    - The parameters were generated in [LightGBM on GPU with Feature Engineering, Optuna, and, Visualization](https://github.com/satorushibata0627/Publishment/blob/main/Kaggle_Python3_LightGBM_on_GPU_with_Feature_Engineering_Optuna_and_Visualization.ipynb).\n",
    "1. [Fork of Riiid LGBM bagging2.1 471152](https://www.kaggle.com/julianguo/fork-of-riiid-lgbm-bagging2-1-471152)"
   ]
  },
  {
   "cell_type": "markdown",
   "metadata": {
    "papermill": {
     "duration": 0.066592,
     "end_time": "2020-12-27T09:04:34.405879",
     "exception": false,
     "start_time": "2020-12-27T09:04:34.339287",
     "status": "completed"
    },
    "tags": []
   },
   "source": [
    "### Note\n",
    "1. Congratulations to [@若人生只若初见](https://www.kaggle.com/julianguo)!\n",
    "1. The Notebook: [Fork of Riiid LGBM bagging2.1 471152](https://www.kaggle.com/julianguo/fork-of-riiid-lgbm-bagging2-1-471152) achieved Public Score = 0.783."
   ]
  },
  {
   "cell_type": "code",
   "execution_count": 1,
   "metadata": {
    "_cell_guid": "b1076dfc-b9ad-4769-8c92-a6c4dae69d19",
    "_uuid": "8f2839f25d086af736a60e9eeb907d3b93b6e0e5",
    "execution": {
     "iopub.execute_input": "2020-12-27T09:04:34.543894Z",
     "iopub.status.busy": "2020-12-27T09:04:34.543141Z",
     "iopub.status.idle": "2020-12-27T09:05:05.296159Z",
     "shell.execute_reply": "2020-12-27T09:05:05.295499Z"
    },
    "papermill": {
     "duration": 30.823306,
     "end_time": "2020-12-27T09:05:05.296301",
     "exception": false,
     "start_time": "2020-12-27T09:04:34.472995",
     "status": "completed"
    },
    "tags": []
   },
   "outputs": [],
   "source": [
    "!pip install ../input/python-datatable/datatable-0.11.0-cp37-cp37m-manylinux2010_x86_64.whl > /dev/null 2>&1"
   ]
  },
  {
   "cell_type": "code",
   "execution_count": 2,
   "metadata": {
    "_cell_guid": "79c7e3d0-c299-4dcb-8224-4455121ee9b0",
    "_uuid": "d629ff2d2480ee46fbb7e2d37f6b5fab8052498a",
    "execution": {
     "iopub.execute_input": "2020-12-27T09:05:05.442889Z",
     "iopub.status.busy": "2020-12-27T09:05:05.442066Z",
     "iopub.status.idle": "2020-12-27T09:05:07.785248Z",
     "shell.execute_reply": "2020-12-27T09:05:07.784431Z"
    },
    "papermill": {
     "duration": 2.420613,
     "end_time": "2020-12-27T09:05:07.785386",
     "exception": false,
     "start_time": "2020-12-27T09:05:05.364773",
     "status": "completed"
    },
    "tags": []
   },
   "outputs": [
    {
     "data": {
      "text/html": [
       "<style type='text/css'>\n",
       ".datatable table.frame { margin-bottom: 0; }\n",
       ".datatable table.frame thead { border-bottom: none; }\n",
       ".datatable table.frame tr.coltypes td {  color: #FFFFFF;  line-height: 6px;  padding: 0 0.5em;}\n",
       ".datatable .bool    { background: #DDDD99; }\n",
       ".datatable .object  { background: #565656; }\n",
       ".datatable .int     { background: #5D9E5D; }\n",
       ".datatable .float   { background: #4040CC; }\n",
       ".datatable .str     { background: #CC4040; }\n",
       ".datatable .row_index {  background: var(--jp-border-color3);  border-right: 1px solid var(--jp-border-color0);  color: var(--jp-ui-font-color3);  font-size: 9px;}\n",
       ".datatable .frame tr.coltypes .row_index {  background: var(--jp-border-color0);}\n",
       ".datatable th:nth-child(2) { padding-left: 12px; }\n",
       ".datatable .hellipsis {  color: var(--jp-cell-editor-border-color);}\n",
       ".datatable .vellipsis {  background: var(--jp-layout-color0);  color: var(--jp-cell-editor-border-color);}\n",
       ".datatable .na {  color: var(--jp-cell-editor-border-color);  font-size: 80%;}\n",
       ".datatable .footer { font-size: 9px; }\n",
       ".datatable .frame_dimensions {  background: var(--jp-border-color3);  border-top: 1px solid var(--jp-border-color0);  color: var(--jp-ui-font-color3);  display: inline-block;  opacity: 0.6;  padding: 1px 10px 1px 5px;}\n",
       ".datatable .frame thead tr.colnames {  background-image: url('data:image/png;base64,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');  background-repeat: repeat-x;  background-size: 14px;  height: 28px;}\n",
       "</style>\n"
      ],
      "text/plain": [
       "<IPython.core.display.HTML object>"
      ]
     },
     "metadata": {},
     "output_type": "display_data"
    }
   ],
   "source": [
    "import numpy as np\n",
    "import pandas as pd\n",
    "import psutil\n",
    "from collections import defaultdict\n",
    "import datatable as dt\n",
    "import lightgbm as lgb\n",
    "import riiideducation\n",
    "import random\n",
    "import gc\n",
    "import torch\n",
    "import torch.nn as nn\n",
    "from torch.utils.data import Dataset, DataLoader\n",
    "import os\n",
    "import pickle\n",
    "_ = np.seterr(divide='ignore', invalid='ignore')"
   ]
  },
  {
   "cell_type": "code",
   "execution_count": 3,
   "metadata": {
    "execution": {
     "iopub.execute_input": "2020-12-27T09:05:07.934712Z",
     "iopub.status.busy": "2020-12-27T09:05:07.933767Z",
     "iopub.status.idle": "2020-12-27T09:05:08.048964Z",
     "shell.execute_reply": "2020-12-27T09:05:08.048173Z"
    },
    "papermill": {
     "duration": 0.193271,
     "end_time": "2020-12-27T09:05:08.049100",
     "exception": false,
     "start_time": "2020-12-27T09:05:07.855829",
     "status": "completed"
    },
    "tags": []
   },
   "outputs": [],
   "source": [
    "%matplotlib inline\n",
    "import matplotlib.pyplot as plt\n",
    "import seaborn as sns\n",
    "from scipy import stats\n",
    "from sklearn.utils import resample"
   ]
  },
  {
   "cell_type": "markdown",
   "metadata": {
    "papermill": {
     "duration": 0.067151,
     "end_time": "2020-12-27T09:05:08.184487",
     "exception": false,
     "start_time": "2020-12-27T09:05:08.117336",
     "status": "completed"
    },
    "tags": []
   },
   "source": [
    "## Random seed\n",
    "- This idea is made by [Riiid model LGBM](https://www.kaggle.com/ragnar123/riiid-model-lgbm)."
   ]
  },
  {
   "cell_type": "code",
   "execution_count": 4,
   "metadata": {
    "execution": {
     "iopub.execute_input": "2020-12-27T09:05:08.328915Z",
     "iopub.status.busy": "2020-12-27T09:05:08.327984Z",
     "iopub.status.idle": "2020-12-27T09:05:08.330987Z",
     "shell.execute_reply": "2020-12-27T09:05:08.330394Z"
    },
    "papermill": {
     "duration": 0.078713,
     "end_time": "2020-12-27T09:05:08.331113",
     "exception": false,
     "start_time": "2020-12-27T09:05:08.252400",
     "status": "completed"
    },
    "tags": []
   },
   "outputs": [],
   "source": [
    "# Initial value\n",
    "SEED = 123\n",
    "\n",
    "# Function to seed everything\n",
    "def seed_everything(seed):\n",
    "    random.seed(seed)\n",
    "    np.random.seed(seed)\n",
    "    os.environ['PYTHONHASHSEED'] = str(seed)\n",
    "    \n",
    "seed_everything(SEED)"
   ]
  },
  {
   "cell_type": "markdown",
   "metadata": {
    "papermill": {
     "duration": 0.075807,
     "end_time": "2020-12-27T09:05:08.474976",
     "exception": false,
     "start_time": "2020-12-27T09:05:08.399169",
     "status": "completed"
    },
    "tags": []
   },
   "source": [
    "# Preprocess"
   ]
  },
  {
   "cell_type": "code",
   "execution_count": 5,
   "metadata": {
    "execution": {
     "iopub.execute_input": "2020-12-27T09:05:08.622082Z",
     "iopub.status.busy": "2020-12-27T09:05:08.620978Z",
     "iopub.status.idle": "2020-12-27T09:05:08.624019Z",
     "shell.execute_reply": "2020-12-27T09:05:08.624731Z"
    },
    "papermill": {
     "duration": 0.081219,
     "end_time": "2020-12-27T09:05:08.624928",
     "exception": false,
     "start_time": "2020-12-27T09:05:08.543709",
     "status": "completed"
    },
    "tags": []
   },
   "outputs": [],
   "source": [
    "data_types_dict = {\n",
    "    'timestamp': 'int64',\n",
    "    'user_id': 'int32', \n",
    "    'content_id': 'int16', \n",
    "    'content_type_id':'int8', \n",
    "    'task_container_id': 'int16',\n",
    "    #'user_answer': 'int8',\n",
    "    'answered_correctly': 'int8', \n",
    "    'prior_question_elapsed_time': 'float32', \n",
    "    'prior_question_had_explanation': 'bool'\n",
    "}\n",
    "target = 'answered_correctly'"
   ]
  },
  {
   "cell_type": "code",
   "execution_count": 6,
   "metadata": {
    "execution": {
     "iopub.execute_input": "2020-12-27T09:05:08.771247Z",
     "iopub.status.busy": "2020-12-27T09:05:08.770457Z",
     "iopub.status.idle": "2020-12-27T09:06:37.782298Z",
     "shell.execute_reply": "2020-12-27T09:06:37.782904Z"
    },
    "papermill": {
     "duration": 89.08912,
     "end_time": "2020-12-27T09:06:37.783105",
     "exception": false,
     "start_time": "2020-12-27T09:05:08.693985",
     "status": "completed"
    },
    "tags": []
   },
   "outputs": [],
   "source": [
    "train_df = dt.fread('../input/riiid-test-answer-prediction/train.csv', columns=set(data_types_dict.keys())).to_pandas()"
   ]
  },
  {
   "cell_type": "code",
   "execution_count": 7,
   "metadata": {
    "execution": {
     "iopub.execute_input": "2020-12-27T09:06:37.927366Z",
     "iopub.status.busy": "2020-12-27T09:06:37.926371Z",
     "iopub.status.idle": "2020-12-27T09:06:37.931583Z",
     "shell.execute_reply": "2020-12-27T09:06:37.932098Z"
    },
    "papermill": {
     "duration": 0.079823,
     "end_time": "2020-12-27T09:06:37.932266",
     "exception": false,
     "start_time": "2020-12-27T09:06:37.852443",
     "status": "completed"
    },
    "tags": []
   },
   "outputs": [
    {
     "name": "stdout",
     "output_type": "stream",
     "text": [
      "27.4\n"
     ]
    }
   ],
   "source": [
    "print(psutil.virtual_memory().percent)"
   ]
  },
  {
   "cell_type": "code",
   "execution_count": 8,
   "metadata": {
    "execution": {
     "iopub.execute_input": "2020-12-27T09:06:38.088264Z",
     "iopub.status.busy": "2020-12-27T09:06:38.079474Z",
     "iopub.status.idle": "2020-12-27T09:06:38.102195Z",
     "shell.execute_reply": "2020-12-27T09:06:38.101498Z"
    },
    "papermill": {
     "duration": 0.100538,
     "end_time": "2020-12-27T09:06:38.102329",
     "exception": false,
     "start_time": "2020-12-27T09:06:38.001791",
     "status": "completed"
    },
    "tags": []
   },
   "outputs": [],
   "source": [
    "#reading in lecture df\n",
    "lectures_df = pd.read_csv('/kaggle/input/riiid-test-answer-prediction/lectures.csv')"
   ]
  },
  {
   "cell_type": "code",
   "execution_count": 9,
   "metadata": {
    "execution": {
     "iopub.execute_input": "2020-12-27T09:06:38.273870Z",
     "iopub.status.busy": "2020-12-27T09:06:38.273190Z",
     "iopub.status.idle": "2020-12-27T09:06:38.310256Z",
     "shell.execute_reply": "2020-12-27T09:06:38.309307Z"
    },
    "papermill": {
     "duration": 0.129327,
     "end_time": "2020-12-27T09:06:38.310436",
     "exception": false,
     "start_time": "2020-12-27T09:06:38.181109",
     "status": "completed"
    },
    "tags": []
   },
   "outputs": [],
   "source": [
    "lectures_df['type_of'] = lectures_df['type_of'].replace('solving question', 'solving_question')\n",
    "lectures_df = pd.get_dummies(lectures_df, columns=['part', 'type_of'])\n",
    "part_lectures_columns = [column for column in lectures_df.columns if column.startswith('part')]\n",
    "types_of_lectures_columns = [column for column in lectures_df.columns if column.startswith('type_of_')]"
   ]
  },
  {
   "cell_type": "code",
   "execution_count": 10,
   "metadata": {
    "execution": {
     "iopub.execute_input": "2020-12-27T09:06:38.456583Z",
     "iopub.status.busy": "2020-12-27T09:06:38.455873Z",
     "iopub.status.idle": "2020-12-27T09:06:39.948094Z",
     "shell.execute_reply": "2020-12-27T09:06:39.947430Z"
    },
    "papermill": {
     "duration": 1.567536,
     "end_time": "2020-12-27T09:06:39.948223",
     "exception": false,
     "start_time": "2020-12-27T09:06:38.380687",
     "status": "completed"
    },
    "tags": []
   },
   "outputs": [],
   "source": [
    "train_lectures = train_df[train_df.content_type_id == True].merge(lectures_df, left_on='content_id', right_on='lecture_id', how='left')"
   ]
  },
  {
   "cell_type": "code",
   "execution_count": 11,
   "metadata": {
    "execution": {
     "iopub.execute_input": "2020-12-27T09:06:40.097368Z",
     "iopub.status.busy": "2020-12-27T09:06:40.095753Z",
     "iopub.status.idle": "2020-12-27T09:06:40.708956Z",
     "shell.execute_reply": "2020-12-27T09:06:40.707469Z"
    },
    "papermill": {
     "duration": 0.691531,
     "end_time": "2020-12-27T09:06:40.709111",
     "exception": false,
     "start_time": "2020-12-27T09:06:40.017580",
     "status": "completed"
    },
    "tags": []
   },
   "outputs": [],
   "source": [
    "user_lecture_stats_part = train_lectures.groupby('user_id',as_index = False)[part_lectures_columns + types_of_lectures_columns].sum()"
   ]
  },
  {
   "cell_type": "code",
   "execution_count": 12,
   "metadata": {
    "execution": {
     "iopub.execute_input": "2020-12-27T09:06:40.855277Z",
     "iopub.status.busy": "2020-12-27T09:06:40.854368Z",
     "iopub.status.idle": "2020-12-27T09:06:40.863928Z",
     "shell.execute_reply": "2020-12-27T09:06:40.863220Z"
    },
    "papermill": {
     "duration": 0.085581,
     "end_time": "2020-12-27T09:06:40.864054",
     "exception": false,
     "start_time": "2020-12-27T09:06:40.778473",
     "status": "completed"
    },
    "tags": []
   },
   "outputs": [],
   "source": [
    "lecturedata_types_dict = {   \n",
    "    'user_id': 'int32', \n",
    "    'part_1': 'int8',\n",
    "    'part_2': 'int8',\n",
    "    'part_3': 'int8',\n",
    "    'part_4': 'int8',\n",
    "    'part_5': 'int8',\n",
    "    'part_6': 'int8',\n",
    "    'part_7': 'int8',\n",
    "    'type_of_concept': 'int8',\n",
    "    'type_of_intention': 'int8',\n",
    "    'type_of_solving_question': 'int8',\n",
    "    'type_of_starter': 'int8'\n",
    "}\n",
    "user_lecture_stats_part = user_lecture_stats_part.astype(lecturedata_types_dict)"
   ]
  },
  {
   "cell_type": "code",
   "execution_count": 13,
   "metadata": {
    "execution": {
     "iopub.execute_input": "2020-12-27T09:06:41.006811Z",
     "iopub.status.busy": "2020-12-27T09:06:41.006077Z",
     "iopub.status.idle": "2020-12-27T09:06:41.018396Z",
     "shell.execute_reply": "2020-12-27T09:06:41.018889Z"
    },
    "papermill": {
     "duration": 0.085422,
     "end_time": "2020-12-27T09:06:41.019060",
     "exception": false,
     "start_time": "2020-12-27T09:06:40.933638",
     "status": "completed"
    },
    "tags": []
   },
   "outputs": [],
   "source": [
    "for column in user_lecture_stats_part.columns:\n",
    "    #bool_column = column + '_boolean'\n",
    "    if(column !='user_id'):\n",
    "        user_lecture_stats_part[column] = (user_lecture_stats_part[column] > 0).astype('int8')"
   ]
  },
  {
   "cell_type": "code",
   "execution_count": 14,
   "metadata": {
    "execution": {
     "iopub.execute_input": "2020-12-27T09:06:41.161205Z",
     "iopub.status.busy": "2020-12-27T09:06:41.160520Z",
     "iopub.status.idle": "2020-12-27T09:06:41.191959Z",
     "shell.execute_reply": "2020-12-27T09:06:41.192466Z"
    },
    "papermill": {
     "duration": 0.104423,
     "end_time": "2020-12-27T09:06:41.192644",
     "exception": false,
     "start_time": "2020-12-27T09:06:41.088221",
     "status": "completed"
    },
    "tags": []
   },
   "outputs": [
    {
     "data": {
      "text/html": [
       "<div>\n",
       "<style scoped>\n",
       "    .dataframe tbody tr th:only-of-type {\n",
       "        vertical-align: middle;\n",
       "    }\n",
       "\n",
       "    .dataframe tbody tr th {\n",
       "        vertical-align: top;\n",
       "    }\n",
       "\n",
       "    .dataframe thead th {\n",
       "        text-align: right;\n",
       "    }\n",
       "</style>\n",
       "<table border=\"1\" class=\"dataframe\">\n",
       "  <thead>\n",
       "    <tr style=\"text-align: right;\">\n",
       "      <th></th>\n",
       "      <th>timestamp</th>\n",
       "      <th>user_id</th>\n",
       "      <th>content_id</th>\n",
       "      <th>content_type_id</th>\n",
       "      <th>task_container_id</th>\n",
       "      <th>answered_correctly</th>\n",
       "      <th>prior_question_elapsed_time</th>\n",
       "      <th>prior_question_had_explanation</th>\n",
       "      <th>lecture_id</th>\n",
       "      <th>tag</th>\n",
       "      <th>...</th>\n",
       "      <th>part_2</th>\n",
       "      <th>part_3</th>\n",
       "      <th>part_4</th>\n",
       "      <th>part_5</th>\n",
       "      <th>part_6</th>\n",
       "      <th>part_7</th>\n",
       "      <th>type_of_concept</th>\n",
       "      <th>type_of_intention</th>\n",
       "      <th>type_of_solving_question</th>\n",
       "      <th>type_of_starter</th>\n",
       "    </tr>\n",
       "  </thead>\n",
       "  <tbody>\n",
       "    <tr>\n",
       "      <th>1</th>\n",
       "      <td>10183847</td>\n",
       "      <td>5382</td>\n",
       "      <td>16736</td>\n",
       "      <td>True</td>\n",
       "      <td>21</td>\n",
       "      <td>-1</td>\n",
       "      <td>NaN</td>\n",
       "      <td>False</td>\n",
       "      <td>16736</td>\n",
       "      <td>40</td>\n",
       "      <td>...</td>\n",
       "      <td>0</td>\n",
       "      <td>0</td>\n",
       "      <td>0</td>\n",
       "      <td>0</td>\n",
       "      <td>0</td>\n",
       "      <td>0</td>\n",
       "      <td>1</td>\n",
       "      <td>0</td>\n",
       "      <td>0</td>\n",
       "      <td>0</td>\n",
       "    </tr>\n",
       "    <tr>\n",
       "      <th>2</th>\n",
       "      <td>1424348597</td>\n",
       "      <td>5382</td>\n",
       "      <td>30207</td>\n",
       "      <td>True</td>\n",
       "      <td>104</td>\n",
       "      <td>-1</td>\n",
       "      <td>NaN</td>\n",
       "      <td>False</td>\n",
       "      <td>30207</td>\n",
       "      <td>43</td>\n",
       "      <td>...</td>\n",
       "      <td>0</td>\n",
       "      <td>0</td>\n",
       "      <td>0</td>\n",
       "      <td>1</td>\n",
       "      <td>0</td>\n",
       "      <td>0</td>\n",
       "      <td>1</td>\n",
       "      <td>0</td>\n",
       "      <td>0</td>\n",
       "      <td>0</td>\n",
       "    </tr>\n",
       "    <tr>\n",
       "      <th>3</th>\n",
       "      <td>1425557777</td>\n",
       "      <td>5382</td>\n",
       "      <td>18545</td>\n",
       "      <td>True</td>\n",
       "      <td>121</td>\n",
       "      <td>-1</td>\n",
       "      <td>NaN</td>\n",
       "      <td>False</td>\n",
       "      <td>18545</td>\n",
       "      <td>58</td>\n",
       "      <td>...</td>\n",
       "      <td>0</td>\n",
       "      <td>0</td>\n",
       "      <td>0</td>\n",
       "      <td>1</td>\n",
       "      <td>0</td>\n",
       "      <td>0</td>\n",
       "      <td>1</td>\n",
       "      <td>0</td>\n",
       "      <td>0</td>\n",
       "      <td>0</td>\n",
       "    </tr>\n",
       "  </tbody>\n",
       "</table>\n",
       "<p>3 rows × 21 columns</p>\n",
       "</div>"
      ],
      "text/plain": [
       "    timestamp  user_id  content_id  content_type_id  task_container_id  \\\n",
       "1    10183847     5382       16736             True                 21   \n",
       "2  1424348597     5382       30207             True                104   \n",
       "3  1425557777     5382       18545             True                121   \n",
       "\n",
       "   answered_correctly  prior_question_elapsed_time  \\\n",
       "1                  -1                          NaN   \n",
       "2                  -1                          NaN   \n",
       "3                  -1                          NaN   \n",
       "\n",
       "  prior_question_had_explanation  lecture_id  tag  ...  part_2  part_3  \\\n",
       "1                          False       16736   40  ...       0       0   \n",
       "2                          False       30207   43  ...       0       0   \n",
       "3                          False       18545   58  ...       0       0   \n",
       "\n",
       "   part_4  part_5  part_6  part_7  type_of_concept  type_of_intention  \\\n",
       "1       0       0       0       0                1                  0   \n",
       "2       0       1       0       0                1                  0   \n",
       "3       0       1       0       0                1                  0   \n",
       "\n",
       "   type_of_solving_question  type_of_starter  \n",
       "1                         0                0  \n",
       "2                         0                0  \n",
       "3                         0                0  \n",
       "\n",
       "[3 rows x 21 columns]"
      ]
     },
     "execution_count": 14,
     "metadata": {},
     "output_type": "execute_result"
    }
   ],
   "source": [
    "train_lectures[train_lectures.user_id==5382]"
   ]
  },
  {
   "cell_type": "code",
   "execution_count": 15,
   "metadata": {
    "execution": {
     "iopub.execute_input": "2020-12-27T09:06:41.335798Z",
     "iopub.status.busy": "2020-12-27T09:06:41.335075Z",
     "iopub.status.idle": "2020-12-27T09:06:41.349166Z",
     "shell.execute_reply": "2020-12-27T09:06:41.349680Z"
    },
    "papermill": {
     "duration": 0.087556,
     "end_time": "2020-12-27T09:06:41.349839",
     "exception": false,
     "start_time": "2020-12-27T09:06:41.262283",
     "status": "completed"
    },
    "tags": []
   },
   "outputs": [
    {
     "data": {
      "text/html": [
       "<div>\n",
       "<style scoped>\n",
       "    .dataframe tbody tr th:only-of-type {\n",
       "        vertical-align: middle;\n",
       "    }\n",
       "\n",
       "    .dataframe tbody tr th {\n",
       "        vertical-align: top;\n",
       "    }\n",
       "\n",
       "    .dataframe thead th {\n",
       "        text-align: right;\n",
       "    }\n",
       "</style>\n",
       "<table border=\"1\" class=\"dataframe\">\n",
       "  <thead>\n",
       "    <tr style=\"text-align: right;\">\n",
       "      <th></th>\n",
       "      <th>user_id</th>\n",
       "      <th>part_1</th>\n",
       "      <th>part_2</th>\n",
       "      <th>part_3</th>\n",
       "      <th>part_4</th>\n",
       "      <th>part_5</th>\n",
       "      <th>part_6</th>\n",
       "      <th>part_7</th>\n",
       "      <th>type_of_concept</th>\n",
       "      <th>type_of_intention</th>\n",
       "      <th>type_of_solving_question</th>\n",
       "      <th>type_of_starter</th>\n",
       "    </tr>\n",
       "  </thead>\n",
       "  <tbody>\n",
       "    <tr>\n",
       "      <th>1</th>\n",
       "      <td>5382</td>\n",
       "      <td>1</td>\n",
       "      <td>0</td>\n",
       "      <td>0</td>\n",
       "      <td>0</td>\n",
       "      <td>1</td>\n",
       "      <td>0</td>\n",
       "      <td>0</td>\n",
       "      <td>1</td>\n",
       "      <td>0</td>\n",
       "      <td>0</td>\n",
       "      <td>0</td>\n",
       "    </tr>\n",
       "  </tbody>\n",
       "</table>\n",
       "</div>"
      ],
      "text/plain": [
       "   user_id  part_1  part_2  part_3  part_4  part_5  part_6  part_7  \\\n",
       "1     5382       1       0       0       0       1       0       0   \n",
       "\n",
       "   type_of_concept  type_of_intention  type_of_solving_question  \\\n",
       "1                1                  0                         0   \n",
       "\n",
       "   type_of_starter  \n",
       "1                0  "
      ]
     },
     "execution_count": 15,
     "metadata": {},
     "output_type": "execute_result"
    }
   ],
   "source": [
    "user_lecture_stats_part[user_lecture_stats_part.user_id==5382]"
   ]
  },
  {
   "cell_type": "code",
   "execution_count": 16,
   "metadata": {
    "execution": {
     "iopub.execute_input": "2020-12-27T09:06:41.494299Z",
     "iopub.status.busy": "2020-12-27T09:06:41.493583Z",
     "iopub.status.idle": "2020-12-27T09:06:41.507575Z",
     "shell.execute_reply": "2020-12-27T09:06:41.508188Z"
    },
    "papermill": {
     "duration": 0.088159,
     "end_time": "2020-12-27T09:06:41.508351",
     "exception": false,
     "start_time": "2020-12-27T09:06:41.420192",
     "status": "completed"
    },
    "tags": []
   },
   "outputs": [
    {
     "data": {
      "text/html": [
       "<div>\n",
       "<style scoped>\n",
       "    .dataframe tbody tr th:only-of-type {\n",
       "        vertical-align: middle;\n",
       "    }\n",
       "\n",
       "    .dataframe tbody tr th {\n",
       "        vertical-align: top;\n",
       "    }\n",
       "\n",
       "    .dataframe thead th {\n",
       "        text-align: right;\n",
       "    }\n",
       "</style>\n",
       "<table border=\"1\" class=\"dataframe\">\n",
       "  <thead>\n",
       "    <tr style=\"text-align: right;\">\n",
       "      <th></th>\n",
       "      <th>user_id</th>\n",
       "      <th>part_1</th>\n",
       "      <th>part_2</th>\n",
       "      <th>part_3</th>\n",
       "      <th>part_4</th>\n",
       "      <th>part_5</th>\n",
       "      <th>part_6</th>\n",
       "      <th>part_7</th>\n",
       "      <th>type_of_concept</th>\n",
       "      <th>type_of_intention</th>\n",
       "      <th>type_of_solving_question</th>\n",
       "      <th>type_of_starter</th>\n",
       "    </tr>\n",
       "  </thead>\n",
       "  <tbody>\n",
       "    <tr>\n",
       "      <th>149601</th>\n",
       "      <td>2147419988</td>\n",
       "      <td>1</td>\n",
       "      <td>0</td>\n",
       "      <td>1</td>\n",
       "      <td>0</td>\n",
       "      <td>1</td>\n",
       "      <td>1</td>\n",
       "      <td>0</td>\n",
       "      <td>1</td>\n",
       "      <td>0</td>\n",
       "      <td>1</td>\n",
       "      <td>0</td>\n",
       "    </tr>\n",
       "    <tr>\n",
       "      <th>149602</th>\n",
       "      <td>2147469944</td>\n",
       "      <td>1</td>\n",
       "      <td>0</td>\n",
       "      <td>0</td>\n",
       "      <td>1</td>\n",
       "      <td>1</td>\n",
       "      <td>0</td>\n",
       "      <td>0</td>\n",
       "      <td>1</td>\n",
       "      <td>0</td>\n",
       "      <td>0</td>\n",
       "      <td>0</td>\n",
       "    </tr>\n",
       "    <tr>\n",
       "      <th>149603</th>\n",
       "      <td>2147470770</td>\n",
       "      <td>0</td>\n",
       "      <td>0</td>\n",
       "      <td>0</td>\n",
       "      <td>0</td>\n",
       "      <td>1</td>\n",
       "      <td>0</td>\n",
       "      <td>0</td>\n",
       "      <td>1</td>\n",
       "      <td>0</td>\n",
       "      <td>0</td>\n",
       "      <td>0</td>\n",
       "    </tr>\n",
       "    <tr>\n",
       "      <th>149604</th>\n",
       "      <td>2147470777</td>\n",
       "      <td>0</td>\n",
       "      <td>0</td>\n",
       "      <td>0</td>\n",
       "      <td>1</td>\n",
       "      <td>1</td>\n",
       "      <td>0</td>\n",
       "      <td>0</td>\n",
       "      <td>1</td>\n",
       "      <td>0</td>\n",
       "      <td>0</td>\n",
       "      <td>0</td>\n",
       "    </tr>\n",
       "    <tr>\n",
       "      <th>149605</th>\n",
       "      <td>2147482216</td>\n",
       "      <td>0</td>\n",
       "      <td>1</td>\n",
       "      <td>0</td>\n",
       "      <td>0</td>\n",
       "      <td>0</td>\n",
       "      <td>0</td>\n",
       "      <td>0</td>\n",
       "      <td>1</td>\n",
       "      <td>1</td>\n",
       "      <td>0</td>\n",
       "      <td>0</td>\n",
       "    </tr>\n",
       "  </tbody>\n",
       "</table>\n",
       "</div>"
      ],
      "text/plain": [
       "           user_id  part_1  part_2  part_3  part_4  part_5  part_6  part_7  \\\n",
       "149601  2147419988       1       0       1       0       1       1       0   \n",
       "149602  2147469944       1       0       0       1       1       0       0   \n",
       "149603  2147470770       0       0       0       0       1       0       0   \n",
       "149604  2147470777       0       0       0       1       1       0       0   \n",
       "149605  2147482216       0       1       0       0       0       0       0   \n",
       "\n",
       "        type_of_concept  type_of_intention  type_of_solving_question  \\\n",
       "149601                1                  0                         1   \n",
       "149602                1                  0                         0   \n",
       "149603                1                  0                         0   \n",
       "149604                1                  0                         0   \n",
       "149605                1                  1                         0   \n",
       "\n",
       "        type_of_starter  \n",
       "149601                0  \n",
       "149602                0  \n",
       "149603                0  \n",
       "149604                0  \n",
       "149605                0  "
      ]
     },
     "execution_count": 16,
     "metadata": {},
     "output_type": "execute_result"
    }
   ],
   "source": [
    "user_lecture_stats_part.tail()"
   ]
  },
  {
   "cell_type": "code",
   "execution_count": 17,
   "metadata": {
    "execution": {
     "iopub.execute_input": "2020-12-27T09:06:41.657105Z",
     "iopub.status.busy": "2020-12-27T09:06:41.656380Z",
     "iopub.status.idle": "2020-12-27T09:06:41.664683Z",
     "shell.execute_reply": "2020-12-27T09:06:41.664118Z"
    },
    "papermill": {
     "duration": 0.084297,
     "end_time": "2020-12-27T09:06:41.664807",
     "exception": false,
     "start_time": "2020-12-27T09:06:41.580510",
     "status": "completed"
    },
    "tags": []
   },
   "outputs": [
    {
     "data": {
      "text/plain": [
       "user_id                     int32\n",
       "part_1                       int8\n",
       "part_2                       int8\n",
       "part_3                       int8\n",
       "part_4                       int8\n",
       "part_5                       int8\n",
       "part_6                       int8\n",
       "part_7                       int8\n",
       "type_of_concept              int8\n",
       "type_of_intention            int8\n",
       "type_of_solving_question     int8\n",
       "type_of_starter              int8\n",
       "dtype: object"
      ]
     },
     "execution_count": 17,
     "metadata": {},
     "output_type": "execute_result"
    }
   ],
   "source": [
    "user_lecture_stats_part.dtypes"
   ]
  },
  {
   "cell_type": "code",
   "execution_count": 18,
   "metadata": {
    "execution": {
     "iopub.execute_input": "2020-12-27T09:06:41.815998Z",
     "iopub.status.busy": "2020-12-27T09:06:41.815228Z",
     "iopub.status.idle": "2020-12-27T09:06:41.824723Z",
     "shell.execute_reply": "2020-12-27T09:06:41.825293Z"
    },
    "papermill": {
     "duration": 0.088317,
     "end_time": "2020-12-27T09:06:41.825473",
     "exception": false,
     "start_time": "2020-12-27T09:06:41.737156",
     "status": "completed"
    },
    "tags": []
   },
   "outputs": [],
   "source": [
    "#clearing memory\n",
    "del(train_lectures)"
   ]
  },
  {
   "cell_type": "code",
   "execution_count": 19,
   "metadata": {
    "execution": {
     "iopub.execute_input": "2020-12-27T09:06:41.976274Z",
     "iopub.status.busy": "2020-12-27T09:06:41.975543Z",
     "iopub.status.idle": "2020-12-27T09:06:41.982269Z",
     "shell.execute_reply": "2020-12-27T09:06:41.981674Z"
    },
    "papermill": {
     "duration": 0.08298,
     "end_time": "2020-12-27T09:06:41.982396",
     "exception": false,
     "start_time": "2020-12-27T09:06:41.899416",
     "status": "completed"
    },
    "tags": []
   },
   "outputs": [
    {
     "name": "stdout",
     "output_type": "stream",
     "text": [
      "32.6\n"
     ]
    }
   ],
   "source": [
    "print(psutil.virtual_memory().percent)"
   ]
  },
  {
   "cell_type": "code",
   "execution_count": 20,
   "metadata": {
    "execution": {
     "iopub.execute_input": "2020-12-27T09:06:42.137368Z",
     "iopub.status.busy": "2020-12-27T09:06:42.136717Z",
     "iopub.status.idle": "2020-12-27T09:07:02.963156Z",
     "shell.execute_reply": "2020-12-27T09:07:02.963787Z"
    },
    "papermill": {
     "duration": 20.908893,
     "end_time": "2020-12-27T09:07:02.963963",
     "exception": false,
     "start_time": "2020-12-27T09:06:42.055070",
     "status": "completed"
    },
    "tags": []
   },
   "outputs": [],
   "source": [
    "cum = train_df.groupby('user_id')['content_type_id'].agg(['cumsum', 'cumcount'])\n",
    "train_df['user_lecture_cumsum'] = cum['cumsum'] \n",
    "train_df['user_lecture_lv'] = cum['cumsum'] / cum['cumcount']\n",
    "train_df.user_lecture_lv=train_df.user_lecture_lv.astype('float16')\n",
    "train_df.user_lecture_cumsum=train_df.user_lecture_cumsum.astype('int8')\n",
    "user_lecture_agg = train_df.groupby('user_id')['content_type_id'].agg(['sum', 'count'])"
   ]
  },
  {
   "cell_type": "code",
   "execution_count": 21,
   "metadata": {
    "execution": {
     "iopub.execute_input": "2020-12-27T09:07:03.113370Z",
     "iopub.status.busy": "2020-12-27T09:07:03.112347Z",
     "iopub.status.idle": "2020-12-27T09:07:35.608909Z",
     "shell.execute_reply": "2020-12-27T09:07:35.609650Z"
    },
    "papermill": {
     "duration": 32.573404,
     "end_time": "2020-12-27T09:07:35.609850",
     "exception": false,
     "start_time": "2020-12-27T09:07:03.036446",
     "status": "completed"
    },
    "tags": []
   },
   "outputs": [],
   "source": [
    "train_df['prior_question_had_explanation'].fillna(False, inplace=True)\n",
    "train_df = train_df.astype(data_types_dict)\n",
    "train_df = train_df[train_df[target] != -1].reset_index(drop=True)\n",
    "prior_question_elapsed_time_mean=train_df['prior_question_elapsed_time'].mean()\n",
    "train_df['prior_question_elapsed_time'].fillna(prior_question_elapsed_time_mean, inplace=True)"
   ]
  },
  {
   "cell_type": "code",
   "execution_count": 22,
   "metadata": {
    "execution": {
     "iopub.execute_input": "2020-12-27T09:07:35.762167Z",
     "iopub.status.busy": "2020-12-27T09:07:35.761025Z",
     "iopub.status.idle": "2020-12-27T09:07:40.002197Z",
     "shell.execute_reply": "2020-12-27T09:07:40.000886Z"
    },
    "papermill": {
     "duration": 4.319292,
     "end_time": "2020-12-27T09:07:40.002381",
     "exception": false,
     "start_time": "2020-12-27T09:07:35.683089",
     "status": "completed"
    },
    "tags": []
   },
   "outputs": [],
   "source": [
    "max_timestamp_u = train_df[['user_id','timestamp']].groupby(['user_id']).agg(['max']).reset_index()\n",
    "#max_timestamp_u = train_df[['user_id','timestamp']].groupby(['user_id']).agg(['max'])\n",
    "max_timestamp_u.columns = ['user_id', 'max_time_stamp']"
   ]
  },
  {
   "cell_type": "code",
   "execution_count": 23,
   "metadata": {
    "execution": {
     "iopub.execute_input": "2020-12-27T09:07:40.154215Z",
     "iopub.status.busy": "2020-12-27T09:07:40.153173Z",
     "iopub.status.idle": "2020-12-27T09:07:47.244246Z",
     "shell.execute_reply": "2020-12-27T09:07:47.244893Z"
    },
    "papermill": {
     "duration": 7.168343,
     "end_time": "2020-12-27T09:07:47.245077",
     "exception": false,
     "start_time": "2020-12-27T09:07:40.076734",
     "status": "completed"
    },
    "tags": []
   },
   "outputs": [],
   "source": [
    "train_df['lagtime'] = train_df.groupby('user_id')['timestamp'].shift()\n",
    "train_df['lagtime']=train_df['timestamp']-train_df['lagtime']\n",
    "train_df['lagtime'].fillna(0, inplace=True)\n",
    "train_df.lagtime=train_df.lagtime.astype('int32')\n",
    "#train_df.drop(columns=['timestamp'], inplace=True)"
   ]
  },
  {
   "cell_type": "code",
   "execution_count": 24,
   "metadata": {
    "execution": {
     "iopub.execute_input": "2020-12-27T09:07:47.397594Z",
     "iopub.status.busy": "2020-12-27T09:07:47.396378Z",
     "iopub.status.idle": "2020-12-27T09:07:53.796454Z",
     "shell.execute_reply": "2020-12-27T09:07:53.797069Z"
    },
    "papermill": {
     "duration": 6.478187,
     "end_time": "2020-12-27T09:07:53.797237",
     "exception": false,
     "start_time": "2020-12-27T09:07:47.319050",
     "status": "completed"
    },
    "tags": []
   },
   "outputs": [],
   "source": [
    "lagtime_agg = train_df.groupby('user_id')['lagtime'].agg(['mean'])\n",
    "train_df['lagtime_mean'] = train_df['user_id'].map(lagtime_agg['mean'])\n",
    "train_df.lagtime_mean=train_df.lagtime_mean.astype('int32')"
   ]
  },
  {
   "cell_type": "code",
   "execution_count": 25,
   "metadata": {
    "execution": {
     "iopub.execute_input": "2020-12-27T09:07:54.024623Z",
     "iopub.status.busy": "2020-12-27T09:07:54.023902Z",
     "iopub.status.idle": "2020-12-27T09:08:04.521010Z",
     "shell.execute_reply": "2020-12-27T09:08:04.519817Z"
    },
    "papermill": {
     "duration": 10.648996,
     "end_time": "2020-12-27T09:08:04.521200",
     "exception": false,
     "start_time": "2020-12-27T09:07:53.872204",
     "status": "completed"
    },
    "tags": []
   },
   "outputs": [],
   "source": [
    "user_prior_question_elapsed_time = train_df[['user_id','prior_question_elapsed_time']].groupby(['user_id']).tail(1)\n",
    "#max_timestamp_u = train_df[['user_id','timestamp']].groupby(['user_id']).agg(['max'])\n",
    "user_prior_question_elapsed_time.columns = ['user_id', 'prior_question_elapsed_time']"
   ]
  },
  {
   "cell_type": "code",
   "execution_count": 26,
   "metadata": {
    "execution": {
     "iopub.execute_input": "2020-12-27T09:08:04.683650Z",
     "iopub.status.busy": "2020-12-27T09:08:04.682033Z",
     "iopub.status.idle": "2020-12-27T09:08:09.875004Z",
     "shell.execute_reply": "2020-12-27T09:08:09.873790Z"
    },
    "papermill": {
     "duration": 5.274516,
     "end_time": "2020-12-27T09:08:09.875157",
     "exception": false,
     "start_time": "2020-12-27T09:08:04.600641",
     "status": "completed"
    },
    "tags": []
   },
   "outputs": [],
   "source": [
    "train_df['delta_prior_question_elapsed_time'] = train_df.groupby('user_id')['prior_question_elapsed_time'].shift()\n",
    "train_df['delta_prior_question_elapsed_time']=train_df['prior_question_elapsed_time']-train_df['delta_prior_question_elapsed_time']\n",
    "train_df['delta_prior_question_elapsed_time'].fillna(0, inplace=True)"
   ]
  },
  {
   "cell_type": "code",
   "execution_count": 27,
   "metadata": {
    "execution": {
     "iopub.execute_input": "2020-12-27T09:08:10.033161Z",
     "iopub.status.busy": "2020-12-27T09:08:10.031839Z",
     "iopub.status.idle": "2020-12-27T09:08:10.626497Z",
     "shell.execute_reply": "2020-12-27T09:08:10.625856Z"
    },
    "papermill": {
     "duration": 0.676482,
     "end_time": "2020-12-27T09:08:10.626647",
     "exception": false,
     "start_time": "2020-12-27T09:08:09.950165",
     "status": "completed"
    },
    "tags": []
   },
   "outputs": [],
   "source": [
    "train_df.delta_prior_question_elapsed_time=train_df.delta_prior_question_elapsed_time.astype('int32')"
   ]
  },
  {
   "cell_type": "code",
   "execution_count": 28,
   "metadata": {
    "execution": {
     "iopub.execute_input": "2020-12-27T09:08:10.796998Z",
     "iopub.status.busy": "2020-12-27T09:08:10.795511Z",
     "iopub.status.idle": "2020-12-27T09:08:12.093893Z",
     "shell.execute_reply": "2020-12-27T09:08:12.094424Z"
    },
    "papermill": {
     "duration": 1.393831,
     "end_time": "2020-12-27T09:08:12.094625",
     "exception": false,
     "start_time": "2020-12-27T09:08:10.700794",
     "status": "completed"
    },
    "tags": []
   },
   "outputs": [],
   "source": [
    "train_df['timestamp']=train_df['timestamp']/(1000*3600)\n",
    "train_df.timestamp=train_df.timestamp.astype('int16')\n",
    "#"
   ]
  },
  {
   "cell_type": "code",
   "execution_count": 29,
   "metadata": {
    "execution": {
     "iopub.execute_input": "2020-12-27T09:08:12.253869Z",
     "iopub.status.busy": "2020-12-27T09:08:12.253057Z",
     "iopub.status.idle": "2020-12-27T09:08:46.154289Z",
     "shell.execute_reply": "2020-12-27T09:08:46.153569Z"
    },
    "papermill": {
     "duration": 33.985357,
     "end_time": "2020-12-27T09:08:46.154426",
     "exception": false,
     "start_time": "2020-12-27T09:08:12.169069",
     "status": "completed"
    },
    "tags": []
   },
   "outputs": [],
   "source": [
    "train_df['lag'] = train_df.groupby('user_id')[target].shift()\n",
    "\n",
    "cum = train_df.groupby('user_id')['lag'].agg(['cumsum', 'cumcount'])\n",
    "train_df['user_correctness'] = cum['cumsum'] / cum['cumcount']\n",
    "train_df['user_correct_cumsum'] = cum['cumsum']\n",
    "train_df['user_correct_cumcount'] = cum['cumcount']\n",
    "train_df.drop(columns=['lag'], inplace=True)\n",
    "\n",
    "# train_df['user_correctness'].fillna(1, inplace=True)\n",
    "train_df['user_correct_cumsum'].fillna(0, inplace=True)\n",
    "#train_df['user_correct_cumcount'].fillna(0, inplace=True)\n",
    "train_df.user_correctness=train_df.user_correctness.astype('float16')\n",
    "train_df.user_correct_cumcount=train_df.user_correct_cumcount.astype('int16')\n",
    "train_df.user_correct_cumsum=train_df.user_correct_cumsum.astype('int16')"
   ]
  },
  {
   "cell_type": "code",
   "execution_count": 30,
   "metadata": {
    "execution": {
     "iopub.execute_input": "2020-12-27T09:08:46.311168Z",
     "iopub.status.busy": "2020-12-27T09:08:46.310334Z",
     "iopub.status.idle": "2020-12-27T09:08:51.491292Z",
     "shell.execute_reply": "2020-12-27T09:08:51.490517Z"
    },
    "papermill": {
     "duration": 5.26172,
     "end_time": "2020-12-27T09:08:51.491430",
     "exception": false,
     "start_time": "2020-12-27T09:08:46.229710",
     "status": "completed"
    },
    "tags": []
   },
   "outputs": [],
   "source": [
    "train_df.prior_question_had_explanation=train_df.prior_question_had_explanation.astype('int8')\n",
    "train_df['lag'] = train_df.groupby('user_id')['prior_question_had_explanation'].shift()"
   ]
  },
  {
   "cell_type": "code",
   "execution_count": 31,
   "metadata": {
    "execution": {
     "iopub.execute_input": "2020-12-27T09:08:51.657097Z",
     "iopub.status.busy": "2020-12-27T09:08:51.655168Z",
     "iopub.status.idle": "2020-12-27T09:09:15.567490Z",
     "shell.execute_reply": "2020-12-27T09:09:15.566663Z"
    },
    "papermill": {
     "duration": 23.999856,
     "end_time": "2020-12-27T09:09:15.567661",
     "exception": false,
     "start_time": "2020-12-27T09:08:51.567805",
     "status": "completed"
    },
    "tags": []
   },
   "outputs": [],
   "source": [
    "cum = train_df.groupby('user_id')['lag'].agg(['cumsum', 'cumcount'])\n",
    "train_df['explanation_mean'] = cum['cumsum'] / cum['cumcount']\n",
    "train_df['explanation_cumsum'] = cum['cumsum'] \n",
    "train_df.drop(columns=['lag'], inplace=True)\n",
    "train_df['explanation_mean'].fillna(0, inplace=True)\n",
    "train_df['explanation_cumsum'].fillna(0, inplace=True)\n",
    "train_df.explanation_mean=train_df.explanation_mean.astype('float16')\n",
    "train_df.explanation_cumsum=train_df.explanation_cumsum.astype('int16')"
   ]
  },
  {
   "cell_type": "code",
   "execution_count": 32,
   "metadata": {
    "execution": {
     "iopub.execute_input": "2020-12-27T09:09:15.866464Z",
     "iopub.status.busy": "2020-12-27T09:09:15.729197Z",
     "iopub.status.idle": "2020-12-27T09:09:15.871484Z",
     "shell.execute_reply": "2020-12-27T09:09:15.871971Z"
    },
    "papermill": {
     "duration": 0.22846,
     "end_time": "2020-12-27T09:09:15.872146",
     "exception": false,
     "start_time": "2020-12-27T09:09:15.643686",
     "status": "completed"
    },
    "tags": []
   },
   "outputs": [
    {
     "data": {
      "text/plain": [
       "77"
      ]
     },
     "execution_count": 32,
     "metadata": {},
     "output_type": "execute_result"
    }
   ],
   "source": [
    "del cum\n",
    "gc.collect()"
   ]
  },
  {
   "cell_type": "code",
   "execution_count": 33,
   "metadata": {
    "execution": {
     "iopub.execute_input": "2020-12-27T09:09:16.033573Z",
     "iopub.status.busy": "2020-12-27T09:09:16.031848Z",
     "iopub.status.idle": "2020-12-27T09:10:25.151849Z",
     "shell.execute_reply": "2020-12-27T09:10:25.151064Z"
    },
    "papermill": {
     "duration": 69.203906,
     "end_time": "2020-12-27T09:10:25.151985",
     "exception": false,
     "start_time": "2020-12-27T09:09:15.948079",
     "status": "completed"
    },
    "tags": []
   },
   "outputs": [],
   "source": [
    "train_df[\"attempt_no\"] = 1\n",
    "train_df.attempt_no=train_df.attempt_no.astype('int8')\n",
    "train_df[\"attempt_no\"] = train_df[[\"user_id\",\"content_id\",'attempt_no']].groupby([\"user_id\",\"content_id\"])[\"attempt_no\"].cumsum()"
   ]
  },
  {
   "cell_type": "code",
   "execution_count": 34,
   "metadata": {
    "execution": {
     "iopub.execute_input": "2020-12-27T09:10:25.324704Z",
     "iopub.status.busy": "2020-12-27T09:10:25.316047Z",
     "iopub.status.idle": "2020-12-27T09:10:25.330356Z",
     "shell.execute_reply": "2020-12-27T09:10:25.329817Z"
    },
    "papermill": {
     "duration": 0.103175,
     "end_time": "2020-12-27T09:10:25.330485",
     "exception": false,
     "start_time": "2020-12-27T09:10:25.227310",
     "status": "completed"
    },
    "tags": []
   },
   "outputs": [
    {
     "data": {
      "text/html": [
       "<div>\n",
       "<style scoped>\n",
       "    .dataframe tbody tr th:only-of-type {\n",
       "        vertical-align: middle;\n",
       "    }\n",
       "\n",
       "    .dataframe tbody tr th {\n",
       "        vertical-align: top;\n",
       "    }\n",
       "\n",
       "    .dataframe thead th {\n",
       "        text-align: right;\n",
       "    }\n",
       "</style>\n",
       "<table border=\"1\" class=\"dataframe\">\n",
       "  <thead>\n",
       "    <tr style=\"text-align: right;\">\n",
       "      <th></th>\n",
       "      <th>timestamp</th>\n",
       "      <th>user_id</th>\n",
       "      <th>content_id</th>\n",
       "      <th>content_type_id</th>\n",
       "      <th>task_container_id</th>\n",
       "      <th>answered_correctly</th>\n",
       "      <th>prior_question_elapsed_time</th>\n",
       "      <th>prior_question_had_explanation</th>\n",
       "      <th>user_lecture_cumsum</th>\n",
       "      <th>user_lecture_lv</th>\n",
       "      <th>lagtime</th>\n",
       "      <th>lagtime_mean</th>\n",
       "      <th>delta_prior_question_elapsed_time</th>\n",
       "      <th>user_correctness</th>\n",
       "      <th>user_correct_cumsum</th>\n",
       "      <th>user_correct_cumcount</th>\n",
       "      <th>explanation_mean</th>\n",
       "      <th>explanation_cumsum</th>\n",
       "      <th>attempt_no</th>\n",
       "    </tr>\n",
       "  </thead>\n",
       "  <tbody>\n",
       "    <tr>\n",
       "      <th>0</th>\n",
       "      <td>0</td>\n",
       "      <td>115</td>\n",
       "      <td>5692</td>\n",
       "      <td>0</td>\n",
       "      <td>1</td>\n",
       "      <td>1</td>\n",
       "      <td>13005.081055</td>\n",
       "      <td>0</td>\n",
       "      <td>0</td>\n",
       "      <td>NaN</td>\n",
       "      <td>0</td>\n",
       "      <td>14523696</td>\n",
       "      <td>0</td>\n",
       "      <td>NaN</td>\n",
       "      <td>0</td>\n",
       "      <td>0</td>\n",
       "      <td>0.0</td>\n",
       "      <td>0</td>\n",
       "      <td>1</td>\n",
       "    </tr>\n",
       "    <tr>\n",
       "      <th>1</th>\n",
       "      <td>0</td>\n",
       "      <td>115</td>\n",
       "      <td>5716</td>\n",
       "      <td>0</td>\n",
       "      <td>2</td>\n",
       "      <td>1</td>\n",
       "      <td>37000.000000</td>\n",
       "      <td>0</td>\n",
       "      <td>0</td>\n",
       "      <td>0.0</td>\n",
       "      <td>56943</td>\n",
       "      <td>14523696</td>\n",
       "      <td>23994</td>\n",
       "      <td>1.0</td>\n",
       "      <td>1</td>\n",
       "      <td>1</td>\n",
       "      <td>0.0</td>\n",
       "      <td>0</td>\n",
       "      <td>1</td>\n",
       "    </tr>\n",
       "    <tr>\n",
       "      <th>2</th>\n",
       "      <td>0</td>\n",
       "      <td>115</td>\n",
       "      <td>128</td>\n",
       "      <td>0</td>\n",
       "      <td>0</td>\n",
       "      <td>1</td>\n",
       "      <td>55000.000000</td>\n",
       "      <td>0</td>\n",
       "      <td>0</td>\n",
       "      <td>0.0</td>\n",
       "      <td>61420</td>\n",
       "      <td>14523696</td>\n",
       "      <td>18000</td>\n",
       "      <td>1.0</td>\n",
       "      <td>2</td>\n",
       "      <td>2</td>\n",
       "      <td>0.0</td>\n",
       "      <td>0</td>\n",
       "      <td>1</td>\n",
       "    </tr>\n",
       "    <tr>\n",
       "      <th>3</th>\n",
       "      <td>0</td>\n",
       "      <td>115</td>\n",
       "      <td>7860</td>\n",
       "      <td>0</td>\n",
       "      <td>3</td>\n",
       "      <td>1</td>\n",
       "      <td>19000.000000</td>\n",
       "      <td>0</td>\n",
       "      <td>0</td>\n",
       "      <td>0.0</td>\n",
       "      <td>12804</td>\n",
       "      <td>14523696</td>\n",
       "      <td>-36000</td>\n",
       "      <td>1.0</td>\n",
       "      <td>3</td>\n",
       "      <td>3</td>\n",
       "      <td>0.0</td>\n",
       "      <td>0</td>\n",
       "      <td>1</td>\n",
       "    </tr>\n",
       "    <tr>\n",
       "      <th>4</th>\n",
       "      <td>0</td>\n",
       "      <td>115</td>\n",
       "      <td>7922</td>\n",
       "      <td>0</td>\n",
       "      <td>4</td>\n",
       "      <td>1</td>\n",
       "      <td>11000.000000</td>\n",
       "      <td>0</td>\n",
       "      <td>0</td>\n",
       "      <td>0.0</td>\n",
       "      <td>6798</td>\n",
       "      <td>14523696</td>\n",
       "      <td>-8000</td>\n",
       "      <td>1.0</td>\n",
       "      <td>4</td>\n",
       "      <td>4</td>\n",
       "      <td>0.0</td>\n",
       "      <td>0</td>\n",
       "      <td>1</td>\n",
       "    </tr>\n",
       "  </tbody>\n",
       "</table>\n",
       "</div>"
      ],
      "text/plain": [
       "   timestamp  user_id  content_id  content_type_id  task_container_id  \\\n",
       "0          0      115        5692                0                  1   \n",
       "1          0      115        5716                0                  2   \n",
       "2          0      115         128                0                  0   \n",
       "3          0      115        7860                0                  3   \n",
       "4          0      115        7922                0                  4   \n",
       "\n",
       "   answered_correctly  prior_question_elapsed_time  \\\n",
       "0                   1                 13005.081055   \n",
       "1                   1                 37000.000000   \n",
       "2                   1                 55000.000000   \n",
       "3                   1                 19000.000000   \n",
       "4                   1                 11000.000000   \n",
       "\n",
       "   prior_question_had_explanation  user_lecture_cumsum  user_lecture_lv  \\\n",
       "0                               0                    0              NaN   \n",
       "1                               0                    0              0.0   \n",
       "2                               0                    0              0.0   \n",
       "3                               0                    0              0.0   \n",
       "4                               0                    0              0.0   \n",
       "\n",
       "   lagtime  lagtime_mean  delta_prior_question_elapsed_time  user_correctness  \\\n",
       "0        0      14523696                                  0               NaN   \n",
       "1    56943      14523696                              23994               1.0   \n",
       "2    61420      14523696                              18000               1.0   \n",
       "3    12804      14523696                             -36000               1.0   \n",
       "4     6798      14523696                              -8000               1.0   \n",
       "\n",
       "   user_correct_cumsum  user_correct_cumcount  explanation_mean  \\\n",
       "0                    0                      0               0.0   \n",
       "1                    1                      1               0.0   \n",
       "2                    2                      2               0.0   \n",
       "3                    3                      3               0.0   \n",
       "4                    4                      4               0.0   \n",
       "\n",
       "   explanation_cumsum  attempt_no  \n",
       "0                   0           1  \n",
       "1                   0           1  \n",
       "2                   0           1  \n",
       "3                   0           1  \n",
       "4                   0           1  "
      ]
     },
     "execution_count": 34,
     "metadata": {},
     "output_type": "execute_result"
    }
   ],
   "source": [
    "train_df.head()"
   ]
  },
  {
   "cell_type": "code",
   "execution_count": 35,
   "metadata": {
    "execution": {
     "iopub.execute_input": "2020-12-27T09:10:25.485196Z",
     "iopub.status.busy": "2020-12-27T09:10:25.484451Z",
     "iopub.status.idle": "2020-12-27T09:10:25.491716Z",
     "shell.execute_reply": "2020-12-27T09:10:25.492208Z"
    },
    "papermill": {
     "duration": 0.086625,
     "end_time": "2020-12-27T09:10:25.492351",
     "exception": false,
     "start_time": "2020-12-27T09:10:25.405726",
     "status": "completed"
    },
    "tags": []
   },
   "outputs": [
    {
     "data": {
      "text/plain": [
       "timestamp                              int16\n",
       "user_id                                int32\n",
       "content_id                             int16\n",
       "content_type_id                         int8\n",
       "task_container_id                      int16\n",
       "answered_correctly                      int8\n",
       "prior_question_elapsed_time          float32\n",
       "prior_question_had_explanation          int8\n",
       "user_lecture_cumsum                     int8\n",
       "user_lecture_lv                      float16\n",
       "lagtime                                int32\n",
       "lagtime_mean                           int32\n",
       "delta_prior_question_elapsed_time      int32\n",
       "user_correctness                     float16\n",
       "user_correct_cumsum                    int16\n",
       "user_correct_cumcount                  int16\n",
       "explanation_mean                     float16\n",
       "explanation_cumsum                     int16\n",
       "attempt_no                              int8\n",
       "dtype: object"
      ]
     },
     "execution_count": 35,
     "metadata": {},
     "output_type": "execute_result"
    }
   ],
   "source": [
    "train_df.dtypes"
   ]
  },
  {
   "cell_type": "code",
   "execution_count": 36,
   "metadata": {
    "execution": {
     "iopub.execute_input": "2020-12-27T09:10:25.657544Z",
     "iopub.status.busy": "2020-12-27T09:10:25.656766Z",
     "iopub.status.idle": "2020-12-27T09:10:30.048113Z",
     "shell.execute_reply": "2020-12-27T09:10:30.047285Z"
    },
    "papermill": {
     "duration": 4.471591,
     "end_time": "2020-12-27T09:10:30.048284",
     "exception": false,
     "start_time": "2020-12-27T09:10:25.576693",
     "status": "completed"
    },
    "tags": []
   },
   "outputs": [],
   "source": [
    "explanation_agg = train_df.groupby('user_id')['prior_question_had_explanation'].agg(['sum', 'count'])\n",
    "explanation_agg=explanation_agg.astype('int16')\n",
    "#train_df.drop(columns=['prior_question_had_explanation'], inplace=True)"
   ]
  },
  {
   "cell_type": "code",
   "execution_count": 37,
   "metadata": {
    "execution": {
     "iopub.execute_input": "2020-12-27T09:10:30.214666Z",
     "iopub.status.busy": "2020-12-27T09:10:30.213932Z",
     "iopub.status.idle": "2020-12-27T09:10:47.027091Z",
     "shell.execute_reply": "2020-12-27T09:10:47.027639Z"
    },
    "papermill": {
     "duration": 16.900197,
     "end_time": "2020-12-27T09:10:47.027828",
     "exception": false,
     "start_time": "2020-12-27T09:10:30.127631",
     "status": "completed"
    },
    "tags": []
   },
   "outputs": [],
   "source": [
    "user_agg = train_df.groupby('user_id')[target].agg(['sum', 'count'])\n",
    "content_agg = train_df.groupby('content_id')[target].agg(['sum', 'count','var'])\n",
    "task_container_agg = train_df.groupby('task_container_id')[target].agg(['sum', 'count','var'])\n",
    "\n",
    "#prior_question_elapsed_time_agg = train_df.groupby('user_id')['prior_question_elapsed_time'].agg(['sum', 'count'])"
   ]
  },
  {
   "cell_type": "code",
   "execution_count": 38,
   "metadata": {
    "execution": {
     "iopub.execute_input": "2020-12-27T09:10:47.186081Z",
     "iopub.status.busy": "2020-12-27T09:10:47.185060Z",
     "iopub.status.idle": "2020-12-27T09:10:47.193969Z",
     "shell.execute_reply": "2020-12-27T09:10:47.193384Z"
    },
    "papermill": {
     "duration": 0.088766,
     "end_time": "2020-12-27T09:10:47.194095",
     "exception": false,
     "start_time": "2020-12-27T09:10:47.105329",
     "status": "completed"
    },
    "tags": []
   },
   "outputs": [],
   "source": [
    "user_agg=user_agg.astype('int16')\n",
    "content_agg=content_agg.astype('float32')\n",
    "task_container_agg=task_container_agg.astype('float32')"
   ]
  },
  {
   "cell_type": "code",
   "execution_count": 39,
   "metadata": {
    "execution": {
     "iopub.execute_input": "2020-12-27T09:10:47.354862Z",
     "iopub.status.busy": "2020-12-27T09:10:47.353799Z",
     "iopub.status.idle": "2020-12-27T09:12:08.893065Z",
     "shell.execute_reply": "2020-12-27T09:12:08.893665Z"
    },
    "papermill": {
     "duration": 81.623295,
     "end_time": "2020-12-27T09:12:08.893851",
     "exception": false,
     "start_time": "2020-12-27T09:10:47.270556",
     "status": "completed"
    },
    "tags": []
   },
   "outputs": [],
   "source": [
    "attempt_no_agg=train_df.groupby([\"user_id\",\"content_id\"])[\"attempt_no\"].agg(['sum'])\n",
    "attempt_no_agg=attempt_no_agg.astype('int8')\n",
    "#attempt_series = train_df[['user_id', 'content_id','attempt_no']].groupby(['user_id','content_id'])['attempt_no'].max()"
   ]
  },
  {
   "cell_type": "code",
   "execution_count": 40,
   "metadata": {
    "execution": {
     "iopub.execute_input": "2020-12-27T09:12:09.052709Z",
     "iopub.status.busy": "2020-12-27T09:12:09.051571Z",
     "iopub.status.idle": "2020-12-27T09:12:21.647594Z",
     "shell.execute_reply": "2020-12-27T09:12:21.646434Z"
    },
    "papermill": {
     "duration": 12.67687,
     "end_time": "2020-12-27T09:12:21.647765",
     "exception": false,
     "start_time": "2020-12-27T09:12:08.970895",
     "status": "completed"
    },
    "tags": []
   },
   "outputs": [],
   "source": [
    "train_df['content_count'] = train_df['content_id'].map(content_agg['count']).astype('int32')\n",
    "train_df['content_sum'] = train_df['content_id'].map(content_agg['sum']).astype('int32')\n",
    "train_df['content_correctness'] = train_df['content_id'].map(content_agg['sum'] / content_agg['count'])\n",
    "train_df.content_correctness=train_df.content_correctness.astype('float16')\n",
    "train_df['task_container_sum'] = train_df['task_container_id'].map(task_container_agg['sum']).astype('int32')\n",
    "train_df['task_container_std'] = train_df['task_container_id'].map(task_container_agg['var']).astype('float16')\n",
    "train_df['task_container_correctness'] = train_df['task_container_id'].map(task_container_agg['sum'] / task_container_agg['count'])\n",
    "train_df.task_container_correctness=train_df.task_container_correctness.astype('float16')"
   ]
  },
  {
   "cell_type": "code",
   "execution_count": 41,
   "metadata": {
    "execution": {
     "iopub.execute_input": "2020-12-27T09:12:21.818956Z",
     "iopub.status.busy": "2020-12-27T09:12:21.814298Z",
     "iopub.status.idle": "2020-12-27T09:12:21.904813Z",
     "shell.execute_reply": "2020-12-27T09:12:21.905401Z"
    },
    "papermill": {
     "duration": 0.178535,
     "end_time": "2020-12-27T09:12:21.905571",
     "exception": false,
     "start_time": "2020-12-27T09:12:21.727036",
     "status": "completed"
    },
    "tags": []
   },
   "outputs": [],
   "source": [
    "questions_df = pd.read_csv(\n",
    "    '../input/riiid-test-answer-prediction/questions.csv', \n",
    "    usecols=[0, 1,3,4],\n",
    "    dtype={'question_id': 'int16','bundle_id': 'int16', 'part': 'int8','tags': 'str'}\n",
    ")\n",
    "questions_df['part_bundle_id']=questions_df['part']*100000+questions_df['bundle_id']\n",
    "questions_df.part_bundle_id=questions_df.part_bundle_id.astype('int32')\n",
    "tag = questions_df[\"tags\"].str.split(\" \", n = 10, expand = True)\n",
    "tag.columns = ['tags1','tags2','tags3','tags4','tags5','tags6']\n",
    "#\n",
    "\n",
    "tag.fillna(0, inplace=True)\n",
    "tag = tag.astype('int16')\n",
    "questions_df =  pd.concat([questions_df,tag],axis=1).drop(['tags'],axis=1)"
   ]
  },
  {
   "cell_type": "code",
   "execution_count": 42,
   "metadata": {
    "execution": {
     "iopub.execute_input": "2020-12-27T09:12:22.071584Z",
     "iopub.status.busy": "2020-12-27T09:12:22.070883Z",
     "iopub.status.idle": "2020-12-27T09:12:22.074102Z",
     "shell.execute_reply": "2020-12-27T09:12:22.073485Z"
    },
    "papermill": {
     "duration": 0.087868,
     "end_time": "2020-12-27T09:12:22.074231",
     "exception": false,
     "start_time": "2020-12-27T09:12:21.986363",
     "status": "completed"
    },
    "tags": []
   },
   "outputs": [],
   "source": [
    "questions_df.rename(columns={'question_id':'content_id'}, inplace=True)"
   ]
  },
  {
   "cell_type": "code",
   "execution_count": 43,
   "metadata": {
    "execution": {
     "iopub.execute_input": "2020-12-27T09:12:22.241564Z",
     "iopub.status.busy": "2020-12-27T09:12:22.240536Z",
     "iopub.status.idle": "2020-12-27T09:12:22.248552Z",
     "shell.execute_reply": "2020-12-27T09:12:22.247900Z"
    },
    "papermill": {
     "duration": 0.095621,
     "end_time": "2020-12-27T09:12:22.248694",
     "exception": false,
     "start_time": "2020-12-27T09:12:22.153073",
     "status": "completed"
    },
    "tags": []
   },
   "outputs": [],
   "source": [
    "questions_df['content_correctness'] = questions_df['content_id'].map(content_agg['sum'] / content_agg['count'])\n",
    "questions_df.content_correctness=questions_df.content_correctness.astype('float16')\n",
    "questions_df['content_correctness_std'] = questions_df['content_id'].map(content_agg['var'])\n",
    "questions_df.content_correctness_std=questions_df.content_correctness_std.astype('float16')"
   ]
  },
  {
   "cell_type": "code",
   "execution_count": 44,
   "metadata": {
    "execution": {
     "iopub.execute_input": "2020-12-27T09:12:22.414398Z",
     "iopub.status.busy": "2020-12-27T09:12:22.413585Z",
     "iopub.status.idle": "2020-12-27T09:12:22.424817Z",
     "shell.execute_reply": "2020-12-27T09:12:22.424180Z"
    },
    "papermill": {
     "duration": 0.097625,
     "end_time": "2020-12-27T09:12:22.424950",
     "exception": false,
     "start_time": "2020-12-27T09:12:22.327325",
     "status": "completed"
    },
    "tags": []
   },
   "outputs": [],
   "source": [
    "part_agg = questions_df.groupby('part')['content_correctness'].agg(['mean', 'var'])\n",
    "questions_df['part_correctness_mean'] = questions_df['part'].map(part_agg['mean'])\n",
    "questions_df['part_correctness_std'] = questions_df['part'].map(part_agg['var'])\n",
    "questions_df.part_correctness_mean=questions_df.part_correctness_mean.astype('float16')\n",
    "questions_df.part_correctness_std=questions_df.part_correctness_std.astype('float16')"
   ]
  },
  {
   "cell_type": "code",
   "execution_count": 45,
   "metadata": {
    "execution": {
     "iopub.execute_input": "2020-12-27T09:12:22.593226Z",
     "iopub.status.busy": "2020-12-27T09:12:22.592353Z",
     "iopub.status.idle": "2020-12-27T09:12:22.606925Z",
     "shell.execute_reply": "2020-12-27T09:12:22.606059Z"
    },
    "papermill": {
     "duration": 0.103947,
     "end_time": "2020-12-27T09:12:22.607073",
     "exception": false,
     "start_time": "2020-12-27T09:12:22.503126",
     "status": "completed"
    },
    "tags": []
   },
   "outputs": [],
   "source": [
    "bundle_agg = questions_df.groupby('bundle_id')['content_correctness'].agg(['mean'])\n",
    "questions_df['bundle_correctness'] = questions_df['bundle_id'].map(bundle_agg['mean'])\n",
    "questions_df.bundle_correctness=questions_df.bundle_correctness.astype('float16')"
   ]
  },
  {
   "cell_type": "code",
   "execution_count": 46,
   "metadata": {
    "execution": {
     "iopub.execute_input": "2020-12-27T09:12:22.773178Z",
     "iopub.status.busy": "2020-12-27T09:12:22.772161Z",
     "iopub.status.idle": "2020-12-27T09:12:22.782411Z",
     "shell.execute_reply": "2020-12-27T09:12:22.782939Z"
    },
    "papermill": {
     "duration": 0.097627,
     "end_time": "2020-12-27T09:12:22.783120",
     "exception": false,
     "start_time": "2020-12-27T09:12:22.685493",
     "status": "completed"
    },
    "tags": []
   },
   "outputs": [],
   "source": [
    "tags1_agg = questions_df.groupby('tags1')['content_correctness'].agg(['mean', 'var'])\n",
    "questions_df['tags1_correctness_mean'] = questions_df['tags1'].map(tags1_agg['mean'])\n",
    "questions_df['tags1_correctness_std'] = questions_df['tags1'].map(tags1_agg['var'])\n",
    "questions_df.tags1_correctness_mean=questions_df.tags1_correctness_mean.astype('float16')\n",
    "questions_df.tags1_correctness_std=questions_df.tags1_correctness_std.astype('float16')"
   ]
  },
  {
   "cell_type": "code",
   "execution_count": 47,
   "metadata": {
    "execution": {
     "iopub.execute_input": "2020-12-27T09:12:22.949294Z",
     "iopub.status.busy": "2020-12-27T09:12:22.948190Z",
     "iopub.status.idle": "2020-12-27T09:12:22.953695Z",
     "shell.execute_reply": "2020-12-27T09:12:22.953141Z"
    },
    "papermill": {
     "duration": 0.092238,
     "end_time": "2020-12-27T09:12:22.953817",
     "exception": false,
     "start_time": "2020-12-27T09:12:22.861579",
     "status": "completed"
    },
    "tags": []
   },
   "outputs": [],
   "source": [
    "questions_df.drop(columns=['content_correctness'], inplace=True)"
   ]
  },
  {
   "cell_type": "code",
   "execution_count": 48,
   "metadata": {
    "execution": {
     "iopub.execute_input": "2020-12-27T09:12:23.120864Z",
     "iopub.status.busy": "2020-12-27T09:12:23.120063Z",
     "iopub.status.idle": "2020-12-27T09:12:23.123457Z",
     "shell.execute_reply": "2020-12-27T09:12:23.124017Z"
    },
    "papermill": {
     "duration": 0.091633,
     "end_time": "2020-12-27T09:12:23.124196",
     "exception": false,
     "start_time": "2020-12-27T09:12:23.032563",
     "status": "completed"
    },
    "tags": []
   },
   "outputs": [
    {
     "data": {
      "text/plain": [
       "content_id                   int16\n",
       "bundle_id                    int16\n",
       "part                          int8\n",
       "part_bundle_id               int32\n",
       "tags1                        int16\n",
       "tags2                        int16\n",
       "tags3                        int16\n",
       "tags4                        int16\n",
       "tags5                        int16\n",
       "tags6                        int16\n",
       "content_correctness_std    float16\n",
       "part_correctness_mean      float16\n",
       "part_correctness_std       float16\n",
       "bundle_correctness         float16\n",
       "tags1_correctness_mean     float16\n",
       "tags1_correctness_std      float16\n",
       "dtype: object"
      ]
     },
     "execution_count": 48,
     "metadata": {},
     "output_type": "execute_result"
    }
   ],
   "source": [
    "questions_df.dtypes"
   ]
  },
  {
   "cell_type": "code",
   "execution_count": 49,
   "metadata": {
    "execution": {
     "iopub.execute_input": "2020-12-27T09:12:23.285884Z",
     "iopub.status.busy": "2020-12-27T09:12:23.285170Z",
     "iopub.status.idle": "2020-12-27T09:12:23.425413Z",
     "shell.execute_reply": "2020-12-27T09:12:23.424815Z"
    },
    "papermill": {
     "duration": 0.222387,
     "end_time": "2020-12-27T09:12:23.425543",
     "exception": false,
     "start_time": "2020-12-27T09:12:23.203156",
     "status": "completed"
    },
    "tags": []
   },
   "outputs": [
    {
     "data": {
      "text/plain": [
       "172"
      ]
     },
     "execution_count": 49,
     "metadata": {},
     "output_type": "execute_result"
    }
   ],
   "source": [
    "del bundle_agg\n",
    "del part_agg\n",
    "del tags1_agg\n",
    "gc.collect()"
   ]
  },
  {
   "cell_type": "code",
   "execution_count": 50,
   "metadata": {
    "execution": {
     "iopub.execute_input": "2020-12-27T09:12:23.590389Z",
     "iopub.status.busy": "2020-12-27T09:12:23.589564Z",
     "iopub.status.idle": "2020-12-27T09:12:23.592964Z",
     "shell.execute_reply": "2020-12-27T09:12:23.592412Z"
    },
    "papermill": {
     "duration": 0.088257,
     "end_time": "2020-12-27T09:12:23.593095",
     "exception": false,
     "start_time": "2020-12-27T09:12:23.504838",
     "status": "completed"
    },
    "tags": []
   },
   "outputs": [],
   "source": [
    "#pd.set_option(\"display.max_columns\",500)"
   ]
  },
  {
   "cell_type": "code",
   "execution_count": 51,
   "metadata": {
    "execution": {
     "iopub.execute_input": "2020-12-27T09:12:23.760827Z",
     "iopub.status.busy": "2020-12-27T09:12:23.760062Z",
     "iopub.status.idle": "2020-12-27T09:12:23.762069Z",
     "shell.execute_reply": "2020-12-27T09:12:23.762568Z"
    },
    "papermill": {
     "duration": 0.090341,
     "end_time": "2020-12-27T09:12:23.762762",
     "exception": false,
     "start_time": "2020-12-27T09:12:23.672421",
     "status": "completed"
    },
    "tags": []
   },
   "outputs": [],
   "source": [
    "#questions_df.drop(columns=['tags4','tags5','tags6'], inplace=True)"
   ]
  },
  {
   "cell_type": "code",
   "execution_count": 52,
   "metadata": {
    "execution": {
     "iopub.execute_input": "2020-12-27T09:12:23.928717Z",
     "iopub.status.busy": "2020-12-27T09:12:23.927935Z",
     "iopub.status.idle": "2020-12-27T09:12:23.934694Z",
     "shell.execute_reply": "2020-12-27T09:12:23.934134Z"
    },
    "papermill": {
     "duration": 0.091669,
     "end_time": "2020-12-27T09:12:23.934840",
     "exception": false,
     "start_time": "2020-12-27T09:12:23.843171",
     "status": "completed"
    },
    "tags": []
   },
   "outputs": [
    {
     "data": {
      "text/plain": [
       "99271300"
      ]
     },
     "execution_count": 52,
     "metadata": {},
     "output_type": "execute_result"
    }
   ],
   "source": [
    "len(train_df)"
   ]
  },
  {
   "cell_type": "code",
   "execution_count": 53,
   "metadata": {
    "execution": {
     "iopub.execute_input": "2020-12-27T09:12:24.106071Z",
     "iopub.status.busy": "2020-12-27T09:12:24.105381Z",
     "iopub.status.idle": "2020-12-27T09:12:27.301925Z",
     "shell.execute_reply": "2020-12-27T09:12:27.301227Z"
    },
    "papermill": {
     "duration": 3.28487,
     "end_time": "2020-12-27T09:12:27.302059",
     "exception": false,
     "start_time": "2020-12-27T09:12:24.017189",
     "status": "completed"
    },
    "tags": []
   },
   "outputs": [],
   "source": [
    "train_df['user_correctness'].fillna( 1, inplace=True)\n",
    "train_df['attempt_no'].fillna(1, inplace=True)\n",
    "#\n",
    "train_df.fillna(0, inplace=True)"
   ]
  },
  {
   "cell_type": "code",
   "execution_count": 54,
   "metadata": {
    "execution": {
     "iopub.execute_input": "2020-12-27T09:12:27.474492Z",
     "iopub.status.busy": "2020-12-27T09:12:27.469757Z",
     "iopub.status.idle": "2020-12-27T09:12:27.496784Z",
     "shell.execute_reply": "2020-12-27T09:12:27.497366Z"
    },
    "papermill": {
     "duration": 0.11473,
     "end_time": "2020-12-27T09:12:27.497527",
     "exception": false,
     "start_time": "2020-12-27T09:12:27.382797",
     "status": "completed"
    },
    "tags": []
   },
   "outputs": [
    {
     "data": {
      "text/html": [
       "<div>\n",
       "<style scoped>\n",
       "    .dataframe tbody tr th:only-of-type {\n",
       "        vertical-align: middle;\n",
       "    }\n",
       "\n",
       "    .dataframe tbody tr th {\n",
       "        vertical-align: top;\n",
       "    }\n",
       "\n",
       "    .dataframe thead th {\n",
       "        text-align: right;\n",
       "    }\n",
       "</style>\n",
       "<table border=\"1\" class=\"dataframe\">\n",
       "  <thead>\n",
       "    <tr style=\"text-align: right;\">\n",
       "      <th></th>\n",
       "      <th>timestamp</th>\n",
       "      <th>user_id</th>\n",
       "      <th>content_id</th>\n",
       "      <th>content_type_id</th>\n",
       "      <th>task_container_id</th>\n",
       "      <th>answered_correctly</th>\n",
       "      <th>prior_question_elapsed_time</th>\n",
       "      <th>prior_question_had_explanation</th>\n",
       "      <th>user_lecture_cumsum</th>\n",
       "      <th>user_lecture_lv</th>\n",
       "      <th>...</th>\n",
       "      <th>user_correct_cumcount</th>\n",
       "      <th>explanation_mean</th>\n",
       "      <th>explanation_cumsum</th>\n",
       "      <th>attempt_no</th>\n",
       "      <th>content_count</th>\n",
       "      <th>content_sum</th>\n",
       "      <th>content_correctness</th>\n",
       "      <th>task_container_sum</th>\n",
       "      <th>task_container_std</th>\n",
       "      <th>task_container_correctness</th>\n",
       "    </tr>\n",
       "  </thead>\n",
       "  <tbody>\n",
       "    <tr>\n",
       "      <th>0</th>\n",
       "      <td>0</td>\n",
       "      <td>115</td>\n",
       "      <td>5692</td>\n",
       "      <td>0</td>\n",
       "      <td>1</td>\n",
       "      <td>1</td>\n",
       "      <td>13005.081055</td>\n",
       "      <td>0</td>\n",
       "      <td>0</td>\n",
       "      <td>0.0</td>\n",
       "      <td>...</td>\n",
       "      <td>0</td>\n",
       "      <td>0.0</td>\n",
       "      <td>0</td>\n",
       "      <td>1</td>\n",
       "      <td>36514</td>\n",
       "      <td>27221</td>\n",
       "      <td>0.745605</td>\n",
       "      <td>208704</td>\n",
       "      <td>0.249268</td>\n",
       "      <td>0.527344</td>\n",
       "    </tr>\n",
       "    <tr>\n",
       "      <th>1</th>\n",
       "      <td>0</td>\n",
       "      <td>115</td>\n",
       "      <td>5716</td>\n",
       "      <td>0</td>\n",
       "      <td>2</td>\n",
       "      <td>1</td>\n",
       "      <td>37000.000000</td>\n",
       "      <td>0</td>\n",
       "      <td>0</td>\n",
       "      <td>0.0</td>\n",
       "      <td>...</td>\n",
       "      <td>1</td>\n",
       "      <td>0.0</td>\n",
       "      <td>0</td>\n",
       "      <td>1</td>\n",
       "      <td>23991</td>\n",
       "      <td>17631</td>\n",
       "      <td>0.734863</td>\n",
       "      <td>172342</td>\n",
       "      <td>0.245850</td>\n",
       "      <td>0.435791</td>\n",
       "    </tr>\n",
       "    <tr>\n",
       "      <th>2</th>\n",
       "      <td>0</td>\n",
       "      <td>115</td>\n",
       "      <td>128</td>\n",
       "      <td>0</td>\n",
       "      <td>0</td>\n",
       "      <td>1</td>\n",
       "      <td>55000.000000</td>\n",
       "      <td>0</td>\n",
       "      <td>0</td>\n",
       "      <td>0.0</td>\n",
       "      <td>...</td>\n",
       "      <td>2</td>\n",
       "      <td>0.0</td>\n",
       "      <td>0</td>\n",
       "      <td>1</td>\n",
       "      <td>19619</td>\n",
       "      <td>18969</td>\n",
       "      <td>0.966797</td>\n",
       "      <td>269233</td>\n",
       "      <td>0.217651</td>\n",
       "      <td>0.680176</td>\n",
       "    </tr>\n",
       "    <tr>\n",
       "      <th>3</th>\n",
       "      <td>0</td>\n",
       "      <td>115</td>\n",
       "      <td>7860</td>\n",
       "      <td>0</td>\n",
       "      <td>3</td>\n",
       "      <td>1</td>\n",
       "      <td>19000.000000</td>\n",
       "      <td>0</td>\n",
       "      <td>0</td>\n",
       "      <td>0.0</td>\n",
       "      <td>...</td>\n",
       "      <td>3</td>\n",
       "      <td>0.0</td>\n",
       "      <td>0</td>\n",
       "      <td>1</td>\n",
       "      <td>21733</td>\n",
       "      <td>20751</td>\n",
       "      <td>0.954590</td>\n",
       "      <td>214721</td>\n",
       "      <td>0.248169</td>\n",
       "      <td>0.542969</td>\n",
       "    </tr>\n",
       "    <tr>\n",
       "      <th>4</th>\n",
       "      <td>0</td>\n",
       "      <td>115</td>\n",
       "      <td>7922</td>\n",
       "      <td>0</td>\n",
       "      <td>4</td>\n",
       "      <td>1</td>\n",
       "      <td>11000.000000</td>\n",
       "      <td>0</td>\n",
       "      <td>0</td>\n",
       "      <td>0.0</td>\n",
       "      <td>...</td>\n",
       "      <td>4</td>\n",
       "      <td>0.0</td>\n",
       "      <td>0</td>\n",
       "      <td>1</td>\n",
       "      <td>19409</td>\n",
       "      <td>18501</td>\n",
       "      <td>0.953125</td>\n",
       "      <td>330079</td>\n",
       "      <td>0.249512</td>\n",
       "      <td>0.477051</td>\n",
       "    </tr>\n",
       "  </tbody>\n",
       "</table>\n",
       "<p>5 rows × 25 columns</p>\n",
       "</div>"
      ],
      "text/plain": [
       "   timestamp  user_id  content_id  content_type_id  task_container_id  \\\n",
       "0          0      115        5692                0                  1   \n",
       "1          0      115        5716                0                  2   \n",
       "2          0      115         128                0                  0   \n",
       "3          0      115        7860                0                  3   \n",
       "4          0      115        7922                0                  4   \n",
       "\n",
       "   answered_correctly  prior_question_elapsed_time  \\\n",
       "0                   1                 13005.081055   \n",
       "1                   1                 37000.000000   \n",
       "2                   1                 55000.000000   \n",
       "3                   1                 19000.000000   \n",
       "4                   1                 11000.000000   \n",
       "\n",
       "   prior_question_had_explanation  user_lecture_cumsum  user_lecture_lv  ...  \\\n",
       "0                               0                    0              0.0  ...   \n",
       "1                               0                    0              0.0  ...   \n",
       "2                               0                    0              0.0  ...   \n",
       "3                               0                    0              0.0  ...   \n",
       "4                               0                    0              0.0  ...   \n",
       "\n",
       "   user_correct_cumcount  explanation_mean  explanation_cumsum  attempt_no  \\\n",
       "0                      0               0.0                   0           1   \n",
       "1                      1               0.0                   0           1   \n",
       "2                      2               0.0                   0           1   \n",
       "3                      3               0.0                   0           1   \n",
       "4                      4               0.0                   0           1   \n",
       "\n",
       "   content_count  content_sum  content_correctness  task_container_sum  \\\n",
       "0          36514        27221             0.745605              208704   \n",
       "1          23991        17631             0.734863              172342   \n",
       "2          19619        18969             0.966797              269233   \n",
       "3          21733        20751             0.954590              214721   \n",
       "4          19409        18501             0.953125              330079   \n",
       "\n",
       "   task_container_std  task_container_correctness  \n",
       "0            0.249268                    0.527344  \n",
       "1            0.245850                    0.435791  \n",
       "2            0.217651                    0.680176  \n",
       "3            0.248169                    0.542969  \n",
       "4            0.249512                    0.477051  \n",
       "\n",
       "[5 rows x 25 columns]"
      ]
     },
     "execution_count": 54,
     "metadata": {},
     "output_type": "execute_result"
    }
   ],
   "source": [
    "train_df.head()"
   ]
  },
  {
   "cell_type": "code",
   "execution_count": 55,
   "metadata": {
    "execution": {
     "iopub.execute_input": "2020-12-27T09:12:27.670806Z",
     "iopub.status.busy": "2020-12-27T09:12:27.669537Z",
     "iopub.status.idle": "2020-12-27T09:12:27.678542Z",
     "shell.execute_reply": "2020-12-27T09:12:27.679198Z"
    },
    "papermill": {
     "duration": 0.099213,
     "end_time": "2020-12-27T09:12:27.679400",
     "exception": false,
     "start_time": "2020-12-27T09:12:27.580187",
     "status": "completed"
    },
    "tags": []
   },
   "outputs": [
    {
     "data": {
      "text/plain": [
       "timestamp                              int16\n",
       "user_id                                int32\n",
       "content_id                             int16\n",
       "content_type_id                         int8\n",
       "task_container_id                      int16\n",
       "answered_correctly                      int8\n",
       "prior_question_elapsed_time          float32\n",
       "prior_question_had_explanation          int8\n",
       "user_lecture_cumsum                     int8\n",
       "user_lecture_lv                      float16\n",
       "lagtime                                int32\n",
       "lagtime_mean                           int32\n",
       "delta_prior_question_elapsed_time      int32\n",
       "user_correctness                     float16\n",
       "user_correct_cumsum                    int16\n",
       "user_correct_cumcount                  int16\n",
       "explanation_mean                     float16\n",
       "explanation_cumsum                     int16\n",
       "attempt_no                              int8\n",
       "content_count                          int32\n",
       "content_sum                            int32\n",
       "content_correctness                  float16\n",
       "task_container_sum                     int32\n",
       "task_container_std                   float16\n",
       "task_container_correctness           float16\n",
       "dtype: object"
      ]
     },
     "execution_count": 55,
     "metadata": {},
     "output_type": "execute_result"
    }
   ],
   "source": [
    "train_df.dtypes"
   ]
  },
  {
   "cell_type": "markdown",
   "metadata": {
    "papermill": {
     "duration": 0.083775,
     "end_time": "2020-12-27T09:12:27.846087",
     "exception": false,
     "start_time": "2020-12-27T09:12:27.762312",
     "status": "completed"
    },
    "tags": []
   },
   "source": [
    "# SAKT Part I"
   ]
  },
  {
   "cell_type": "code",
   "execution_count": 56,
   "metadata": {
    "execution": {
     "iopub.execute_input": "2020-12-27T09:12:28.015824Z",
     "iopub.status.busy": "2020-12-27T09:12:28.015083Z",
     "iopub.status.idle": "2020-12-27T09:13:20.737735Z",
     "shell.execute_reply": "2020-12-27T09:13:20.738371Z"
    },
    "papermill": {
     "duration": 52.809174,
     "end_time": "2020-12-27T09:13:20.738558",
     "exception": false,
     "start_time": "2020-12-27T09:12:27.929384",
     "status": "completed"
    },
    "tags": []
   },
   "outputs": [
    {
     "name": "stdout",
     "output_type": "stream",
     "text": [
      "number skills 13523\n"
     ]
    },
    {
     "data": {
      "text/plain": [
       "0"
      ]
     },
     "execution_count": 56,
     "metadata": {},
     "output_type": "execute_result"
    }
   ],
   "source": [
    "#HDKIM \n",
    "\n",
    "MAX_SEQ = 160\n",
    "\n",
    "skills = train_df[\"content_id\"].unique()\n",
    "n_skill = len(skills)\n",
    "print(\"number skills\", len(skills))\n",
    "\n",
    "group = train_df[['user_id', 'content_id', 'answered_correctly']].groupby('user_id').apply(lambda r: (\n",
    "            r['content_id'].values,\n",
    "            r['answered_correctly'].values))\n",
    "\n",
    "for user_id in group.index:\n",
    "    q, qa = group[user_id]\n",
    "    if len(q)>MAX_SEQ:\n",
    "        group[user_id] = (q[-MAX_SEQ:],qa[-MAX_SEQ:])\n",
    "        \n",
    "pickle.dump(group, open(\"group.pkl\", \"wb\"))\n",
    "del group\n",
    "gc.collect()\n",
    "\n",
    "#HDKIMHDKIM"
   ]
  },
  {
   "cell_type": "markdown",
   "metadata": {
    "papermill": {
     "duration": 0.082786,
     "end_time": "2020-12-27T09:13:20.906519",
     "exception": false,
     "start_time": "2020-12-27T09:13:20.823733",
     "status": "completed"
    },
    "tags": []
   },
   "source": [
    "# Train"
   ]
  },
  {
   "cell_type": "code",
   "execution_count": 57,
   "metadata": {
    "execution": {
     "iopub.execute_input": "2020-12-27T09:13:21.083484Z",
     "iopub.status.busy": "2020-12-27T09:13:21.082117Z",
     "iopub.status.idle": "2020-12-27T09:13:21.086999Z",
     "shell.execute_reply": "2020-12-27T09:13:21.086421Z"
    },
    "papermill": {
     "duration": 0.097076,
     "end_time": "2020-12-27T09:13:21.087138",
     "exception": false,
     "start_time": "2020-12-27T09:13:20.990062",
     "status": "completed"
    },
    "tags": []
   },
   "outputs": [],
   "source": [
    "features = [\n",
    "#   'user_id',\n",
    "#HDKIM    'timestamp',\n",
    "    'lagtime',\n",
    "    'lagtime_mean',\n",
    "   # 'content_id',\n",
    "   # 'task_container_id',\n",
    "    'user_lecture_cumsum', # X\n",
    "    'user_lecture_lv',\n",
    "    'prior_question_elapsed_time',\n",
    "    'delta_prior_question_elapsed_time',\n",
    "    'user_correctness',\n",
    "    'user_correct_cumcount', #X\n",
    "    'user_correct_cumsum', #X\n",
    "    'content_correctness',\n",
    "   # 'content_correctness_std',\n",
    "    'content_count',\n",
    "    'content_sum', #X\n",
    "    'task_container_correctness',\n",
    "   # 'task_container_std',\n",
    "   # 'task_container_sum',\n",
    "    'bundle_correctness',\n",
    "    'attempt_no',\n",
    "    'part',\n",
    "    'part_correctness_mean',\n",
    "   # 'part_correctness_std',\n",
    "    'tags1',\n",
    "    'tags1_correctness_mean',\n",
    "  #  'tags1_correctness_std',\n",
    "#HDKIM    'tags2',\n",
    "#HDKIM    'tags3',\n",
    "#HDKIM    'tags4',\n",
    "#HDKIM    'tags5',\n",
    "#HDKIM    'tags6',\n",
    "    'bundle_id',\n",
    "  #  'part_bundle_id',\n",
    "    'explanation_mean', \n",
    "    'explanation_cumsum',\n",
    "    'prior_question_had_explanation',\n",
    "#     'part_1',\n",
    "#     'part_2',\n",
    "#     'part_3',\n",
    "#     'part_4',\n",
    "#     'part_5',\n",
    "#     'part_6',\n",
    "#     'part_7',\n",
    "#     'type_of_concept',\n",
    "#     'type_of_intention',\n",
    "#     'type_of_solving_question',\n",
    "#     'type_of_starter'\n",
    "]\n",
    "categorical_columns= [\n",
    "#   'user_id',\n",
    "  #  'content_id',\n",
    "  # 'task_container_id',\n",
    "    'part',        \n",
    "    'tags1',\n",
    "#HDKIM    'tags2',\n",
    "#HDKIM    'tags3',\n",
    "#HDKIM    'tags4',\n",
    "#HDKIM    'tags5',\n",
    "#HDKIM    'tags6',\n",
    "    'bundle_id',\n",
    "   # 'part_bundle_id',\n",
    "    'prior_question_had_explanation',\n",
    "#     'part_1',\n",
    "#     'part_2',\n",
    "#     'part_3',\n",
    "#     'part_4',\n",
    "#     'part_5',\n",
    "#     'part_6',\n",
    "#     'part_7',\n",
    "#     'type_of_concept',\n",
    "#     'type_of_intention',\n",
    "#     'type_of_solving_question',\n",
    "#     'type_of_starter'\n",
    "]"
   ]
  },
  {
   "cell_type": "code",
   "execution_count": 58,
   "metadata": {
    "execution": {
     "iopub.execute_input": "2020-12-27T09:13:21.260438Z",
     "iopub.status.busy": "2020-12-27T09:13:21.259347Z",
     "iopub.status.idle": "2020-12-27T09:13:21.262394Z",
     "shell.execute_reply": "2020-12-27T09:13:21.262915Z"
    },
    "papermill": {
     "duration": 0.092357,
     "end_time": "2020-12-27T09:13:21.263110",
     "exception": false,
     "start_time": "2020-12-27T09:13:21.170753",
     "status": "completed"
    },
    "tags": []
   },
   "outputs": [],
   "source": [
    "flag_lgbm=True\n",
    "clfs = list()"
   ]
  },
  {
   "cell_type": "markdown",
   "metadata": {
    "papermill": {
     "duration": 0.085216,
     "end_time": "2020-12-27T09:13:21.431267",
     "exception": false,
     "start_time": "2020-12-27T09:13:21.346051",
     "status": "completed"
    },
    "tags": []
   },
   "source": [
    "## Load the parameters with Optuna from [this Notebook](https://github.com/satorushibata0627/Publishment/blob/main/Kaggle_Python3_LightGBM_on_GPU_with_Feature_Engineering_Optuna_and_Visualization.ipynb)."
   ]
  },
  {
   "cell_type": "code",
   "execution_count": 59,
   "metadata": {
    "execution": {
     "iopub.execute_input": "2020-12-27T09:13:21.604671Z",
     "iopub.status.busy": "2020-12-27T09:13:21.603496Z",
     "iopub.status.idle": "2020-12-27T09:13:22.192802Z",
     "shell.execute_reply": "2020-12-27T09:13:22.192044Z"
    },
    "papermill": {
     "duration": 0.67703,
     "end_time": "2020-12-27T09:13:22.192977",
     "exception": false,
     "start_time": "2020-12-27T09:13:21.515947",
     "status": "completed"
    },
    "tags": []
   },
   "outputs": [
    {
     "name": "stdout",
     "output_type": "stream",
     "text": [
      "Optimized parameters with Optuna:\n",
      "{'objective': 'binary', 'seed': 123, 'metric': 'AUC', 'boosting_type': 'gbdt', 'lambda_l1': 0.23094442978103413, 'lambda_l2': 0.10970746111051044, 'num_leaves': 206, 'feature_fraction': 0.7548698723252225, 'bagging_fraction': 0.7186994268081899, 'bagging_freq': 7, 'min_child_samples': 45}\n"
     ]
    }
   ],
   "source": [
    "params = pd.read_pickle('../input/the-best-of-all-parameters-on-lightgbm/The_best_of_all_parameters_on_LightGBM.pickle')\n",
    "print('Optimized parameters with Optuna:')\n",
    "print(params)"
   ]
  },
  {
   "cell_type": "code",
   "execution_count": 60,
   "metadata": {
    "execution": {
     "iopub.execute_input": "2020-12-27T09:13:22.381120Z",
     "iopub.status.busy": "2020-12-27T09:13:22.379447Z",
     "iopub.status.idle": "2020-12-27T09:14:20.732022Z",
     "shell.execute_reply": "2020-12-27T09:14:20.732599Z"
    },
    "papermill": {
     "duration": 58.454584,
     "end_time": "2020-12-27T09:14:20.732795",
     "exception": false,
     "start_time": "2020-12-27T09:13:22.278211",
     "status": "completed"
    },
    "tags": []
   },
   "outputs": [
    {
     "name": "stdout",
     "output_type": "stream",
     "text": [
      "sample end\n",
      "valid_df length： 2271463\n"
     ]
    }
   ],
   "source": [
    "trains=list()\n",
    "valids=list()\n",
    "num=1\n",
    "for i in range(0,num):\n",
    "\n",
    "    train_df_clf=train_df.sample(n=20000*1000, random_state = SEED)\n",
    "    print('sample end')   \n",
    "   \n",
    "    del train_df\n",
    "    \n",
    "    users=train_df_clf['user_id'].drop_duplicates()\n",
    "    \n",
    "    users=users.sample(frac=0.025, random_state = SEED)\n",
    "    users_df=pd.DataFrame()\n",
    "    users_df['user_id']=users.values\n",
    "  \n",
    "  \n",
    "    valid_df_newuser = pd.merge(train_df_clf, users_df, on=['user_id'], how='inner',right_index=True)\n",
    "    del users_df\n",
    "    del users\n",
    "    gc.collect()\n",
    "    #\n",
    "    train_df_clf.drop(valid_df_newuser.index, inplace=True)\n",
    "   \n",
    "    train_df_clf = pd.merge(train_df_clf, questions_df, on='content_id', how='left',right_index=True)#\n",
    "    valid_df_newuser = pd.merge(valid_df_newuser, questions_df, on='content_id', how='left',right_index=True)#\n",
    "    \n",
    "    valid_df=train_df_clf.sample(frac=0.09, random_state = SEED)\n",
    "    train_df_clf.drop(valid_df.index, inplace=True)\n",
    "   \n",
    "    valid_df = valid_df.append(valid_df_newuser)\n",
    "    del valid_df_newuser\n",
    "    gc.collect()\n",
    "    #\n",
    "\n",
    "    trains.append(train_df_clf)\n",
    "    valids.append(valid_df)\n",
    "    print('valid_df length：',len(valid_df))"
   ]
  },
  {
   "cell_type": "code",
   "execution_count": 61,
   "metadata": {
    "execution": {
     "iopub.execute_input": "2020-12-27T09:14:21.048955Z",
     "iopub.status.busy": "2020-12-27T09:14:21.047912Z",
     "iopub.status.idle": "2020-12-27T09:14:21.053149Z",
     "shell.execute_reply": "2020-12-27T09:14:21.052547Z"
    },
    "papermill": {
     "duration": 0.236041,
     "end_time": "2020-12-27T09:14:21.053281",
     "exception": false,
     "start_time": "2020-12-27T09:14:20.817240",
     "status": "completed"
    },
    "tags": []
   },
   "outputs": [
    {
     "data": {
      "text/plain": [
       "20"
      ]
     },
     "execution_count": 61,
     "metadata": {},
     "output_type": "execute_result"
    }
   ],
   "source": [
    "del train_df_clf\n",
    "del valid_df\n",
    "gc.collect()"
   ]
  },
  {
   "cell_type": "markdown",
   "metadata": {
    "papermill": {
     "duration": 0.085983,
     "end_time": "2020-12-27T09:14:21.224784",
     "exception": false,
     "start_time": "2020-12-27T09:14:21.138801",
     "status": "completed"
    },
    "tags": []
   },
   "source": [
    "### Refer to [Riiid model LGBM](https://www.kaggle.com/ragnar123/riiid-model-lgbm/notebook) for following:\n",
    "- num_boost_round\n",
    "- early_stopping_rounds\n",
    "- verbose_eval"
   ]
  },
  {
   "cell_type": "code",
   "execution_count": 62,
   "metadata": {
    "execution": {
     "iopub.execute_input": "2020-12-27T09:14:21.665377Z",
     "iopub.status.busy": "2020-12-27T09:14:21.664540Z",
     "iopub.status.idle": "2020-12-27T10:41:39.141319Z",
     "shell.execute_reply": "2020-12-27T10:41:39.140603Z"
    },
    "papermill": {
     "duration": 5237.829538,
     "end_time": "2020-12-27T10:41:39.141511",
     "exception": false,
     "start_time": "2020-12-27T09:14:21.311973",
     "status": "completed"
    },
    "tags": []
   },
   "outputs": [
    {
     "name": "stderr",
     "output_type": "stream",
     "text": [
      "/opt/conda/lib/python3.7/site-packages/lightgbm/basic.py:1295: UserWarning: categorical_feature in Dataset is overridden.\n",
      "New categorical_feature is ['bundle_id', 'part', 'prior_question_had_explanation', 'tags1']\n",
      "  'New categorical_feature is {}'.format(sorted(list(categorical_feature))))\n"
     ]
    },
    {
     "name": "stdout",
     "output_type": "stream",
     "text": [
      "Training until validation scores don't improve for 50 rounds\n",
      "[50]\ttraining's auc: 0.774024\tvalid_1's auc: 0.77\n",
      "[100]\ttraining's auc: 0.780384\tvalid_1's auc: 0.771803\n",
      "[150]\ttraining's auc: 0.783613\tvalid_1's auc: 0.772366\n",
      "[200]\ttraining's auc: 0.785383\tvalid_1's auc: 0.772641\n",
      "[250]\ttraining's auc: 0.786601\tvalid_1's auc: 0.772705\n",
      "[300]\ttraining's auc: 0.78743\tvalid_1's auc: 0.772749\n",
      "[350]\ttraining's auc: 0.788072\tvalid_1's auc: 0.772758\n",
      "Early stopping, best iteration is:\n",
      "[347]\ttraining's auc: 0.788021\tvalid_1's auc: 0.772769\n"
     ]
    }
   ],
   "source": [
    "for i in range(0, num):\n",
    "\n",
    "#     \n",
    "    tr_data = lgb.Dataset(trains[i][features], label=trains[i][target])\n",
    "    va_data = lgb.Dataset(valids[i][features], label=valids[i][target], reference = tr_data)\n",
    "    \n",
    "#     del train_df_clf\n",
    "#     del valid_df\n",
    "#     gc.collect()\n",
    "    del trains\n",
    "    del valids\n",
    "    gc.collect()\n",
    "    \n",
    "    model = lgb.train(\n",
    "        params, \n",
    "        tr_data,\n",
    "#         train_df[features],\n",
    "#         train_df[target],\n",
    "        num_boost_round=10000,\n",
    "        #valid_sets=[(train_df[features],train_df[target]), (valid_df[features],valid_df[target])], \n",
    "        valid_sets=[tr_data, va_data],\n",
    "        early_stopping_rounds=50,\n",
    "        feature_name=features,\n",
    "        categorical_feature=categorical_columns,\n",
    "        verbose_eval=50\n",
    "    )\n",
    "    clfs.append(model)\n",
    "   \n",
    "    # Clean the memory\n",
    "    del tr_data\n",
    "    del va_data\n",
    "    gc.collect()\n",
    "#    \n",
    "# del trains\n",
    "# del valids\n",
    "# gc.collect()"
   ]
  },
  {
   "cell_type": "markdown",
   "metadata": {
    "papermill": {
     "duration": 0.089412,
     "end_time": "2020-12-27T10:41:39.320220",
     "exception": false,
     "start_time": "2020-12-27T10:41:39.230808",
     "status": "completed"
    },
    "tags": []
   },
   "source": [
    "# Inference"
   ]
  },
  {
   "cell_type": "code",
   "execution_count": 63,
   "metadata": {
    "execution": {
     "iopub.execute_input": "2020-12-27T10:41:39.773634Z",
     "iopub.status.busy": "2020-12-27T10:41:39.511376Z",
     "iopub.status.idle": "2020-12-27T10:41:40.882254Z",
     "shell.execute_reply": "2020-12-27T10:41:40.882740Z"
    },
    "papermill": {
     "duration": 1.474569,
     "end_time": "2020-12-27T10:41:40.882917",
     "exception": false,
     "start_time": "2020-12-27T10:41:39.408348",
     "status": "completed"
    },
    "tags": []
   },
   "outputs": [
    {
     "data": {
      "text/plain": [
       "0"
      ]
     },
     "execution_count": 63,
     "metadata": {},
     "output_type": "execute_result"
    }
   ],
   "source": [
    "user_sum_dict = user_agg['sum'].astype('int16').to_dict(defaultdict(int))\n",
    "user_count_dict = user_agg['count'].astype('int16').to_dict(defaultdict(int))\n",
    "content_sum_dict = content_agg['sum'].astype('int32').to_dict(defaultdict(int))\n",
    "content_count_dict = content_agg['count'].astype('int32').to_dict(defaultdict(int))\n",
    "\n",
    "del user_agg\n",
    "del content_agg\n",
    "gc.collect()\n",
    "\n",
    "task_container_sum_dict = task_container_agg['sum'].astype('int32').to_dict(defaultdict(int))\n",
    "task_container_count_dict = task_container_agg['count'].astype('int32').to_dict(defaultdict(int))\n",
    "task_container_std_dict = task_container_agg['var'].astype('float16').to_dict(defaultdict(int))\n",
    "\n",
    "explanation_sum_dict = explanation_agg['sum'].astype('int16').to_dict(defaultdict(int))\n",
    "explanation_count_dict = explanation_agg['count'].astype('int16').to_dict(defaultdict(int))\n",
    "del task_container_agg\n",
    "del explanation_agg\n",
    "gc.collect()"
   ]
  },
  {
   "cell_type": "code",
   "execution_count": 64,
   "metadata": {
    "execution": {
     "iopub.execute_input": "2020-12-27T10:41:41.072891Z",
     "iopub.status.busy": "2020-12-27T10:41:41.072172Z",
     "iopub.status.idle": "2020-12-27T10:41:42.024762Z",
     "shell.execute_reply": "2020-12-27T10:41:42.025316Z"
    },
    "papermill": {
     "duration": 1.051955,
     "end_time": "2020-12-27T10:41:42.025493",
     "exception": false,
     "start_time": "2020-12-27T10:41:40.973538",
     "status": "completed"
    },
    "tags": []
   },
   "outputs": [
    {
     "data": {
      "text/plain": [
       "20"
      ]
     },
     "execution_count": 64,
     "metadata": {},
     "output_type": "execute_result"
    }
   ],
   "source": [
    "user_lecture_sum_dict = user_lecture_agg['sum'].astype('int16').to_dict(defaultdict(int))\n",
    "user_lecture_count_dict = user_lecture_agg['count'].astype('int16').to_dict(defaultdict(int))\n",
    "\n",
    "lagtime_mean_dict = lagtime_agg['mean'].astype('int32').to_dict(defaultdict(int))\n",
    "#del prior_question_elapsed_time_agg\n",
    "del user_lecture_agg\n",
    "del lagtime_agg\n",
    "gc.collect()"
   ]
  },
  {
   "cell_type": "code",
   "execution_count": 65,
   "metadata": {
    "execution": {
     "iopub.execute_input": "2020-12-27T10:41:42.213339Z",
     "iopub.status.busy": "2020-12-27T10:41:42.212514Z",
     "iopub.status.idle": "2020-12-27T10:42:03.615229Z",
     "shell.execute_reply": "2020-12-27T10:42:03.615851Z"
    },
    "papermill": {
     "duration": 21.499977,
     "end_time": "2020-12-27T10:42:03.616039",
     "exception": false,
     "start_time": "2020-12-27T10:41:42.116062",
     "status": "completed"
    },
    "tags": []
   },
   "outputs": [
    {
     "data": {
      "text/plain": [
       "0"
      ]
     },
     "execution_count": 65,
     "metadata": {},
     "output_type": "execute_result"
    }
   ],
   "source": [
    "attempt_no_agg=attempt_no_agg[attempt_no_agg['sum'] >1]\n",
    "attempt_no_sum_dict = attempt_no_agg['sum'].to_dict(defaultdict(int))\n",
    "\n",
    "del attempt_no_agg\n",
    "gc.collect()"
   ]
  },
  {
   "cell_type": "code",
   "execution_count": 66,
   "metadata": {
    "execution": {
     "iopub.execute_input": "2020-12-27T10:42:03.806737Z",
     "iopub.status.busy": "2020-12-27T10:42:03.805657Z",
     "iopub.status.idle": "2020-12-27T10:42:04.833502Z",
     "shell.execute_reply": "2020-12-27T10:42:04.832955Z"
    },
    "papermill": {
     "duration": 1.123257,
     "end_time": "2020-12-27T10:42:04.833652",
     "exception": false,
     "start_time": "2020-12-27T10:42:03.710395",
     "status": "completed"
    },
    "tags": []
   },
   "outputs": [
    {
     "data": {
      "text/plain": [
       "20"
      ]
     },
     "execution_count": 66,
     "metadata": {},
     "output_type": "execute_result"
    }
   ],
   "source": [
    "max_timestamp_u_dict=max_timestamp_u.set_index('user_id').to_dict()\n",
    "user_prior_question_elapsed_time_dict=user_prior_question_elapsed_time.set_index('user_id').to_dict()\n",
    "#del question_elapsed_time_agg\n",
    "del max_timestamp_u\n",
    "del user_prior_question_elapsed_time\n",
    "gc.collect()"
   ]
  },
  {
   "cell_type": "code",
   "execution_count": 67,
   "metadata": {
    "execution": {
     "iopub.execute_input": "2020-12-27T10:42:05.021286Z",
     "iopub.status.busy": "2020-12-27T10:42:05.020256Z",
     "iopub.status.idle": "2020-12-27T10:42:05.025232Z",
     "shell.execute_reply": "2020-12-27T10:42:05.024670Z"
    },
    "papermill": {
     "duration": 0.101844,
     "end_time": "2020-12-27T10:42:05.025375",
     "exception": false,
     "start_time": "2020-12-27T10:42:04.923531",
     "status": "completed"
    },
    "tags": []
   },
   "outputs": [
    {
     "data": {
      "text/plain": [
       "393656"
      ]
     },
     "execution_count": 67,
     "metadata": {},
     "output_type": "execute_result"
    }
   ],
   "source": [
    "len(max_timestamp_u_dict['max_time_stamp'])"
   ]
  },
  {
   "cell_type": "code",
   "execution_count": 68,
   "metadata": {
    "execution": {
     "iopub.execute_input": "2020-12-27T10:42:05.217480Z",
     "iopub.status.busy": "2020-12-27T10:42:05.216739Z",
     "iopub.status.idle": "2020-12-27T10:42:05.219958Z",
     "shell.execute_reply": "2020-12-27T10:42:05.219407Z"
    },
    "papermill": {
     "duration": 0.101177,
     "end_time": "2020-12-27T10:42:05.220090",
     "exception": false,
     "start_time": "2020-12-27T10:42:05.118913",
     "status": "completed"
    },
    "tags": []
   },
   "outputs": [],
   "source": [
    "def get_max_attempt(user_id,content_id):\n",
    "    k = (user_id,content_id)\n",
    "\n",
    "    if k in attempt_no_sum_dict.keys():\n",
    "        attempt_no_sum_dict[k]+=1\n",
    "        return attempt_no_sum_dict[k]\n",
    "\n",
    "    attempt_no_sum_dict[k] = 1\n",
    "    return attempt_no_sum_dict[k]"
   ]
  },
  {
   "cell_type": "code",
   "execution_count": 69,
   "metadata": {
    "execution": {
     "iopub.execute_input": "2020-12-27T10:42:05.411422Z",
     "iopub.status.busy": "2020-12-27T10:42:05.410267Z",
     "iopub.status.idle": "2020-12-27T10:42:05.414236Z",
     "shell.execute_reply": "2020-12-27T10:42:05.414782Z"
    },
    "papermill": {
     "duration": 0.103041,
     "end_time": "2020-12-27T10:42:05.414946",
     "exception": false,
     "start_time": "2020-12-27T10:42:05.311905",
     "status": "completed"
    },
    "tags": []
   },
   "outputs": [
    {
     "name": "stdout",
     "output_type": "stream",
     "text": [
      "52.7\n"
     ]
    }
   ],
   "source": [
    "print(psutil.virtual_memory().percent)"
   ]
  },
  {
   "cell_type": "markdown",
   "metadata": {
    "papermill": {
     "duration": 0.092047,
     "end_time": "2020-12-27T10:42:05.599497",
     "exception": false,
     "start_time": "2020-12-27T10:42:05.507450",
     "status": "completed"
    },
    "tags": []
   },
   "source": [
    "# SAKT Part II"
   ]
  },
  {
   "cell_type": "code",
   "execution_count": 70,
   "metadata": {
    "execution": {
     "iopub.execute_input": "2020-12-27T10:42:05.791460Z",
     "iopub.status.busy": "2020-12-27T10:42:05.790251Z",
     "iopub.status.idle": "2020-12-27T10:42:06.863110Z",
     "shell.execute_reply": "2020-12-27T10:42:06.863905Z"
    },
    "papermill": {
     "duration": 1.171001,
     "end_time": "2020-12-27T10:42:06.864111",
     "exception": false,
     "start_time": "2020-12-27T10:42:05.693110",
     "status": "completed"
    },
    "tags": []
   },
   "outputs": [
    {
     "data": {
      "text/plain": [
       "SAKTModel(\n",
       "  (embedding): Embedding(27047, 128)\n",
       "  (pos_embedding): Embedding(159, 128)\n",
       "  (e_embedding): Embedding(13524, 128)\n",
       "  (multi_att): MultiheadAttention(\n",
       "    (out_proj): _LinearWithBias(in_features=128, out_features=128, bias=True)\n",
       "  )\n",
       "  (dropout): Dropout(p=0.2, inplace=False)\n",
       "  (layer_normal): LayerNorm((128,), eps=1e-05, elementwise_affine=True)\n",
       "  (ffn): FFN(\n",
       "    (lr1): Linear(in_features=128, out_features=128, bias=True)\n",
       "    (relu): ReLU()\n",
       "    (lr2): Linear(in_features=128, out_features=128, bias=True)\n",
       "    (dropout): Dropout(p=0.2, inplace=False)\n",
       "  )\n",
       "  (pred): Linear(in_features=128, out_features=1, bias=True)\n",
       ")"
      ]
     },
     "execution_count": 70,
     "metadata": {},
     "output_type": "execute_result"
    }
   ],
   "source": [
    "#HDKIM SAKT\n",
    "class FFN(nn.Module):\n",
    "    def __init__(self, state_size=200):\n",
    "        super(FFN, self).__init__()\n",
    "        self.state_size = state_size\n",
    "\n",
    "        self.lr1 = nn.Linear(state_size, state_size)\n",
    "        self.relu = nn.ReLU()\n",
    "        self.lr2 = nn.Linear(state_size, state_size)\n",
    "        self.dropout = nn.Dropout(0.2)\n",
    "    \n",
    "    def forward(self, x):\n",
    "        x = self.lr1(x)\n",
    "        x = self.relu(x)\n",
    "        x = self.lr2(x)\n",
    "        return self.dropout(x)\n",
    "\n",
    "def future_mask(seq_length):\n",
    "    future_mask = np.triu(np.ones((seq_length, seq_length)), k=1).astype('bool')\n",
    "    return torch.from_numpy(future_mask)\n",
    "\n",
    "class SAKTModel(nn.Module):\n",
    "    def __init__(self, n_skill, max_seq=MAX_SEQ, embed_dim=128): #HDKIM 100\n",
    "        super(SAKTModel, self).__init__()\n",
    "        self.n_skill = n_skill\n",
    "        self.embed_dim = embed_dim\n",
    "\n",
    "        self.embedding = nn.Embedding(2*n_skill+1, embed_dim)\n",
    "        self.pos_embedding = nn.Embedding(max_seq-1, embed_dim)\n",
    "        self.e_embedding = nn.Embedding(n_skill+1, embed_dim)\n",
    "\n",
    "        self.multi_att = nn.MultiheadAttention(embed_dim=embed_dim, num_heads=8, dropout=0.2)\n",
    "\n",
    "        self.dropout = nn.Dropout(0.2)\n",
    "        self.layer_normal = nn.LayerNorm(embed_dim) \n",
    "\n",
    "        self.ffn = FFN(embed_dim)\n",
    "        self.pred = nn.Linear(embed_dim, 1)\n",
    "    \n",
    "    def forward(self, x, question_ids):\n",
    "        device = x.device        \n",
    "        x = self.embedding(x)\n",
    "        pos_id = torch.arange(x.size(1)).unsqueeze(0).to(device)\n",
    "\n",
    "        pos_x = self.pos_embedding(pos_id)\n",
    "        x = x + pos_x\n",
    "\n",
    "        e = self.e_embedding(question_ids)\n",
    "\n",
    "        x = x.permute(1, 0, 2) # x: [bs, s_len, embed] => [s_len, bs, embed]\n",
    "        e = e.permute(1, 0, 2)\n",
    "        att_mask = future_mask(x.size(0)).to(device)\n",
    "        att_output, att_weight = self.multi_att(e, x, x, attn_mask=att_mask)\n",
    "        att_output = self.layer_normal(att_output + e)\n",
    "        att_output = att_output.permute(1, 0, 2) # att_output: [s_len, bs, embed] => [bs, s_len, embed]\n",
    "\n",
    "        x = self.ffn(att_output)\n",
    "        x = self.layer_normal(x + att_output)\n",
    "        x = self.pred(x)\n",
    "\n",
    "        return x.squeeze(-1), att_weight\n",
    "    \n",
    "class TestDataset(Dataset):\n",
    "    def __init__(self, samples, test_df, skills, max_seq=MAX_SEQ): #HDKIM 100\n",
    "        super(TestDataset, self).__init__()\n",
    "        self.samples = samples\n",
    "        self.user_ids = [x for x in test_df[\"user_id\"].unique()]\n",
    "        self.test_df = test_df\n",
    "        self.skills = skills\n",
    "        self.n_skill = len(skills)\n",
    "        self.max_seq = max_seq\n",
    "\n",
    "    def __len__(self):\n",
    "        return self.test_df.shape[0]\n",
    "\n",
    "    def __getitem__(self, index):\n",
    "        test_info = self.test_df.iloc[index]\n",
    "\n",
    "        user_id = test_info[\"user_id\"]\n",
    "        target_id = test_info[\"content_id\"]\n",
    "\n",
    "        q = np.zeros(self.max_seq, dtype=int)\n",
    "        qa = np.zeros(self.max_seq, dtype=int)\n",
    "\n",
    "        if user_id in self.samples.index:\n",
    "            q_, qa_ = self.samples[user_id]\n",
    "            \n",
    "            seq_len = len(q_)\n",
    "\n",
    "            if seq_len >= self.max_seq:\n",
    "                q = q_[-self.max_seq:]\n",
    "                qa = qa_[-self.max_seq:]\n",
    "            else:\n",
    "                q[-seq_len:] = q_\n",
    "                qa[-seq_len:] = qa_          \n",
    "        \n",
    "        x = np.zeros(self.max_seq-1, dtype=int)\n",
    "        x = q[1:].copy()\n",
    "        x += (qa[1:] == 1) * self.n_skill\n",
    "        \n",
    "        questions = np.append(q[2:], [target_id])\n",
    "        \n",
    "        return x, questions\n",
    "\n",
    "device = torch.device(\"cuda\" if torch.cuda.is_available() else \"cpu\")\n",
    "SAKT_model = SAKTModel(n_skill, embed_dim=128)\n",
    "\n",
    "try:\n",
    "    SAKT_model.load_state_dict(torch.load(\"../input/sakt-with-randomization-state-updates/SAKT-HDKIM.pt\"))\n",
    "except:\n",
    "    SAKT_model.load_state_dict(torch.load(\"../input/sakt-with-randomization-state-updates/SAKT-HDKIM.pt\", map_location='cpu'))\n",
    "\n",
    "SAKT_model.to(device)\n",
    "SAKT_model.eval()"
   ]
  },
  {
   "cell_type": "code",
   "execution_count": 71,
   "metadata": {
    "execution": {
     "iopub.execute_input": "2020-12-27T10:42:07.058959Z",
     "iopub.status.busy": "2020-12-27T10:42:07.058257Z",
     "iopub.status.idle": "2020-12-27T10:42:09.810247Z",
     "shell.execute_reply": "2020-12-27T10:42:09.809313Z"
    },
    "papermill": {
     "duration": 2.850439,
     "end_time": "2020-12-27T10:42:09.810395",
     "exception": false,
     "start_time": "2020-12-27T10:42:06.959956",
     "status": "completed"
    },
    "tags": []
   },
   "outputs": [],
   "source": [
    "group = pickle.load(open(\"group.pkl\", \"rb\"))"
   ]
  },
  {
   "cell_type": "code",
   "execution_count": 72,
   "metadata": {
    "execution": {
     "iopub.execute_input": "2020-12-27T10:42:10.013321Z",
     "iopub.status.busy": "2020-12-27T10:42:10.012303Z",
     "iopub.status.idle": "2020-12-27T10:42:10.018104Z",
     "shell.execute_reply": "2020-12-27T10:42:10.017189Z"
    },
    "papermill": {
     "duration": 0.111512,
     "end_time": "2020-12-27T10:42:10.018273",
     "exception": false,
     "start_time": "2020-12-27T10:42:09.906761",
     "status": "completed"
    },
    "tags": []
   },
   "outputs": [
    {
     "name": "stdout",
     "output_type": "stream",
     "text": [
      "55.1\n"
     ]
    }
   ],
   "source": [
    "print(psutil.virtual_memory().percent)\n",
    "#HDKIMHDKIM"
   ]
  },
  {
   "cell_type": "markdown",
   "metadata": {
    "papermill": {
     "duration": 0.095784,
     "end_time": "2020-12-27T10:42:10.209600",
     "exception": false,
     "start_time": "2020-12-27T10:42:10.113816",
     "status": "completed"
    },
    "tags": []
   },
   "source": [
    "# Prediction"
   ]
  },
  {
   "cell_type": "code",
   "execution_count": 73,
   "metadata": {
    "execution": {
     "iopub.execute_input": "2020-12-27T10:42:10.404408Z",
     "iopub.status.busy": "2020-12-27T10:42:10.403728Z",
     "iopub.status.idle": "2020-12-27T10:42:10.406919Z",
     "shell.execute_reply": "2020-12-27T10:42:10.406272Z"
    },
    "papermill": {
     "duration": 0.102458,
     "end_time": "2020-12-27T10:42:10.407052",
     "exception": false,
     "start_time": "2020-12-27T10:42:10.304594",
     "status": "completed"
    },
    "tags": []
   },
   "outputs": [],
   "source": [
    "env = riiideducation.make_env()\n",
    "iter_test = env.iter_test()\n",
    "prior_test_df = None"
   ]
  },
  {
   "cell_type": "code",
   "execution_count": 74,
   "metadata": {
    "execution": {
     "iopub.execute_input": "2020-12-27T10:42:10.606103Z",
     "iopub.status.busy": "2020-12-27T10:42:10.605287Z",
     "iopub.status.idle": "2020-12-27T10:42:11.260292Z",
     "shell.execute_reply": "2020-12-27T10:42:11.259252Z"
    },
    "papermill": {
     "duration": 0.752435,
     "end_time": "2020-12-27T10:42:11.260475",
     "exception": false,
     "start_time": "2020-12-27T10:42:10.508040",
     "status": "completed"
    },
    "tags": []
   },
   "outputs": [
    {
     "name": "stdout",
     "output_type": "stream",
     "text": [
      "55.1\n",
      "55.1\n",
      "55.1\n",
      "CPU times: user 1.01 s, sys: 29.2 ms, total: 1.04 s\n",
      "Wall time: 620 ms\n"
     ]
    }
   ],
   "source": [
    "%%time\n",
    "\n",
    "for (test_df, sample_prediction_df) in iter_test:    \n",
    "    if (prior_test_df is not None) & (psutil.virtual_memory().percent<90):\n",
    "        print(psutil.virtual_memory().percent)\n",
    "        prior_test_df[target] = eval(test_df['prior_group_answers_correct'].iloc[0])\n",
    "        prior_test_df = prior_test_df[prior_test_df[target] != -1].reset_index(drop=True)       \n",
    "        prior_test_df['prior_question_had_explanation'].fillna(False, inplace=True)       \n",
    "        prior_test_df.prior_question_had_explanation=prior_test_df.prior_question_had_explanation.astype('int8')\n",
    "        \n",
    "        #HDKIM SAKT State Update\n",
    "        prev_group = prior_test_df[['user_id', 'content_id', 'answered_correctly']].groupby('user_id').apply(lambda r: (\n",
    "            r['content_id'].values,\n",
    "            r['answered_correctly'].values))\n",
    "        for prev_user_id in prev_group.index:\n",
    "            prev_group_content = prev_group[prev_user_id][0]\n",
    "            prev_group_ac = prev_group[prev_user_id][1]\n",
    "            if prev_user_id in group.index:\n",
    "                group[prev_user_id] = (np.append(group[prev_user_id][0],prev_group_content), \n",
    "                                       np.append(group[prev_user_id][1],prev_group_ac))\n",
    "            else:\n",
    "                group[prev_user_id] = (prev_group_content,prev_group_ac)\n",
    "            if len(group[prev_user_id][0])>MAX_SEQ:\n",
    "                new_group_content = group[prev_user_id][0][-MAX_SEQ:]\n",
    "                new_group_ac = group[prev_user_id][1][-MAX_SEQ:]\n",
    "                group[prev_user_id] = (new_group_content,new_group_ac)\n",
    "\n",
    "        #HDKIMHDKIM\n",
    "    \n",
    "        user_ids = prior_test_df['user_id'].values\n",
    "        content_ids = prior_test_df['content_id'].values\n",
    "        task_container_ids = prior_test_df['task_container_id'].values\n",
    "        prior_question_had_explanations = prior_test_df['prior_question_had_explanation'].values\n",
    "        targets = prior_test_df[target].values\n",
    "       \n",
    "        for user_id, content_id,prior_question_had_explanation,task_container_id,answered_correctly in zip(user_ids, content_ids, prior_question_had_explanations,task_container_ids,targets):\n",
    "            user_sum_dict[user_id] += answered_correctly\n",
    "            user_count_dict[user_id] += 1         \n",
    "            explanation_sum_dict[user_id] += prior_question_had_explanation\n",
    "            explanation_count_dict[user_id] += 1\n",
    "            \n",
    "\n",
    "    prior_test_df = test_df.copy()\n",
    "    lecture_test_df = test_df[test_df['content_type_id'] == 1].reset_index(drop=True)\n",
    "    \n",
    "    for i, (user_id,content_type_id, content_id) in enumerate(zip(lecture_test_df['user_id'].values,lecture_test_df['content_type_id'].values,lecture_test_df['content_id'].values)):\n",
    "      \n",
    "        user_lecture_sum_dict[user_id] += content_type_id\n",
    "        user_lecture_count_dict[user_id] += 1\n",
    "        #\n",
    "        if(len(user_lecture_stats_part[user_lecture_stats_part.user_id==user_id])==0):\n",
    "            user_lecture_stats_part = user_lecture_stats_part.append([{'user_id':user_id}], ignore_index=True)\n",
    "            user_lecture_stats_part.fillna(0, inplace=True)\n",
    "            user_lecture_stats_part.loc[user_lecture_stats_part.user_id==user_id,part_lectures_columns + types_of_lectures_columns]+=lectures_df[lectures_df.lecture_id==content_id][part_lectures_columns + types_of_lectures_columns].values\n",
    "        else:\n",
    "            user_lecture_stats_part.loc[user_lecture_stats_part.user_id==user_id,part_lectures_columns + types_of_lectures_columns]+=lectures_df[lectures_df.lecture_id==content_id][part_lectures_columns + types_of_lectures_columns].values\n",
    "  \n",
    "        \n",
    "    test_df = test_df[test_df['content_type_id'] == 0].reset_index(drop=True)\n",
    "   \n",
    "    #HDKIM SAKT\n",
    "    test_dataset = TestDataset(group, test_df, skills)\n",
    "    test_dataloader = DataLoader(test_dataset, batch_size=51200, shuffle=False)\n",
    "    \n",
    "    SAKT_outs = []\n",
    "\n",
    "    for item in test_dataloader:\n",
    "        x = item[0].to(device).long()\n",
    "        target_id = item[1].to(device).long()\n",
    "\n",
    "        with torch.no_grad():\n",
    "            output, att_weight = SAKT_model(x, target_id)\n",
    " \n",
    "        output = torch.sigmoid(output)\n",
    "        output = output[:, -1]\n",
    "        SAKT_outs.extend(output.view(-1).data.cpu().numpy())\n",
    "    \n",
    "    #HDKIMHDKIM\n",
    "\n",
    "    test_df['prior_question_had_explanation'].fillna(False, inplace=True)\n",
    "    test_df.prior_question_had_explanation=test_df.prior_question_had_explanation.astype('int8')\n",
    "    test_df['prior_question_elapsed_time'].fillna(prior_question_elapsed_time_mean, inplace=True)\n",
    "    \n",
    "\n",
    "    user_lecture_sum = np.zeros(len(test_df), dtype=np.int16)\n",
    "    user_lecture_count = np.zeros(len(test_df), dtype=np.int16) \n",
    "    \n",
    "    user_sum = np.zeros(len(test_df), dtype=np.int16)\n",
    "    user_count = np.zeros(len(test_df), dtype=np.int16)\n",
    "    content_sum = np.zeros(len(test_df), dtype=np.int32)\n",
    "    content_count = np.zeros(len(test_df), dtype=np.int32)\n",
    "    task_container_sum = np.zeros(len(test_df), dtype=np.int32)\n",
    "    task_container_count = np.zeros(len(test_df), dtype=np.int32)\n",
    "    task_container_std = np.zeros(len(test_df), dtype=np.float16)\n",
    "    content_task_mean = np.zeros(len(test_df), dtype=np.float16)\n",
    "    explanation_sum = np.zeros(len(test_df), dtype=np.int32)\n",
    "    explanation_count = np.zeros(len(test_df), dtype=np.int32)\n",
    "    delta_prior_question_elapsed_time = np.zeros(len(test_df), dtype=np.int32)\n",
    "\n",
    "    attempt_no_count = np.zeros(len(test_df), dtype=np.int16)\n",
    "    lagtime = np.zeros(len(test_df), dtype=np.int32)\n",
    "    lagtime_mean = np.zeros(len(test_df), dtype=np.int32)\n",
    "   \n",
    "    \n",
    "    for i, (user_id,prior_question_had_explanation,content_type_id,prior_question_elapsed_time,timestamp, content_id,task_container_id) in enumerate(zip(test_df['user_id'].values,test_df['prior_question_had_explanation'].values,test_df['content_type_id'].values,test_df['prior_question_elapsed_time'].values,test_df['timestamp'].values, test_df['content_id'].values, test_df['task_container_id'].values)):\n",
    "         \n",
    "        user_lecture_sum_dict[user_id] += content_type_id\n",
    "        user_lecture_count_dict[user_id] += 1\n",
    "        \n",
    "        user_lecture_sum[i] = user_lecture_sum_dict[user_id]\n",
    "        user_lecture_count[i] = user_lecture_count_dict[user_id]\n",
    "        \n",
    "        user_sum[i] = user_sum_dict[user_id]\n",
    "        user_count[i] = user_count_dict[user_id]\n",
    "        content_sum[i] = content_sum_dict[content_id]\n",
    "        content_count[i] = content_count_dict[content_id]\n",
    "        task_container_sum[i] = task_container_sum_dict[task_container_id]\n",
    "        task_container_count[i] = task_container_count_dict[task_container_id]\n",
    "        task_container_std[i]=task_container_std_dict[task_container_id]\n",
    "      \n",
    "        explanation_sum[i] = explanation_sum_dict[user_id]\n",
    "        explanation_count[i] = explanation_count_dict[user_id]\n",
    "  \n",
    "        if user_id in max_timestamp_u_dict['max_time_stamp'].keys():\n",
    "            lagtime[i]=timestamp-max_timestamp_u_dict['max_time_stamp'][user_id]\n",
    "            max_timestamp_u_dict['max_time_stamp'][user_id]=timestamp\n",
    "            lagtime_mean[i]=(lagtime_mean_dict[user_id]+lagtime[i])/2           \n",
    "        else:\n",
    "            lagtime[i]=0\n",
    "            max_timestamp_u_dict['max_time_stamp'].update({user_id:timestamp})\n",
    "            lagtime_mean_dict.update({user_id:timestamp})\n",
    "            lagtime_mean[i]=(lagtime_mean_dict[user_id]+lagtime[i])/2\n",
    "            \n",
    "        if user_id in user_prior_question_elapsed_time_dict['prior_question_elapsed_time'].keys():            \n",
    "            delta_prior_question_elapsed_time[i]=prior_question_elapsed_time-user_prior_question_elapsed_time_dict['prior_question_elapsed_time'][user_id]\n",
    "            user_prior_question_elapsed_time_dict['prior_question_elapsed_time'][user_id]=prior_question_elapsed_time\n",
    "        else:           \n",
    "            delta_prior_question_elapsed_time[i]=0    \n",
    "            user_prior_question_elapsed_time_dict['prior_question_elapsed_time'].update({user_id:prior_question_elapsed_time})\n",
    "           \n",
    "        \n",
    "        \n",
    "    \n",
    "    #\n",
    "    #test_df = pd.merge(test_df, questions_df, on='content_id', how='left',right_index=True)    \n",
    "    #test_df = pd.concat([test_df.reset_index(drop=True), questions_df.reindex(test_df['content_id'].values).reset_index(drop=True)], axis=1)\n",
    "    test_df=test_df.merge(questions_df.loc[questions_df.index.isin(test_df['content_id'])],\n",
    "                  how='left', on='content_id', right_index=True)\n",
    "    \n",
    "    #test_df = pd.merge(test_df, user_lecture_stats_part, on=['user_id'], how=\"left\",right_index=True)\n",
    "    #test_df = pd.concat([test_df.reset_index(drop=True), user_lecture_stats_part.reindex(test_df['user_id'].values).reset_index(drop=True)], axis=1)\n",
    "#     test_df=test_df.merge(user_lecture_stats_part.loc[user_lecture_stats_part.index.isin(test_df['user_id'])],\n",
    "#                   how='left', on='user_id', right_index=True)\n",
    " \n",
    "    test_df['user_lecture_lv'] = user_lecture_sum / user_lecture_count\n",
    "    test_df['user_lecture_cumsum'] = user_lecture_sum\n",
    "    test_df['user_correctness'] = user_sum / user_count\n",
    "    test_df['user_correct_cumcount'] =user_count\n",
    "    test_df['user_correct_cumsum'] =user_sum\n",
    "    #\n",
    "    test_df['content_correctness'] = content_sum / content_count\n",
    "    test_df['content_count'] = content_count\n",
    "    test_df['content_sum'] = content_sum\n",
    "    \n",
    "    test_df['task_container_correctness'] = task_container_sum / task_container_count\n",
    "    test_df['task_container_sum'] = task_container_sum \n",
    "    test_df['task_container_std'] = task_container_std \n",
    "    #test_df['content_task_mean'] = content_task_mean \n",
    "    \n",
    "    test_df['explanation_mean'] = explanation_sum / explanation_count\n",
    "    test_df['explanation_cumsum'] = explanation_sum \n",
    "    \n",
    "    #\n",
    "    test_df['delta_prior_question_elapsed_time'] = delta_prior_question_elapsed_time \n",
    "    \n",
    "  \n",
    " \n",
    "    test_df[\"attempt_no\"] = test_df[[\"user_id\", \"content_id\"]].apply(lambda row: get_max_attempt(row[\"user_id\"], row[\"content_id\"]), axis=1)\n",
    "    test_df[\"lagtime\"]=lagtime\n",
    "    test_df[\"lagtime_mean\"]=lagtime_mean\n",
    "\n",
    "    test_df['user_correctness'].fillna( 1, inplace=True)\n",
    "    test_df['attempt_no'].fillna(1, inplace=True)\n",
    "    #\n",
    "    test_df.fillna(0, inplace=True)\n",
    "    \n",
    "\n",
    "    test_df['timestamp']=test_df['timestamp']/(1000*3600)\n",
    "    test_df.timestamp=test_df.timestamp.astype('int16')\n",
    "\n",
    "\n",
    "    sub_preds = np.zeros(test_df.shape[0])\n",
    "    \n",
    "    for i, model in enumerate(clfs, 1):\n",
    "        test_preds  = model.predict(test_df[features], num_iteration = model.best_iteration)\n",
    "        sub_preds += test_preds\n",
    "        \n",
    "    #HDKIM\n",
    "    #test_df[target] = sub_preds / len(clfs) #HDKIM\n",
    "    \n",
    "    lgbm_final = sub_preds / len(clfs)   \n",
    "    test_df[target] = np.array(SAKT_outs) * 0.5 + lgbm_final * 0.5\n",
    "    #HDKIMHDKIM\n",
    "    \n",
    "    # Submission\n",
    "    env.predict(test_df[['row_id', target]])"
   ]
  },
  {
   "cell_type": "markdown",
   "metadata": {
    "papermill": {
     "duration": 0.096367,
     "end_time": "2020-12-27T10:42:11.452748",
     "exception": false,
     "start_time": "2020-12-27T10:42:11.356381",
     "status": "completed"
    },
    "tags": []
   },
   "source": [
    "## Save files"
   ]
  },
  {
   "cell_type": "code",
   "execution_count": 75,
   "metadata": {
    "execution": {
     "iopub.execute_input": "2020-12-27T10:42:11.646241Z",
     "iopub.status.busy": "2020-12-27T10:42:11.645119Z",
     "iopub.status.idle": "2020-12-27T10:42:11.651387Z",
     "shell.execute_reply": "2020-12-27T10:42:11.652156Z"
    },
    "papermill": {
     "duration": 0.105184,
     "end_time": "2020-12-27T10:42:11.652337",
     "exception": false,
     "start_time": "2020-12-27T10:42:11.547153",
     "status": "completed"
    },
    "tags": []
   },
   "outputs": [],
   "source": [
    "# test_df\n",
    "pickle.dump(test_df, open('test_df.pickle', 'wb'))"
   ]
  },
  {
   "cell_type": "code",
   "execution_count": 76,
   "metadata": {
    "execution": {
     "iopub.execute_input": "2020-12-27T10:42:11.845268Z",
     "iopub.status.busy": "2020-12-27T10:42:11.844207Z",
     "iopub.status.idle": "2020-12-27T10:42:12.866009Z",
     "shell.execute_reply": "2020-12-27T10:42:12.865199Z"
    },
    "papermill": {
     "duration": 1.119899,
     "end_time": "2020-12-27T10:42:12.866174",
     "exception": false,
     "start_time": "2020-12-27T10:42:11.746275",
     "status": "completed"
    },
    "tags": []
   },
   "outputs": [
    {
     "name": "stdout",
     "output_type": "stream",
     "text": [
      "Save the best of model.\n"
     ]
    }
   ],
   "source": [
    "# Model\n",
    "model.save_model('model.txt')\n",
    "print('Save the best of model.')"
   ]
  },
  {
   "cell_type": "code",
   "execution_count": 77,
   "metadata": {
    "execution": {
     "iopub.execute_input": "2020-12-27T10:42:13.061156Z",
     "iopub.status.busy": "2020-12-27T10:42:13.060399Z",
     "iopub.status.idle": "2020-12-27T10:42:13.066693Z",
     "shell.execute_reply": "2020-12-27T10:42:13.065957Z"
    },
    "papermill": {
     "duration": 0.105259,
     "end_time": "2020-12-27T10:42:13.066836",
     "exception": false,
     "start_time": "2020-12-27T10:42:12.961577",
     "status": "completed"
    },
    "tags": []
   },
   "outputs": [
    {
     "name": "stdout",
     "output_type": "stream",
     "text": [
      "Save the best of parameters.\n"
     ]
    }
   ],
   "source": [
    "# Parameters\n",
    "pickle.dump(params, open('The_best_of_all_parameters_on_LightGBM.pickle', 'wb'))\n",
    "print('Save the best of parameters.')"
   ]
  },
  {
   "cell_type": "markdown",
   "metadata": {
    "papermill": {
     "duration": 0.09341,
     "end_time": "2020-12-27T10:42:13.255613",
     "exception": false,
     "start_time": "2020-12-27T10:42:13.162203",
     "status": "completed"
    },
    "tags": []
   },
   "source": [
    "# Visualization & Empirical analysis"
   ]
  },
  {
   "cell_type": "markdown",
   "metadata": {
    "papermill": {
     "duration": 0.093345,
     "end_time": "2020-12-27T10:42:13.442716",
     "exception": false,
     "start_time": "2020-12-27T10:42:13.349371",
     "status": "completed"
    },
    "tags": []
   },
   "source": [
    "## Preparation"
   ]
  },
  {
   "cell_type": "code",
   "execution_count": 78,
   "metadata": {
    "execution": {
     "iopub.execute_input": "2020-12-27T10:42:13.656780Z",
     "iopub.status.busy": "2020-12-27T10:42:13.655984Z",
     "iopub.status.idle": "2020-12-27T10:44:31.137774Z",
     "shell.execute_reply": "2020-12-27T10:44:31.138453Z"
    },
    "papermill": {
     "duration": 137.599888,
     "end_time": "2020-12-27T10:44:31.138672",
     "exception": false,
     "start_time": "2020-12-27T10:42:13.538784",
     "status": "completed"
    },
    "tags": []
   },
   "outputs": [
    {
     "name": "stdout",
     "output_type": "stream",
     "text": [
      "Length of y_true = 101230332\n",
      "Length of y_pred = 104\n",
      "Length of test_df = 33\n"
     ]
    }
   ],
   "source": [
    "target = 'answered_correctly'\n",
    "y_true = pd.read_csv('../input/riiid-test-answer-prediction/train.csv', usecols=[target])\n",
    "print('Length of y_true =', len(y_true))\n",
    "y_pred = pd.read_csv('./submission.csv', usecols=[target])\n",
    "print('Length of y_pred =', len(y_pred))\n",
    "test_df = pd.read_pickle('./test_df.pickle')\n",
    "print('Length of test_df =', len(test_df))"
   ]
  },
  {
   "cell_type": "code",
   "execution_count": 79,
   "metadata": {
    "execution": {
     "iopub.execute_input": "2020-12-27T10:44:31.337213Z",
     "iopub.status.busy": "2020-12-27T10:44:31.336405Z",
     "iopub.status.idle": "2020-12-27T10:44:31.341672Z",
     "shell.execute_reply": "2020-12-27T10:44:31.341136Z"
    },
    "papermill": {
     "duration": 0.107436,
     "end_time": "2020-12-27T10:44:31.341794",
     "exception": false,
     "start_time": "2020-12-27T10:44:31.234358",
     "status": "completed"
    },
    "tags": []
   },
   "outputs": [
    {
     "name": "stdout",
     "output_type": "stream",
     "text": [
      "Optimized parameters with Optuna:\n",
      "{'objective': 'binary', 'seed': 123, 'metric': 'AUC', 'boosting_type': 'gbdt', 'lambda_l1': 0.23094442978103413, 'lambda_l2': 0.10970746111051044, 'num_leaves': 206, 'feature_fraction': 0.7548698723252225, 'bagging_fraction': 0.7186994268081899, 'bagging_freq': 7, 'min_child_samples': 45}\n"
     ]
    }
   ],
   "source": [
    "params = pd.read_pickle('./The_best_of_all_parameters_on_LightGBM.pickle')\n",
    "print('Optimized parameters with Optuna:')\n",
    "print(params)"
   ]
  },
  {
   "cell_type": "code",
   "execution_count": 80,
   "metadata": {
    "execution": {
     "iopub.execute_input": "2020-12-27T10:44:31.545330Z",
     "iopub.status.busy": "2020-12-27T10:44:31.544572Z",
     "iopub.status.idle": "2020-12-27T10:44:31.780079Z",
     "shell.execute_reply": "2020-12-27T10:44:31.779358Z"
    },
    "papermill": {
     "duration": 0.340301,
     "end_time": "2020-12-27T10:44:31.780269",
     "exception": false,
     "start_time": "2020-12-27T10:44:31.439968",
     "status": "completed"
    },
    "tags": []
   },
   "outputs": [
    {
     "name": "stdout",
     "output_type": "stream",
     "text": [
      "Load the model of LightGBM:\n",
      "<lightgbm.basic.Booster object at 0x7f5302197250>\n"
     ]
    }
   ],
   "source": [
    "model = lgb.Booster(model_file='./model.txt', params=params)\n",
    "print('Load the model of LightGBM:')\n",
    "print(model)"
   ]
  },
  {
   "cell_type": "code",
   "execution_count": 81,
   "metadata": {
    "execution": {
     "iopub.execute_input": "2020-12-27T10:44:31.985981Z",
     "iopub.status.busy": "2020-12-27T10:44:31.984868Z",
     "iopub.status.idle": "2020-12-27T10:44:31.988553Z",
     "shell.execute_reply": "2020-12-27T10:44:31.989099Z"
    },
    "papermill": {
     "duration": 0.109524,
     "end_time": "2020-12-27T10:44:31.989262",
     "exception": false,
     "start_time": "2020-12-27T10:44:31.879738",
     "status": "completed"
    },
    "tags": []
   },
   "outputs": [
    {
     "name": "stdout",
     "output_type": "stream",
     "text": [
      "Features of LightGBM:\n",
      "['lagtime', 'lagtime_mean', 'user_lecture_cumsum', 'user_lecture_lv', 'prior_question_elapsed_time', 'delta_prior_question_elapsed_time', 'user_correctness', 'user_correct_cumcount', 'user_correct_cumsum', 'content_correctness', 'content_count', 'content_sum', 'task_container_correctness', 'bundle_correctness', 'attempt_no', 'part', 'part_correctness_mean', 'tags1', 'tags1_correctness_mean', 'bundle_id', 'explanation_mean', 'explanation_cumsum', 'prior_question_had_explanation']\n"
     ]
    }
   ],
   "source": [
    "features = model.feature_name()\n",
    "print('Features of LightGBM:')\n",
    "print(features)"
   ]
  },
  {
   "cell_type": "code",
   "execution_count": 82,
   "metadata": {
    "execution": {
     "iopub.execute_input": "2020-12-27T10:44:32.216394Z",
     "iopub.status.busy": "2020-12-27T10:44:32.215177Z",
     "iopub.status.idle": "2020-12-27T10:44:32.241666Z",
     "shell.execute_reply": "2020-12-27T10:44:32.240203Z"
    },
    "papermill": {
     "duration": 0.146241,
     "end_time": "2020-12-27T10:44:32.241832",
     "exception": false,
     "start_time": "2020-12-27T10:44:32.095591",
     "status": "completed"
    },
    "tags": []
   },
   "outputs": [
    {
     "data": {
      "text/plain": [
       "array([0.40887763, 0.73261977, 0.58240014, 0.95846587, 0.61466234,\n",
       "       0.47243755, 0.94406289, 0.57003457, 0.42300787, 0.85290758,\n",
       "       0.62518256, 0.61487634, 0.97155633, 0.93511198, 0.83074371,\n",
       "       0.7778601 , 0.60256174, 0.80589568, 0.76351333, 0.75447302,\n",
       "       0.28515475, 0.49661683, 0.86561099, 0.81835494, 0.73220365,\n",
       "       0.84307619, 0.70764063, 0.61513124, 0.33630784, 0.68748774,\n",
       "       0.5031202 , 0.67149328, 0.96650372])"
      ]
     },
     "execution_count": 82,
     "metadata": {},
     "output_type": "execute_result"
    }
   ],
   "source": [
    "LightGBM = model.predict(test_df[features])\n",
    "LightGBM"
   ]
  },
  {
   "cell_type": "code",
   "execution_count": 83,
   "metadata": {
    "execution": {
     "iopub.execute_input": "2020-12-27T10:44:32.472407Z",
     "iopub.status.busy": "2020-12-27T10:44:32.471002Z",
     "iopub.status.idle": "2020-12-27T10:44:33.065058Z",
     "shell.execute_reply": "2020-12-27T10:44:33.065676Z"
    },
    "papermill": {
     "duration": 0.705999,
     "end_time": "2020-12-27T10:44:33.065856",
     "exception": false,
     "start_time": "2020-12-27T10:44:32.359857",
     "status": "completed"
    },
    "tags": []
   },
   "outputs": [],
   "source": [
    "# Run bootstrap\n",
    "y_true_boot = resample(y_true, n_samples = len(y_pred))"
   ]
  },
  {
   "cell_type": "markdown",
   "metadata": {
    "papermill": {
     "duration": 0.097539,
     "end_time": "2020-12-27T10:44:33.264869",
     "exception": false,
     "start_time": "2020-12-27T10:44:33.167330",
     "status": "completed"
    },
    "tags": []
   },
   "source": [
    "## Define functions."
   ]
  },
  {
   "cell_type": "code",
   "execution_count": 84,
   "metadata": {
    "execution": {
     "iopub.execute_input": "2020-12-27T10:44:33.466579Z",
     "iopub.status.busy": "2020-12-27T10:44:33.465875Z",
     "iopub.status.idle": "2020-12-27T10:44:33.469005Z",
     "shell.execute_reply": "2020-12-27T10:44:33.468457Z"
    },
    "papermill": {
     "duration": 0.10655,
     "end_time": "2020-12-27T10:44:33.469128",
     "exception": false,
     "start_time": "2020-12-27T10:44:33.362578",
     "status": "completed"
    },
    "tags": []
   },
   "outputs": [],
   "source": [
    "def Plot_lgb(model):\n",
    "    plt.figure()\n",
    "    lgb.plot_importance(model, importance_type='gain')\n",
    "    plt.legend()\n",
    "    plt.show()\n",
    "    lgb.plot_tree(model, figsize=(30, 50))\n",
    "    plt.legend()\n",
    "    plt.show()"
   ]
  },
  {
   "cell_type": "code",
   "execution_count": 85,
   "metadata": {
    "execution": {
     "iopub.execute_input": "2020-12-27T10:44:33.685138Z",
     "iopub.status.busy": "2020-12-27T10:44:33.684273Z",
     "iopub.status.idle": "2020-12-27T10:44:33.687625Z",
     "shell.execute_reply": "2020-12-27T10:44:33.687027Z"
    },
    "papermill": {
     "duration": 0.118081,
     "end_time": "2020-12-27T10:44:33.687753",
     "exception": false,
     "start_time": "2020-12-27T10:44:33.569672",
     "status": "completed"
    },
    "tags": []
   },
   "outputs": [],
   "source": [
    "def Statistical_Significance_Test(y_true_boot, y_pred):\n",
    "    A = np.array(y_true_boot)\n",
    "    B = np.array(y_pred)\n",
    "    # Paired t-test\n",
    "    print('Paired t-test:', stats.ttest_rel(A, B))\n",
    "    # Student's t-test\n",
    "    A_var = np.var(A, ddof=1)  # Unbiased dispersion of A\n",
    "    B_var = np.var(B, ddof=1)  # Unbiased dispersion of B\n",
    "    A_df = len(A) - 1  # Degree of freedom of A\n",
    "    B_df = len(B) - 1  # Degree of freedom of B\n",
    "    f = A_var / B_var  # F ratio value\n",
    "    one_sided_pval1 = stats.f.cdf(f, A_df, B_df)  # One-sided test p-value(1)\n",
    "    one_sided_pval2 = stats.f.sf(f, A_df, B_df)   # One-sided test p-value(2)\n",
    "    two_sided_pval = min(one_sided_pval1, one_sided_pval2) * 2  # Two-sided test p-value\n",
    "    print(\"Student's t-test:\")\n",
    "    print('F:       ', round(f, 3))\n",
    "    print('p-value: ', round(two_sided_pval, 3))\n",
    "    # Welch's t-test\n",
    "    two_sided_pval = min(one_sided_pval1, one_sided_pval2) * 2  # Two-sided test p-value\n",
    "    print(\"Welch's t-test:\")\n",
    "    print('F:       ', round(f, 3))\n",
    "    print('p-value: ', round(two_sided_pval, 4))\n",
    "    # Mann-Whitney's U-test\n",
    "    print(\"Mann-Whitney's U-test:\", stats.mannwhitneyu(A, B, alternative='two-sided'))\n",
    "    # Wilcoxon signed rank sum test\n",
    "    print(\"Wilcoxon signed rank sum test:\", stats.wilcoxon(A, B))"
   ]
  },
  {
   "cell_type": "code",
   "execution_count": 86,
   "metadata": {
    "execution": {
     "iopub.execute_input": "2020-12-27T10:44:33.898927Z",
     "iopub.status.busy": "2020-12-27T10:44:33.898083Z",
     "iopub.status.idle": "2020-12-27T10:44:33.901857Z",
     "shell.execute_reply": "2020-12-27T10:44:33.901212Z"
    },
    "papermill": {
     "duration": 0.113185,
     "end_time": "2020-12-27T10:44:33.901977",
     "exception": false,
     "start_time": "2020-12-27T10:44:33.788792",
     "status": "completed"
    },
    "tags": []
   },
   "outputs": [],
   "source": [
    "# Histogram\n",
    "def distribution(df):   \n",
    "    plt.figure()\n",
    "    sns.distplot(df, kde=True, rug=True, hist=True, norm_hist=True, axlabel='Frequency Distribution')\n",
    "    plt.legend()\n",
    "    plt.show()"
   ]
  },
  {
   "cell_type": "markdown",
   "metadata": {
    "papermill": {
     "duration": 0.100573,
     "end_time": "2020-12-27T10:44:34.102837",
     "exception": false,
     "start_time": "2020-12-27T10:44:34.002264",
     "status": "completed"
    },
    "tags": []
   },
   "source": [
    "## Execution"
   ]
  },
  {
   "cell_type": "code",
   "execution_count": 87,
   "metadata": {
    "execution": {
     "iopub.execute_input": "2020-12-27T10:44:34.309118Z",
     "iopub.status.busy": "2020-12-27T10:44:34.308196Z",
     "iopub.status.idle": "2020-12-27T10:45:10.374253Z",
     "shell.execute_reply": "2020-12-27T10:45:10.374956Z"
    },
    "papermill": {
     "duration": 36.172127,
     "end_time": "2020-12-27T10:45:10.375141",
     "exception": false,
     "start_time": "2020-12-27T10:44:34.203014",
     "status": "completed"
    },
    "tags": []
   },
   "outputs": [
    {
     "data": {
      "text/plain": [
       "<Figure size 432x288 with 0 Axes>"
      ]
     },
     "metadata": {},
     "output_type": "display_data"
    },
    {
     "data": {
      "image/png": "[encoded data removed]",
      "text/plain": [
       "<Figure size 432x288 with 1 Axes>"
      ]
     },
     "metadata": {
      "needs_background": "light"
     },
     "output_type": "display_data"
    },
    {
     "data": {
      "image/png": "[encoded data removed]",
      "text/plain": [
       "<Figure size 2160x3600 with 1 Axes>"
      ]
     },
     "metadata": {
      "needs_background": "light"
     },
     "output_type": "display_data"
    }
   ],
   "source": [
    "Plot_lgb(model)"
   ]
  },
  {
   "cell_type": "code",
   "execution_count": 88,
   "metadata": {
    "execution": {
     "iopub.execute_input": "2020-12-27T10:45:10.599422Z",
     "iopub.status.busy": "2020-12-27T10:45:10.598687Z",
     "iopub.status.idle": "2020-12-27T10:45:10.614950Z",
     "shell.execute_reply": "2020-12-27T10:45:10.615509Z"
    },
    "papermill": {
     "duration": 0.129974,
     "end_time": "2020-12-27T10:45:10.615750",
     "exception": false,
     "start_time": "2020-12-27T10:45:10.485776",
     "status": "completed"
    },
    "tags": []
   },
   "outputs": [
    {
     "name": "stdout",
     "output_type": "stream",
     "text": [
      "Paired t-test: Ttest_relResult(statistic=-0.4896822154590357, pvalue=0.6254001068330675)\n",
      "Student's t-test:\n",
      "F:        7.311\n",
      "p-value:  0.0\n",
      "Welch's t-test:\n",
      "F:        7.311\n",
      "p-value:  0.0\n",
      "Mann-Whitney's U-test: MannwhitneyuResult(statistic=7072.0, pvalue=9.246142046889987e-05)\n",
      "Wilcoxon signed rank sum test: WilcoxonResult(statistic=2652.0, pvalue=0.8003153676614757)\n"
     ]
    }
   ],
   "source": [
    "Statistical_Significance_Test(y_true_boot[target], y_pred[target])"
   ]
  },
  {
   "cell_type": "markdown",
   "metadata": {
    "papermill": {
     "duration": 0.10709,
     "end_time": "2020-12-27T10:45:10.831094",
     "exception": false,
     "start_time": "2020-12-27T10:45:10.724004",
     "status": "completed"
    },
    "tags": []
   },
   "source": [
    "### Histogram"
   ]
  },
  {
   "cell_type": "code",
   "execution_count": 89,
   "metadata": {
    "execution": {
     "iopub.execute_input": "2020-12-27T10:45:11.047981Z",
     "iopub.status.busy": "2020-12-27T10:45:11.046935Z",
     "iopub.status.idle": "2020-12-27T10:45:11.255109Z",
     "shell.execute_reply": "2020-12-27T10:45:11.255619Z"
    },
    "papermill": {
     "duration": 0.318162,
     "end_time": "2020-12-27T10:45:11.255803",
     "exception": false,
     "start_time": "2020-12-27T10:45:10.937641",
     "status": "completed"
    },
    "tags": []
   },
   "outputs": [
    {
     "data": {
      "image/png": "[encoded data removed]",
      "text/plain": [
       "<Figure size 432x288 with 1 Axes>"
      ]
     },
     "metadata": {
      "needs_background": "light"
     },
     "output_type": "display_data"
    }
   ],
   "source": [
    "distribution(y_true_boot[target])"
   ]
  },
  {
   "cell_type": "code",
   "execution_count": 90,
   "metadata": {
    "execution": {
     "iopub.execute_input": "2020-12-27T10:45:11.480680Z",
     "iopub.status.busy": "2020-12-27T10:45:11.478899Z",
     "iopub.status.idle": "2020-12-27T10:45:11.668974Z",
     "shell.execute_reply": "2020-12-27T10:45:11.669485Z"
    },
    "papermill": {
     "duration": 0.307363,
     "end_time": "2020-12-27T10:45:11.669695",
     "exception": false,
     "start_time": "2020-12-27T10:45:11.362332",
     "status": "completed"
    },
    "tags": []
   },
   "outputs": [
    {
     "data": {
      "image/png": "[encoded data removed]",
      "text/plain": [
       "<Figure size 432x288 with 1 Axes>"
      ]
     },
     "metadata": {
      "needs_background": "light"
     },
     "output_type": "display_data"
    }
   ],
   "source": [
    "distribution(y_pred[target])"
   ]
  },
  {
   "cell_type": "code",
   "execution_count": 91,
   "metadata": {
    "execution": {
     "iopub.execute_input": "2020-12-27T10:45:11.897683Z",
     "iopub.status.busy": "2020-12-27T10:45:11.896904Z",
     "iopub.status.idle": "2020-12-27T10:45:12.077896Z",
     "shell.execute_reply": "2020-12-27T10:45:12.077176Z"
    },
    "papermill": {
     "duration": 0.298939,
     "end_time": "2020-12-27T10:45:12.078028",
     "exception": false,
     "start_time": "2020-12-27T10:45:11.779089",
     "status": "completed"
    },
    "tags": []
   },
   "outputs": [
    {
     "data": {
      "image/png": "[encoded data removed]",
      "text/plain": [
       "<Figure size 432x288 with 1 Axes>"
      ]
     },
     "metadata": {
      "needs_background": "light"
     },
     "output_type": "display_data"
    }
   ],
   "source": [
    "distribution(LightGBM)"
   ]
  },
  {
   "cell_type": "markdown",
   "metadata": {
    "papermill": {
     "duration": 0.107379,
     "end_time": "2020-12-27T10:45:12.293624",
     "exception": false,
     "start_time": "2020-12-27T10:45:12.186245",
     "status": "completed"
    },
    "tags": []
   },
   "source": [
    "### Done"
   ]
  },
  {
   "cell_type": "code",
   "execution_count": 92,
   "metadata": {
    "execution": {
     "iopub.execute_input": "2020-12-27T10:45:12.523811Z",
     "iopub.status.busy": "2020-12-27T10:45:12.522931Z",
     "iopub.status.idle": "2020-12-27T10:45:12.527549Z",
     "shell.execute_reply": "2020-12-27T10:45:12.526988Z"
    },
    "papermill": {
     "duration": 0.126193,
     "end_time": "2020-12-27T10:45:12.527717",
     "exception": false,
     "start_time": "2020-12-27T10:45:12.401524",
     "status": "completed"
    },
    "tags": []
   },
   "outputs": [
    {
     "name": "stdout",
     "output_type": "stream",
     "text": [
      "Operation completed.\n"
     ]
    }
   ],
   "source": [
    "print('Operation completed.')"
   ]
  },
  {
   "cell_type": "markdown",
   "metadata": {
    "papermill": {
     "duration": 0.114895,
     "end_time": "2020-12-27T10:45:12.752886",
     "exception": false,
     "start_time": "2020-12-27T10:45:12.637991",
     "status": "completed"
    },
    "tags": []
   },
   "source": [
    "## I would like to thank the original author, [@Ammar Alhaj Ali](https://www.kaggle.com/ammarnassanalhajali) deeply."
   ]
  }
 ],
 "metadata": {
  "kernelspec": {
   "display_name": "Python 3",
   "language": "python",
   "name": "python3"
  },
  "language_info": {
   "codemirror_mode": {
    "name": "ipython",
    "version": 3
   },
   "file_extension": ".py",
   "mimetype": "text/x-python",
   "name": "python",
   "nbconvert_exporter": "python",
   "pygments_lexer": "ipython3",
   "version": "3.7.6"
  },
  "papermill": {
   "duration": 6044.660792,
   "end_time": "2020-12-27T10:45:13.274393",
   "environment_variables": {},
   "exception": null,
   "input_path": "__notebook__.ipynb",
   "output_path": "__notebook__.ipynb",
   "parameters": {},
   "start_time": "2020-12-27T09:04:28.613601",
   "version": "2.1.0"
  }
 },
 "nbformat": 4,
 "nbformat_minor": 4
}

{
  "nbformat": 4,
  "nbformat_minor": 0,
  "metadata": {
    "accelerator": "GPU",
    "colab": {
      "name": "LightGBM_on_GPU_with_Feature_Engineering_Optuna_and_Visualization.ipynb",
      "provenance": [],
      "collapsed_sections": [],
      "toc_visible": true
    },
    "kernelspec": {
      "display_name": "Python 3",
      "language": "python",
      "name": "python3"
    },
    "language_info": {
      "codemirror_mode": {
        "name": "ipython",
        "version": 3
      },
      "file_extension": ".py",
      "mimetype": "text/x-python",
      "name": "python",
      "nbconvert_exporter": "python",
      "pygments_lexer": "ipython3",
      "version": "3.7.6"
    },
    "widgets": {
      "application/vnd.jupyter.widget-state+json": {
        "61cdd5aa1fc54f9ca6f96595a1e1c632": {
          "model_module": "@jupyter-widgets/controls",
          "model_name": "HBoxModel",
          "state": {
            "_view_name": "HBoxView",
            "_dom_classes": [],
            "_model_name": "HBoxModel",
            "_view_module": "@jupyter-widgets/controls",
            "_model_module_version": "1.5.0",
            "_view_count": null,
            "_view_module_version": "1.5.0",
            "box_style": "",
            "layout": "IPY_MODEL_b1b1e2f3ff094d14a54f152bc67651f3",
            "_model_module": "@jupyter-widgets/controls",
            "children": [
              "IPY_MODEL_23a97d7097ff477396821db9837ba5ed",
              "IPY_MODEL_7c1c5b3be423494da3d9c68f75a2d1b0"
            ]
          }
        },
        "b1b1e2f3ff094d14a54f152bc67651f3": {
          "model_module": "@jupyter-widgets/base",
          "model_name": "LayoutModel",
          "state": {
            "_view_name": "LayoutView",
            "grid_template_rows": null,
            "right": null,
            "justify_content": null,
            "_view_module": "@jupyter-widgets/base",
            "overflow": null,
            "_model_module_version": "1.2.0",
            "_view_count": null,
            "flex_flow": null,
            "width": null,
            "min_width": null,
            "border": null,
            "align_items": null,
            "bottom": null,
            "_model_module": "@jupyter-widgets/base",
            "top": null,
            "grid_column": null,
            "overflow_y": null,
            "overflow_x": null,
            "grid_auto_flow": null,
            "grid_area": null,
            "grid_template_columns": null,
            "flex": null,
            "_model_name": "LayoutModel",
            "justify_items": null,
            "grid_row": null,
            "max_height": null,
            "align_content": null,
            "visibility": null,
            "align_self": null,
            "height": null,
            "min_height": null,
            "padding": null,
            "grid_auto_rows": null,
            "grid_gap": null,
            "max_width": null,
            "order": null,
            "_view_module_version": "1.2.0",
            "grid_template_areas": null,
            "object_position": null,
            "object_fit": null,
            "grid_auto_columns": null,
            "margin": null,
            "display": null,
            "left": null
          }
        },
        "23a97d7097ff477396821db9837ba5ed": {
          "model_module": "@jupyter-widgets/controls",
          "model_name": "FloatProgressModel",
          "state": {
            "_view_name": "ProgressView",
            "style": "IPY_MODEL_dd5d852e2cf3409a99766e6191b60bdc",
            "_dom_classes": [],
            "description": "100%",
            "_model_name": "FloatProgressModel",
            "bar_style": "success",
            "max": 9559019,
            "_view_module": "@jupyter-widgets/controls",
            "_model_module_version": "1.5.0",
            "value": 9559019,
            "_view_count": null,
            "_view_module_version": "1.5.0",
            "orientation": "horizontal",
            "min": 0,
            "description_tooltip": null,
            "_model_module": "@jupyter-widgets/controls",
            "layout": "IPY_MODEL_dc60ae28c2034be0986932e8abd597ce"
          }
        },
        "7c1c5b3be423494da3d9c68f75a2d1b0": {
          "model_module": "@jupyter-widgets/controls",
          "model_name": "HTMLModel",
          "state": {
            "_view_name": "HTMLView",
            "style": "IPY_MODEL_78a5a3486fa245958ee54460a3f11685",
            "_dom_classes": [],
            "description": "",
            "_model_name": "HTMLModel",
            "placeholder": "​",
            "_view_module": "@jupyter-widgets/controls",
            "_model_module_version": "1.5.0",
            "value": " 9559019/9559019 [00:24&lt;00:00, 393760.04it/s]",
            "_view_count": null,
            "_view_module_version": "1.5.0",
            "description_tooltip": null,
            "_model_module": "@jupyter-widgets/controls",
            "layout": "IPY_MODEL_a9e9f388bd714c3880e4d8e65576941a"
          }
        },
        "dd5d852e2cf3409a99766e6191b60bdc": {
          "model_module": "@jupyter-widgets/controls",
          "model_name": "ProgressStyleModel",
          "state": {
            "_view_name": "StyleView",
            "_model_name": "ProgressStyleModel",
            "description_width": "initial",
            "_view_module": "@jupyter-widgets/base",
            "_model_module_version": "1.5.0",
            "_view_count": null,
            "_view_module_version": "1.2.0",
            "bar_color": null,
            "_model_module": "@jupyter-widgets/controls"
          }
        },
        "dc60ae28c2034be0986932e8abd597ce": {
          "model_module": "@jupyter-widgets/base",
          "model_name": "LayoutModel",
          "state": {
            "_view_name": "LayoutView",
            "grid_template_rows": null,
            "right": null,
            "justify_content": null,
            "_view_module": "@jupyter-widgets/base",
            "overflow": null,
            "_model_module_version": "1.2.0",
            "_view_count": null,
            "flex_flow": null,
            "width": null,
            "min_width": null,
            "border": null,
            "align_items": null,
            "bottom": null,
            "_model_module": "@jupyter-widgets/base",
            "top": null,
            "grid_column": null,
            "overflow_y": null,
            "overflow_x": null,
            "grid_auto_flow": null,
            "grid_area": null,
            "grid_template_columns": null,
            "flex": null,
            "_model_name": "LayoutModel",
            "justify_items": null,
            "grid_row": null,
            "max_height": null,
            "align_content": null,
            "visibility": null,
            "align_self": null,
            "height": null,
            "min_height": null,
            "padding": null,
            "grid_auto_rows": null,
            "grid_gap": null,
            "max_width": null,
            "order": null,
            "_view_module_version": "1.2.0",
            "grid_template_areas": null,
            "object_position": null,
            "object_fit": null,
            "grid_auto_columns": null,
            "margin": null,
            "display": null,
            "left": null
          }
        },
        "78a5a3486fa245958ee54460a3f11685": {
          "model_module": "@jupyter-widgets/controls",
          "model_name": "DescriptionStyleModel",
          "state": {
            "_view_name": "StyleView",
            "_model_name": "DescriptionStyleModel",
            "description_width": "",
            "_view_module": "@jupyter-widgets/base",
            "_model_module_version": "1.5.0",
            "_view_count": null,
            "_view_module_version": "1.2.0",
            "_model_module": "@jupyter-widgets/controls"
          }
        },
        "a9e9f388bd714c3880e4d8e65576941a": {
          "model_module": "@jupyter-widgets/base",
          "model_name": "LayoutModel",
          "state": {
            "_view_name": "LayoutView",
            "grid_template_rows": null,
            "right": null,
            "justify_content": null,
            "_view_module": "@jupyter-widgets/base",
            "overflow": null,
            "_model_module_version": "1.2.0",
            "_view_count": null,
            "flex_flow": null,
            "width": null,
            "min_width": null,
            "border": null,
            "align_items": null,
            "bottom": null,
            "_model_module": "@jupyter-widgets/base",
            "top": null,
            "grid_column": null,
            "overflow_y": null,
            "overflow_x": null,
            "grid_auto_flow": null,
            "grid_area": null,
            "grid_template_columns": null,
            "flex": null,
            "_model_name": "LayoutModel",
            "justify_items": null,
            "grid_row": null,
            "max_height": null,
            "align_content": null,
            "visibility": null,
            "align_self": null,
            "height": null,
            "min_height": null,
            "padding": null,
            "grid_auto_rows": null,
            "grid_gap": null,
            "max_width": null,
            "order": null,
            "_view_module_version": "1.2.0",
            "grid_template_areas": null,
            "object_position": null,
            "object_fit": null,
            "grid_auto_columns": null,
            "margin": null,
            "display": null,
            "left": null
          }
        },
        "c4ee64328a8c4983b45ce0f44b74a2e0": {
          "model_module": "@jupyter-widgets/controls",
          "model_name": "HBoxModel",
          "state": {
            "_view_name": "HBoxView",
            "_dom_classes": [],
            "_model_name": "HBoxModel",
            "_view_module": "@jupyter-widgets/controls",
            "_model_module_version": "1.5.0",
            "_view_count": null,
            "_view_module_version": "1.5.0",
            "box_style": "",
            "layout": "IPY_MODEL_cb3b625b2450436992af4a62722ecf86",
            "_model_module": "@jupyter-widgets/controls",
            "children": [
              "IPY_MODEL_77a061bb41b24b289344b7942df3fc0a",
              "IPY_MODEL_15ebf07384fd4e59b313839b9378bf7e"
            ]
          }
        },
        "cb3b625b2450436992af4a62722ecf86": {
          "model_module": "@jupyter-widgets/base",
          "model_name": "LayoutModel",
          "state": {
            "_view_name": "LayoutView",
            "grid_template_rows": null,
            "right": null,
            "justify_content": null,
            "_view_module": "@jupyter-widgets/base",
            "overflow": null,
            "_model_module_version": "1.2.0",
            "_view_count": null,
            "flex_flow": null,
            "width": null,
            "min_width": null,
            "border": null,
            "align_items": null,
            "bottom": null,
            "_model_module": "@jupyter-widgets/base",
            "top": null,
            "grid_column": null,
            "overflow_y": null,
            "overflow_x": null,
            "grid_auto_flow": null,
            "grid_area": null,
            "grid_template_columns": null,
            "flex": null,
            "_model_name": "LayoutModel",
            "justify_items": null,
            "grid_row": null,
            "max_height": null,
            "align_content": null,
            "visibility": null,
            "align_self": null,
            "height": null,
            "min_height": null,
            "padding": null,
            "grid_auto_rows": null,
            "grid_gap": null,
            "max_width": null,
            "order": null,
            "_view_module_version": "1.2.0",
            "grid_template_areas": null,
            "object_position": null,
            "object_fit": null,
            "grid_auto_columns": null,
            "margin": null,
            "display": null,
            "left": null
          }
        },
        "77a061bb41b24b289344b7942df3fc0a": {
          "model_module": "@jupyter-widgets/controls",
          "model_name": "FloatProgressModel",
          "state": {
            "_view_name": "ProgressView",
            "style": "IPY_MODEL_9bf39503907749b8a67a4f930ae72257",
            "_dom_classes": [],
            "description": "100%",
            "_model_name": "FloatProgressModel",
            "bar_style": "success",
            "max": 245585,
            "_view_module": "@jupyter-widgets/controls",
            "_model_module_version": "1.5.0",
            "value": 245585,
            "_view_count": null,
            "_view_module_version": "1.5.0",
            "orientation": "horizontal",
            "min": 0,
            "description_tooltip": null,
            "_model_module": "@jupyter-widgets/controls",
            "layout": "IPY_MODEL_c210e9eeaa4141d787d0b5b952cd2361"
          }
        },
        "15ebf07384fd4e59b313839b9378bf7e": {
          "model_module": "@jupyter-widgets/controls",
          "model_name": "HTMLModel",
          "state": {
            "_view_name": "HTMLView",
            "style": "IPY_MODEL_707a971acd1847d8b26405190003c427",
            "_dom_classes": [],
            "description": "",
            "_model_name": "HTMLModel",
            "placeholder": "​",
            "_view_module": "@jupyter-widgets/controls",
            "_model_module_version": "1.5.0",
            "value": " 245585/245585 [00:03&lt;00:00, 66655.18it/s]",
            "_view_count": null,
            "_view_module_version": "1.5.0",
            "description_tooltip": null,
            "_model_module": "@jupyter-widgets/controls",
            "layout": "IPY_MODEL_ee3a88eda25d40119f82a9a8c4003a36"
          }
        },
        "9bf39503907749b8a67a4f930ae72257": {
          "model_module": "@jupyter-widgets/controls",
          "model_name": "ProgressStyleModel",
          "state": {
            "_view_name": "StyleView",
            "_model_name": "ProgressStyleModel",
            "description_width": "initial",
            "_view_module": "@jupyter-widgets/base",
            "_model_module_version": "1.5.0",
            "_view_count": null,
            "_view_module_version": "1.2.0",
            "bar_color": null,
            "_model_module": "@jupyter-widgets/controls"
          }
        },
        "c210e9eeaa4141d787d0b5b952cd2361": {
          "model_module": "@jupyter-widgets/base",
          "model_name": "LayoutModel",
          "state": {
            "_view_name": "LayoutView",
            "grid_template_rows": null,
            "right": null,
            "justify_content": null,
            "_view_module": "@jupyter-widgets/base",
            "overflow": null,
            "_model_module_version": "1.2.0",
            "_view_count": null,
            "flex_flow": null,
            "width": null,
            "min_width": null,
            "border": null,
            "align_items": null,
            "bottom": null,
            "_model_module": "@jupyter-widgets/base",
            "top": null,
            "grid_column": null,
            "overflow_y": null,
            "overflow_x": null,
            "grid_auto_flow": null,
            "grid_area": null,
            "grid_template_columns": null,
            "flex": null,
            "_model_name": "LayoutModel",
            "justify_items": null,
            "grid_row": null,
            "max_height": null,
            "align_content": null,
            "visibility": null,
            "align_self": null,
            "height": null,
            "min_height": null,
            "padding": null,
            "grid_auto_rows": null,
            "grid_gap": null,
            "max_width": null,
            "order": null,
            "_view_module_version": "1.2.0",
            "grid_template_areas": null,
            "object_position": null,
            "object_fit": null,
            "grid_auto_columns": null,
            "margin": null,
            "display": null,
            "left": null
          }
        },
        "707a971acd1847d8b26405190003c427": {
          "model_module": "@jupyter-widgets/controls",
          "model_name": "DescriptionStyleModel",
          "state": {
            "_view_name": "StyleView",
            "_model_name": "DescriptionStyleModel",
            "description_width": "",
            "_view_module": "@jupyter-widgets/base",
            "_model_module_version": "1.5.0",
            "_view_count": null,
            "_view_module_version": "1.2.0",
            "_model_module": "@jupyter-widgets/controls"
          }
        },
        "ee3a88eda25d40119f82a9a8c4003a36": {
          "model_module": "@jupyter-widgets/base",
          "model_name": "LayoutModel",
          "state": {
            "_view_name": "LayoutView",
            "grid_template_rows": null,
            "right": null,
            "justify_content": null,
            "_view_module": "@jupyter-widgets/base",
            "overflow": null,
            "_model_module_version": "1.2.0",
            "_view_count": null,
            "flex_flow": null,
            "width": null,
            "min_width": null,
            "border": null,
            "align_items": null,
            "bottom": null,
            "_model_module": "@jupyter-widgets/base",
            "top": null,
            "grid_column": null,
            "overflow_y": null,
            "overflow_x": null,
            "grid_auto_flow": null,
            "grid_area": null,
            "grid_template_columns": null,
            "flex": null,
            "_model_name": "LayoutModel",
            "justify_items": null,
            "grid_row": null,
            "max_height": null,
            "align_content": null,
            "visibility": null,
            "align_self": null,
            "height": null,
            "min_height": null,
            "padding": null,
            "grid_auto_rows": null,
            "grid_gap": null,
            "max_width": null,
            "order": null,
            "_view_module_version": "1.2.0",
            "grid_template_areas": null,
            "object_position": null,
            "object_fit": null,
            "grid_auto_columns": null,
            "margin": null,
            "display": null,
            "left": null
          }
        }
      }
    }
  },
  "cells": [
    {
      "cell_type": "markdown",
      "metadata": {
        "id": "8rvFMzuWXgv1"
      },
      "source": [
        "# \"LightGBM on GPU with Feature Engineering, Optuna, and , Visualization\"\r\n",
        "1. Author: [@Satoru Shibata/柴田 怜](https://www.kaggle.com/satorushibata)\r\n",
        "1. The original author: [@tito](https://www.kaggle.com/its7171)\r\n",
        "  - I forked and edited [whose Notebook](https://www.kaggle.com/its7171/lgbm-with-loop-feature-engineering).\r\n",
        "1. See [my Kernel Notebook: \"LightGBM with the Inference & Empirical analysis\"](https://www.kaggle.com/satorushibata/lightgbm-with-the-inference-empirical-analysis) on prediction and submission."
      ]
    },
    {
      "cell_type": "markdown",
      "metadata": {
        "id": "QQNwsyRnSvk3"
      },
      "source": [
        "# Abstract:\r\n",
        "1. [Riiid! Answer Correctness Prediction](https://www.kaggle.com/c/riiid-test-answer-prediction/overview)\r\n",
        "1. This is a Code Competition\r\n",
        "1. So, make the best model here and submit [this Kernel](https://www.kaggle.com/satorushibata/lgbm-with-loop-feature-engineering-optuna-plot)\r\n",
        "1. I thank the original author, [@tito](https://www.kaggle.com/its7171)."
      ]
    },
    {
      "cell_type": "markdown",
      "metadata": {
        "id": "7LU0pmEiHHAv"
      },
      "source": [
        "# Use Google Colaboratory(GPU & 20GB) with Kaggle API:"
      ]
    },
    {
      "cell_type": "code",
      "metadata": {
        "id": "2z6vg98CDWFG"
      },
      "source": [
        "import warnings\r\n",
        "warnings.simplefilter('ignore')"
      ],
      "execution_count": 1,
      "outputs": []
    },
    {
      "cell_type": "code",
      "metadata": {
        "id": "DFuLrKTfRw2B",
        "colab": {
          "base_uri": "https://localhost:8080/"
        },
        "outputId": "a6db283b-da4e-4880-d991-ad085c17ae12"
      },
      "source": [
        "from google.colab import drive\r\n",
        "drive.mount('/content/drive', force_remount = True)"
      ],
      "execution_count": 2,
      "outputs": [
        {
          "output_type": "stream",
          "text": [
            "Mounted at /content/drive\n"
          ],
          "name": "stdout"
        }
      ]
    },
    {
      "cell_type": "code",
      "metadata": {
        "id": "UHUwcrBUR0e6"
      },
      "source": [
        "import os\r\n",
        "os.chdir('/content/drive/MyDrive')"
      ],
      "execution_count": 3,
      "outputs": []
    },
    {
      "cell_type": "code",
      "metadata": {
        "id": "co5yYxUmHzQg",
        "colab": {
          "base_uri": "https://localhost:8080/"
        },
        "outputId": "93f62636-614c-4c15-ce53-ad778db73cf8"
      },
      "source": [
        "!pip install -q kaggle --upgrade\r\n",
        "!mkdir -p ~/.kaggle\r\n",
        "!cp kaggle.json ~/.kaggle/\r\n",
        "!ls ~/.kaggle\r\n",
        "# I need to set permissions\r\n",
        "!chmod 600 ~/.kaggle/kaggle.json\r\n",
        "# Find the competition name.\r\n",
        "!kaggle competitions list"
      ],
      "execution_count": 4,
      "outputs": [
        {
          "output_type": "stream",
          "text": [
            "kaggle.json\n",
            "Warning: Looks like you're using an outdated API Version, please consider updating (server 1.5.10 / client 1.5.4)\n",
            "ref                                            deadline             category            reward  teamCount  userHasEntered  \n",
            "---------------------------------------------  -------------------  ---------------  ---------  ---------  --------------  \n",
            "contradictory-my-dear-watson                   2030-07-01 23:59:00  Getting Started     Prizes         87            True  \n",
            "gan-getting-started                            2030-07-01 23:59:00  Getting Started     Prizes        184           False  \n",
            "tpu-getting-started                            2030-06-03 23:59:00  Getting Started  Knowledge        283           False  \n",
            "digit-recognizer                               2030-01-01 00:00:00  Getting Started  Knowledge       2202            True  \n",
            "titanic                                        2030-01-01 00:00:00  Getting Started  Knowledge      17402            True  \n",
            "house-prices-advanced-regression-techniques    2030-01-01 00:00:00  Getting Started  Knowledge       4643            True  \n",
            "connectx                                       2030-01-01 00:00:00  Getting Started  Knowledge        378           False  \n",
            "nlp-getting-started                            2030-01-01 00:00:00  Getting Started  Knowledge       1246           False  \n",
            "competitive-data-science-predict-future-sales  2022-12-31 23:59:00  Playground           Kudos       9939           False  \n",
            "ranzcr-clip-catheter-line-classification       2021-03-15 23:59:00  Featured           $50,000        210            True  \n",
            "jane-street-market-prediction                  2021-02-22 23:59:00  Featured          $100,000       1497            True  \n",
            "cassava-leaf-disease-classification            2021-02-18 23:59:00  Research           $18,000       1724            True  \n",
            "rfcx-species-audio-detection                   2021-02-17 23:59:00  Research           $15,000        550            True  \n",
            "acea-water-prediction                          2021-02-17 23:59:00  Analytics          $25,000          0            True  \n",
            "rock-paper-scissors                            2021-02-01 23:59:00  Playground          Prizes       1198            True  \n",
            "hubmap-kidney-segmentation                     2021-02-01 23:59:00  Research           $60,000        613            True  \n",
            "santa-2020                                     2021-02-01 23:59:00  Featured            Prizes        502            True  \n",
            "riiid-test-answer-prediction                   2021-01-07 23:59:00  Featured          $100,000       2995            True  \n",
            "predict-volcanic-eruptions-ingv-oe             2021-01-06 23:59:00  Playground            Swag        511           False  \n",
            "kaggle-survey-2020                             2021-01-06 23:59:00  Analytics          $30,000          0            True  \n"
          ],
          "name": "stdout"
        }
      ]
    },
    {
      "cell_type": "markdown",
      "metadata": {
        "id": "xqO3-kcQ1Ow6"
      },
      "source": [
        "# Maximize the memory of Python3:"
      ]
    },
    {
      "cell_type": "code",
      "metadata": {
        "colab": {
          "base_uri": "https://localhost:8080/",
          "height": 35
        },
        "id": "7WewVUnyXcVR",
        "outputId": "94542514-6cd1-4294-fb69-e37b48dcdaa0"
      },
      "source": [
        "\"\"\"\r\n",
        "!ln -sf /opt/bin/nvidia-smi /usr/bin/nvidia-smi\r\n",
        "!pip install gputil\r\n",
        "!pip install psutil\r\n",
        "!pip install humanize\r\n",
        "\"\"\""
      ],
      "execution_count": 5,
      "outputs": [
        {
          "output_type": "execute_result",
          "data": {
            "application/vnd.google.colaboratory.intrinsic+json": {
              "type": "string"
            },
            "text/plain": [
              "'\\n!ln -sf /opt/bin/nvidia-smi /usr/bin/nvidia-smi\\n!pip install gputil\\n!pip install psutil\\n!pip install humanize\\n'"
            ]
          },
          "metadata": {
            "tags": []
          },
          "execution_count": 5
        }
      ]
    },
    {
      "cell_type": "code",
      "metadata": {
        "id": "ZuvUlUxAJ77G",
        "colab": {
          "base_uri": "https://localhost:8080/"
        },
        "outputId": "fd67c573-0a18-4934-b29c-9c24c777b400"
      },
      "source": [
        "import psutil\r\n",
        "import humanize\r\n",
        "# import os\r\n",
        "import GPUtil as GPU\r\n",
        "GPUs = GPU.getGPUs()\r\n",
        "# XXX: only one GPU on Colab and isn’t guaranteed\r\n",
        "gpu = GPUs[0]\r\n",
        "def printm():\r\n",
        "  process = psutil.Process(os.getpid())\r\n",
        "  print(\"Gen RAM Free: \" + humanize.naturalsize( psutil.virtual_memory().available ), \" | Proc size: \" + humanize.naturalsize( process.memory_info().rss))\r\n",
        "  print(\"GPU RAM Free: {0:.0f}MB | Used: {1:.0f}MB | Util {2:3.0f}% | Total {3:.0f}MB\".format(gpu.memoryFree, gpu.memoryUsed, gpu.memoryUtil*100, gpu.memoryTotal))\r\n",
        "printm()"
      ],
      "execution_count": 6,
      "outputs": [
        {
          "output_type": "stream",
          "text": [
            "Gen RAM Free: 12.7 GB  | Proc size: 113.0 MB\n",
            "GPU RAM Free: 15079MB | Used: 0MB | Util   0% | Total 15079MB\n"
          ],
          "name": "stdout"
        }
      ]
    },
    {
      "cell_type": "markdown",
      "metadata": {
        "id": "2-JtOUGS8FUd"
      },
      "source": [
        "# Prepare the prerequisites:\r\n",
        "## Work only for the first time.\r\n",
        "- [Setting LightGBM with GPU on Google Colabratory](https://stackoverflow.com/questions/58707252/get-lightgbm-lgbm-run-with-gpu-on-google-colabratory)\r\n",
        "- [Install LightGBM(BUILD GPU VERSION)](https://pypi.org/project/lightgbm/)"
      ]
    },
    {
      "cell_type": "code",
      "metadata": {
        "id": "cCJQseBD7YMM",
        "colab": {
          "base_uri": "https://localhost:8080/",
          "height": 70
        },
        "outputId": "2b3f5fe8-d3ef-476f-f85d-7a8073e5d00e"
      },
      "source": [
        "\"\"\"\r\n",
        "!pip install gc\r\n",
        "!pip install sklearn\r\n",
        "!pip install collections\r\n",
        "!pip install tqdm\r\n",
        "!pip install optuna\r\n",
        "!pip install matplotlib\r\n",
        "# To use GPU on LightGBM\r\n",
        "!pip install lightgbm --install-option=--gpu\r\n",
        "!git clone --recursive https://github.com/Microsoft/LightGBM\r\n",
        "!cd LightGBM && rm -rf build && mkdir build && cd build && cmake -DUSE_GPU=1 ../../LightGBM && make -j4 && cd ../python-package && python3 setup.py install --precompile --gpu;\r\n",
        "\"\"\""
      ],
      "execution_count": 7,
      "outputs": [
        {
          "output_type": "execute_result",
          "data": {
            "application/vnd.google.colaboratory.intrinsic+json": {
              "type": "string"
            },
            "text/plain": [
              "'\\n!pip install gc\\n!pip install sklearn\\n!pip install collections\\n!pip install tqdm\\n!pip install optuna\\n!pip install matplotlib\\n# To use GPU on LightGBM\\n!pip install lightgbm --install-option=--gpu\\n!git clone --recursive https://github.com/Microsoft/LightGBM\\n!cd LightGBM && rm -rf build && mkdir build && cd build && cmake -DUSE_GPU=1 ../../LightGBM && make -j4 && cd ../python-package && python3 setup.py install --precompile --gpu;\\n'"
            ]
          },
          "metadata": {
            "tags": []
          },
          "execution_count": 7
        }
      ]
    },
    {
      "cell_type": "markdown",
      "metadata": {
        "id": "zXmCDREOsPIm"
      },
      "source": [
        "# Prepare to apply GPU to LightGBM:\r\n",
        "- [GoogleColabratory + GradientBoosting + GPU](https://qiita.com/wakame1367/items/bcf8b760260329fb7136)"
      ]
    },
    {
      "cell_type": "code",
      "metadata": {
        "id": "32eLEt2rpB8-",
        "colab": {
          "base_uri": "https://localhost:8080/",
          "height": 70
        },
        "outputId": "8b11e0b7-39de-4fc4-ff20-45e7e621cf26"
      },
      "source": [
        "\"\"\"\r\n",
        "!git clone --recursive https://github.com/Microsoft/LightGBM\r\n",
        "%cd /content/LightGBM/\r\n",
        "!mkdir build\r\n",
        "!cmake -DUSE_GPU=1 #avoid ..\r\n",
        "!make -j$(nproc)\r\n",
        "!sudo apt-get -y install python-pip\r\n",
        "!sudo -H pip install setuptools pandas numpy scipy scikit-learn -U\r\n",
        "%cd /content/LightGBM/python-package\r\n",
        "!sudo python setup.py install --precompile\r\n",
        "\"\"\""
      ],
      "execution_count": 8,
      "outputs": [
        {
          "output_type": "execute_result",
          "data": {
            "application/vnd.google.colaboratory.intrinsic+json": {
              "type": "string"
            },
            "text/plain": [
              "'\\n!git clone --recursive https://github.com/Microsoft/LightGBM\\n%cd /content/LightGBM/\\n!mkdir build\\n!cmake -DUSE_GPU=1 #avoid ..\\n!make -j$(nproc)\\n!sudo apt-get -y install python-pip\\n!sudo -H pip install setuptools pandas numpy scipy scikit-learn -U\\n%cd /content/LightGBM/python-package\\n!sudo python setup.py install --precompile\\n'"
            ]
          },
          "metadata": {
            "tags": []
          },
          "execution_count": 8
        }
      ]
    },
    {
      "cell_type": "markdown",
      "metadata": {
        "id": "gx76R4aN1gsz"
      },
      "source": [
        "# Run the Notebook referring to Kernel of Kaggle:\r\n",
        "1. I created this file based on [this notebook](https://www.kaggle.com/its7171/lgbm-with-loop-feature-engineering);\r\n",
        "1. And I am grateful for [the author, @tito](https://www.kaggle.com/its7171)."
      ]
    },
    {
      "cell_type": "code",
      "metadata": {
        "id": "OIm_6j6r0R27"
      },
      "source": [
        "import pandas as pd\n",
        "import numpy as np\n",
        "import gc\n",
        "from sklearn.metrics import roc_auc_score\n",
        "from collections import defaultdict\n",
        "from tqdm.notebook import tqdm\n",
        "# Automate hyperparameter tuning for LightGBM\n",
        "## !pip install optuna\n",
        "import optuna\n",
        "from optuna.samplers import TPESampler\n",
        "import lightgbm as lgb\n",
        "from multiprocessing import cpu_count\n",
        "from optuna.visualization import plot_optimization_history\n",
        "from optuna.visualization import plot_intermediate_values\n",
        "# Plot\n",
        "import matplotlib.pyplot as plt\n",
        "from sklearn.metrics import roc_curve, auc\n",
        "# Save\n",
        "import pickle\n",
        "# Random seed\n",
        "import random"
      ],
      "execution_count": 9,
      "outputs": []
    },
    {
      "cell_type": "code",
      "metadata": {
        "id": "Wv2OIYEDs0qN",
        "colab": {
          "base_uri": "https://localhost:8080/"
        },
        "outputId": "e7ac8b7b-9f0e-443b-8c2e-5fc1d93cfd7c"
      },
      "source": [
        "# Make sure this notebook has completed to import LightGBM\r\n",
        "print('Success:')\r\n",
        "print('LightGBM version:', lgb.__version__)"
      ],
      "execution_count": 10,
      "outputs": [
        {
          "output_type": "stream",
          "text": [
            "Success:\n",
            "LightGBM version: 3.1.1.99\n"
          ],
          "name": "stdout"
        }
      ]
    },
    {
      "cell_type": "markdown",
      "metadata": {
        "id": "LPuOeCGA3uYu"
      },
      "source": [
        "# Initial conditions for LightGBM:"
      ]
    },
    {
      "cell_type": "code",
      "metadata": {
        "id": "_wrY9ab83vSM"
      },
      "source": [
        "# Optuna\r\n",
        "n_trials = int(100)\r\n",
        "# Random seed\r\n",
        "SEED = 123\r\n",
        "sampler = TPESampler(seed=int(SEED))\r\n",
        "# LightGBM\r\n",
        "num_boost_round = int(300)\r\n",
        "verbose_eval = int(30)"
      ],
      "execution_count": 11,
      "outputs": []
    },
    {
      "cell_type": "markdown",
      "metadata": {
        "id": "IlYjzFRG8bPX"
      },
      "source": [
        "# Boundary condition:"
      ]
    },
    {
      "cell_type": "code",
      "metadata": {
        "id": "KHjpxH218NsS"
      },
      "source": [
        "debug = False          # It were True, I have confirmed that AUC of validation is reduced.\r\n",
        "validaten_flg = False"
      ],
      "execution_count": 12,
      "outputs": []
    },
    {
      "cell_type": "markdown",
      "metadata": {
        "id": "AhDIXtV3D64F"
      },
      "source": [
        "# Random seed\r\n",
        "- [Riiid model LGBM](https://www.kaggle.com/ragnar123/riiid-model-lgbm)\r\n",
        "- [Optunaのシード固定](https://qiita.com/si1242/items/d2f9195c08826d87d6ad#optuna%E3%81%AE%E3%82%B7%E3%83%BC%E3%83%89%E5%9B%BA%E5%AE%9A)\r\n",
        "- [optuna.samplers.TPESampler](https://optuna.readthedocs.io/en/stable/reference/generated/optuna.samplers.TPESampler.html)"
      ]
    },
    {
      "cell_type": "code",
      "metadata": {
        "id": "uWzq1iamD7ul"
      },
      "source": [
        "# Function to seed everything\r\n",
        "def seed_everything(seed):\r\n",
        "    random.seed(seed)\r\n",
        "    np.random.seed(seed)\r\n",
        "    os.environ['PYTHONHASHSEED'] = str(seed)  \r\n",
        "seed_everything(SEED)"
      ],
      "execution_count": 13,
      "outputs": []
    },
    {
      "cell_type": "markdown",
      "metadata": {
        "id": "vIorOhUZ0R28"
      },
      "source": [
        "## Setting:\n",
        "CV files are generated by [this notebook](https://www.kaggle.com/its7171/cv-strategy)"
      ]
    },
    {
      "cell_type": "code",
      "metadata": {
        "id": "RcWCTPjt0R29"
      },
      "source": [
        "train_pickle = 'cv1_train.pickle'\n",
        "valid_pickle = 'cv1_valid.pickle'\n",
        "question_file = 'questions.csv'"
      ],
      "execution_count": 14,
      "outputs": []
    },
    {
      "cell_type": "markdown",
      "metadata": {
        "id": "bek7tUca0R29"
      },
      "source": [
        "## Feature Engineering:"
      ]
    },
    {
      "cell_type": "code",
      "metadata": {
        "id": "gmKTQYFD0R29"
      },
      "source": [
        "# funcs for user stats with loop\n",
        "def add_user_feats(df, answered_correctly_sum_u_dict, count_u_dict):\n",
        "    acsu = np.zeros(len(df), dtype=np.int32)\n",
        "    cu = np.zeros(len(df), dtype=np.int32)\n",
        "    for cnt,row in enumerate(tqdm(df[['user_id','answered_correctly']].values)):\n",
        "        acsu[cnt] = answered_correctly_sum_u_dict[row[0]]\n",
        "        cu[cnt] = count_u_dict[row[0]]\n",
        "        answered_correctly_sum_u_dict[row[0]] += row[1]\n",
        "        count_u_dict[row[0]] += 1\n",
        "    user_feats_df = pd.DataFrame({'answered_correctly_sum_u':acsu, 'count_u':cu})\n",
        "    user_feats_df['answered_correctly_avg_u'] = user_feats_df['answered_correctly_sum_u'] / user_feats_df['count_u']\n",
        "    df = pd.concat([df, user_feats_df], axis=1)\n",
        "    return df\n",
        "\n",
        "def add_user_feats_without_update(df, answered_correctly_sum_u_dict, count_u_dict):\n",
        "    acsu = np.zeros(len(df), dtype=np.int32)\n",
        "    cu = np.zeros(len(df), dtype=np.int32)\n",
        "    for cnt,row in enumerate(df[['user_id']].values):\n",
        "        acsu[cnt] = answered_correctly_sum_u_dict[row[0]]\n",
        "        cu[cnt] = count_u_dict[row[0]]\n",
        "    user_feats_df = pd.DataFrame({'answered_correctly_sum_u':acsu, 'count_u':cu})\n",
        "    user_feats_df['answered_correctly_avg_u'] = user_feats_df['answered_correctly_sum_u'] / user_feats_df['count_u']\n",
        "    df = pd.concat([df, user_feats_df], axis=1)\n",
        "    return df\n",
        "\n",
        "def update_user_feats(df, answered_correctly_sum_u_dict, count_u_dict):\n",
        "    for row in df[['user_id','answered_correctly','content_type_id']].values:\n",
        "        if row[2] == 0:\n",
        "            answered_correctly_sum_u_dict[row[0]] += row[1]\n",
        "            count_u_dict[row[0]] += 1"
      ],
      "execution_count": 15,
      "outputs": []
    },
    {
      "cell_type": "code",
      "metadata": {
        "id": "tQgPvVYF0R29",
        "colab": {
          "base_uri": "https://localhost:8080/",
          "height": 116,
          "referenced_widgets": [
            "61cdd5aa1fc54f9ca6f96595a1e1c632",
            "b1b1e2f3ff094d14a54f152bc67651f3",
            "23a97d7097ff477396821db9837ba5ed",
            "7c1c5b3be423494da3d9c68f75a2d1b0",
            "dd5d852e2cf3409a99766e6191b60bdc",
            "dc60ae28c2034be0986932e8abd597ce",
            "78a5a3486fa245958ee54460a3f11685",
            "a9e9f388bd714c3880e4d8e65576941a",
            "c4ee64328a8c4983b45ce0f44b74a2e0",
            "cb3b625b2450436992af4a62722ecf86",
            "77a061bb41b24b289344b7942df3fc0a",
            "15ebf07384fd4e59b313839b9378bf7e",
            "9bf39503907749b8a67a4f930ae72257",
            "c210e9eeaa4141d787d0b5b952cd2361",
            "707a971acd1847d8b26405190003c427",
            "ee3a88eda25d40119f82a9a8c4003a36"
          ]
        },
        "outputId": "ea015b29-87ea-43b1-fcf1-84ad539720e3"
      },
      "source": [
        "# read data\n",
        "feld_needed = ['row_id', 'user_id', 'content_id', 'content_type_id', 'answered_correctly', 'prior_question_elapsed_time', 'prior_question_had_explanation']\n",
        "train = pd.read_pickle(train_pickle)[feld_needed]\n",
        "valid = pd.read_pickle(valid_pickle)[feld_needed]\n",
        "if debug:\n",
        "    train = train[:1000000]\n",
        "    valid = valid[:10000]\n",
        "train = train.loc[train.content_type_id == False].reset_index(drop=True)\n",
        "valid = valid.loc[valid.content_type_id == False].reset_index(drop=True)\n",
        "\n",
        "# answered correctly average for each content\n",
        "content_df = train[['content_id','answered_correctly']].groupby(['content_id']).agg(['mean']).reset_index()\n",
        "content_df.columns = ['content_id', 'answered_correctly_avg_c']\n",
        "train = pd.merge(train, content_df, on=['content_id'], how=\"left\")\n",
        "valid = pd.merge(valid, content_df, on=['content_id'], how=\"left\")\n",
        "\n",
        "# user stats features with loops\n",
        "answered_correctly_sum_u_dict = defaultdict(int)\n",
        "count_u_dict = defaultdict(int)\n",
        "train = add_user_feats(train, answered_correctly_sum_u_dict, count_u_dict)\n",
        "valid = add_user_feats(valid, answered_correctly_sum_u_dict, count_u_dict)\n",
        "\n",
        "# fill with mean value for prior_question_elapsed_time\n",
        "# note that `train.prior_question_elapsed_time.mean()` dose not work!\n",
        "# please refer https://www.kaggle.com/its7171/can-we-trust-pandas-mean for detail.\n",
        "prior_question_elapsed_time_mean = train.prior_question_elapsed_time.dropna().values.mean()\n",
        "train['prior_question_elapsed_time_mean'] = train.prior_question_elapsed_time.fillna(prior_question_elapsed_time_mean)\n",
        "valid['prior_question_elapsed_time_mean'] = valid.prior_question_elapsed_time.fillna(prior_question_elapsed_time_mean)\n",
        "\n",
        "# use only last 30M training data for limited memory on kaggle env.\n",
        "#train = train[-30000000:]\n",
        "\n",
        "# part\n",
        "questions_df = pd.read_csv(question_file)\n",
        "train = pd.merge(train, questions_df[['question_id', 'part']], left_on = 'content_id', right_on = 'question_id', how = 'left')\n",
        "valid = pd.merge(valid, questions_df[['question_id', 'part']], left_on = 'content_id', right_on = 'question_id', how = 'left')\n",
        "\n",
        "# changing dtype to avoid lightgbm error\n",
        "train['prior_question_had_explanation'] = train.prior_question_had_explanation.fillna(False).astype('int8')\n",
        "valid['prior_question_had_explanation'] = valid.prior_question_had_explanation.fillna(False).astype('int8')"
      ],
      "execution_count": 16,
      "outputs": [
        {
          "output_type": "display_data",
          "data": {
            "application/vnd.jupyter.widget-view+json": {
              "model_id": "61cdd5aa1fc54f9ca6f96595a1e1c632",
              "version_minor": 0,
              "version_major": 2
            },
            "text/plain": [
              "HBox(children=(FloatProgress(value=0.0, max=9559019.0), HTML(value='')))"
            ]
          },
          "metadata": {
            "tags": []
          }
        },
        {
          "output_type": "stream",
          "text": [
            "\n"
          ],
          "name": "stdout"
        },
        {
          "output_type": "display_data",
          "data": {
            "application/vnd.jupyter.widget-view+json": {
              "model_id": "c4ee64328a8c4983b45ce0f44b74a2e0",
              "version_minor": 0,
              "version_major": 2
            },
            "text/plain": [
              "HBox(children=(FloatProgress(value=0.0, max=245585.0), HTML(value='')))"
            ]
          },
          "metadata": {
            "tags": []
          }
        },
        {
          "output_type": "stream",
          "text": [
            "\n"
          ],
          "name": "stdout"
        }
      ]
    },
    {
      "cell_type": "code",
      "metadata": {
        "id": "3M-nst9qFWG6"
      },
      "source": [
        "TARGET = 'answered_correctly'\r\n",
        "FEATS = ['answered_correctly_avg_u', 'answered_correctly_sum_u', 'count_u', 'answered_correctly_avg_c', 'part', 'prior_question_had_explanation', 'prior_question_elapsed_time']\r\n",
        "dro_cols = list(set(train.columns) - set(FEATS))\r\n",
        "y_tr = train[TARGET]\r\n",
        "y_va = valid[TARGET]\r\n",
        "# For Optuna\r\n",
        "y_train = np.array(train[TARGET])\r\n",
        "X_train = np.array(train[FEATS])\r\n",
        "# For the memory\r\n",
        "train.drop(dro_cols, axis=1, inplace=True)\r\n",
        "valid.drop(dro_cols, axis=1, inplace=True)\r\n",
        "_=gc.collect()"
      ],
      "execution_count": 17,
      "outputs": []
    },
    {
      "cell_type": "code",
      "metadata": {
        "id": "NrCzHVbJFV_l"
      },
      "source": [
        "lgb_train = lgb.Dataset(train[FEATS], y_tr)\r\n",
        "lgb_valid = lgb.Dataset(valid[FEATS], y_va, reference = lgb_train)\r\n",
        "del train, y_tr\r\n",
        "_=gc.collect()"
      ],
      "execution_count": 18,
      "outputs": []
    },
    {
      "cell_type": "markdown",
      "metadata": {
        "id": "h2Z6JlaOBjxR"
      },
      "source": [
        "# Tuning with Optuna:\r\n",
        "- [Optuna/README.md](https://github.com/optuna/optuna/blob/master/README.md)\r\n",
        "- [GPU acceleration for LightGBM](https://www.kaggle.com/vinhnguyen/gpu-acceleration-for-lightgbm/)\r\n",
        "- [verbose_eval](https://lightgbm.readthedocs.io/en/latest/pythonapi/lightgbm.train.html)\r\n",
        "- [Potting on LightGBM](https://lightgbm.readthedocs.io/en/latest/pythonapi/lightgbm.plot_importance.html)\r\n",
        "- [lgb.plot_split_value_histogram](https://www.kaggle.com/madiyar/ieee-fraud-lightgbm-split-value-histogram)\r\n",
        "- [lgb.plot_metric](https://www.kaggle.com/tobikaggle/humble-lightgbm-starter-with-learning-curve)\r\n",
        "- [lgb.plot_tree](https://www.kaggle.com/maria591/lightgbm)\r\n",
        "- [lgb.create_tree_digraph](https://www.programmersought.com/article/794564372/)\r\n",
        "- [roc_auc_score](https://scikit-learn.org/stable/modules/generated/sklearn.metrics.roc_auc_score.html)\r\n",
        "- [evals_result](https://hk29.hatenablog.jp/entry/2019/12/31/172437)\r\n",
        "- [Debug](https://www.kaggle.com/c/santander-customer-transaction-prediction/discussion/88681)\r\n",
        "- [Bootstrap sampling](https://ogrisel.github.io/scikit-learn.org/sklearn-tutorial/modules/generated/sklearn.utils.resample.html)\r\n",
        "- [LightGBMとOptunaを導入・動かしてみる](https://kiseno-log.com/2019/11/05/lightgbm%E3%81%A8optuna%E3%82%92%E5%B0%8E%E5%85%A5%E3%83%BB%E5%8B%95%E3%81%8B%E3%81%97%E3%81%A6%E3%81%BF%E3%82%8B/)\r\n",
        "- [lightgbm.LGBMClassifier](https://lightgbm.readthedocs.io/en/latest/pythonapi/lightgbm.LGBMClassifier.html)"
      ]
    },
    {
      "cell_type": "code",
      "metadata": {
        "id": "9BznAgFcBuN9"
      },
      "source": [
        "# Objective function\r\n",
        "def objective(trial):\r\n",
        "    learning_rate = trial.suggest_loguniform('learning_rate', 0.1,0.2),\r\n",
        "    n_estimators, = trial.suggest_int('n_estimators', 20, 200),\r\n",
        "    max_depth, = trial.suggest_int('max_depth', 3, 9),\r\n",
        "    min_child_weight = trial.suggest_loguniform('min_child_weight', 0.5, 2),\r\n",
        "    min_child_samples, = trial.suggest_int('min_child_samples', 5, 20),\r\n",
        "    classifier = lgb.LGBMClassifier(learning_rate=learning_rate, \r\n",
        "                                    n_estimators=n_estimators,\r\n",
        "                                    max_depth=max_depth, \r\n",
        "                                    min_child_weight=min_child_weight,\r\n",
        "                                    min_child_samples=min_child_samples,\r\n",
        "                                    subsample=0.8, colsample_bytree=0.8,\r\n",
        "                                    verbose=-1, num_leaves=80)\r\n",
        "    classifier.fit(X_train, y_train)\r\n",
        "    # Return classifier.score(X_train, y_train) # Optimization of correct answer rate\r\n",
        "    return np.linalg.norm(y_train - classifier.predict_proba(X_train)[:, 1], ord=1) # Likelihood optimization"
      ],
      "execution_count": 19,
      "outputs": []
    },
    {
      "cell_type": "markdown",
      "metadata": {
        "id": "bBrjJ3LNCG1d"
      },
      "source": [
        "## Run Optuna:\r\n",
        "- [optuna.study](https://optuna.readthedocs.io/en/stable/reference/study.html)\r\n",
        "- [最適なパラメータを効率的に探索しちゃおっちゅうな(Optuna)](https://qiita.com/maskot1977/items/ed698a67b091b5516ab4#lightgbm--optuna)\r\n",
        "- [プロセッサのコアの数を確認する](https://support.microsoft.com/ja-jp/windows/%E3%83%97%E3%83%AD%E3%82%BB%E3%83%83%E3%82%B5%E3%81%AE%E3%82%B3%E3%82%A2%E3%81%AE%E6%95%B0%E3%82%92%E7%A2%BA%E8%AA%8D%E3%81%99%E3%82%8B-3126ef99-0247-33b3-81fc-065e9fb0c35b)\r\n",
        "- [Optunaでrandomのseedを固定する方法](https://qiita.com/phorizon20/items/1b795beb202c2dc378ed)\r\n",
        "- [【機械学習実践】Optunaでパラメータチューニング【Python】](https://rin-effort.com/2019/12/30/machine-learning-7/)\r\n",
        "- [n_jobs](https://blog.amedama.jp/entry/2018/12/06/015217)"
      ]
    },
    {
      "cell_type": "code",
      "metadata": {
        "colab": {
          "base_uri": "https://localhost:8080/"
        },
        "id": "bGgtGtT7CMPj",
        "outputId": "6b2bf4db-7784-43bc-ce34-9b0e46dbf1b8"
      },
      "source": [
        "# Optimize hyperparameters.\r\n",
        "study = optuna.create_study(direction = 'maximize', sampler = sampler)\r\n",
        "study.optimize(objective, n_trials = n_trials, n_jobs = cpu_count())"
      ],
      "execution_count": 20,
      "outputs": [
        {
          "output_type": "stream",
          "text": [
            "\u001b[32m[I 2020-12-23 02:16:54,436]\u001b[0m A new study created in memory with name: no-name-9d433a02-978c-45c4-a99d-5e84ee1dd674\u001b[0m\n",
            "\u001b[32m[I 2020-12-23 02:19:29,109]\u001b[0m Trial 0 finished with value: 3540496.90799316 and parameters: {'learning_rate': 0.1368405312761942, 'n_estimators': 49, 'max_depth': 9, 'min_child_weight': 0.8126802328617594, 'min_child_samples': 8}. Best is trial 0 with value: 3540496.90799316.\u001b[0m\n",
            "\u001b[32m[I 2020-12-23 02:22:18,796]\u001b[0m Trial 2 finished with value: 3550412.7805129434 and parameters: {'learning_rate': 0.1552832511413553, 'n_estimators': 112, 'max_depth': 3, 'min_child_weight': 0.8663941540616334, 'min_child_samples': 16}. Best is trial 2 with value: 3550412.7805129434.\u001b[0m\n",
            "\u001b[32m[I 2020-12-23 02:22:55,364]\u001b[0m Trial 1 finished with value: 3473340.795267791 and parameters: {'learning_rate': 0.1312685824268043, 'n_estimators': 189, 'max_depth': 9, 'min_child_weight': 1.0145275379004077, 'min_child_samples': 17}. Best is trial 2 with value: 3550412.7805129434.\u001b[0m\n",
            "\u001b[32m[I 2020-12-23 02:25:43,837]\u001b[0m Trial 4 finished with value: 3543838.596243985 and parameters: {'learning_rate': 0.1542451342076746, 'n_estimators': 104, 'max_depth': 4, 'min_child_weight': 1.5016043583126009, 'min_child_samples': 6}. Best is trial 2 with value: 3550412.7805129434.\u001b[0m\n",
            "\u001b[32m[I 2020-12-23 02:27:11,974]\u001b[0m Trial 3 finished with value: 3488315.525566786 and parameters: {'learning_rate': 0.19063788830314204, 'n_estimators': 188, 'max_depth': 4, 'min_child_weight': 0.951113208823045, 'min_child_samples': 9}. Best is trial 2 with value: 3550412.7805129434.\u001b[0m\n",
            "\u001b[32m[I 2020-12-23 02:30:02,970]\u001b[0m Trial 5 finished with value: 3545462.139814291 and parameters: {'learning_rate': 0.10795017101029643, 'n_estimators': 149, 'max_depth': 4, 'min_child_weight': 0.9768444721754193, 'min_child_samples': 8}. Best is trial 2 with value: 3550412.7805129434.\u001b[0m\n",
            "\u001b[32m[I 2020-12-23 02:33:47,828]\u001b[0m Trial 6 finished with value: 3535472.729577047 and parameters: {'learning_rate': 0.10639393660088958, 'n_estimators': 182, 'max_depth': 6, 'min_child_weight': 0.6471063265770772, 'min_child_samples': 13}. Best is trial 2 with value: 3550412.7805129434.\u001b[0m\n",
            "\u001b[32m[I 2020-12-23 02:34:12,497]\u001b[0m Trial 7 finished with value: 3543404.413940185 and parameters: {'learning_rate': 0.11680224702073355, 'n_estimators': 96, 'max_depth': 8, 'min_child_weight': 0.6456787411015873, 'min_child_samples': 6}. Best is trial 2 with value: 3550412.7805129434.\u001b[0m\n",
            "\u001b[32m[I 2020-12-23 02:38:02,444]\u001b[0m Trial 9 finished with value: 3540772.4878602973 and parameters: {'learning_rate': 0.11771100158051806, 'n_estimators': 111, 'max_depth': 5, 'min_child_weight': 0.8945122917776972, 'min_child_samples': 5}. Best is trial 2 with value: 3550412.7805129434.\u001b[0m\n",
            "\u001b[32m[I 2020-12-23 02:39:10,390]\u001b[0m Trial 8 finished with value: 3529582.1586028985 and parameters: {'learning_rate': 0.11871375275291907, 'n_estimators': 143, 'max_depth': 7, 'min_child_weight': 1.263603476987861, 'min_child_samples': 17}. Best is trial 2 with value: 3550412.7805129434.\u001b[0m\n",
            "\u001b[32m[I 2020-12-23 02:40:16,880]\u001b[0m Trial 11 finished with value: 3572301.5665747495 and parameters: {'learning_rate': 0.16957420153883707, 'n_estimators': 42, 'max_depth': 3, 'min_child_weight': 1.8291515706215067, 'min_child_samples': 20}. Best is trial 11 with value: 3572301.5665747495.\u001b[0m\n",
            "\u001b[32m[I 2020-12-23 02:41:09,590]\u001b[0m Trial 12 finished with value: 3584040.7106640195 and parameters: {'learning_rate': 0.16916466186982287, 'n_estimators': 33, 'max_depth': 3, 'min_child_weight': 1.9683421385301239, 'min_child_samples': 20}. Best is trial 12 with value: 3584040.7106640195.\u001b[0m\n",
            "\u001b[32m[I 2020-12-23 02:41:46,417]\u001b[0m Trial 13 finished with value: 3621504.155151263 and parameters: {'learning_rate': 0.18998518707001041, 'n_estimators': 20, 'max_depth': 3, 'min_child_weight': 1.9702901635441352, 'min_child_samples': 20}. Best is trial 13 with value: 3621504.155151263.\u001b[0m\n",
            "\u001b[32m[I 2020-12-23 02:42:24,612]\u001b[0m Trial 14 finished with value: 3616839.9844590286 and parameters: {'learning_rate': 0.1952398238336547, 'n_estimators': 20, 'max_depth': 3, 'min_child_weight': 1.976219749210925, 'min_child_samples': 20}. Best is trial 13 with value: 3621504.155151263.\u001b[0m\n",
            "\u001b[32m[I 2020-12-23 02:44:44,183]\u001b[0m Trial 10 finished with value: 3507424.691443885 and parameters: {'learning_rate': 0.10205309495946364, 'n_estimators': 197, 'max_depth': 9, 'min_child_weight': 0.9696944548579707, 'min_child_samples': 20}. Best is trial 13 with value: 3621504.155151263.\u001b[0m\n",
            "\u001b[32m[I 2020-12-23 02:44:47,392]\u001b[0m Trial 15 finished with value: 3540616.4031803175 and parameters: {'learning_rate': 0.1923942402076641, 'n_estimators': 67, 'max_depth': 5, 'min_child_weight': 1.6047351885034993, 'min_child_samples': 19}. Best is trial 13 with value: 3621504.155151263.\u001b[0m\n",
            "\u001b[32m[I 2020-12-23 02:45:46,384]\u001b[0m Trial 17 finished with value: 3564248.204809998 and parameters: {'learning_rate': 0.1998014724593637, 'n_estimators': 25, 'max_depth': 5, 'min_child_weight': 1.335442852906277, 'min_child_samples': 14}. Best is trial 13 with value: 3621504.155151263.\u001b[0m\n",
            "\u001b[32m[I 2020-12-23 02:47:13,338]\u001b[0m Trial 16 finished with value: 3542812.9670707346 and parameters: {'learning_rate': 0.19885009767118764, 'n_estimators': 72, 'max_depth': 5, 'min_child_weight': 1.6408838511286714, 'min_child_samples': 14}. Best is trial 13 with value: 3621504.155151263.\u001b[0m\n",
            "\u001b[32m[I 2020-12-23 02:47:32,047]\u001b[0m Trial 18 finished with value: 3555690.8360095434 and parameters: {'learning_rate': 0.17913637102419933, 'n_estimators': 69, 'max_depth': 3, 'min_child_weight': 1.9810844995970451, 'min_child_samples': 18}. Best is trial 13 with value: 3621504.155151263.\u001b[0m\n",
            "\u001b[32m[I 2020-12-23 02:48:29,358]\u001b[0m Trial 20 finished with value: 3576212.168226897 and parameters: {'learning_rate': 0.18200504326567196, 'n_estimators': 27, 'max_depth': 4, 'min_child_weight': 1.2132557404230508, 'min_child_samples': 11}. Best is trial 13 with value: 3621504.155151263.\u001b[0m\n",
            "\u001b[32m[I 2020-12-23 02:48:48,831]\u001b[0m Trial 19 finished with value: 3560051.827993447 and parameters: {'learning_rate': 0.17568432167034576, 'n_estimators': 60, 'max_depth': 3, 'min_child_weight': 1.9043020172705039, 'min_child_samples': 18}. Best is trial 13 with value: 3621504.155151263.\u001b[0m\n",
            "\u001b[32m[I 2020-12-23 02:49:34,047]\u001b[0m Trial 22 finished with value: 3619809.457873534 and parameters: {'learning_rate': 0.16408331979610855, 'n_estimators': 23, 'max_depth': 3, 'min_child_weight': 1.9484929820754229, 'min_child_samples': 20}. Best is trial 13 with value: 3621504.155151263.\u001b[0m\n",
            "\u001b[32m[I 2020-12-23 02:49:34,179]\u001b[0m Trial 21 finished with value: 3603591.415910394 and parameters: {'learning_rate': 0.15377318703862908, 'n_estimators': 20, 'max_depth': 6, 'min_child_weight': 1.7999323444265347, 'min_child_samples': 15}. Best is trial 13 with value: 3621504.155151263.\u001b[0m\n",
            "\u001b[32m[I 2020-12-23 02:50:23,211]\u001b[0m Trial 24 finished with value: 3611180.487538152 and parameters: {'learning_rate': 0.16279950073227267, 'n_estimators': 21, 'max_depth': 4, 'min_child_weight': 0.5260281022355017, 'min_child_samples': 19}. Best is trial 13 with value: 3621504.155151263.\u001b[0m\n",
            "\u001b[32m[I 2020-12-23 02:50:27,874]\u001b[0m Trial 23 finished with value: 3597877.2910506283 and parameters: {'learning_rate': 0.1527746095082867, 'n_estimators': 25, 'max_depth': 4, 'min_child_weight': 1.7406677873121477, 'min_child_samples': 20}. Best is trial 13 with value: 3621504.155151263.\u001b[0m\n",
            "\u001b[32m[I 2020-12-23 02:51:43,196]\u001b[0m Trial 25 finished with value: 3565792.298327089 and parameters: {'learning_rate': 0.1839065381727584, 'n_estimators': 47, 'max_depth': 3, 'min_child_weight': 1.466037703176406, 'min_child_samples': 20}. Best is trial 13 with value: 3621504.155151263.\u001b[0m\n",
            "\u001b[32m[I 2020-12-23 02:51:43,209]\u001b[0m Trial 26 finished with value: 3564992.0547185116 and parameters: {'learning_rate': 0.1865031005672516, 'n_estimators': 46, 'max_depth': 3, 'min_child_weight': 1.4021890085481803, 'min_child_samples': 18}. Best is trial 13 with value: 3621504.155151263.\u001b[0m\n",
            "\u001b[32m[I 2020-12-23 02:53:02,529]\u001b[0m Trial 27 finished with value: 3568073.6862466596 and parameters: {'learning_rate': 0.14618008890002285, 'n_estimators': 39, 'max_depth': 4, 'min_child_weight': 1.148081338523937, 'min_child_samples': 16}. Best is trial 13 with value: 3621504.155151263.\u001b[0m\n",
            "\u001b[32m[I 2020-12-23 02:54:10,675]\u001b[0m Trial 28 finished with value: 3548153.742293442 and parameters: {'learning_rate': 0.14456644823276044, 'n_estimators': 81, 'max_depth': 4, 'min_child_weight': 1.1244548587309342, 'min_child_samples': 16}. Best is trial 13 with value: 3621504.155151263.\u001b[0m\n",
            "\u001b[32m[I 2020-12-23 02:55:09,774]\u001b[0m Trial 29 finished with value: 3552985.4126658356 and parameters: {'learning_rate': 0.16843304752974014, 'n_estimators': 84, 'max_depth': 3, 'min_child_weight': 1.6161684356464598, 'min_child_samples': 19}. Best is trial 13 with value: 3621504.155151263.\u001b[0m\n",
            "\u001b[32m[I 2020-12-23 02:55:41,012]\u001b[0m Trial 30 finished with value: 3568805.464694688 and parameters: {'learning_rate': 0.13681519973387843, 'n_estimators': 57, 'max_depth': 3, 'min_child_weight': 1.6304182378454528, 'min_child_samples': 11}. Best is trial 13 with value: 3621504.155151263.\u001b[0m\n",
            "\u001b[32m[I 2020-12-23 02:56:28,091]\u001b[0m Trial 32 finished with value: 3610955.4515186204 and parameters: {'learning_rate': 0.1612484826151752, 'n_estimators': 21, 'max_depth': 4, 'min_child_weight': 0.7608840139743754, 'min_child_samples': 19}. Best is trial 13 with value: 3621504.155151263.\u001b[0m\n",
            "\u001b[32m[I 2020-12-23 02:57:32,991]\u001b[0m Trial 33 finished with value: 3581798.479334645 and parameters: {'learning_rate': 0.1623664427832363, 'n_estimators': 35, 'max_depth': 3, 'min_child_weight': 0.5016111758905892, 'min_child_samples': 19}. Best is trial 13 with value: 3621504.155151263.\u001b[0m\n",
            "\u001b[32m[I 2020-12-23 02:57:47,175]\u001b[0m Trial 31 finished with value: 3535047.134554061 and parameters: {'learning_rate': 0.19706414362348468, 'n_estimators': 58, 'max_depth': 7, 'min_child_weight': 1.9460905124111842, 'min_child_samples': 17}. Best is trial 13 with value: 3621504.155151263.\u001b[0m\n",
            "\u001b[32m[I 2020-12-23 02:58:33,309]\u001b[0m Trial 35 finished with value: 3608000.3641262013 and parameters: {'learning_rate': 0.17347739160035505, 'n_estimators': 20, 'max_depth': 4, 'min_child_weight': 0.5347050561208998, 'min_child_samples': 18}. Best is trial 13 with value: 3621504.155151263.\u001b[0m\n",
            "\u001b[32m[I 2020-12-23 02:59:35,569]\u001b[0m Trial 34 finished with value: 3546105.3767853733 and parameters: {'learning_rate': 0.1999406537055198, 'n_estimators': 54, 'max_depth': 5, 'min_child_weight': 0.5482168849367101, 'min_child_samples': 17}. Best is trial 13 with value: 3621504.155151263.\u001b[0m\n",
            "\u001b[32m[I 2020-12-23 02:59:38,767]\u001b[0m Trial 36 finished with value: 3579346.5281375353 and parameters: {'learning_rate': 0.16127419088426925, 'n_estimators': 37, 'max_depth': 3, 'min_child_weight': 0.5966136694674394, 'min_child_samples': 20}. Best is trial 13 with value: 3621504.155151263.\u001b[0m\n",
            "\u001b[32m[I 2020-12-23 03:00:35,148]\u001b[0m Trial 37 finished with value: 3606763.0948220594 and parameters: {'learning_rate': 0.13096760958664547, 'n_estimators': 33, 'max_depth': 3, 'min_child_weight': 0.7693670643978787, 'min_child_samples': 19}. Best is trial 13 with value: 3621504.155151263.\u001b[0m\n",
            "\u001b[32m[I 2020-12-23 03:01:21,009]\u001b[0m Trial 39 finished with value: 3600860.951328133 and parameters: {'learning_rate': 0.18709304572602908, 'n_estimators': 20, 'max_depth': 4, 'min_child_weight': 1.7444850887513912, 'min_child_samples': 18}. Best is trial 13 with value: 3621504.155151263.\u001b[0m\n",
            "\u001b[32m[I 2020-12-23 03:03:13,060]\u001b[0m Trial 38 finished with value: 3539868.1064241654 and parameters: {'learning_rate': 0.19162764135653804, 'n_estimators': 127, 'max_depth': 4, 'min_child_weight': 0.7054228424889973, 'min_child_samples': 19}. Best is trial 13 with value: 3621504.155151263.\u001b[0m\n",
            "\u001b[32m[I 2020-12-23 03:04:51,626]\u001b[0m Trial 40 finished with value: 3539838.4943470713 and parameters: {'learning_rate': 0.19191884395294914, 'n_estimators': 129, 'max_depth': 4, 'min_child_weight': 1.0745143224953795, 'min_child_samples': 15}. Best is trial 13 with value: 3621504.155151263.\u001b[0m\n",
            "\u001b[32m[I 2020-12-23 03:05:34,718]\u001b[0m Trial 42 finished with value: 3619618.3271911205 and parameters: {'learning_rate': 0.16086037043289086, 'n_estimators': 20, 'max_depth': 4, 'min_child_weight': 0.7929108942351886, 'min_child_samples': 19}. Best is trial 13 with value: 3621504.155151263.\u001b[0m\n",
            "\u001b[32m[I 2020-12-23 03:07:21,650]\u001b[0m Trial 41 finished with value: 3545262.1614190117 and parameters: {'learning_rate': 0.13742777076013538, 'n_estimators': 178, 'max_depth': 3, 'min_child_weight': 1.0485340934863234, 'min_child_samples': 15}. Best is trial 13 with value: 3621504.155151263.\u001b[0m\n",
            "\u001b[32m[I 2020-12-23 03:08:27,899]\u001b[0m Trial 44 finished with value: 3573641.7293903683 and parameters: {'learning_rate': 0.1499924645903511, 'n_estimators': 29, 'max_depth': 5, 'min_child_weight': 0.8248850429433165, 'min_child_samples': 20}. Best is trial 13 with value: 3621504.155151263.\u001b[0m\n",
            "\u001b[32m[I 2020-12-23 03:09:59,801]\u001b[0m Trial 45 finished with value: 3558461.735454136 and parameters: {'learning_rate': 0.15844813191348664, 'n_estimators': 46, 'max_depth': 4, 'min_child_weight': 0.6813629291476733, 'min_child_samples': 17}. Best is trial 13 with value: 3621504.155151263.\u001b[0m\n",
            "\u001b[32m[I 2020-12-23 03:10:46,397]\u001b[0m Trial 46 finished with value: 3632234.1394868656 and parameters: {'learning_rate': 0.16504648970964866, 'n_estimators': 21, 'max_depth': 3, 'min_child_weight': 0.5938773079009131, 'min_child_samples': 19}. Best is trial 46 with value: 3632234.1394868656.\u001b[0m\n",
            "\u001b[32m[I 2020-12-23 03:11:03,632]\u001b[0m Trial 43 finished with value: 3535824.571823 and parameters: {'learning_rate': 0.14948251022420833, 'n_estimators': 172, 'max_depth': 5, 'min_child_weight': 0.8439172348943682, 'min_child_samples': 20}. Best is trial 46 with value: 3632234.1394868656.\u001b[0m\n",
            "\u001b[32m[I 2020-12-23 03:11:56,318]\u001b[0m Trial 47 finished with value: 3575284.856518586 and parameters: {'learning_rate': 0.16723632713624828, 'n_estimators': 40, 'max_depth': 3, 'min_child_weight': 0.6063940803638526, 'min_child_samples': 20}. Best is trial 46 with value: 3632234.1394868656.\u001b[0m\n",
            "\u001b[32m[I 2020-12-23 03:11:56,683]\u001b[0m Trial 48 finished with value: 3591458.1623990983 and parameters: {'learning_rate': 0.1683007522866048, 'n_estimators': 30, 'max_depth': 3, 'min_child_weight': 0.8816930515121316, 'min_child_samples': 18}. Best is trial 46 with value: 3632234.1394868656.\u001b[0m\n",
            "\u001b[32m[I 2020-12-23 03:12:46,779]\u001b[0m Trial 49 finished with value: 3590749.5296747102 and parameters: {'learning_rate': 0.17653083783309859, 'n_estimators': 29, 'max_depth': 3, 'min_child_weight': 0.9171516338541651, 'min_child_samples': 18}. Best is trial 46 with value: 3632234.1394868656.\u001b[0m\n",
            "\u001b[32m[I 2020-12-23 03:13:17,990]\u001b[0m Trial 50 finished with value: 3565314.047709622 and parameters: {'learning_rate': 0.17719330249121062, 'n_estimators': 50, 'max_depth': 3, 'min_child_weight': 0.7475506410256432, 'min_child_samples': 16}. Best is trial 46 with value: 3632234.1394868656.\u001b[0m\n",
            "\u001b[32m[I 2020-12-23 03:14:04,567]\u001b[0m Trial 52 finished with value: 3616602.7595041404 and parameters: {'learning_rate': 0.16427309105165738, 'n_estimators': 20, 'max_depth': 4, 'min_child_weight': 0.5007209064236476, 'min_child_samples': 19}. Best is trial 46 with value: 3632234.1394868656.\u001b[0m\n",
            "\u001b[32m[I 2020-12-23 03:14:12,217]\u001b[0m Trial 51 finished with value: 3563383.6672620857 and parameters: {'learning_rate': 0.17300283290208135, 'n_estimators': 52, 'max_depth': 3, 'min_child_weight': 1.8645111551510503, 'min_child_samples': 16}. Best is trial 46 with value: 3632234.1394868656.\u001b[0m\n",
            "\u001b[32m[I 2020-12-23 03:14:51,959]\u001b[0m Trial 53 finished with value: 3614457.8209316307 and parameters: {'learning_rate': 0.15816231296639444, 'n_estimators': 21, 'max_depth': 4, 'min_child_weight': 0.5667636808323939, 'min_child_samples': 19}. Best is trial 46 with value: 3632234.1394868656.\u001b[0m\n",
            "\u001b[32m[I 2020-12-23 03:15:25,149]\u001b[0m Trial 54 finished with value: 3587973.6423160243 and parameters: {'learning_rate': 0.15825553665841652, 'n_estimators': 21, 'max_depth': 7, 'min_child_weight': 0.577995247025528, 'min_child_samples': 19}. Best is trial 46 with value: 3632234.1394868656.\u001b[0m\n",
            "\u001b[32m[I 2020-12-23 03:16:40,436]\u001b[0m Trial 56 finished with value: 3563161.504273641 and parameters: {'learning_rate': 0.18110330171603584, 'n_estimators': 36, 'max_depth': 4, 'min_child_weight': 0.6340224525523472, 'min_child_samples': 20}. Best is trial 46 with value: 3632234.1394868656.\u001b[0m\n",
            "\u001b[32m[I 2020-12-23 03:16:44,749]\u001b[0m Trial 55 finished with value: 3543266.032928187 and parameters: {'learning_rate': 0.1813301409474404, 'n_estimators': 42, 'max_depth': 6, 'min_child_weight': 0.50423255831334, 'min_child_samples': 17}. Best is trial 46 with value: 3632234.1394868656.\u001b[0m\n",
            "\u001b[32m[I 2020-12-23 03:17:34,021]\u001b[0m Trial 57 finished with value: 3601556.096404527 and parameters: {'learning_rate': 0.16514568044686825, 'n_estimators': 27, 'max_depth': 3, 'min_child_weight': 0.501033593338215, 'min_child_samples': 17}. Best is trial 46 with value: 3632234.1394868656.\u001b[0m\n",
            "\u001b[32m[I 2020-12-23 03:17:37,766]\u001b[0m Trial 58 finished with value: 3595466.7399467886 and parameters: {'learning_rate': 0.1657914021446867, 'n_estimators': 29, 'max_depth': 3, 'min_child_weight': 1.9859803673318153, 'min_child_samples': 9}. Best is trial 46 with value: 3632234.1394868656.\u001b[0m\n",
            "\u001b[32m[I 2020-12-23 03:19:03,218]\u001b[0m Trial 59 finished with value: 3559079.2477252367 and parameters: {'learning_rate': 0.171218366542826, 'n_estimators': 26, 'max_depth': 8, 'min_child_weight': 1.99847519531835, 'min_child_samples': 20}. Best is trial 46 with value: 3632234.1394868656.\u001b[0m\n",
            "\u001b[32m[I 2020-12-23 03:20:41,528]\u001b[0m Trial 60 finished with value: 3537808.972083104 and parameters: {'learning_rate': 0.12642625954307438, 'n_estimators': 63, 'max_depth': 9, 'min_child_weight': 0.6684098627994932, 'min_child_samples': 20}. Best is trial 46 with value: 3632234.1394868656.\u001b[0m\n",
            "\u001b[32m[I 2020-12-23 03:21:33,625]\u001b[0m Trial 62 finished with value: 3613504.8475768603 and parameters: {'learning_rate': 0.15860482117112137, 'n_estimators': 21, 'max_depth': 4, 'min_child_weight': 0.5531504166828555, 'min_child_samples': 19}. Best is trial 46 with value: 3632234.1394868656.\u001b[0m\n",
            "\u001b[32m[I 2020-12-23 03:22:27,290]\u001b[0m Trial 61 finished with value: 3539641.2218934214 and parameters: {'learning_rate': 0.19526594135239544, 'n_estimators': 100, 'max_depth': 5, 'min_child_weight': 0.6766543232620043, 'min_child_samples': 18}. Best is trial 46 with value: 3632234.1394868656.\u001b[0m\n",
            "\u001b[32m[I 2020-12-23 03:22:27,565]\u001b[0m Trial 63 finished with value: 3623485.698530208 and parameters: {'learning_rate': 0.1566609087218117, 'n_estimators': 20, 'max_depth': 4, 'min_child_weight': 0.5709946044754141, 'min_child_samples': 19}. Best is trial 46 with value: 3632234.1394868656.\u001b[0m\n",
            "\u001b[32m[I 2020-12-23 03:23:13,366]\u001b[0m Trial 64 finished with value: 3624070.53811463 and parameters: {'learning_rate': 0.15552320578541742, 'n_estimators': 20, 'max_depth': 4, 'min_child_weight': 0.6352008775038921, 'min_child_samples': 19}. Best is trial 46 with value: 3632234.1394868656.\u001b[0m\n",
            "\u001b[32m[I 2020-12-23 03:23:57,672]\u001b[0m Trial 65 finished with value: 3562687.8467392325 and parameters: {'learning_rate': 0.15383146180465446, 'n_estimators': 43, 'max_depth': 4, 'min_child_weight': 0.6216822588671795, 'min_child_samples': 19}. Best is trial 46 with value: 3632234.1394868656.\u001b[0m\n",
            "\u001b[32m[I 2020-12-23 03:24:14,808]\u001b[0m Trial 66 finished with value: 3593488.6012455937 and parameters: {'learning_rate': 0.1432396453066927, 'n_estimators': 35, 'max_depth': 3, 'min_child_weight': 0.6262797827317551, 'min_child_samples': 18}. Best is trial 46 with value: 3632234.1394868656.\u001b[0m\n",
            "\u001b[32m[I 2020-12-23 03:25:00,262]\u001b[0m Trial 67 finished with value: 3597001.9089527056 and parameters: {'learning_rate': 0.14110557715372435, 'n_estimators': 34, 'max_depth': 3, 'min_child_weight': 0.791629200682574, 'min_child_samples': 18}. Best is trial 46 with value: 3632234.1394868656.\u001b[0m\n",
            "\u001b[32m[I 2020-12-23 03:25:33,622]\u001b[0m Trial 68 finished with value: 3564644.25050476 and parameters: {'learning_rate': 0.15087909357067236, 'n_estimators': 33, 'max_depth': 5, 'min_child_weight': 0.7279568976771064, 'min_child_samples': 20}. Best is trial 46 with value: 3632234.1394868656.\u001b[0m\n",
            "\u001b[32m[I 2020-12-23 03:26:04,650]\u001b[0m Trial 69 finished with value: 3569931.194539108 and parameters: {'learning_rate': 0.1861206490343461, 'n_estimators': 25, 'max_depth': 5, 'min_child_weight': 0.7248933190476464, 'min_child_samples': 20}. Best is trial 46 with value: 3632234.1394868656.\u001b[0m\n",
            "\u001b[32m[I 2020-12-23 03:26:26,854]\u001b[0m Trial 70 finished with value: 3609687.7687833654 and parameters: {'learning_rate': 0.1464728220113601, 'n_estimators': 24, 'max_depth': 4, 'min_child_weight': 0.5884855387348823, 'min_child_samples': 19}. Best is trial 46 with value: 3632234.1394868656.\u001b[0m\n",
            "\u001b[32m[I 2020-12-23 03:27:11,798]\u001b[0m Trial 72 finished with value: 3624026.936764186 and parameters: {'learning_rate': 0.1555633649431243, 'n_estimators': 20, 'max_depth': 4, 'min_child_weight': 0.5206010375667272, 'min_child_samples': 19}. Best is trial 46 with value: 3632234.1394868656.\u001b[0m\n",
            "\u001b[32m[I 2020-12-23 03:27:22,390]\u001b[0m Trial 71 finished with value: 3565217.301015786 and parameters: {'learning_rate': 0.1558514118980615, 'n_estimators': 40, 'max_depth': 4, 'min_child_weight': 0.5968978730361367, 'min_child_samples': 5}. Best is trial 46 with value: 3632234.1394868656.\u001b[0m\n",
            "\u001b[32m[I 2020-12-23 03:27:59,261]\u001b[0m Trial 73 finished with value: 3624246.3736520787 and parameters: {'learning_rate': 0.15537335616811493, 'n_estimators': 20, 'max_depth': 4, 'min_child_weight': 1.5404728114514148, 'min_child_samples': 19}. Best is trial 46 with value: 3632234.1394868656.\u001b[0m\n",
            "\u001b[32m[I 2020-12-23 03:28:01,000]\u001b[0m Trial 74 finished with value: 3657447.114241413 and parameters: {'learning_rate': 0.14890717048345908, 'n_estimators': 20, 'max_depth': 3, 'min_child_weight': 0.5261141580849078, 'min_child_samples': 19}. Best is trial 74 with value: 3657447.114241413.\u001b[0m\n",
            "\u001b[32m[I 2020-12-23 03:28:53,956]\u001b[0m Trial 76 finished with value: 3606197.2704287213 and parameters: {'learning_rate': 0.1397913219299999, 'n_estimators': 31, 'max_depth': 3, 'min_child_weight': 0.5258211122308397, 'min_child_samples': 18}. Best is trial 74 with value: 3657447.114241413.\u001b[0m\n",
            "\u001b[32m[I 2020-12-23 03:29:03,329]\u001b[0m Trial 75 finished with value: 3577874.5101674404 and parameters: {'learning_rate': 0.15481009776187177, 'n_estimators': 31, 'max_depth': 4, 'min_child_weight': 0.530509479694287, 'min_child_samples': 19}. Best is trial 74 with value: 3657447.114241413.\u001b[0m\n",
            "\u001b[32m[I 2020-12-23 03:29:48,406]\u001b[0m Trial 78 finished with value: 3625968.7404077067 and parameters: {'learning_rate': 0.14681624767578422, 'n_estimators': 25, 'max_depth': 3, 'min_child_weight': 1.5326241383809485, 'min_child_samples': 18}. Best is trial 74 with value: 3657447.114241413.\u001b[0m\n",
            "\u001b[32m[I 2020-12-23 03:29:48,591]\u001b[0m Trial 77 finished with value: 3603408.9334369856 and parameters: {'learning_rate': 0.14742351440992038, 'n_estimators': 25, 'max_depth': 4, 'min_child_weight': 1.548247508042995, 'min_child_samples': 19}. Best is trial 74 with value: 3657447.114241413.\u001b[0m\n",
            "\u001b[32m[I 2020-12-23 03:33:23,340]\u001b[0m Trial 79 finished with value: 3546859.156015931 and parameters: {'learning_rate': 0.1476521200923707, 'n_estimators': 157, 'max_depth': 3, 'min_child_weight': 1.2730195113305196, 'min_child_samples': 17}. Best is trial 74 with value: 3657447.114241413.\u001b[0m\n",
            "\u001b[32m[I 2020-12-23 03:34:31,279]\u001b[0m Trial 81 finished with value: 3587043.30249913 and parameters: {'learning_rate': 0.13690506765622118, 'n_estimators': 39, 'max_depth': 3, 'min_child_weight': 1.4076341484731154, 'min_child_samples': 18}. Best is trial 74 with value: 3657447.114241413.\u001b[0m\n",
            "\u001b[32m[I 2020-12-23 03:34:35,902]\u001b[0m Trial 80 finished with value: 3543225.0159896957 and parameters: {'learning_rate': 0.15197175923112113, 'n_estimators': 159, 'max_depth': 5, 'min_child_weight': 1.368044736547577, 'min_child_samples': 18}. Best is trial 74 with value: 3657447.114241413.\u001b[0m\n",
            "\u001b[32m[I 2020-12-23 03:35:16,721]\u001b[0m Trial 82 finished with value: 3634403.5586267384 and parameters: {'learning_rate': 0.14374477023074098, 'n_estimators': 24, 'max_depth': 3, 'min_child_weight': 1.702985636826255, 'min_child_samples': 19}. Best is trial 74 with value: 3657447.114241413.\u001b[0m\n",
            "\u001b[32m[I 2020-12-23 03:35:21,133]\u001b[0m Trial 83 finished with value: 3613792.267802913 and parameters: {'learning_rate': 0.1550513923001648, 'n_estimators': 26, 'max_depth': 3, 'min_child_weight': 1.739788193000981, 'min_child_samples': 20}. Best is trial 74 with value: 3657447.114241413.\u001b[0m\n",
            "\u001b[32m[I 2020-12-23 03:36:02,408]\u001b[0m Trial 84 finished with value: 3627385.191487171 and parameters: {'learning_rate': 0.14375119758568608, 'n_estimators': 25, 'max_depth': 3, 'min_child_weight': 1.7205657013302735, 'min_child_samples': 19}. Best is trial 74 with value: 3657447.114241413.\u001b[0m\n",
            "\u001b[32m[I 2020-12-23 03:36:31,597]\u001b[0m Trial 85 finished with value: 3577028.483051796 and parameters: {'learning_rate': 0.14432190776298187, 'n_estimators': 45, 'max_depth': 3, 'min_child_weight': 1.5321445972262124, 'min_child_samples': 19}. Best is trial 74 with value: 3657447.114241413.\u001b[0m\n",
            "\u001b[32m[I 2020-12-23 03:37:14,263]\u001b[0m Trial 86 finished with value: 3580028.2651166804 and parameters: {'learning_rate': 0.13261319423559526, 'n_estimators': 46, 'max_depth': 3, 'min_child_weight': 1.5468750666383246, 'min_child_samples': 18}. Best is trial 74 with value: 3657447.114241413.\u001b[0m\n",
            "\u001b[32m[I 2020-12-23 03:37:34,850]\u001b[0m Trial 87 finished with value: 3586129.0836830055 and parameters: {'learning_rate': 0.13473080063940973, 'n_estimators': 32, 'max_depth': 4, 'min_child_weight': 1.7034210945976531, 'min_child_samples': 18}. Best is trial 74 with value: 3657447.114241413.\u001b[0m\n",
            "\u001b[32m[I 2020-12-23 03:38:25,666]\u001b[0m Trial 88 finished with value: 3574811.6477565924 and parameters: {'learning_rate': 0.13938563152560995, 'n_estimators': 36, 'max_depth': 4, 'min_child_weight': 1.471100437767522, 'min_child_samples': 17}. Best is trial 74 with value: 3657447.114241413.\u001b[0m\n",
            "\u001b[32m[I 2020-12-23 03:38:26,097]\u001b[0m Trial 89 finished with value: 3614855.099482866 and parameters: {'learning_rate': 0.1393472133688747, 'n_estimators': 24, 'max_depth': 4, 'min_child_weight': 1.4812014408489447, 'min_child_samples': 17}. Best is trial 74 with value: 3657447.114241413.\u001b[0m\n",
            "\u001b[32m[I 2020-12-23 03:39:04,657]\u001b[0m Trial 91 finished with value: 3656968.3664089344 and parameters: {'learning_rate': 0.14929753545864002, 'n_estimators': 20, 'max_depth': 3, 'min_child_weight': 0.5673856810380579, 'min_child_samples': 12}. Best is trial 74 with value: 3657447.114241413.\u001b[0m\n",
            "\u001b[32m[I 2020-12-23 03:39:32,539]\u001b[0m Trial 90 finished with value: 3593948.727045864 and parameters: {'learning_rate': 0.1417495889287482, 'n_estimators': 23, 'max_depth': 6, 'min_child_weight': 1.696417084798057, 'min_child_samples': 19}. Best is trial 74 with value: 3657447.114241413.\u001b[0m\n",
            "\u001b[32m[I 2020-12-23 03:39:42,551]\u001b[0m Trial 92 finished with value: 3656887.7646712554 and parameters: {'learning_rate': 0.14937571777224318, 'n_estimators': 20, 'max_depth': 3, 'min_child_weight': 1.676368087262984, 'min_child_samples': 12}. Best is trial 74 with value: 3657447.114241413.\u001b[0m\n",
            "\u001b[32m[I 2020-12-23 03:40:11,907]\u001b[0m Trial 93 finished with value: 3656361.536301032 and parameters: {'learning_rate': 0.15045666977743619, 'n_estimators': 20, 'max_depth': 3, 'min_child_weight': 0.5538647260323486, 'min_child_samples': 12}. Best is trial 74 with value: 3657447.114241413.\u001b[0m\n",
            "\u001b[32m[I 2020-12-23 03:40:28,776]\u001b[0m Trial 94 finished with value: 3610232.8822855926 and parameters: {'learning_rate': 0.14916444265267267, 'n_estimators': 28, 'max_depth': 3, 'min_child_weight': 1.8359062682044938, 'min_child_samples': 7}. Best is trial 74 with value: 3657447.114241413.\u001b[0m\n",
            "\u001b[32m[I 2020-12-23 03:41:01,889]\u001b[0m Trial 95 finished with value: 3609599.5538007813 and parameters: {'learning_rate': 0.15027324082841345, 'n_estimators': 28, 'max_depth': 3, 'min_child_weight': 1.8311453107100621, 'min_child_samples': 12}. Best is trial 74 with value: 3657447.114241413.\u001b[0m\n",
            "\u001b[32m[I 2020-12-23 03:42:03,806]\u001b[0m Trial 97 finished with value: 3584177.3154666265 and parameters: {'learning_rate': 0.14552267326137097, 'n_estimators': 39, 'max_depth': 3, 'min_child_weight': 1.6007750070131574, 'min_child_samples': 12}. Best is trial 74 with value: 3657447.114241413.\u001b[0m\n",
            "\u001b[32m[I 2020-12-23 03:42:36,183]\u001b[0m Trial 96 finished with value: 3554897.6850035805 and parameters: {'learning_rate': 0.14530161568457733, 'n_estimators': 89, 'max_depth': 3, 'min_child_weight': 1.5968814308940351, 'min_child_samples': 12}. Best is trial 74 with value: 3657447.114241413.\u001b[0m\n",
            "\u001b[32m[I 2020-12-23 03:43:26,607]\u001b[0m Trial 99 finished with value: 3604397.4190822314 and parameters: {'learning_rate': 0.14238322260075512, 'n_estimators': 31, 'max_depth': 3, 'min_child_weight': 1.6757898968584224, 'min_child_samples': 13}. Best is trial 74 with value: 3657447.114241413.\u001b[0m\n",
            "\u001b[32m[I 2020-12-23 03:45:05,456]\u001b[0m Trial 98 finished with value: 3543838.199583651 and parameters: {'learning_rate': 0.1443087838660743, 'n_estimators': 200, 'max_depth': 3, 'min_child_weight': 1.6545616752502303, 'min_child_samples': 13}. Best is trial 74 with value: 3657447.114241413.\u001b[0m\n"
          ],
          "name": "stderr"
        }
      ]
    },
    {
      "cell_type": "markdown",
      "metadata": {
        "id": "RxcEEHr3EdFC"
      },
      "source": [
        "# The best model of LightGBM to train and validate:\r\n",
        "1. Write .pickle about the best of all parameters;\r\n",
        "1. Write the model.pickle to Kernel Notebook of Kaggle.\r\n",
        "  - [Reference](https://blog.amedama.jp/entry/2018/05/08/033909)"
      ]
    },
    {
      "cell_type": "code",
      "metadata": {
        "colab": {
          "base_uri": "https://localhost:8080/"
        },
        "id": "g1183gMWEeuM",
        "outputId": "00dd6cb9-3825-4758-b678-4eadcce61b9d"
      },
      "source": [
        "params = {\r\n",
        "        'objective': 'binary',\r\n",
        "        'seed': SEED,\r\n",
        "        'metric': 'AUC',\r\n",
        "        'boosting_type': 'dart'\r\n",
        "}\r\n",
        "params.update(study.best_trial.params)\r\n",
        "print(params)\r\n",
        "pickle.dump(params, open('The_best_of_all_parameters_on_LightGBM.pickle', 'wb'))"
      ],
      "execution_count": 29,
      "outputs": [
        {
          "output_type": "stream",
          "text": [
            "{'objective': 'binary', 'seed': 123, 'metric': 'AUC', 'boosting_type': 'dart', 'learning_rate': 0.14890717048345908, 'n_estimators': 20, 'max_depth': 3, 'min_child_weight': 0.5261141580849078, 'min_child_samples': 19}\n"
          ],
          "name": "stdout"
        }
      ]
    },
    {
      "cell_type": "markdown",
      "metadata": {
        "id": "25hWB6ggDAJp"
      },
      "source": [
        "# The results such simulation:\r\n",
        "- [最適化の様子を可視化してみる: その２](https://qiita.com/studio_haneya/items/2dc3ba9d7cafa36ddffa#%E6%9C%80%E9%81%A9%E5%8C%96%E3%81%AE%E6%A7%98%E5%AD%90%E3%82%92%E5%8F%AF%E8%A6%96%E5%8C%96%E3%81%97%E3%81%A6%E3%81%BF%E3%82%8B-%E3%81%9D%E3%81%AE%EF%BC%92)\r\n",
        "- [最適化の履歴を可視化できる。](https://fisproject.jp/2019/10/first-step-with-optuna-in-python/)"
      ]
    },
    {
      "cell_type": "code",
      "metadata": {
        "colab": {
          "base_uri": "https://localhost:8080/"
        },
        "id": "lRmFhmHdDctx",
        "outputId": "7787f859-d43b-4b83-d53d-c1c3c629107e"
      },
      "source": [
        "print('Number of finished trials:', len(study.trials))\r\n",
        "print('The best of trials:', study.best_trial.params)"
      ],
      "execution_count": 22,
      "outputs": [
        {
          "output_type": "stream",
          "text": [
            "Number of finished trials: 100\n",
            "The best of trials: {'learning_rate': 0.14890717048345908, 'n_estimators': 20, 'max_depth': 3, 'min_child_weight': 0.5261141580849078, 'min_child_samples': 19}\n"
          ],
          "name": "stdout"
        }
      ]
    },
    {
      "cell_type": "code",
      "metadata": {
        "colab": {
          "base_uri": "https://localhost:8080/",
          "height": 276
        },
        "id": "mmzke4W2DcWN",
        "outputId": "d9ce5d3a-0523-45b6-9d00-47a39c67129a"
      },
      "source": [
        "plt.plot([trial.value for trial in study.trials], label = 'Value')\r\n",
        "plt.grid()\r\n",
        "plt.legend()\r\n",
        "plt.show()"
      ],
      "execution_count": 23,
      "outputs": [
        {
          "output_type": "display_data",
          "data": {
            "image/png": "[encoded data removed]",
            "text/plain": [
              "<Figure size 432x288 with 1 Axes>"
            ]
          },
          "metadata": {
            "tags": [],
            "needs_background": "light"
          }
        }
      ]
    },
    {
      "cell_type": "code",
      "metadata": {
        "colab": {
          "base_uri": "https://localhost:8080/",
          "height": 542
        },
        "id": "qI_4usNDDZvv",
        "outputId": "85a64333-b62d-4408-c549-bb8946431716"
      },
      "source": [
        "plot_optimization_history(study)"
      ],
      "execution_count": 24,
      "outputs": [
        {
          "output_type": "display_data",
          "data": {
            "text/html": [
              "<html>\n",
              "<head><meta charset=\"utf-8\" /></head>\n",
              "<body>\n",
              "    <div>\n",
              "            <script src=\"https://cdnjs.cloudflare.com/ajax/libs/mathjax/2.7.5/MathJax.js?config=TeX-AMS-MML_SVG\"></script><script type=\"text/javascript\">if (window.MathJax) {MathJax.Hub.Config({SVG: {font: \"STIX-Web\"}});}</script>\n",
              "                <script type=\"text/javascript\">window.PlotlyConfig = {MathJaxConfig: 'local'};</script>\n",
              "        <script src=\"https://cdn.plot.ly/plotly-latest.min.js\"></script>    \n",
              "            <div id=\"1fd9c441-954e-42e3-a4ba-86638829be6d\" class=\"plotly-graph-div\" style=\"height:525px; width:100%;\"></div>\n",
              "            <script type=\"text/javascript\">\n",
              "                \n",
              "                    window.PLOTLYENV=window.PLOTLYENV || {};\n",
              "                    \n",
              "                if (document.getElementById(\"1fd9c441-954e-42e3-a4ba-86638829be6d\")) {\n",
              "                    Plotly.newPlot(\n",
              "                        '1fd9c441-954e-42e3-a4ba-86638829be6d',\n",
              "                        [{\"mode\": \"markers\", \"name\": \"Objective Value\", \"type\": \"scatter\", \"x\": [0, 1, 2, 3, 4, 5, 6, 7, 8, 9, 10, 11, 12, 13, 14, 15, 16, 17, 18, 19, 20, 21, 22, 23, 24, 25, 26, 27, 28, 29, 30, 31, 32, 33, 34, 35, 36, 37, 38, 39, 40, 41, 42, 43, 44, 45, 46, 47, 48, 49, 50, 51, 52, 53, 54, 55, 56, 57, 58, 59, 60, 61, 62, 63, 64, 65, 66, 67, 68, 69, 70, 71, 72, 73, 74, 75, 76, 77, 78, 79, 80, 81, 82, 83, 84, 85, 86, 87, 88, 89, 90, 91, 92, 93, 94, 95, 96, 97, 98, 99], \"y\": [3540496.90799316, 3473340.795267791, 3550412.7805129434, 3488315.525566786, 3543838.596243985, 3545462.139814291, 3535472.729577047, 3543404.413940185, 3529582.1586028985, 3540772.4878602973, 3507424.691443885, 3572301.5665747495, 3584040.7106640195, 3621504.155151263, 3616839.9844590286, 3540616.4031803175, 3542812.9670707346, 3564248.204809998, 3555690.8360095434, 3560051.827993447, 3576212.168226897, 3603591.415910394, 3619809.457873534, 3597877.2910506283, 3611180.487538152, 3565792.298327089, 3564992.0547185116, 3568073.6862466596, 3548153.742293442, 3552985.4126658356, 3568805.464694688, 3535047.134554061, 3610955.4515186204, 3581798.479334645, 3546105.3767853733, 3608000.3641262013, 3579346.5281375353, 3606763.0948220594, 3539868.1064241654, 3600860.951328133, 3539838.4943470713, 3545262.1614190117, 3619618.3271911205, 3535824.571823, 3573641.7293903683, 3558461.735454136, 3632234.1394868656, 3575284.856518586, 3591458.1623990983, 3590749.5296747102, 3565314.047709622, 3563383.6672620857, 3616602.7595041404, 3614457.8209316307, 3587973.6423160243, 3543266.032928187, 3563161.504273641, 3601556.096404527, 3595466.7399467886, 3559079.2477252367, 3537808.972083104, 3539641.2218934214, 3613504.8475768603, 3623485.698530208, 3624070.53811463, 3562687.8467392325, 3593488.6012455937, 3597001.9089527056, 3564644.25050476, 3569931.194539108, 3609687.7687833654, 3565217.301015786, 3624026.936764186, 3624246.3736520787, 3657447.114241413, 3577874.5101674404, 3606197.2704287213, 3603408.9334369856, 3625968.7404077067, 3546859.156015931, 3543225.0159896957, 3587043.30249913, 3634403.5586267384, 3613792.267802913, 3627385.191487171, 3577028.483051796, 3580028.2651166804, 3586129.0836830055, 3574811.6477565924, 3614855.099482866, 3593948.727045864, 3656968.3664089344, 3656887.7646712554, 3656361.536301032, 3610232.8822855926, 3609599.5538007813, 3554897.6850035805, 3584177.3154666265, 3543838.199583651, 3604397.4190822314]}, {\"name\": \"Best Value\", \"type\": \"scatter\", \"x\": [0, 1, 2, 3, 4, 5, 6, 7, 8, 9, 10, 11, 12, 13, 14, 15, 16, 17, 18, 19, 20, 21, 22, 23, 24, 25, 26, 27, 28, 29, 30, 31, 32, 33, 34, 35, 36, 37, 38, 39, 40, 41, 42, 43, 44, 45, 46, 47, 48, 49, 50, 51, 52, 53, 54, 55, 56, 57, 58, 59, 60, 61, 62, 63, 64, 65, 66, 67, 68, 69, 70, 71, 72, 73, 74, 75, 76, 77, 78, 79, 80, 81, 82, 83, 84, 85, 86, 87, 88, 89, 90, 91, 92, 93, 94, 95, 96, 97, 98, 99], \"y\": [3540496.90799316, 3540496.90799316, 3550412.7805129434, 3550412.7805129434, 3550412.7805129434, 3550412.7805129434, 3550412.7805129434, 3550412.7805129434, 3550412.7805129434, 3550412.7805129434, 3550412.7805129434, 3572301.5665747495, 3584040.7106640195, 3621504.155151263, 3621504.155151263, 3621504.155151263, 3621504.155151263, 3621504.155151263, 3621504.155151263, 3621504.155151263, 3621504.155151263, 3621504.155151263, 3621504.155151263, 3621504.155151263, 3621504.155151263, 3621504.155151263, 3621504.155151263, 3621504.155151263, 3621504.155151263, 3621504.155151263, 3621504.155151263, 3621504.155151263, 3621504.155151263, 3621504.155151263, 3621504.155151263, 3621504.155151263, 3621504.155151263, 3621504.155151263, 3621504.155151263, 3621504.155151263, 3621504.155151263, 3621504.155151263, 3621504.155151263, 3621504.155151263, 3621504.155151263, 3621504.155151263, 3632234.1394868656, 3632234.1394868656, 3632234.1394868656, 3632234.1394868656, 3632234.1394868656, 3632234.1394868656, 3632234.1394868656, 3632234.1394868656, 3632234.1394868656, 3632234.1394868656, 3632234.1394868656, 3632234.1394868656, 3632234.1394868656, 3632234.1394868656, 3632234.1394868656, 3632234.1394868656, 3632234.1394868656, 3632234.1394868656, 3632234.1394868656, 3632234.1394868656, 3632234.1394868656, 3632234.1394868656, 3632234.1394868656, 3632234.1394868656, 3632234.1394868656, 3632234.1394868656, 3632234.1394868656, 3632234.1394868656, 3657447.114241413, 3657447.114241413, 3657447.114241413, 3657447.114241413, 3657447.114241413, 3657447.114241413, 3657447.114241413, 3657447.114241413, 3657447.114241413, 3657447.114241413, 3657447.114241413, 3657447.114241413, 3657447.114241413, 3657447.114241413, 3657447.114241413, 3657447.114241413, 3657447.114241413, 3657447.114241413, 3657447.114241413, 3657447.114241413, 3657447.114241413, 3657447.114241413, 3657447.114241413, 3657447.114241413, 3657447.114241413, 3657447.114241413]}],\n",
              "                        {\"template\": {\"data\": {\"bar\": [{\"error_x\": {\"color\": \"#2a3f5f\"}, \"error_y\": {\"color\": \"#2a3f5f\"}, \"marker\": {\"line\": {\"color\": \"#E5ECF6\", \"width\": 0.5}}, \"type\": \"bar\"}], \"barpolar\": [{\"marker\": {\"line\": {\"color\": \"#E5ECF6\", \"width\": 0.5}}, \"type\": \"barpolar\"}], \"carpet\": [{\"aaxis\": {\"endlinecolor\": \"#2a3f5f\", \"gridcolor\": \"white\", \"linecolor\": \"white\", \"minorgridcolor\": \"white\", \"startlinecolor\": \"#2a3f5f\"}, \"baxis\": {\"endlinecolor\": \"#2a3f5f\", \"gridcolor\": \"white\", \"linecolor\": \"white\", \"minorgridcolor\": \"white\", \"startlinecolor\": \"#2a3f5f\"}, \"type\": \"carpet\"}], \"choropleth\": [{\"colorbar\": {\"outlinewidth\": 0, \"ticks\": \"\"}, \"type\": \"choropleth\"}], \"contour\": [{\"colorbar\": {\"outlinewidth\": 0, \"ticks\": \"\"}, \"colorscale\": [[0.0, \"#0d0887\"], [0.1111111111111111, \"#46039f\"], [0.2222222222222222, \"#7201a8\"], [0.3333333333333333, \"#9c179e\"], [0.4444444444444444, \"#bd3786\"], [0.5555555555555556, \"#d8576b\"], [0.6666666666666666, \"#ed7953\"], [0.7777777777777778, \"#fb9f3a\"], [0.8888888888888888, \"#fdca26\"], [1.0, \"#f0f921\"]], \"type\": \"contour\"}], \"contourcarpet\": [{\"colorbar\": {\"outlinewidth\": 0, \"ticks\": \"\"}, \"type\": \"contourcarpet\"}], \"heatmap\": [{\"colorbar\": {\"outlinewidth\": 0, \"ticks\": \"\"}, \"colorscale\": [[0.0, \"#0d0887\"], [0.1111111111111111, \"#46039f\"], [0.2222222222222222, \"#7201a8\"], [0.3333333333333333, \"#9c179e\"], [0.4444444444444444, \"#bd3786\"], [0.5555555555555556, \"#d8576b\"], [0.6666666666666666, \"#ed7953\"], [0.7777777777777778, \"#fb9f3a\"], [0.8888888888888888, \"#fdca26\"], [1.0, \"#f0f921\"]], \"type\": \"heatmap\"}], \"heatmapgl\": [{\"colorbar\": {\"outlinewidth\": 0, \"ticks\": \"\"}, \"colorscale\": [[0.0, \"#0d0887\"], [0.1111111111111111, \"#46039f\"], [0.2222222222222222, \"#7201a8\"], [0.3333333333333333, \"#9c179e\"], [0.4444444444444444, \"#bd3786\"], [0.5555555555555556, \"#d8576b\"], [0.6666666666666666, \"#ed7953\"], [0.7777777777777778, \"#fb9f3a\"], [0.8888888888888888, \"#fdca26\"], [1.0, \"#f0f921\"]], \"type\": \"heatmapgl\"}], \"histogram\": [{\"marker\": {\"colorbar\": {\"outlinewidth\": 0, \"ticks\": \"\"}}, \"type\": \"histogram\"}], \"histogram2d\": [{\"colorbar\": {\"outlinewidth\": 0, \"ticks\": \"\"}, \"colorscale\": [[0.0, \"#0d0887\"], [0.1111111111111111, \"#46039f\"], [0.2222222222222222, \"#7201a8\"], [0.3333333333333333, \"#9c179e\"], [0.4444444444444444, \"#bd3786\"], [0.5555555555555556, \"#d8576b\"], [0.6666666666666666, \"#ed7953\"], [0.7777777777777778, \"#fb9f3a\"], [0.8888888888888888, \"#fdca26\"], [1.0, \"#f0f921\"]], \"type\": \"histogram2d\"}], \"histogram2dcontour\": [{\"colorbar\": {\"outlinewidth\": 0, \"ticks\": \"\"}, \"colorscale\": [[0.0, \"#0d0887\"], [0.1111111111111111, \"#46039f\"], [0.2222222222222222, \"#7201a8\"], [0.3333333333333333, \"#9c179e\"], [0.4444444444444444, \"#bd3786\"], [0.5555555555555556, \"#d8576b\"], [0.6666666666666666, \"#ed7953\"], [0.7777777777777778, \"#fb9f3a\"], [0.8888888888888888, \"#fdca26\"], [1.0, \"#f0f921\"]], \"type\": \"histogram2dcontour\"}], \"mesh3d\": [{\"colorbar\": {\"outlinewidth\": 0, \"ticks\": \"\"}, \"type\": \"mesh3d\"}], \"parcoords\": [{\"line\": {\"colorbar\": {\"outlinewidth\": 0, \"ticks\": \"\"}}, \"type\": \"parcoords\"}], \"pie\": [{\"automargin\": true, \"type\": \"pie\"}], \"scatter\": [{\"marker\": {\"colorbar\": {\"outlinewidth\": 0, \"ticks\": \"\"}}, \"type\": \"scatter\"}], \"scatter3d\": [{\"line\": {\"colorbar\": {\"outlinewidth\": 0, \"ticks\": \"\"}}, \"marker\": {\"colorbar\": {\"outlinewidth\": 0, \"ticks\": \"\"}}, \"type\": \"scatter3d\"}], \"scattercarpet\": [{\"marker\": {\"colorbar\": {\"outlinewidth\": 0, \"ticks\": \"\"}}, \"type\": \"scattercarpet\"}], \"scattergeo\": [{\"marker\": {\"colorbar\": {\"outlinewidth\": 0, \"ticks\": \"\"}}, \"type\": \"scattergeo\"}], \"scattergl\": [{\"marker\": {\"colorbar\": {\"outlinewidth\": 0, \"ticks\": \"\"}}, \"type\": \"scattergl\"}], \"scattermapbox\": [{\"marker\": {\"colorbar\": {\"outlinewidth\": 0, \"ticks\": \"\"}}, \"type\": \"scattermapbox\"}], \"scatterpolar\": [{\"marker\": {\"colorbar\": {\"outlinewidth\": 0, \"ticks\": \"\"}}, \"type\": \"scatterpolar\"}], \"scatterpolargl\": [{\"marker\": {\"colorbar\": {\"outlinewidth\": 0, \"ticks\": \"\"}}, \"type\": \"scatterpolargl\"}], \"scatterternary\": [{\"marker\": {\"colorbar\": {\"outlinewidth\": 0, \"ticks\": \"\"}}, \"type\": \"scatterternary\"}], \"surface\": [{\"colorbar\": {\"outlinewidth\": 0, \"ticks\": \"\"}, \"colorscale\": [[0.0, \"#0d0887\"], [0.1111111111111111, \"#46039f\"], [0.2222222222222222, \"#7201a8\"], [0.3333333333333333, \"#9c179e\"], [0.4444444444444444, \"#bd3786\"], [0.5555555555555556, \"#d8576b\"], [0.6666666666666666, \"#ed7953\"], [0.7777777777777778, \"#fb9f3a\"], [0.8888888888888888, \"#fdca26\"], [1.0, \"#f0f921\"]], \"type\": \"surface\"}], \"table\": [{\"cells\": {\"fill\": {\"color\": \"#EBF0F8\"}, \"line\": {\"color\": \"white\"}}, \"header\": {\"fill\": {\"color\": \"#C8D4E3\"}, \"line\": {\"color\": \"white\"}}, \"type\": \"table\"}]}, \"layout\": {\"annotationdefaults\": {\"arrowcolor\": \"#2a3f5f\", \"arrowhead\": 0, \"arrowwidth\": 1}, \"coloraxis\": {\"colorbar\": {\"outlinewidth\": 0, \"ticks\": \"\"}}, \"colorscale\": {\"diverging\": [[0, \"#8e0152\"], [0.1, \"#c51b7d\"], [0.2, \"#de77ae\"], [0.3, \"#f1b6da\"], [0.4, \"#fde0ef\"], [0.5, \"#f7f7f7\"], [0.6, \"#e6f5d0\"], [0.7, \"#b8e186\"], [0.8, \"#7fbc41\"], [0.9, \"#4d9221\"], [1, \"#276419\"]], \"sequential\": [[0.0, \"#0d0887\"], [0.1111111111111111, \"#46039f\"], [0.2222222222222222, \"#7201a8\"], [0.3333333333333333, \"#9c179e\"], [0.4444444444444444, \"#bd3786\"], [0.5555555555555556, \"#d8576b\"], [0.6666666666666666, \"#ed7953\"], [0.7777777777777778, \"#fb9f3a\"], [0.8888888888888888, \"#fdca26\"], [1.0, \"#f0f921\"]], \"sequentialminus\": [[0.0, \"#0d0887\"], [0.1111111111111111, \"#46039f\"], [0.2222222222222222, \"#7201a8\"], [0.3333333333333333, \"#9c179e\"], [0.4444444444444444, \"#bd3786\"], [0.5555555555555556, \"#d8576b\"], [0.6666666666666666, \"#ed7953\"], [0.7777777777777778, \"#fb9f3a\"], [0.8888888888888888, \"#fdca26\"], [1.0, \"#f0f921\"]]}, \"colorway\": [\"#636efa\", \"#EF553B\", \"#00cc96\", \"#ab63fa\", \"#FFA15A\", \"#19d3f3\", \"#FF6692\", \"#B6E880\", \"#FF97FF\", \"#FECB52\"], \"font\": {\"color\": \"#2a3f5f\"}, \"geo\": {\"bgcolor\": \"white\", \"lakecolor\": \"white\", \"landcolor\": \"#E5ECF6\", \"showlakes\": true, \"showland\": true, \"subunitcolor\": \"white\"}, \"hoverlabel\": {\"align\": \"left\"}, \"hovermode\": \"closest\", \"mapbox\": {\"style\": \"light\"}, \"paper_bgcolor\": \"white\", \"plot_bgcolor\": \"#E5ECF6\", \"polar\": {\"angularaxis\": {\"gridcolor\": \"white\", \"linecolor\": \"white\", \"ticks\": \"\"}, \"bgcolor\": \"#E5ECF6\", \"radialaxis\": {\"gridcolor\": \"white\", \"linecolor\": \"white\", \"ticks\": \"\"}}, \"scene\": {\"xaxis\": {\"backgroundcolor\": \"#E5ECF6\", \"gridcolor\": \"white\", \"gridwidth\": 2, \"linecolor\": \"white\", \"showbackground\": true, \"ticks\": \"\", \"zerolinecolor\": \"white\"}, \"yaxis\": {\"backgroundcolor\": \"#E5ECF6\", \"gridcolor\": \"white\", \"gridwidth\": 2, \"linecolor\": \"white\", \"showbackground\": true, \"ticks\": \"\", \"zerolinecolor\": \"white\"}, \"zaxis\": {\"backgroundcolor\": \"#E5ECF6\", \"gridcolor\": \"white\", \"gridwidth\": 2, \"linecolor\": \"white\", \"showbackground\": true, \"ticks\": \"\", \"zerolinecolor\": \"white\"}}, \"shapedefaults\": {\"line\": {\"color\": \"#2a3f5f\"}}, \"ternary\": {\"aaxis\": {\"gridcolor\": \"white\", \"linecolor\": \"white\", \"ticks\": \"\"}, \"baxis\": {\"gridcolor\": \"white\", \"linecolor\": \"white\", \"ticks\": \"\"}, \"bgcolor\": \"#E5ECF6\", \"caxis\": {\"gridcolor\": \"white\", \"linecolor\": \"white\", \"ticks\": \"\"}}, \"title\": {\"x\": 0.05}, \"xaxis\": {\"automargin\": true, \"gridcolor\": \"white\", \"linecolor\": \"white\", \"ticks\": \"\", \"title\": {\"standoff\": 15}, \"zerolinecolor\": \"white\", \"zerolinewidth\": 2}, \"yaxis\": {\"automargin\": true, \"gridcolor\": \"white\", \"linecolor\": \"white\", \"ticks\": \"\", \"title\": {\"standoff\": 15}, \"zerolinecolor\": \"white\", \"zerolinewidth\": 2}}}, \"title\": {\"text\": \"Optimization History Plot\"}, \"xaxis\": {\"title\": {\"text\": \"#Trials\"}}, \"yaxis\": {\"title\": {\"text\": \"Objective Value\"}}},\n",
              "                        {\"responsive\": true}\n",
              "                    ).then(function(){\n",
              "                            \n",
              "var gd = document.getElementById('1fd9c441-954e-42e3-a4ba-86638829be6d');\n",
              "var x = new MutationObserver(function (mutations, observer) {{\n",
              "        var display = window.getComputedStyle(gd).display;\n",
              "        if (!display || display === 'none') {{\n",
              "            console.log([gd, 'removed!']);\n",
              "            Plotly.purge(gd);\n",
              "            observer.disconnect();\n",
              "        }}\n",
              "}});\n",
              "\n",
              "// Listen for the removal of the full notebook cells\n",
              "var notebookContainer = gd.closest('#notebook-container');\n",
              "if (notebookContainer) {{\n",
              "    x.observe(notebookContainer, {childList: true});\n",
              "}}\n",
              "\n",
              "// Listen for the clearing of the current output cell\n",
              "var outputEl = gd.closest('.output');\n",
              "if (outputEl) {{\n",
              "    x.observe(outputEl, {childList: true});\n",
              "}}\n",
              "\n",
              "                        })\n",
              "                };\n",
              "                \n",
              "            </script>\n",
              "        </div>\n",
              "</body>\n",
              "</html>"
            ]
          },
          "metadata": {
            "tags": []
          }
        }
      ]
    },
    {
      "cell_type": "code",
      "metadata": {
        "colab": {
          "base_uri": "https://localhost:8080/",
          "height": 560
        },
        "id": "n9LnfuUqDwu8",
        "outputId": "f222503b-04fb-4ccb-ffaa-2d1800f29526"
      },
      "source": [
        "plot_intermediate_values(study)"
      ],
      "execution_count": 25,
      "outputs": [
        {
          "output_type": "stream",
          "text": [
            "\u001b[33m[W 2020-12-23 03:45:06,277]\u001b[0m You need to set up the pruning feature to utilize `plot_intermediate_values()`\u001b[0m\n"
          ],
          "name": "stderr"
        },
        {
          "output_type": "display_data",
          "data": {
            "text/html": [
              "<html>\n",
              "<head><meta charset=\"utf-8\" /></head>\n",
              "<body>\n",
              "    <div>\n",
              "            <script src=\"https://cdnjs.cloudflare.com/ajax/libs/mathjax/2.7.5/MathJax.js?config=TeX-AMS-MML_SVG\"></script><script type=\"text/javascript\">if (window.MathJax) {MathJax.Hub.Config({SVG: {font: \"STIX-Web\"}});}</script>\n",
              "                <script type=\"text/javascript\">window.PlotlyConfig = {MathJaxConfig: 'local'};</script>\n",
              "        <script src=\"https://cdn.plot.ly/plotly-latest.min.js\"></script>    \n",
              "            <div id=\"2b7f5e3e-f3eb-432e-8204-d879e7b6bc9a\" class=\"plotly-graph-div\" style=\"height:525px; width:100%;\"></div>\n",
              "            <script type=\"text/javascript\">\n",
              "                \n",
              "                    window.PLOTLYENV=window.PLOTLYENV || {};\n",
              "                    \n",
              "                if (document.getElementById(\"2b7f5e3e-f3eb-432e-8204-d879e7b6bc9a\")) {\n",
              "                    Plotly.newPlot(\n",
              "                        '2b7f5e3e-f3eb-432e-8204-d879e7b6bc9a',\n",
              "                        [],\n",
              "                        {\"showlegend\": false, \"template\": {\"data\": {\"bar\": [{\"error_x\": {\"color\": \"#2a3f5f\"}, \"error_y\": {\"color\": \"#2a3f5f\"}, \"marker\": {\"line\": {\"color\": \"#E5ECF6\", \"width\": 0.5}}, \"type\": \"bar\"}], \"barpolar\": [{\"marker\": {\"line\": {\"color\": \"#E5ECF6\", \"width\": 0.5}}, \"type\": \"barpolar\"}], \"carpet\": [{\"aaxis\": {\"endlinecolor\": \"#2a3f5f\", \"gridcolor\": \"white\", \"linecolor\": \"white\", \"minorgridcolor\": \"white\", \"startlinecolor\": \"#2a3f5f\"}, \"baxis\": {\"endlinecolor\": \"#2a3f5f\", \"gridcolor\": \"white\", \"linecolor\": \"white\", \"minorgridcolor\": \"white\", \"startlinecolor\": \"#2a3f5f\"}, \"type\": \"carpet\"}], \"choropleth\": [{\"colorbar\": {\"outlinewidth\": 0, \"ticks\": \"\"}, \"type\": \"choropleth\"}], \"contour\": [{\"colorbar\": {\"outlinewidth\": 0, \"ticks\": \"\"}, \"colorscale\": [[0.0, \"#0d0887\"], [0.1111111111111111, \"#46039f\"], [0.2222222222222222, \"#7201a8\"], [0.3333333333333333, \"#9c179e\"], [0.4444444444444444, \"#bd3786\"], [0.5555555555555556, \"#d8576b\"], [0.6666666666666666, \"#ed7953\"], [0.7777777777777778, \"#fb9f3a\"], [0.8888888888888888, \"#fdca26\"], [1.0, \"#f0f921\"]], \"type\": \"contour\"}], \"contourcarpet\": [{\"colorbar\": {\"outlinewidth\": 0, \"ticks\": \"\"}, \"type\": \"contourcarpet\"}], \"heatmap\": [{\"colorbar\": {\"outlinewidth\": 0, \"ticks\": \"\"}, \"colorscale\": [[0.0, \"#0d0887\"], [0.1111111111111111, \"#46039f\"], [0.2222222222222222, \"#7201a8\"], [0.3333333333333333, \"#9c179e\"], [0.4444444444444444, \"#bd3786\"], [0.5555555555555556, \"#d8576b\"], [0.6666666666666666, \"#ed7953\"], [0.7777777777777778, \"#fb9f3a\"], [0.8888888888888888, \"#fdca26\"], [1.0, \"#f0f921\"]], \"type\": \"heatmap\"}], \"heatmapgl\": [{\"colorbar\": {\"outlinewidth\": 0, \"ticks\": \"\"}, \"colorscale\": [[0.0, \"#0d0887\"], [0.1111111111111111, \"#46039f\"], [0.2222222222222222, \"#7201a8\"], [0.3333333333333333, \"#9c179e\"], [0.4444444444444444, \"#bd3786\"], [0.5555555555555556, \"#d8576b\"], [0.6666666666666666, \"#ed7953\"], [0.7777777777777778, \"#fb9f3a\"], [0.8888888888888888, \"#fdca26\"], [1.0, \"#f0f921\"]], \"type\": \"heatmapgl\"}], \"histogram\": [{\"marker\": {\"colorbar\": {\"outlinewidth\": 0, \"ticks\": \"\"}}, \"type\": \"histogram\"}], \"histogram2d\": [{\"colorbar\": {\"outlinewidth\": 0, \"ticks\": \"\"}, \"colorscale\": [[0.0, \"#0d0887\"], [0.1111111111111111, \"#46039f\"], [0.2222222222222222, \"#7201a8\"], [0.3333333333333333, \"#9c179e\"], [0.4444444444444444, \"#bd3786\"], [0.5555555555555556, \"#d8576b\"], [0.6666666666666666, \"#ed7953\"], [0.7777777777777778, \"#fb9f3a\"], [0.8888888888888888, \"#fdca26\"], [1.0, \"#f0f921\"]], \"type\": \"histogram2d\"}], \"histogram2dcontour\": [{\"colorbar\": {\"outlinewidth\": 0, \"ticks\": \"\"}, \"colorscale\": [[0.0, \"#0d0887\"], [0.1111111111111111, \"#46039f\"], [0.2222222222222222, \"#7201a8\"], [0.3333333333333333, \"#9c179e\"], [0.4444444444444444, \"#bd3786\"], [0.5555555555555556, \"#d8576b\"], [0.6666666666666666, \"#ed7953\"], [0.7777777777777778, \"#fb9f3a\"], [0.8888888888888888, \"#fdca26\"], [1.0, \"#f0f921\"]], \"type\": \"histogram2dcontour\"}], \"mesh3d\": [{\"colorbar\": {\"outlinewidth\": 0, \"ticks\": \"\"}, \"type\": \"mesh3d\"}], \"parcoords\": [{\"line\": {\"colorbar\": {\"outlinewidth\": 0, \"ticks\": \"\"}}, \"type\": \"parcoords\"}], \"pie\": [{\"automargin\": true, \"type\": \"pie\"}], \"scatter\": [{\"marker\": {\"colorbar\": {\"outlinewidth\": 0, \"ticks\": \"\"}}, \"type\": \"scatter\"}], \"scatter3d\": [{\"line\": {\"colorbar\": {\"outlinewidth\": 0, \"ticks\": \"\"}}, \"marker\": {\"colorbar\": {\"outlinewidth\": 0, \"ticks\": \"\"}}, \"type\": \"scatter3d\"}], \"scattercarpet\": [{\"marker\": {\"colorbar\": {\"outlinewidth\": 0, \"ticks\": \"\"}}, \"type\": \"scattercarpet\"}], \"scattergeo\": [{\"marker\": {\"colorbar\": {\"outlinewidth\": 0, \"ticks\": \"\"}}, \"type\": \"scattergeo\"}], \"scattergl\": [{\"marker\": {\"colorbar\": {\"outlinewidth\": 0, \"ticks\": \"\"}}, \"type\": \"scattergl\"}], \"scattermapbox\": [{\"marker\": {\"colorbar\": {\"outlinewidth\": 0, \"ticks\": \"\"}}, \"type\": \"scattermapbox\"}], \"scatterpolar\": [{\"marker\": {\"colorbar\": {\"outlinewidth\": 0, \"ticks\": \"\"}}, \"type\": \"scatterpolar\"}], \"scatterpolargl\": [{\"marker\": {\"colorbar\": {\"outlinewidth\": 0, \"ticks\": \"\"}}, \"type\": \"scatterpolargl\"}], \"scatterternary\": [{\"marker\": {\"colorbar\": {\"outlinewidth\": 0, \"ticks\": \"\"}}, \"type\": \"scatterternary\"}], \"surface\": [{\"colorbar\": {\"outlinewidth\": 0, \"ticks\": \"\"}, \"colorscale\": [[0.0, \"#0d0887\"], [0.1111111111111111, \"#46039f\"], [0.2222222222222222, \"#7201a8\"], [0.3333333333333333, \"#9c179e\"], [0.4444444444444444, \"#bd3786\"], [0.5555555555555556, \"#d8576b\"], [0.6666666666666666, \"#ed7953\"], [0.7777777777777778, \"#fb9f3a\"], [0.8888888888888888, \"#fdca26\"], [1.0, \"#f0f921\"]], \"type\": \"surface\"}], \"table\": [{\"cells\": {\"fill\": {\"color\": \"#EBF0F8\"}, \"line\": {\"color\": \"white\"}}, \"header\": {\"fill\": {\"color\": \"#C8D4E3\"}, \"line\": {\"color\": \"white\"}}, \"type\": \"table\"}]}, \"layout\": {\"annotationdefaults\": {\"arrowcolor\": \"#2a3f5f\", \"arrowhead\": 0, \"arrowwidth\": 1}, \"coloraxis\": {\"colorbar\": {\"outlinewidth\": 0, \"ticks\": \"\"}}, \"colorscale\": {\"diverging\": [[0, \"#8e0152\"], [0.1, \"#c51b7d\"], [0.2, \"#de77ae\"], [0.3, \"#f1b6da\"], [0.4, \"#fde0ef\"], [0.5, \"#f7f7f7\"], [0.6, \"#e6f5d0\"], [0.7, \"#b8e186\"], [0.8, \"#7fbc41\"], [0.9, \"#4d9221\"], [1, \"#276419\"]], \"sequential\": [[0.0, \"#0d0887\"], [0.1111111111111111, \"#46039f\"], [0.2222222222222222, \"#7201a8\"], [0.3333333333333333, \"#9c179e\"], [0.4444444444444444, \"#bd3786\"], [0.5555555555555556, \"#d8576b\"], [0.6666666666666666, \"#ed7953\"], [0.7777777777777778, \"#fb9f3a\"], [0.8888888888888888, \"#fdca26\"], [1.0, \"#f0f921\"]], \"sequentialminus\": [[0.0, \"#0d0887\"], [0.1111111111111111, \"#46039f\"], [0.2222222222222222, \"#7201a8\"], [0.3333333333333333, \"#9c179e\"], [0.4444444444444444, \"#bd3786\"], [0.5555555555555556, \"#d8576b\"], [0.6666666666666666, \"#ed7953\"], [0.7777777777777778, \"#fb9f3a\"], [0.8888888888888888, \"#fdca26\"], [1.0, \"#f0f921\"]]}, \"colorway\": [\"#636efa\", \"#EF553B\", \"#00cc96\", \"#ab63fa\", \"#FFA15A\", \"#19d3f3\", \"#FF6692\", \"#B6E880\", \"#FF97FF\", \"#FECB52\"], \"font\": {\"color\": \"#2a3f5f\"}, \"geo\": {\"bgcolor\": \"white\", \"lakecolor\": \"white\", \"landcolor\": \"#E5ECF6\", \"showlakes\": true, \"showland\": true, \"subunitcolor\": \"white\"}, \"hoverlabel\": {\"align\": \"left\"}, \"hovermode\": \"closest\", \"mapbox\": {\"style\": \"light\"}, \"paper_bgcolor\": \"white\", \"plot_bgcolor\": \"#E5ECF6\", \"polar\": {\"angularaxis\": {\"gridcolor\": \"white\", \"linecolor\": \"white\", \"ticks\": \"\"}, \"bgcolor\": \"#E5ECF6\", \"radialaxis\": {\"gridcolor\": \"white\", \"linecolor\": \"white\", \"ticks\": \"\"}}, \"scene\": {\"xaxis\": {\"backgroundcolor\": \"#E5ECF6\", \"gridcolor\": \"white\", \"gridwidth\": 2, \"linecolor\": \"white\", \"showbackground\": true, \"ticks\": \"\", \"zerolinecolor\": \"white\"}, \"yaxis\": {\"backgroundcolor\": \"#E5ECF6\", \"gridcolor\": \"white\", \"gridwidth\": 2, \"linecolor\": \"white\", \"showbackground\": true, \"ticks\": \"\", \"zerolinecolor\": \"white\"}, \"zaxis\": {\"backgroundcolor\": \"#E5ECF6\", \"gridcolor\": \"white\", \"gridwidth\": 2, \"linecolor\": \"white\", \"showbackground\": true, \"ticks\": \"\", \"zerolinecolor\": \"white\"}}, \"shapedefaults\": {\"line\": {\"color\": \"#2a3f5f\"}}, \"ternary\": {\"aaxis\": {\"gridcolor\": \"white\", \"linecolor\": \"white\", \"ticks\": \"\"}, \"baxis\": {\"gridcolor\": \"white\", \"linecolor\": \"white\", \"ticks\": \"\"}, \"bgcolor\": \"#E5ECF6\", \"caxis\": {\"gridcolor\": \"white\", \"linecolor\": \"white\", \"ticks\": \"\"}}, \"title\": {\"x\": 0.05}, \"xaxis\": {\"automargin\": true, \"gridcolor\": \"white\", \"linecolor\": \"white\", \"ticks\": \"\", \"title\": {\"standoff\": 15}, \"zerolinecolor\": \"white\", \"zerolinewidth\": 2}, \"yaxis\": {\"automargin\": true, \"gridcolor\": \"white\", \"linecolor\": \"white\", \"ticks\": \"\", \"title\": {\"standoff\": 15}, \"zerolinecolor\": \"white\", \"zerolinewidth\": 2}}}, \"title\": {\"text\": \"Intermediate Values Plot\"}, \"xaxis\": {\"title\": {\"text\": \"Step\"}}, \"yaxis\": {\"title\": {\"text\": \"Intermediate Value\"}}},\n",
              "                        {\"responsive\": true}\n",
              "                    ).then(function(){\n",
              "                            \n",
              "var gd = document.getElementById('2b7f5e3e-f3eb-432e-8204-d879e7b6bc9a');\n",
              "var x = new MutationObserver(function (mutations, observer) {{\n",
              "        var display = window.getComputedStyle(gd).display;\n",
              "        if (!display || display === 'none') {{\n",
              "            console.log([gd, 'removed!']);\n",
              "            Plotly.purge(gd);\n",
              "            observer.disconnect();\n",
              "        }}\n",
              "}});\n",
              "\n",
              "// Listen for the removal of the full notebook cells\n",
              "var notebookContainer = gd.closest('#notebook-container');\n",
              "if (notebookContainer) {{\n",
              "    x.observe(notebookContainer, {childList: true});\n",
              "}}\n",
              "\n",
              "// Listen for the clearing of the current output cell\n",
              "var outputEl = gd.closest('.output');\n",
              "if (outputEl) {{\n",
              "    x.observe(outputEl, {childList: true});\n",
              "}}\n",
              "\n",
              "                        })\n",
              "                };\n",
              "                \n",
              "            </script>\n",
              "        </div>\n",
              "</body>\n",
              "</html>"
            ]
          },
          "metadata": {
            "tags": []
          }
        }
      ]
    },
    {
      "cell_type": "markdown",
      "metadata": {
        "id": "pveL3BaNEO-P"
      },
      "source": [
        "# Functions to plot the result of LightGBM:\r\n",
        "- [ROC_AUC曲線の解説、実装と欠点](https://sammi-baba.hatenablog.com/entry/2019/07/28/195122)"
      ]
    },
    {
      "cell_type": "code",
      "metadata": {
        "id": "qwRZc-JITDBO"
      },
      "source": [
        "def ROC_curve(y_true, y_pred):\r\n",
        "  fpr, tpr,thred = roc_curve(y_true, y_pred)\r\n",
        "  roc_auc = auc(fpr, tpr)\r\n",
        "  plt.figure()\r\n",
        "  lw = 2\r\n",
        "  plt.plot(fpr, tpr, color='darkorange',lw=lw, label='ROC curve (area = %0.2f)' % roc_auc)\r\n",
        "  plt.plot([0, 1], [0, 1], color='navy', lw=lw, linestyle='--')\r\n",
        "  plt.xlabel('False Positive Rate')\r\n",
        "  plt.ylabel('True Positive Rate')\r\n",
        "  plt.title('Receiver operating characteristic example')\r\n",
        "  plt.legend(loc=\"lower right\")\r\n",
        "  plt.show()"
      ],
      "execution_count": 26,
      "outputs": []
    },
    {
      "cell_type": "code",
      "metadata": {
        "id": "bO_r4xDHP8R7"
      },
      "source": [
        "# Make the model of LightGBM and plot results.\r\n",
        "def LightGBM(params, lgb_train, lgb_valid, num_boost_round, verbose_eval, FEATS):\r\n",
        "  # To record evaluation results for plotting\r\n",
        "  evaluation_result = {}\r\n",
        "  # Training\r\n",
        "  model = lgb.train(params,\r\n",
        "                    lgb_train,\r\n",
        "                    valid_sets = [lgb_train, lgb_valid],\r\n",
        "                    num_boost_round = num_boost_round,\r\n",
        "                    verbose_eval = verbose_eval,\r\n",
        "                    evals_result = evaluation_result\r\n",
        "                    )\r\n",
        "  # Predict to validate the model\r\n",
        "  y_pred = model.predict(valid[FEATS], num_iteration=model.best_iteration)\r\n",
        "  accuracy = roc_auc_score(y_va, y_pred, labels='ROC curve', average='weighted', multi_class='raise')\r\n",
        "  print('ROC curve:', accuracy)\r\n",
        "  ROC_curve(y_va, y_pred)\r\n",
        "  \"\"\"\r\n",
        "  # Plots\r\n",
        "  lgb.plot_importance(model)\r\n",
        "  plt.show()\r\n",
        "  for feature in FEATS:\r\n",
        "    lgb.plot_split_value_histogram(model, feature=feature)\r\n",
        "    plt.show()\r\n",
        "  lgb.plot_metric(evaluation_result, metric='auc')\r\n",
        "  plt.show()\r\n",
        "  lgb.plot_tree(model, figsize=(30, 50))\r\n",
        "  plt.show()\r\n",
        "  lgb.create_tree_digraph(model, tree_index=int(20), name='Tree digraph')\r\n",
        "  plt.show()\r\n",
        "  \"\"\"\r\n",
        "  # Finish\r\n",
        "  print(\"This function is completed.\")\r\n",
        "  # The result\r\n",
        "  return model"
      ],
      "execution_count": 33,
      "outputs": []
    },
    {
      "cell_type": "markdown",
      "metadata": {
        "id": "FVJ131Dn_P3d"
      },
      "source": [
        "# The best model of LightGBM:"
      ]
    },
    {
      "cell_type": "code",
      "metadata": {
        "id": "Z08kNeTJk-au",
        "colab": {
          "base_uri": "https://localhost:8080/",
          "height": 471
        },
        "outputId": "053db909-f766-4d02-edf2-d4e94e548f35"
      },
      "source": [
        "model = LightGBM(params, lgb_train, lgb_valid, num_boost_round, verbose_eval, FEATS)"
      ],
      "execution_count": 34,
      "outputs": [
        {
          "output_type": "stream",
          "text": [
            "[LightGBM] [Info] Number of positive: 6296107, number of negative: 3262912\n",
            "[LightGBM] [Warning] Auto-choosing row-wise multi-threading, the overhead of testing was 0.209264 seconds.\n",
            "You can set `force_row_wise=true` to remove the overhead.\n",
            "And if memory is not enough, you can set `force_col_wise=true`.\n",
            "[LightGBM] [Info] Total Bins 1284\n",
            "[LightGBM] [Info] Number of data points in the train set: 9559019, number of used features: 7\n",
            "[LightGBM] [Info] [binary:BoostFromScore]: pavg=0.658656 -> initscore=0.657311\n",
            "[LightGBM] [Info] Start training from score 0.657311\n",
            "ROC curve: 0.7519802806699111\n"
          ],
          "name": "stdout"
        },
        {
          "output_type": "display_data",
          "data": {
            "image/png": "[encoded data removed]",
            "text/plain": [
              "<Figure size 432x288 with 1 Axes>"
            ]
          },
          "metadata": {
            "tags": [],
            "needs_background": "light"
          }
        },
        {
          "output_type": "stream",
          "text": [
            "This function is completed.\n"
          ],
          "name": "stdout"
        }
      ]
    },
    {
      "cell_type": "code",
      "metadata": {
        "id": "ste6BCFqJVvp"
      },
      "source": [
        "pickle.dump(model, open('The_best_of_model_on_LightGBM.pickle', 'wb'))"
      ],
      "execution_count": 35,
      "outputs": []
    },
    {
      "cell_type": "markdown",
      "metadata": {
        "id": "4H5fRqviRZ9c"
      },
      "source": [
        "# Pointing out by [@tito](https://www.kaggle.com/its7171)\r\n",
        "1. You can debug your inference code to reduce \"Submission Scoring Error\" with `validaten_flg = True`.\r\n",
        "1. Please refer [Time-series API (iter_test) Emulator](https://www.kaggle.com/its7171/time-series-api-iter-test-emulator) about Time-series API (iter_test) Emulator."
      ]
    },
    {
      "cell_type": "markdown",
      "metadata": {
        "id": "2XeB0kv777wS"
      },
      "source": [
        "# Validaten\r\n",
        "1. You would like to focus on validation;\r\n",
        "1. Set 'would like to';\r\n",
        "1. And run following:"
      ]
    },
    {
      "cell_type": "code",
      "metadata": {
        "id": "hxwcBKus0R3B"
      },
      "source": [
        "if validaten_flg:\n",
        "    target_df = pd.read_pickle(valid_pickle)\n",
        "    if debug:\n",
        "        target_df = target_df[:10000]\n",
        "    iter_test = Iter_Valid(target_df,max_user=1000)\n",
        "    predicted = []\n",
        "    def set_predict(df):\n",
        "        predicted.append(df)\n",
        "    # reset answered_correctly_sum_u_dict and count_u_dict\n",
        "    answered_correctly_sum_u_dict = defaultdict(int)\n",
        "    count_u_dict = defaultdict(int)\n",
        "    train = pd.read_pickle(train_pickle)[['user_id','answered_correctly','content_type_id']]\n",
        "    if debug:\n",
        "        train = train[:1000000]\n",
        "    train = train[train.content_type_id == False].reset_index(drop=True)\n",
        "    update_user_feats(train, answered_correctly_sum_u_dict, count_u_dict)\n",
        "    del train\n",
        "    y_true = target_df[target_df.content_type_id == 0].answered_correctly\n",
        "    y_pred = pd.concat(predicted).answered_correctly\n",
        "    print(roc_auc_score(y_true, y_pred))\n",
        "    print(roc_curve(y_true, y_pred))"
      ],
      "execution_count": 36,
      "outputs": []
    },
    {
      "cell_type": "code",
      "metadata": {
        "id": "QaH2iDkzaooc",
        "colab": {
          "base_uri": "https://localhost:8080/"
        },
        "outputId": "0a9141f0-3aaa-4a5a-8f22-83f8155e89d0"
      },
      "source": [
        "print(\"Operation completed.\")"
      ],
      "execution_count": 37,
      "outputs": [
        {
          "output_type": "stream",
          "text": [
            "Operation completed.\n"
          ],
          "name": "stdout"
        }
      ]
    }
  ]
}
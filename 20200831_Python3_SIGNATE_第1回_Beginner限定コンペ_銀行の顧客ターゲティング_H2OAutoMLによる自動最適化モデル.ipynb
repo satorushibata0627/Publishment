{
  "nbformat": 4,
  "nbformat_minor": 0,
  "metadata": {
    "kernelspec": {
      "display_name": "Python 3",
      "language": "python",
      "name": "python3"
    },
    "language_info": {
      "codemirror_mode": {
        "name": "ipython",
        "version": 3
      },
      "file_extension": ".py",
      "mimetype": "text/x-python",
      "name": "python",
      "nbconvert_exporter": "python",
      "pygments_lexer": "ipython3",
      "version": "3.8.5"
    },
    "colab": {
      "name": "H2OAutoMLによる自動最適化モデル.ipynb",
      "provenance": [],
      "collapsed_sections": []
    },
    "accelerator": "TPU"
  },
  "cells": [
    {
      "cell_type": "code",
      "metadata": {
        "id": "9m3IL-oGhI24"
      },
      "source": [
        "import pandas as pd\n",
        "import numpy as np\n",
        "import h2o\n",
        "from h2o.automl import H2OAutoML"
      ],
      "execution_count": 1,
      "outputs": []
    },
    {
      "cell_type": "code",
      "metadata": {
        "id": "hxcrHszqhI25"
      },
      "source": [
        "from h2o.estimators import H2OXGBoostEstimator"
      ],
      "execution_count": 2,
      "outputs": []
    },
    {
      "cell_type": "code",
      "metadata": {
        "colab": {
          "base_uri": "https://localhost:8080/",
          "height": 534
        },
        "id": "B2LjftEYhI25",
        "outputId": "1e059620-ebf9-40de-d8bc-51000813e39e"
      },
      "source": [
        "h2o.init(max_mem_size = \"20g\")"
      ],
      "execution_count": 3,
      "outputs": [
        {
          "output_type": "stream",
          "text": [
            "Checking whether there is an H2O instance running at http://localhost:54321 ..... not found.\n",
            "Attempting to start a local H2O server...\n",
            "  Java Version: openjdk version \"11.0.9.1\" 2020-11-04; OpenJDK Runtime Environment (build 11.0.9.1+1-Ubuntu-0ubuntu1.18.04); OpenJDK 64-Bit Server VM (build 11.0.9.1+1-Ubuntu-0ubuntu1.18.04, mixed mode, sharing)\n",
            "  Starting server from /usr/local/lib/python3.6/dist-packages/h2o/backend/bin/h2o.jar\n",
            "  Ice root: /tmp/tmpok0eedo5\n",
            "  JVM stdout: /tmp/tmpok0eedo5/h2o_unknownUser_started_from_python.out\n",
            "  JVM stderr: /tmp/tmpok0eedo5/h2o_unknownUser_started_from_python.err\n",
            "  Server is running at http://127.0.0.1:54321\n",
            "Connecting to H2O server at http://127.0.0.1:54321 ... successful.\n"
          ],
          "name": "stdout"
        },
        {
          "output_type": "display_data",
          "data": {
            "text/html": [
              "<div style=\"overflow:auto\"><table style=\"width:50%\"><tr><td>H2O_cluster_uptime:</td>\n",
              "<td>02 secs</td></tr>\n",
              "<tr><td>H2O_cluster_timezone:</td>\n",
              "<td>Etc/UTC</td></tr>\n",
              "<tr><td>H2O_data_parsing_timezone:</td>\n",
              "<td>UTC</td></tr>\n",
              "<tr><td>H2O_cluster_version:</td>\n",
              "<td>3.32.0.2</td></tr>\n",
              "<tr><td>H2O_cluster_version_age:</td>\n",
              "<td>14 days, 9 hours and 48 minutes </td></tr>\n",
              "<tr><td>H2O_cluster_name:</td>\n",
              "<td>H2O_from_python_unknownUser_juoyp9</td></tr>\n",
              "<tr><td>H2O_cluster_total_nodes:</td>\n",
              "<td>1</td></tr>\n",
              "<tr><td>H2O_cluster_free_memory:</td>\n",
              "<td>20 Gb</td></tr>\n",
              "<tr><td>H2O_cluster_total_cores:</td>\n",
              "<td>2</td></tr>\n",
              "<tr><td>H2O_cluster_allowed_cores:</td>\n",
              "<td>2</td></tr>\n",
              "<tr><td>H2O_cluster_status:</td>\n",
              "<td>accepting new members, healthy</td></tr>\n",
              "<tr><td>H2O_connection_url:</td>\n",
              "<td>http://127.0.0.1:54321</td></tr>\n",
              "<tr><td>H2O_connection_proxy:</td>\n",
              "<td>{\"http\": null, \"https\": null}</td></tr>\n",
              "<tr><td>H2O_internal_security:</td>\n",
              "<td>False</td></tr>\n",
              "<tr><td>H2O_API_Extensions:</td>\n",
              "<td>Amazon S3, XGBoost, Algos, AutoML, Core V3, TargetEncoder, Core V4</td></tr>\n",
              "<tr><td>Python_version:</td>\n",
              "<td>3.6.9 final</td></tr></table></div>"
            ],
            "text/plain": [
              "--------------------------  ------------------------------------------------------------------\n",
              "H2O_cluster_uptime:         02 secs\n",
              "H2O_cluster_timezone:       Etc/UTC\n",
              "H2O_data_parsing_timezone:  UTC\n",
              "H2O_cluster_version:        3.32.0.2\n",
              "H2O_cluster_version_age:    14 days, 9 hours and 48 minutes\n",
              "H2O_cluster_name:           H2O_from_python_unknownUser_juoyp9\n",
              "H2O_cluster_total_nodes:    1\n",
              "H2O_cluster_free_memory:    20 Gb\n",
              "H2O_cluster_total_cores:    2\n",
              "H2O_cluster_allowed_cores:  2\n",
              "H2O_cluster_status:         accepting new members, healthy\n",
              "H2O_connection_url:         http://127.0.0.1:54321\n",
              "H2O_connection_proxy:       {\"http\": null, \"https\": null}\n",
              "H2O_internal_security:      False\n",
              "H2O_API_Extensions:         Amazon S3, XGBoost, Algos, AutoML, Core V3, TargetEncoder, Core V4\n",
              "Python_version:             3.6.9 final\n",
              "--------------------------  ------------------------------------------------------------------"
            ]
          },
          "metadata": {
            "tags": []
          }
        }
      ]
    },
    {
      "cell_type": "code",
      "metadata": {
        "colab": {
          "base_uri": "https://localhost:8080/"
        },
        "id": "mLIGNEymhI25",
        "outputId": "74600c15-1a6d-4f91-f3df-6f0c90a8cf79"
      },
      "source": [
        "# XGBoostを用いる。\n",
        "h2o.estimators.xgboost.H2OXGBoostEstimator.available()"
      ],
      "execution_count": 4,
      "outputs": [
        {
          "output_type": "execute_result",
          "data": {
            "text/plain": [
              "True"
            ]
          },
          "metadata": {
            "tags": []
          },
          "execution_count": 4
        }
      ]
    },
    {
      "cell_type": "code",
      "metadata": {
        "id": "Z16mcvrPhI25"
      },
      "source": [
        "# data load\n",
        "train = pd.read_csv(\"train.csv\")\n",
        "test  = pd.read_csv(\"test.csv\")"
      ],
      "execution_count": 5,
      "outputs": []
    },
    {
      "cell_type": "code",
      "metadata": {
        "colab": {
          "base_uri": "https://localhost:8080/"
        },
        "id": "nHdAWNbthI25",
        "outputId": "2848ba6a-3c3c-48e0-b3cc-8d7cd6e78bba"
      },
      "source": [
        "# h2oで使えるように変換\n",
        "htrain = h2o.H2OFrame(train)\n",
        "htest  = h2o.H2OFrame(test)"
      ],
      "execution_count": 6,
      "outputs": [
        {
          "output_type": "stream",
          "text": [
            "Parse progress: |█████████████████████████████████████████████████████████| 100%\n",
            "Parse progress: |█████████████████████████████████████████████████████████| 100%\n"
          ],
          "name": "stdout"
        }
      ]
    },
    {
      "cell_type": "code",
      "metadata": {
        "id": "JERD3c23hI25"
      },
      "source": [
        "# 予測対象変数 (y) と予測に用いる変数 (x)\n",
        "x = htrain.columns\n",
        "y = 'y'\n",
        "x.remove(y)"
      ],
      "execution_count": 7,
      "outputs": []
    },
    {
      "cell_type": "code",
      "metadata": {
        "id": "LoGc8WZ4hI25"
      },
      "source": [
        "# For binary classification, response should be a factor\n",
        "htrain[y] = htrain[y].asfactor()"
      ],
      "execution_count": 8,
      "outputs": []
    },
    {
      "cell_type": "code",
      "metadata": {
        "colab": {
          "base_uri": "https://localhost:8080/"
        },
        "id": "dFj-xjxVhI26",
        "outputId": "57ffa0af-da24-4a10-8498-0539d617c93c"
      },
      "source": [
        "# AutoML\n",
        "aml = H2OAutoML(max_models=2000,\n",
        "                seed=2000, \n",
        "                max_runtime_secs=3600\n",
        "               )\n",
        "aml.train(x=x, y=y, training_frame=htrain)"
      ],
      "execution_count": 9,
      "outputs": [
        {
          "output_type": "stream",
          "text": [
            "AutoML progress: |████████████████████████████████████████████████████████| 100%\n"
          ],
          "name": "stdout"
        }
      ]
    },
    {
      "cell_type": "code",
      "metadata": {
        "colab": {
          "base_uri": "https://localhost:8080/",
          "height": 1000
        },
        "id": "Yrp8tWnihI26",
        "outputId": "64f52ec1-c7cd-464c-9a03-e676596620ef"
      },
      "source": [
        "# 結果表示\n",
        "lb = aml.leaderboard\n",
        "lb.head(rows=lb.nrows)  # 全ての結果"
      ],
      "execution_count": 10,
      "outputs": [
        {
          "output_type": "display_data",
          "data": {
            "text/html": [
              "<table>\n",
              "<thead>\n",
              "<tr><th>model_id                                           </th><th style=\"text-align: right;\">     auc</th><th style=\"text-align: right;\">  logloss</th><th style=\"text-align: right;\">   aucpr</th><th style=\"text-align: right;\">  mean_per_class_error</th><th style=\"text-align: right;\">    rmse</th><th style=\"text-align: right;\">      mse</th></tr>\n",
              "</thead>\n",
              "<tbody>\n",
              "<tr><td>GBM_grid__1_AutoML_20201202_012646_model_10        </td><td style=\"text-align: right;\">0.850092</td><td style=\"text-align: right;\"> 0.201409</td><td style=\"text-align: right;\">0.441421</td><td style=\"text-align: right;\">              0.304152</td><td style=\"text-align: right;\">0.23632 </td><td style=\"text-align: right;\">0.0558473</td></tr>\n",
              "<tr><td>GBM_grid__1_AutoML_20201202_012646_model_3         </td><td style=\"text-align: right;\">0.848963</td><td style=\"text-align: right;\"> 0.201573</td><td style=\"text-align: right;\">0.443256</td><td style=\"text-align: right;\">              0.320249</td><td style=\"text-align: right;\">0.236146</td><td style=\"text-align: right;\">0.0557651</td></tr>\n",
              "<tr><td>StackedEnsemble_BestOfFamily_AutoML_20201202_012646</td><td style=\"text-align: right;\">0.847386</td><td style=\"text-align: right;\"> 0.211175</td><td style=\"text-align: right;\">0.444605</td><td style=\"text-align: right;\">              0.291822</td><td style=\"text-align: right;\">0.238335</td><td style=\"text-align: right;\">0.0568035</td></tr>\n",
              "<tr><td>GBM_grid__1_AutoML_20201202_012646_model_36        </td><td style=\"text-align: right;\">0.846424</td><td style=\"text-align: right;\"> 0.202864</td><td style=\"text-align: right;\">0.437528</td><td style=\"text-align: right;\">              0.320152</td><td style=\"text-align: right;\">0.236758</td><td style=\"text-align: right;\">0.0560545</td></tr>\n",
              "<tr><td>StackedEnsemble_AllModels_AutoML_20201202_012646   </td><td style=\"text-align: right;\">0.846188</td><td style=\"text-align: right;\"> 0.210294</td><td style=\"text-align: right;\">0.44536 </td><td style=\"text-align: right;\">              0.305735</td><td style=\"text-align: right;\">0.238091</td><td style=\"text-align: right;\">0.0566874</td></tr>\n",
              "<tr><td>XGBoost_3_AutoML_20201202_012646                   </td><td style=\"text-align: right;\">0.845182</td><td style=\"text-align: right;\"> 0.203035</td><td style=\"text-align: right;\">0.4358  </td><td style=\"text-align: right;\">              0.313304</td><td style=\"text-align: right;\">0.237105</td><td style=\"text-align: right;\">0.0562188</td></tr>\n",
              "<tr><td>GBM_grid__1_AutoML_20201202_012646_model_47        </td><td style=\"text-align: right;\">0.845018</td><td style=\"text-align: right;\"> 0.203885</td><td style=\"text-align: right;\">0.436456</td><td style=\"text-align: right;\">              0.324014</td><td style=\"text-align: right;\">0.237178</td><td style=\"text-align: right;\">0.0562536</td></tr>\n",
              "<tr><td>GBM_grid__1_AutoML_20201202_012646_model_16        </td><td style=\"text-align: right;\">0.844431</td><td style=\"text-align: right;\"> 0.204824</td><td style=\"text-align: right;\">0.425299</td><td style=\"text-align: right;\">              0.316122</td><td style=\"text-align: right;\">0.238132</td><td style=\"text-align: right;\">0.056707 </td></tr>\n",
              "<tr><td>GBM_grid__1_AutoML_20201202_012646_model_43        </td><td style=\"text-align: right;\">0.844177</td><td style=\"text-align: right;\"> 0.204097</td><td style=\"text-align: right;\">0.43703 </td><td style=\"text-align: right;\">              0.313494</td><td style=\"text-align: right;\">0.236879</td><td style=\"text-align: right;\">0.0561118</td></tr>\n",
              "<tr><td>GBM_grid__1_AutoML_20201202_012646_model_38        </td><td style=\"text-align: right;\">0.843738</td><td style=\"text-align: right;\"> 0.204328</td><td style=\"text-align: right;\">0.43244 </td><td style=\"text-align: right;\">              0.308666</td><td style=\"text-align: right;\">0.237495</td><td style=\"text-align: right;\">0.0564037</td></tr>\n",
              "<tr><td>GBM_grid__1_AutoML_20201202_012646_model_22        </td><td style=\"text-align: right;\">0.843701</td><td style=\"text-align: right;\"> 0.203716</td><td style=\"text-align: right;\">0.431038</td><td style=\"text-align: right;\">              0.312857</td><td style=\"text-align: right;\">0.237225</td><td style=\"text-align: right;\">0.0562756</td></tr>\n",
              "<tr><td>GBM_grid__1_AutoML_20201202_012646_model_46        </td><td style=\"text-align: right;\">0.843625</td><td style=\"text-align: right;\"> 0.203553</td><td style=\"text-align: right;\">0.436707</td><td style=\"text-align: right;\">              0.303615</td><td style=\"text-align: right;\">0.237051</td><td style=\"text-align: right;\">0.056193 </td></tr>\n",
              "<tr><td>GBM_grid__1_AutoML_20201202_012646_model_19        </td><td style=\"text-align: right;\">0.843435</td><td style=\"text-align: right;\"> 0.204626</td><td style=\"text-align: right;\">0.429629</td><td style=\"text-align: right;\">              0.336957</td><td style=\"text-align: right;\">0.237653</td><td style=\"text-align: right;\">0.0564787</td></tr>\n",
              "<tr><td>GBM_1_AutoML_20201202_012646                       </td><td style=\"text-align: right;\">0.843398</td><td style=\"text-align: right;\"> 0.205302</td><td style=\"text-align: right;\">0.424147</td><td style=\"text-align: right;\">              0.305503</td><td style=\"text-align: right;\">0.238295</td><td style=\"text-align: right;\">0.0567843</td></tr>\n",
              "<tr><td>GBM_grid__1_AutoML_20201202_012646_model_37        </td><td style=\"text-align: right;\">0.843345</td><td style=\"text-align: right;\"> 0.204629</td><td style=\"text-align: right;\">0.433173</td><td style=\"text-align: right;\">              0.29418 </td><td style=\"text-align: right;\">0.237314</td><td style=\"text-align: right;\">0.0563178</td></tr>\n",
              "<tr><td>GBM_grid__1_AutoML_20201202_012646_model_20        </td><td style=\"text-align: right;\">0.843205</td><td style=\"text-align: right;\"> 0.204809</td><td style=\"text-align: right;\">0.434392</td><td style=\"text-align: right;\">              0.317572</td><td style=\"text-align: right;\">0.237365</td><td style=\"text-align: right;\">0.0563422</td></tr>\n",
              "<tr><td>GBM_grid__1_AutoML_20201202_012646_model_4         </td><td style=\"text-align: right;\">0.843013</td><td style=\"text-align: right;\"> 0.205083</td><td style=\"text-align: right;\">0.427742</td><td style=\"text-align: right;\">              0.322247</td><td style=\"text-align: right;\">0.238321</td><td style=\"text-align: right;\">0.0567971</td></tr>\n",
              "<tr><td>GBM_grid__1_AutoML_20201202_012646_model_7         </td><td style=\"text-align: right;\">0.841994</td><td style=\"text-align: right;\"> 0.204507</td><td style=\"text-align: right;\">0.438344</td><td style=\"text-align: right;\">              0.315805</td><td style=\"text-align: right;\">0.236813</td><td style=\"text-align: right;\">0.0560803</td></tr>\n",
              "<tr><td>GBM_2_AutoML_20201202_012646                       </td><td style=\"text-align: right;\">0.841673</td><td style=\"text-align: right;\"> 0.205879</td><td style=\"text-align: right;\">0.423385</td><td style=\"text-align: right;\">              0.324801</td><td style=\"text-align: right;\">0.238688</td><td style=\"text-align: right;\">0.0569718</td></tr>\n",
              "<tr><td>GBM_grid__1_AutoML_20201202_012646_model_42        </td><td style=\"text-align: right;\">0.841376</td><td style=\"text-align: right;\"> 0.205349</td><td style=\"text-align: right;\">0.428613</td><td style=\"text-align: right;\">              0.30896 </td><td style=\"text-align: right;\">0.23775 </td><td style=\"text-align: right;\">0.0565253</td></tr>\n",
              "<tr><td>GBM_grid__1_AutoML_20201202_012646_model_41        </td><td style=\"text-align: right;\">0.84052 </td><td style=\"text-align: right;\"> 0.205133</td><td style=\"text-align: right;\">0.429847</td><td style=\"text-align: right;\">              0.317225</td><td style=\"text-align: right;\">0.237671</td><td style=\"text-align: right;\">0.0564875</td></tr>\n",
              "<tr><td>GBM_grid__1_AutoML_20201202_012646_model_39        </td><td style=\"text-align: right;\">0.840426</td><td style=\"text-align: right;\"> 0.204682</td><td style=\"text-align: right;\">0.432236</td><td style=\"text-align: right;\">              0.322913</td><td style=\"text-align: right;\">0.237627</td><td style=\"text-align: right;\">0.0564667</td></tr>\n",
              "<tr><td>GBM_5_AutoML_20201202_012646                       </td><td style=\"text-align: right;\">0.840304</td><td style=\"text-align: right;\"> 0.205603</td><td style=\"text-align: right;\">0.424902</td><td style=\"text-align: right;\">              0.322436</td><td style=\"text-align: right;\">0.23817 </td><td style=\"text-align: right;\">0.0567248</td></tr>\n",
              "<tr><td>GBM_grid__1_AutoML_20201202_012646_model_2         </td><td style=\"text-align: right;\">0.840208</td><td style=\"text-align: right;\"> 0.206539</td><td style=\"text-align: right;\">0.418378</td><td style=\"text-align: right;\">              0.314045</td><td style=\"text-align: right;\">0.239051</td><td style=\"text-align: right;\">0.0571455</td></tr>\n",
              "<tr><td>GBM_grid__1_AutoML_20201202_012646_model_48        </td><td style=\"text-align: right;\">0.839528</td><td style=\"text-align: right;\"> 0.20659 </td><td style=\"text-align: right;\">0.42277 </td><td style=\"text-align: right;\">              0.309834</td><td style=\"text-align: right;\">0.238721</td><td style=\"text-align: right;\">0.0569877</td></tr>\n",
              "<tr><td>GBM_3_AutoML_20201202_012646                       </td><td style=\"text-align: right;\">0.838582</td><td style=\"text-align: right;\"> 0.207291</td><td style=\"text-align: right;\">0.419264</td><td style=\"text-align: right;\">              0.318299</td><td style=\"text-align: right;\">0.239366</td><td style=\"text-align: right;\">0.0572961</td></tr>\n",
              "<tr><td>XGBoost_grid__1_AutoML_20201202_012646_model_12    </td><td style=\"text-align: right;\">0.83802 </td><td style=\"text-align: right;\"> 0.208184</td><td style=\"text-align: right;\">0.41309 </td><td style=\"text-align: right;\">              0.334547</td><td style=\"text-align: right;\">0.240263</td><td style=\"text-align: right;\">0.0577263</td></tr>\n",
              "<tr><td>GBM_grid__1_AutoML_20201202_012646_model_5         </td><td style=\"text-align: right;\">0.837957</td><td style=\"text-align: right;\"> 0.206629</td><td style=\"text-align: right;\">0.422772</td><td style=\"text-align: right;\">              0.322647</td><td style=\"text-align: right;\">0.238485</td><td style=\"text-align: right;\">0.0568753</td></tr>\n",
              "<tr><td>GBM_grid__1_AutoML_20201202_012646_model_40        </td><td style=\"text-align: right;\">0.837939</td><td style=\"text-align: right;\"> 0.206145</td><td style=\"text-align: right;\">0.428875</td><td style=\"text-align: right;\">              0.313098</td><td style=\"text-align: right;\">0.238046</td><td style=\"text-align: right;\">0.0566657</td></tr>\n",
              "<tr><td>GBM_grid__1_AutoML_20201202_012646_model_34        </td><td style=\"text-align: right;\">0.837646</td><td style=\"text-align: right;\"> 0.208613</td><td style=\"text-align: right;\">0.411173</td><td style=\"text-align: right;\">              0.318717</td><td style=\"text-align: right;\">0.240407</td><td style=\"text-align: right;\">0.0577954</td></tr>\n",
              "<tr><td>GBM_grid__1_AutoML_20201202_012646_model_30        </td><td style=\"text-align: right;\">0.837186</td><td style=\"text-align: right;\"> 0.208168</td><td style=\"text-align: right;\">0.418192</td><td style=\"text-align: right;\">              0.302539</td><td style=\"text-align: right;\">0.23961 </td><td style=\"text-align: right;\">0.0574129</td></tr>\n",
              "<tr><td>XGBoost_grid__1_AutoML_20201202_012646_model_10    </td><td style=\"text-align: right;\">0.836923</td><td style=\"text-align: right;\"> 0.20841 </td><td style=\"text-align: right;\">0.41646 </td><td style=\"text-align: right;\">              0.312675</td><td style=\"text-align: right;\">0.239894</td><td style=\"text-align: right;\">0.057549 </td></tr>\n",
              "<tr><td>GBM_grid__1_AutoML_20201202_012646_model_44        </td><td style=\"text-align: right;\">0.836772</td><td style=\"text-align: right;\"> 0.211243</td><td style=\"text-align: right;\">0.408434</td><td style=\"text-align: right;\">              0.314586</td><td style=\"text-align: right;\">0.24113 </td><td style=\"text-align: right;\">0.0581437</td></tr>\n",
              "<tr><td>GBM_4_AutoML_20201202_012646                       </td><td style=\"text-align: right;\">0.836729</td><td style=\"text-align: right;\"> 0.208658</td><td style=\"text-align: right;\">0.415248</td><td style=\"text-align: right;\">              0.318039</td><td style=\"text-align: right;\">0.239707</td><td style=\"text-align: right;\">0.0574595</td></tr>\n",
              "<tr><td>XGBoost_grid__1_AutoML_20201202_012646_model_6     </td><td style=\"text-align: right;\">0.836628</td><td style=\"text-align: right;\"> 0.208573</td><td style=\"text-align: right;\">0.413666</td><td style=\"text-align: right;\">              0.301842</td><td style=\"text-align: right;\">0.240045</td><td style=\"text-align: right;\">0.0576216</td></tr>\n",
              "<tr><td>GBM_grid__1_AutoML_20201202_012646_model_12        </td><td style=\"text-align: right;\">0.836478</td><td style=\"text-align: right;\"> 0.208922</td><td style=\"text-align: right;\">0.413337</td><td style=\"text-align: right;\">              0.308237</td><td style=\"text-align: right;\">0.240263</td><td style=\"text-align: right;\">0.0577265</td></tr>\n",
              "<tr><td>GBM_grid__1_AutoML_20201202_012646_model_11        </td><td style=\"text-align: right;\">0.835653</td><td style=\"text-align: right;\"> 0.208109</td><td style=\"text-align: right;\">0.41722 </td><td style=\"text-align: right;\">              0.308683</td><td style=\"text-align: right;\">0.239453</td><td style=\"text-align: right;\">0.0573378</td></tr>\n",
              "<tr><td>XGBoost_grid__1_AutoML_20201202_012646_model_2     </td><td style=\"text-align: right;\">0.83561 </td><td style=\"text-align: right;\"> 0.209803</td><td style=\"text-align: right;\">0.416457</td><td style=\"text-align: right;\">              0.326841</td><td style=\"text-align: right;\">0.240189</td><td style=\"text-align: right;\">0.0576907</td></tr>\n",
              "<tr><td>GBM_grid__1_AutoML_20201202_012646_model_13        </td><td style=\"text-align: right;\">0.835437</td><td style=\"text-align: right;\"> 0.208305</td><td style=\"text-align: right;\">0.423244</td><td style=\"text-align: right;\">              0.307046</td><td style=\"text-align: right;\">0.239137</td><td style=\"text-align: right;\">0.0571865</td></tr>\n",
              "<tr><td>XGBoost_grid__1_AutoML_20201202_012646_model_8     </td><td style=\"text-align: right;\">0.835103</td><td style=\"text-align: right;\"> 0.208758</td><td style=\"text-align: right;\">0.412633</td><td style=\"text-align: right;\">              0.299422</td><td style=\"text-align: right;\">0.240293</td><td style=\"text-align: right;\">0.0577408</td></tr>\n",
              "<tr><td>XGBoost_grid__1_AutoML_20201202_012646_model_9     </td><td style=\"text-align: right;\">0.834101</td><td style=\"text-align: right;\"> 0.209925</td><td style=\"text-align: right;\">0.412492</td><td style=\"text-align: right;\">              0.316395</td><td style=\"text-align: right;\">0.240411</td><td style=\"text-align: right;\">0.0577975</td></tr>\n",
              "<tr><td>GBM_grid__1_AutoML_20201202_012646_model_8         </td><td style=\"text-align: right;\">0.831742</td><td style=\"text-align: right;\"> 0.2092  </td><td style=\"text-align: right;\">0.4128  </td><td style=\"text-align: right;\">              0.314545</td><td style=\"text-align: right;\">0.239654</td><td style=\"text-align: right;\">0.0574343</td></tr>\n",
              "<tr><td>GBM_grid__1_AutoML_20201202_012646_model_9         </td><td style=\"text-align: right;\">0.829377</td><td style=\"text-align: right;\"> 0.215538</td><td style=\"text-align: right;\">0.402822</td><td style=\"text-align: right;\">              0.318997</td><td style=\"text-align: right;\">0.241925</td><td style=\"text-align: right;\">0.0585275</td></tr>\n",
              "<tr><td>XGBoost_grid__1_AutoML_20201202_012646_model_3     </td><td style=\"text-align: right;\">0.828711</td><td style=\"text-align: right;\"> 0.214397</td><td style=\"text-align: right;\">0.39881 </td><td style=\"text-align: right;\">              0.329179</td><td style=\"text-align: right;\">0.242449</td><td style=\"text-align: right;\">0.0587817</td></tr>\n",
              "<tr><td>XGBoost_grid__1_AutoML_20201202_012646_model_4     </td><td style=\"text-align: right;\">0.828368</td><td style=\"text-align: right;\"> 0.214615</td><td style=\"text-align: right;\">0.390193</td><td style=\"text-align: right;\">              0.33132 </td><td style=\"text-align: right;\">0.243392</td><td style=\"text-align: right;\">0.0592395</td></tr>\n",
              "<tr><td>XGBoost_1_AutoML_20201202_012646                   </td><td style=\"text-align: right;\">0.826764</td><td style=\"text-align: right;\"> 0.214709</td><td style=\"text-align: right;\">0.398319</td><td style=\"text-align: right;\">              0.327315</td><td style=\"text-align: right;\">0.242512</td><td style=\"text-align: right;\">0.0588123</td></tr>\n",
              "<tr><td>GBM_grid__1_AutoML_20201202_012646_model_18        </td><td style=\"text-align: right;\">0.826314</td><td style=\"text-align: right;\"> 0.217978</td><td style=\"text-align: right;\">0.401113</td><td style=\"text-align: right;\">              0.3191  </td><td style=\"text-align: right;\">0.242418</td><td style=\"text-align: right;\">0.0587665</td></tr>\n",
              "<tr><td>GBM_grid__1_AutoML_20201202_012646_model_25        </td><td style=\"text-align: right;\">0.825905</td><td style=\"text-align: right;\"> 0.214766</td><td style=\"text-align: right;\">0.391221</td><td style=\"text-align: right;\">              0.325492</td><td style=\"text-align: right;\">0.242964</td><td style=\"text-align: right;\">0.0590314</td></tr>\n",
              "<tr><td>XGBoost_2_AutoML_20201202_012646                   </td><td style=\"text-align: right;\">0.825675</td><td style=\"text-align: right;\"> 0.214853</td><td style=\"text-align: right;\">0.395439</td><td style=\"text-align: right;\">              0.339252</td><td style=\"text-align: right;\">0.242846</td><td style=\"text-align: right;\">0.0589742</td></tr>\n",
              "<tr><td>GBM_grid__1_AutoML_20201202_012646_model_15        </td><td style=\"text-align: right;\">0.825598</td><td style=\"text-align: right;\"> 0.22064 </td><td style=\"text-align: right;\">0.400915</td><td style=\"text-align: right;\">              0.337718</td><td style=\"text-align: right;\">0.242847</td><td style=\"text-align: right;\">0.0589747</td></tr>\n",
              "<tr><td>GBM_grid__1_AutoML_20201202_012646_model_27        </td><td style=\"text-align: right;\">0.825042</td><td style=\"text-align: right;\"> 0.215663</td><td style=\"text-align: right;\">0.404831</td><td style=\"text-align: right;\">              0.321934</td><td style=\"text-align: right;\">0.241553</td><td style=\"text-align: right;\">0.0583477</td></tr>\n",
              "<tr><td>XGBoost_grid__1_AutoML_20201202_012646_model_5     </td><td style=\"text-align: right;\">0.824066</td><td style=\"text-align: right;\"> 0.217599</td><td style=\"text-align: right;\">0.392387</td><td style=\"text-align: right;\">              0.323361</td><td style=\"text-align: right;\">0.243638</td><td style=\"text-align: right;\">0.0593593</td></tr>\n",
              "<tr><td>GBM_grid__1_AutoML_20201202_012646_model_31        </td><td style=\"text-align: right;\">0.823672</td><td style=\"text-align: right;\"> 0.21883 </td><td style=\"text-align: right;\">0.389852</td><td style=\"text-align: right;\">              0.341626</td><td style=\"text-align: right;\">0.24382 </td><td style=\"text-align: right;\">0.0594484</td></tr>\n",
              "<tr><td>GBM_grid__1_AutoML_20201202_012646_model_17        </td><td style=\"text-align: right;\">0.823338</td><td style=\"text-align: right;\"> 0.21891 </td><td style=\"text-align: right;\">0.394673</td><td style=\"text-align: right;\">              0.327179</td><td style=\"text-align: right;\">0.243175</td><td style=\"text-align: right;\">0.059134 </td></tr>\n",
              "<tr><td>XGBoost_grid__1_AutoML_20201202_012646_model_11    </td><td style=\"text-align: right;\">0.823334</td><td style=\"text-align: right;\"> 0.219936</td><td style=\"text-align: right;\">0.390747</td><td style=\"text-align: right;\">              0.338395</td><td style=\"text-align: right;\">0.24395 </td><td style=\"text-align: right;\">0.0595115</td></tr>\n",
              "<tr><td>GBM_grid__1_AutoML_20201202_012646_model_32        </td><td style=\"text-align: right;\">0.822546</td><td style=\"text-align: right;\"> 0.224398</td><td style=\"text-align: right;\">0.365933</td><td style=\"text-align: right;\">              0.326436</td><td style=\"text-align: right;\">0.246996</td><td style=\"text-align: right;\">0.061007 </td></tr>\n",
              "<tr><td>XGBoost_grid__1_AutoML_20201202_012646_model_1     </td><td style=\"text-align: right;\">0.821187</td><td style=\"text-align: right;\"> 0.222265</td><td style=\"text-align: right;\">0.391793</td><td style=\"text-align: right;\">              0.31768 </td><td style=\"text-align: right;\">0.243965</td><td style=\"text-align: right;\">0.0595187</td></tr>\n",
              "<tr><td>GBM_grid__1_AutoML_20201202_012646_model_33        </td><td style=\"text-align: right;\">0.820907</td><td style=\"text-align: right;\"> 0.222751</td><td style=\"text-align: right;\">0.390804</td><td style=\"text-align: right;\">              0.319987</td><td style=\"text-align: right;\">0.244615</td><td style=\"text-align: right;\">0.0598365</td></tr>\n",
              "<tr><td>GBM_grid__1_AutoML_20201202_012646_model_1         </td><td style=\"text-align: right;\">0.819861</td><td style=\"text-align: right;\"> 0.221002</td><td style=\"text-align: right;\">0.376945</td><td style=\"text-align: right;\">              0.317644</td><td style=\"text-align: right;\">0.244637</td><td style=\"text-align: right;\">0.0598471</td></tr>\n",
              "<tr><td>XGBoost_grid__1_AutoML_20201202_012646_model_7     </td><td style=\"text-align: right;\">0.819118</td><td style=\"text-align: right;\"> 0.223097</td><td style=\"text-align: right;\">0.383318</td><td style=\"text-align: right;\">              0.320868</td><td style=\"text-align: right;\">0.246007</td><td style=\"text-align: right;\">0.0605193</td></tr>\n",
              "<tr><td>GBM_grid__1_AutoML_20201202_012646_model_6         </td><td style=\"text-align: right;\">0.818741</td><td style=\"text-align: right;\"> 0.239615</td><td style=\"text-align: right;\">0.390009</td><td style=\"text-align: right;\">              0.337345</td><td style=\"text-align: right;\">0.246477</td><td style=\"text-align: right;\">0.0607508</td></tr>\n",
              "<tr><td>GBM_grid__1_AutoML_20201202_012646_model_45        </td><td style=\"text-align: right;\">0.817815</td><td style=\"text-align: right;\"> 0.221082</td><td style=\"text-align: right;\">0.381715</td><td style=\"text-align: right;\">              0.333218</td><td style=\"text-align: right;\">0.245129</td><td style=\"text-align: right;\">0.0600881</td></tr>\n",
              "<tr><td>GBM_grid__1_AutoML_20201202_012646_model_35        </td><td style=\"text-align: right;\">0.816268</td><td style=\"text-align: right;\"> 0.221078</td><td style=\"text-align: right;\">0.389788</td><td style=\"text-align: right;\">              0.329066</td><td style=\"text-align: right;\">0.244137</td><td style=\"text-align: right;\">0.059603 </td></tr>\n",
              "<tr><td>GBM_grid__1_AutoML_20201202_012646_model_29        </td><td style=\"text-align: right;\">0.815256</td><td style=\"text-align: right;\"> 0.227133</td><td style=\"text-align: right;\">0.378828</td><td style=\"text-align: right;\">              0.332474</td><td style=\"text-align: right;\">0.245603</td><td style=\"text-align: right;\">0.0603211</td></tr>\n",
              "<tr><td>DeepLearning_grid__2_AutoML_20201202_012646_model_2</td><td style=\"text-align: right;\">0.815102</td><td style=\"text-align: right;\"> 0.214245</td><td style=\"text-align: right;\">0.402061</td><td style=\"text-align: right;\">              0.316589</td><td style=\"text-align: right;\">0.241229</td><td style=\"text-align: right;\">0.0581915</td></tr>\n",
              "<tr><td>GBM_grid__1_AutoML_20201202_012646_model_26        </td><td style=\"text-align: right;\">0.813891</td><td style=\"text-align: right;\"> 0.228503</td><td style=\"text-align: right;\">0.367609</td><td style=\"text-align: right;\">              0.32787 </td><td style=\"text-align: right;\">0.246997</td><td style=\"text-align: right;\">0.0610073</td></tr>\n",
              "<tr><td>DRF_1_AutoML_20201202_012646                       </td><td style=\"text-align: right;\">0.813782</td><td style=\"text-align: right;\"> 0.241121</td><td style=\"text-align: right;\">0.404136</td><td style=\"text-align: right;\">              0.324111</td><td style=\"text-align: right;\">0.241719</td><td style=\"text-align: right;\">0.0584282</td></tr>\n",
              "<tr><td>XRT_1_AutoML_20201202_012646                       </td><td style=\"text-align: right;\">0.81139 </td><td style=\"text-align: right;\"> 0.218351</td><td style=\"text-align: right;\">0.389498</td><td style=\"text-align: right;\">              0.33043 </td><td style=\"text-align: right;\">0.243176</td><td style=\"text-align: right;\">0.0591346</td></tr>\n",
              "<tr><td>GBM_grid__1_AutoML_20201202_012646_model_28        </td><td style=\"text-align: right;\">0.808556</td><td style=\"text-align: right;\"> 0.240682</td><td style=\"text-align: right;\">0.372019</td><td style=\"text-align: right;\">              0.318919</td><td style=\"text-align: right;\">0.248471</td><td style=\"text-align: right;\">0.0617378</td></tr>\n",
              "<tr><td>GBM_grid__1_AutoML_20201202_012646_model_21        </td><td style=\"text-align: right;\">0.80822 </td><td style=\"text-align: right;\"> 0.247562</td><td style=\"text-align: right;\">0.356715</td><td style=\"text-align: right;\">              0.317375</td><td style=\"text-align: right;\">0.250439</td><td style=\"text-align: right;\">0.0627197</td></tr>\n",
              "<tr><td>GLM_1_AutoML_20201202_012646                       </td><td style=\"text-align: right;\">0.80738 </td><td style=\"text-align: right;\"> 0.216055</td><td style=\"text-align: right;\">0.397623</td><td style=\"text-align: right;\">              0.33404 </td><td style=\"text-align: right;\">0.241437</td><td style=\"text-align: right;\">0.0582916</td></tr>\n",
              "<tr><td>GBM_grid__1_AutoML_20201202_012646_model_24        </td><td style=\"text-align: right;\">0.805877</td><td style=\"text-align: right;\"> 0.25758 </td><td style=\"text-align: right;\">0.361856</td><td style=\"text-align: right;\">              0.342774</td><td style=\"text-align: right;\">0.252199</td><td style=\"text-align: right;\">0.0636041</td></tr>\n",
              "<tr><td>GBM_grid__1_AutoML_20201202_012646_model_14        </td><td style=\"text-align: right;\">0.805487</td><td style=\"text-align: right;\"> 0.236255</td><td style=\"text-align: right;\">0.324283</td><td style=\"text-align: right;\">              0.336467</td><td style=\"text-align: right;\">0.251627</td><td style=\"text-align: right;\">0.0633162</td></tr>\n",
              "<tr><td>GBM_grid__1_AutoML_20201202_012646_model_49        </td><td style=\"text-align: right;\">0.803523</td><td style=\"text-align: right;\"> 0.226465</td><td style=\"text-align: right;\">0.382054</td><td style=\"text-align: right;\">              0.347234</td><td style=\"text-align: right;\">0.246245</td><td style=\"text-align: right;\">0.0606364</td></tr>\n",
              "<tr><td>GBM_grid__1_AutoML_20201202_012646_model_23        </td><td style=\"text-align: right;\">0.802983</td><td style=\"text-align: right;\"> 0.252774</td><td style=\"text-align: right;\">0.368935</td><td style=\"text-align: right;\">              0.344608</td><td style=\"text-align: right;\">0.249522</td><td style=\"text-align: right;\">0.0622614</td></tr>\n",
              "<tr><td>DeepLearning_1_AutoML_20201202_012646              </td><td style=\"text-align: right;\">0.80232 </td><td style=\"text-align: right;\"> 0.219903</td><td style=\"text-align: right;\">0.380872</td><td style=\"text-align: right;\">              0.320631</td><td style=\"text-align: right;\">0.243779</td><td style=\"text-align: right;\">0.059428 </td></tr>\n",
              "<tr><td>DeepLearning_grid__1_AutoML_20201202_012646_model_1</td><td style=\"text-align: right;\">0.800505</td><td style=\"text-align: right;\"> 0.235224</td><td style=\"text-align: right;\">0.392927</td><td style=\"text-align: right;\">              0.32941 </td><td style=\"text-align: right;\">0.243283</td><td style=\"text-align: right;\">0.0591867</td></tr>\n",
              "<tr><td>DeepLearning_grid__2_AutoML_20201202_012646_model_1</td><td style=\"text-align: right;\">0.786823</td><td style=\"text-align: right;\"> 0.244589</td><td style=\"text-align: right;\">0.359793</td><td style=\"text-align: right;\">              0.334675</td><td style=\"text-align: right;\">0.255655</td><td style=\"text-align: right;\">0.0653593</td></tr>\n",
              "<tr><td>DeepLearning_grid__1_AutoML_20201202_012646_model_2</td><td style=\"text-align: right;\">0.785004</td><td style=\"text-align: right;\"> 0.281237</td><td style=\"text-align: right;\">0.333485</td><td style=\"text-align: right;\">              0.314082</td><td style=\"text-align: right;\">0.254593</td><td style=\"text-align: right;\">0.0648174</td></tr>\n",
              "<tr><td>DeepLearning_grid__1_AutoML_20201202_012646_model_3</td><td style=\"text-align: right;\">0.767975</td><td style=\"text-align: right;\"> 0.26781 </td><td style=\"text-align: right;\">0.337902</td><td style=\"text-align: right;\">              0.327448</td><td style=\"text-align: right;\">0.251982</td><td style=\"text-align: right;\">0.0634948</td></tr>\n",
              "<tr><td>DeepLearning_grid__3_AutoML_20201202_012646_model_1</td><td style=\"text-align: right;\">0.762892</td><td style=\"text-align: right;\"> 0.239271</td><td style=\"text-align: right;\">0.301971</td><td style=\"text-align: right;\">              0.348135</td><td style=\"text-align: right;\">0.253916</td><td style=\"text-align: right;\">0.0644731</td></tr>\n",
              "<tr><td>DeepLearning_grid__2_AutoML_20201202_012646_model_3</td><td style=\"text-align: right;\">0.715762</td><td style=\"text-align: right;\"> 0.334372</td><td style=\"text-align: right;\">0.213909</td><td style=\"text-align: right;\">              0.386401</td><td style=\"text-align: right;\">0.269537</td><td style=\"text-align: right;\">0.0726504</td></tr>\n",
              "<tr><td>DeepLearning_grid__3_AutoML_20201202_012646_model_2</td><td style=\"text-align: right;\">0.671665</td><td style=\"text-align: right;\"> 0.722021</td><td style=\"text-align: right;\">0.172787</td><td style=\"text-align: right;\">              0.400785</td><td style=\"text-align: right;\">0.279036</td><td style=\"text-align: right;\">0.0778608</td></tr>\n",
              "</tbody>\n",
              "</table>"
            ]
          },
          "metadata": {
            "tags": []
          }
        },
        {
          "output_type": "execute_result",
          "data": {
            "text/plain": [
              ""
            ]
          },
          "metadata": {
            "tags": []
          },
          "execution_count": 10
        }
      ]
    },
    {
      "cell_type": "code",
      "metadata": {
        "colab": {
          "base_uri": "https://localhost:8080/"
        },
        "id": "mZvswhiwhI26",
        "outputId": "a9a31d13-fd9c-49c6-d70a-ffbeea6db52c"
      },
      "source": [
        "preds = aml.leader.predict(htest)\n",
        "preds = preds.as_data_frame()\n",
        "print(preds)"
      ],
      "execution_count": 11,
      "outputs": [
        {
          "output_type": "stream",
          "text": [
            "gbm prediction progress: |████████████████████████████████████████████████| 100%\n"
          ],
          "name": "stdout"
        },
        {
          "output_type": "stream",
          "text": [
            "/usr/local/lib/python3.6/dist-packages/h2o/job.py:70: UserWarning: Test/Validation dataset column 'job' has levels not trained on: [\"unknown\"]\n",
            "  warnings.warn(w)\n"
          ],
          "name": "stderr"
        },
        {
          "output_type": "stream",
          "text": [
            "       predict        p0        p1\n",
            "0            1  0.258587  0.741413\n",
            "1            0  0.873946  0.126054\n",
            "2            0  0.969856  0.030144\n",
            "3            0  0.996018  0.003982\n",
            "4            0  0.962293  0.037707\n",
            "...        ...       ...       ...\n",
            "18045        0  0.982271  0.017729\n",
            "18046        0  0.991325  0.008675\n",
            "18047        0  0.909579  0.090421\n",
            "18048        0  0.995167  0.004833\n",
            "18049        0  0.904585  0.095415\n",
            "\n",
            "[18050 rows x 3 columns]\n"
          ],
          "name": "stdout"
        }
      ]
    },
    {
      "cell_type": "code",
      "metadata": {
        "id": "3AncXqz8hI26"
      },
      "source": [
        "# 提出処理\n",
        "preds.to_csv(\"h2o.csv\", index = True, header=False)"
      ],
      "execution_count": 12,
      "outputs": []
    }
  ]
}
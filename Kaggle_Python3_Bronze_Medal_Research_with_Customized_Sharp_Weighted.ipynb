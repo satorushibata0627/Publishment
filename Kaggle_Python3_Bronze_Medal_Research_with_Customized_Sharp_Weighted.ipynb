{
 "cells": [
  {
   "cell_type": "markdown",
   "metadata": {
    "papermill": {
     "duration": 0.019883,
     "end_time": "2020-12-31T12:20:48.301234",
     "exception": false,
     "start_time": "2020-12-31T12:20:48.281351",
     "status": "completed"
    },
    "tags": []
   },
   "source": [
    "## \"Research to optimize Hyperparameters of LightGBM with Customized Sharp weighted\""
   ]
  },
  {
   "cell_type": "markdown",
   "metadata": {
    "papermill": {
     "duration": 0.017333,
     "end_time": "2020-12-31T12:20:48.337197",
     "exception": false,
     "start_time": "2020-12-31T12:20:48.319864",
     "status": "completed"
    },
    "tags": []
   },
   "source": [
    "# Apply GPU to LightGBM\n",
    "- [GPU-accelerated LightGBM full](https://www.kaggle.com/dromosys/gpu-accelerated-lightgbm-full)"
   ]
  },
  {
   "cell_type": "code",
   "execution_count": 1,
   "metadata": {
    "execution": {
     "iopub.execute_input": "2020-12-31T12:20:48.381217Z",
     "iopub.status.busy": "2020-12-31T12:20:48.380492Z",
     "iopub.status.idle": "2020-12-31T12:21:09.576214Z",
     "shell.execute_reply": "2020-12-31T12:21:09.576996Z"
    },
    "papermill": {
     "duration": 21.222128,
     "end_time": "2020-12-31T12:21:09.577248",
     "exception": false,
     "start_time": "2020-12-31T12:20:48.355120",
     "status": "completed"
    },
    "tags": []
   },
   "outputs": [
    {
     "name": "stdout",
     "output_type": "stream",
     "text": [
      "rm: cannot remove '/opt/conda/lib/python3.6/site-packages/lightgbm': No such file or directory\r\n",
      "Cloning into 'LightGBM'...\r\n",
      "remote: Enumerating objects: 20724, done.\u001b[K\r\n",
      "remote: Total 20724 (delta 0), reused 0 (delta 0), pack-reused 20724\u001b[K\r\n",
      "Receiving objects: 100% (20724/20724), 16.22 MiB | 24.32 MiB/s, done.\r\n",
      "Resolving deltas: 100% (15127/15127), done.\r\n",
      "Submodule 'include/boost/compute' (https://github.com/boostorg/compute) registered for path 'compute'\r\n",
      "Submodule 'eigen' (https://gitlab.com/libeigen/eigen.git) registered for path 'eigen'\r\n",
      "Submodule 'external_libs/fast_double_parser' (https://github.com/lemire/fast_double_parser.git) registered for path 'external_libs/fast_double_parser'\r\n",
      "Submodule 'external_libs/fmt' (https://github.com/fmtlib/fmt.git) registered for path 'external_libs/fmt'\r\n",
      "Cloning into '/kaggle/working/LightGBM/compute'...\r\n",
      "remote: Enumerating objects: 21728, done.        \r\n",
      "remote: Total 21728 (delta 0), reused 0 (delta 0), pack-reused 21728        \r\n",
      "Receiving objects: 100% (21728/21728), 8.51 MiB | 22.11 MiB/s, done.\r\n",
      "Resolving deltas: 100% (17565/17565), done.\r\n",
      "Cloning into '/kaggle/working/LightGBM/eigen'...\r\n",
      "remote: Enumerating objects: 454, done.        \r\n",
      "remote: Counting objects: 100% (454/454), done.        \r\n",
      "remote: Compressing objects: 100% (172/172), done.        \r\n",
      "remote: Total 107753 (delta 304), reused 415 (delta 281), pack-reused 107299        \r\n",
      "Receiving objects: 100% (107753/107753), 102.02 MiB | 23.94 MiB/s, done.\r\n",
      "Resolving deltas: 100% (88145/88145), done.\r\n",
      "Cloning into '/kaggle/working/LightGBM/external_libs/fast_double_parser'...\r\n",
      "remote: Enumerating objects: 146, done.        \r\n",
      "remote: Counting objects: 100% (146/146), done.        \r\n",
      "remote: Compressing objects: 100% (89/89), done.        \r\n",
      "remote: Total 646 (delta 70), reused 87 (delta 34), pack-reused 500        \r\n",
      "Receiving objects: 100% (646/646), 792.85 KiB | 11.33 MiB/s, done.\r\n",
      "Resolving deltas: 100% (324/324), done.\r\n",
      "Cloning into '/kaggle/working/LightGBM/external_libs/fmt'...\r\n",
      "remote: Enumerating objects: 16, done.        \r\n",
      "remote: Counting objects: 100% (16/16), done.        \r\n",
      "remote: Compressing objects: 100% (11/11), done.        \r\n",
      "remote: Total 24328 (delta 5), reused 8 (delta 2), pack-reused 24312        \r\n",
      "Receiving objects: 100% (24328/24328), 12.00 MiB | 18.31 MiB/s, done.\r\n",
      "Resolving deltas: 100% (16480/16480), done.\r\n",
      "Submodule path 'compute': checked out '36c89134d4013b2e5e45bc55656a18bd6141995a'\r\n",
      "Submodule path 'eigen': checked out '8ba1b0f41a7950dc3e1d4ed75859e36c73311235'\r\n",
      "Submodule path 'external_libs/fast_double_parser': checked out 'ace60646c02dc54c57f19d644e49a61e7e7758ec'\r\n",
      "Submodule 'benchmark/dependencies/abseil-cpp' (https://github.com/abseil/abseil-cpp.git) registered for path 'external_libs/fast_double_parser/benchmarks/dependencies/abseil-cpp'\r\n",
      "Submodule 'benchmark/dependencies/double-conversion' (https://github.com/google/double-conversion.git) registered for path 'external_libs/fast_double_parser/benchmarks/dependencies/double-conversion'\r\n",
      "Cloning into '/kaggle/working/LightGBM/external_libs/fast_double_parser/benchmarks/dependencies/abseil-cpp'...\r\n",
      "remote: Enumerating objects: 44, done.        \r\n",
      "remote: Counting objects: 100% (44/44), done.        \r\n",
      "remote: Compressing objects: 100% (42/42), done.        \r\n",
      "remote: Total 13518 (delta 9), reused 36 (delta 1), pack-reused 13474        \r\n",
      "Receiving objects: 100% (13518/13518), 8.79 MiB | 15.74 MiB/s, done.\r\n",
      "Resolving deltas: 100% (10253/10253), done.\r\n",
      "Cloning into '/kaggle/working/LightGBM/external_libs/fast_double_parser/benchmarks/dependencies/double-conversion'...\r\n",
      "remote: Enumerating objects: 8, done.        \r\n",
      "remote: Counting objects: 100% (8/8), done.        \r\n",
      "remote: Compressing objects: 100% (6/6), done.        \r\n",
      "remote: Total 1164 (delta 2), reused 4 (delta 2), pack-reused 1156        \r\n",
      "Receiving objects: 100% (1164/1164), 7.01 MiB | 19.36 MiB/s, done.\r\n",
      "Resolving deltas: 100% (774/774), done.\r\n",
      "Submodule path 'external_libs/fast_double_parser/benchmarks/dependencies/abseil-cpp': checked out 'd936052d32a5b7ca08b0199a6724724aea432309'\r\n",
      "Submodule path 'external_libs/fast_double_parser/benchmarks/dependencies/double-conversion': checked out 'f4cb2384efa55dee0e6652f8674b05763441ab09'\r\n",
      "Submodule path 'external_libs/fmt': checked out 'cc09f1a6798c085c325569ef466bcdcffdc266d4'\r\n",
      "CPU times: user 540 ms, sys: 166 ms, total: 706 ms\n",
      "Wall time: 21.2 s\n"
     ]
    }
   ],
   "source": [
    "%%time\n",
    "!rm -r /opt/conda/lib/python3.6/site-packages/lightgbm\n",
    "!git clone --recursive https://github.com/Microsoft/LightGBM"
   ]
  },
  {
   "cell_type": "code",
   "execution_count": 2,
   "metadata": {
    "execution": {
     "iopub.execute_input": "2020-12-31T12:21:09.819910Z",
     "iopub.status.busy": "2020-12-31T12:21:09.815352Z",
     "iopub.status.idle": "2020-12-31T12:21:12.251969Z",
     "shell.execute_reply": "2020-12-31T12:21:12.252777Z"
    },
    "papermill": {
     "duration": 2.558747,
     "end_time": "2020-12-31T12:21:12.252962",
     "exception": false,
     "start_time": "2020-12-31T12:21:09.694215",
     "status": "completed"
    },
    "tags": []
   },
   "outputs": [
    {
     "name": "stdout",
     "output_type": "stream",
     "text": [
      "CPU times: user 29.1 ms, sys: 13.1 ms, total: 42.2 ms\n",
      "Wall time: 2.43 s\n"
     ]
    }
   ],
   "source": [
    "%%time\n",
    "!apt-get install -y -qq libboost-all-dev"
   ]
  },
  {
   "cell_type": "code",
   "execution_count": 3,
   "metadata": {
    "execution": {
     "iopub.execute_input": "2020-12-31T12:21:12.490811Z",
     "iopub.status.busy": "2020-12-31T12:21:12.487748Z",
     "iopub.status.idle": "2020-12-31T12:26:20.893564Z",
     "shell.execute_reply": "2020-12-31T12:26:20.890297Z"
    },
    "papermill": {
     "duration": 308.527743,
     "end_time": "2020-12-31T12:26:20.893756",
     "exception": false,
     "start_time": "2020-12-31T12:21:12.366013",
     "status": "completed"
    },
    "tags": []
   },
   "outputs": [
    {
     "name": "stdout",
     "output_type": "stream",
     "text": [
      "-- The C compiler identification is GNU 7.5.0\n",
      "-- The CXX compiler identification is GNU 7.5.0\n",
      "-- Check for working C compiler: /usr/bin/cc\n",
      "-- Check for working C compiler: /usr/bin/cc -- works\n",
      "-- Detecting C compiler ABI info\n",
      "-- Detecting C compiler ABI info - done\n",
      "-- Detecting C compile features\n",
      "-- Detecting C compile features - done\n",
      "-- Check for working CXX compiler: /usr/bin/c++\n",
      "-- Check for working CXX compiler: /usr/bin/c++ -- works\n",
      "-- Detecting CXX compiler ABI info\n",
      "-- Detecting CXX compiler ABI info - done\n",
      "-- Detecting CXX compile features\n",
      "-- Detecting CXX compile features - done\n",
      "-- Found OpenMP_C: -fopenmp (found version \"4.5\") \n",
      "-- Found OpenMP_CXX: -fopenmp (found version \"4.5\") \n",
      "-- Found OpenMP: TRUE (found version \"4.5\")  \n",
      "-- Looking for CL_VERSION_2_2\n",
      "-- Looking for CL_VERSION_2_2 - not found\n",
      "-- Looking for CL_VERSION_2_1\n",
      "-- Looking for CL_VERSION_2_1 - not found\n",
      "-- Looking for CL_VERSION_2_0\n",
      "-- Looking for CL_VERSION_2_0 - not found\n",
      "-- Looking for CL_VERSION_1_2\n",
      "-- Looking for CL_VERSION_1_2 - found\n",
      "-- Found OpenCL: /usr/local/cuda/lib64/libOpenCL.so (found version \"1.2\") \n",
      "-- OpenCL include directory: /usr/local/cuda/include\n",
      "-- Boost 1.56.0 found.\n",
      "-- Found Boost components:\n",
      "   filesystem;system\n",
      "-- Performing Test MM_PREFETCH\n",
      "-- Performing Test MM_PREFETCH - Success\n",
      "-- Using _mm_prefetch\n",
      "-- Performing Test MM_MALLOC\n",
      "-- Performing Test MM_MALLOC - Success\n",
      "-- Using _mm_malloc\n",
      "-- Configuring done\n",
      "-- Generating done\n",
      "-- Build files have been written to: /kaggle/working/LightGBM/build\n",
      "Scanning dependencies of target _lightgbm\n",
      "Scanning dependencies of target lightgbm\n",
      "[  1%] Building CXX object CMakeFiles/_lightgbm.dir/src/boosting/boosting.cpp.o\n",
      "[  2%] Building CXX object CMakeFiles/lightgbm.dir/src/main.cpp.o\n",
      "[  4%] Building CXX object CMakeFiles/lightgbm.dir/src/application/application.cpp.o\n",
      "[  5%] Building CXX object CMakeFiles/_lightgbm.dir/src/boosting/gbdt.cpp.o\n",
      "[  7%] Building CXX object CMakeFiles/lightgbm.dir/src/boosting/boosting.cpp.o\n",
      "[  8%] Building CXX object CMakeFiles/_lightgbm.dir/src/boosting/gbdt_model_text.cpp.o\n",
      "[ 10%] Building CXX object CMakeFiles/lightgbm.dir/src/boosting/gbdt.cpp.o\n",
      "[ 11%] Building CXX object CMakeFiles/_lightgbm.dir/src/boosting/gbdt_prediction.cpp.o\n",
      "[ 13%] Building CXX object CMakeFiles/lightgbm.dir/src/boosting/gbdt_model_text.cpp.o\n",
      "[ 14%] Building CXX object CMakeFiles/_lightgbm.dir/src/boosting/prediction_early_stop.cpp.o\n",
      "[ 15%] Building CXX object CMakeFiles/_lightgbm.dir/src/io/bin.cpp.o\n",
      "[ 17%] Building CXX object CMakeFiles/lightgbm.dir/src/boosting/gbdt_prediction.cpp.o\n",
      "[ 18%] Building CXX object CMakeFiles/lightgbm.dir/src/boosting/prediction_early_stop.cpp.o\n",
      "[ 20%] Building CXX object CMakeFiles/lightgbm.dir/src/io/bin.cpp.o\n",
      "[ 21%] Building CXX object CMakeFiles/_lightgbm.dir/src/io/config.cpp.o\n",
      "[ 23%] Building CXX object CMakeFiles/_lightgbm.dir/src/io/config_auto.cpp.o\n",
      "[ 24%] Building CXX object CMakeFiles/lightgbm.dir/src/io/config.cpp.o\n",
      "[ 26%] Building CXX object CMakeFiles/_lightgbm.dir/src/io/dataset.cpp.o\n",
      "[ 27%] Building CXX object CMakeFiles/lightgbm.dir/src/io/config_auto.cpp.o\n",
      "[ 28%] Building CXX object CMakeFiles/lightgbm.dir/src/io/dataset.cpp.o\n",
      "[ 30%] Building CXX object CMakeFiles/_lightgbm.dir/src/io/dataset_loader.cpp.o\n",
      "[ 31%] Building CXX object CMakeFiles/lightgbm.dir/src/io/dataset_loader.cpp.o\n",
      "[ 33%] Building CXX object CMakeFiles/_lightgbm.dir/src/io/file_io.cpp.o\n",
      "[ 34%] Building CXX object CMakeFiles/_lightgbm.dir/src/io/json11.cpp.o\n",
      "[ 36%] Building CXX object CMakeFiles/_lightgbm.dir/src/io/metadata.cpp.o\n",
      "[ 37%] Building CXX object CMakeFiles/lightgbm.dir/src/io/file_io.cpp.o\n",
      "[ 39%] Building CXX object CMakeFiles/_lightgbm.dir/src/io/parser.cpp.o\n",
      "[ 40%] Building CXX object CMakeFiles/lightgbm.dir/src/io/json11.cpp.o\n",
      "[ 42%] Building CXX object CMakeFiles/_lightgbm.dir/src/io/train_share_states.cpp.o\n",
      "[ 43%] Building CXX object CMakeFiles/lightgbm.dir/src/io/metadata.cpp.o\n",
      "[ 44%] Building CXX object CMakeFiles/_lightgbm.dir/src/io/tree.cpp.o\n",
      "[ 46%] Building CXX object CMakeFiles/lightgbm.dir/src/io/parser.cpp.o\n",
      "[ 47%] Building CXX object CMakeFiles/lightgbm.dir/src/io/train_share_states.cpp.o\n",
      "[ 49%] Building CXX object CMakeFiles/lightgbm.dir/src/io/tree.cpp.o\n",
      "[ 50%] Building CXX object CMakeFiles/_lightgbm.dir/src/metric/dcg_calculator.cpp.o\n",
      "[ 52%] Building CXX object CMakeFiles/_lightgbm.dir/src/metric/metric.cpp.o\n",
      "[ 53%] Building CXX object CMakeFiles/lightgbm.dir/src/metric/dcg_calculator.cpp.o\n",
      "[ 55%] Building CXX object CMakeFiles/lightgbm.dir/src/metric/metric.cpp.o\n",
      "[ 56%] Building CXX object CMakeFiles/_lightgbm.dir/src/objective/objective_function.cpp.o\n",
      "[ 57%] Building CXX object CMakeFiles/lightgbm.dir/src/objective/objective_function.cpp.o\n",
      "[ 59%] Building CXX object CMakeFiles/_lightgbm.dir/src/network/ifaddrs_patch.cpp.o\n",
      "[ 60%] Building CXX object CMakeFiles/_lightgbm.dir/src/network/linker_topo.cpp.o\n",
      "[ 62%] Building CXX object CMakeFiles/_lightgbm.dir/src/network/linkers_mpi.cpp.o\n",
      "[ 63%] Building CXX object CMakeFiles/_lightgbm.dir/src/network/linkers_socket.cpp.o\n",
      "[ 65%] Building CXX object CMakeFiles/_lightgbm.dir/src/network/network.cpp.o\n",
      "[ 66%] Building CXX object CMakeFiles/lightgbm.dir/src/network/ifaddrs_patch.cpp.o\n",
      "[ 68%] Building CXX object CMakeFiles/lightgbm.dir/src/network/linker_topo.cpp.o\n",
      "[ 69%] Building CXX object CMakeFiles/_lightgbm.dir/src/treelearner/cuda_tree_learner.cpp.o\n",
      "[ 71%] Building CXX object CMakeFiles/_lightgbm.dir/src/treelearner/data_parallel_tree_learner.cpp.o\n",
      "[ 72%] Building CXX object CMakeFiles/lightgbm.dir/src/network/linkers_mpi.cpp.o\n",
      "[ 73%] Building CXX object CMakeFiles/lightgbm.dir/src/network/linkers_socket.cpp.o\n",
      "[ 75%] Building CXX object CMakeFiles/lightgbm.dir/src/network/network.cpp.o\n",
      "[ 76%] Building CXX object CMakeFiles/lightgbm.dir/src/treelearner/cuda_tree_learner.cpp.o\n",
      "[ 78%] Building CXX object CMakeFiles/lightgbm.dir/src/treelearner/data_parallel_tree_learner.cpp.o\n",
      "[ 79%] Building CXX object CMakeFiles/_lightgbm.dir/src/treelearner/feature_parallel_tree_learner.cpp.o\n",
      "[ 81%] Building CXX object CMakeFiles/lightgbm.dir/src/treelearner/feature_parallel_tree_learner.cpp.o\n",
      "[ 82%] Building CXX object CMakeFiles/_lightgbm.dir/src/treelearner/gpu_tree_learner.cpp.o\n",
      "[ 84%] Building CXX object CMakeFiles/lightgbm.dir/src/treelearner/gpu_tree_learner.cpp.o\n",
      "[ 85%] Building CXX object CMakeFiles/_lightgbm.dir/src/treelearner/linear_tree_learner.cpp.o\n",
      "[ 86%] Building CXX object CMakeFiles/lightgbm.dir/src/treelearner/linear_tree_learner.cpp.o\n",
      "[ 88%] Building CXX object CMakeFiles/_lightgbm.dir/src/treelearner/serial_tree_learner.cpp.o\n",
      "[ 89%] Building CXX object CMakeFiles/lightgbm.dir/src/treelearner/serial_tree_learner.cpp.o\n",
      "[ 91%] Building CXX object CMakeFiles/_lightgbm.dir/src/treelearner/tree_learner.cpp.o\n",
      "[ 92%] Building CXX object CMakeFiles/lightgbm.dir/src/treelearner/tree_learner.cpp.o\n",
      "[ 94%] Building CXX object CMakeFiles/_lightgbm.dir/src/treelearner/voting_parallel_tree_learner.cpp.o\n",
      "[ 95%] Building CXX object CMakeFiles/lightgbm.dir/src/treelearner/voting_parallel_tree_learner.cpp.o\n",
      "[ 97%] Building CXX object CMakeFiles/_lightgbm.dir/src/c_api.cpp.o\n",
      "[ 98%] Linking CXX executable ../lightgbm\n",
      "[ 98%] Built target lightgbm\n",
      "[100%] Linking CXX shared library ../lib_lightgbm.so\n",
      "[100%] Built target _lightgbm\n"
     ]
    },
    {
     "name": "stderr",
     "output_type": "stream",
     "text": [
      "rm: cannot remove 'build': No such file or directory\n",
      "cmake: /opt/conda/lib/libcurl.so.4: no version information available (required by cmake)\n",
      "/usr/bin/cmake: /opt/conda/lib/libcurl.so.4: no version information available (required by /usr/bin/cmake)\n",
      "/usr/bin/cmake: /opt/conda/lib/libcurl.so.4: no version information available (required by /usr/bin/cmake)\n",
      "/usr/bin/cmake: /opt/conda/lib/libcurl.so.4: no version information available (required by /usr/bin/cmake)\n",
      "/usr/bin/cmake: /opt/conda/lib/libcurl.so.4: no version information available (required by /usr/bin/cmake)\n",
      "/usr/bin/cmake: /opt/conda/lib/libcurl.so.4: no version information available (required by /usr/bin/cmake)\n",
      "/usr/bin/cmake: /opt/conda/lib/libcurl.so.4: no version information available (required by /usr/bin/cmake)\n",
      "/usr/bin/cmake: /opt/conda/lib/libcurl.so.4: no version information available (required by /usr/bin/cmake)\n",
      "/usr/bin/cmake: /opt/conda/lib/libcurl.so.4: no version information available (required by /usr/bin/cmake)\n",
      "/usr/bin/cmake: /opt/conda/lib/libcurl.so.4: no version information available (required by /usr/bin/cmake)\n",
      "/usr/bin/cmake: /opt/conda/lib/libcurl.so.4: no version information available (required by /usr/bin/cmake)\n",
      "/usr/bin/cmake: /opt/conda/lib/libcurl.so.4: no version information available (required by /usr/bin/cmake)\n",
      "/usr/bin/cmake: /opt/conda/lib/libcurl.so.4: no version information available (required by /usr/bin/cmake)\n",
      "/usr/bin/cmake: /opt/conda/lib/libcurl.so.4: no version information available (required by /usr/bin/cmake)\n",
      "/usr/bin/cmake: /opt/conda/lib/libcurl.so.4: no version information available (required by /usr/bin/cmake)\n",
      "/usr/bin/cmake: /opt/conda/lib/libcurl.so.4: no version information available (required by /usr/bin/cmake)\n",
      "/usr/bin/cmake: /opt/conda/lib/libcurl.so.4: no version information available (required by /usr/bin/cmake)\n",
      "/usr/bin/cmake: /opt/conda/lib/libcurl.so.4: no version information available (required by /usr/bin/cmake)\n",
      "/usr/bin/cmake: /opt/conda/lib/libcurl.so.4: no version information available (required by /usr/bin/cmake)\n",
      "/usr/bin/cmake: /opt/conda/lib/libcurl.so.4: no version information available (required by /usr/bin/cmake)\n",
      "/usr/bin/cmake: /opt/conda/lib/libcurl.so.4: no version information available (required by /usr/bin/cmake)\n",
      "/usr/bin/cmake: /opt/conda/lib/libcurl.so.4: no version information available (required by /usr/bin/cmake)\n",
      "/usr/bin/cmake: /opt/conda/lib/libcurl.so.4: no version information available (required by /usr/bin/cmake)\n",
      "/usr/bin/cmake: /opt/conda/lib/libcurl.so.4: no version information available (required by /usr/bin/cmake)\n",
      "/usr/bin/cmake: /opt/conda/lib/libcurl.so.4: no version information available (required by /usr/bin/cmake)\n",
      "/usr/bin/cmake: /opt/conda/lib/libcurl.so.4: no version information available (required by /usr/bin/cmake)\n",
      "/usr/bin/cmake: /opt/conda/lib/libcurl.so.4: no version information available (required by /usr/bin/cmake)\n",
      "/usr/bin/cmake: /opt/conda/lib/libcurl.so.4: no version information available (required by /usr/bin/cmake)\n",
      "/usr/bin/cmake: /opt/conda/lib/libcurl.so.4: no version information available (required by /usr/bin/cmake)\n",
      "/usr/bin/cmake: /opt/conda/lib/libcurl.so.4: no version information available (required by /usr/bin/cmake)\n",
      "/usr/bin/cmake: /opt/conda/lib/libcurl.so.4: no version information available (required by /usr/bin/cmake)\n",
      "/usr/bin/cmake: /opt/conda/lib/libcurl.so.4: no version information available (required by /usr/bin/cmake)\n",
      "/usr/bin/cmake: /opt/conda/lib/libcurl.so.4: no version information available (required by /usr/bin/cmake)\n",
      "/usr/bin/cmake: /opt/conda/lib/libcurl.so.4: no version information available (required by /usr/bin/cmake)\n",
      "/usr/bin/cmake: /opt/conda/lib/libcurl.so.4: no version information available (required by /usr/bin/cmake)\n",
      "/usr/bin/cmake: /opt/conda/lib/libcurl.so.4: no version information available (required by /usr/bin/cmake)\n",
      "/usr/bin/cmake: /opt/conda/lib/libcurl.so.4: no version information available (required by /usr/bin/cmake)\n",
      "/usr/bin/cmake: /opt/conda/lib/libcurl.so.4: no version information available (required by /usr/bin/cmake)\n",
      "/usr/bin/cmake: /opt/conda/lib/libcurl.so.4: no version information available (required by /usr/bin/cmake)\n",
      "/usr/bin/cmake: /opt/conda/lib/libcurl.so.4: no version information available (required by /usr/bin/cmake)\n",
      "/usr/bin/cmake: /opt/conda/lib/libcurl.so.4: no version information available (required by /usr/bin/cmake)\n",
      "/usr/bin/cmake: /opt/conda/lib/libcurl.so.4: no version information available (required by /usr/bin/cmake)\n",
      "/usr/bin/cmake: /opt/conda/lib/libcurl.so.4: no version information available (required by /usr/bin/cmake)\n",
      "/usr/bin/cmake: /opt/conda/lib/libcurl.so.4: no version information available (required by /usr/bin/cmake)\n",
      "/usr/bin/cmake: /opt/conda/lib/libcurl.so.4: no version information available (required by /usr/bin/cmake)\n",
      "/usr/bin/cmake: /opt/conda/lib/libcurl.so.4: no version information available (required by /usr/bin/cmake)\n",
      "/usr/bin/cmake: /opt/conda/lib/libcurl.so.4: no version information available (required by /usr/bin/cmake)\n",
      "/usr/bin/cmake: /opt/conda/lib/libcurl.so.4: no version information available (required by /usr/bin/cmake)\n",
      "/usr/bin/cmake: /opt/conda/lib/libcurl.so.4: no version information available (required by /usr/bin/cmake)\n",
      "/usr/bin/cmake: /opt/conda/lib/libcurl.so.4: no version information available (required by /usr/bin/cmake)\n",
      "/usr/bin/cmake: /opt/conda/lib/libcurl.so.4: no version information available (required by /usr/bin/cmake)\n",
      "/usr/bin/cmake: /opt/conda/lib/libcurl.so.4: no version information available (required by /usr/bin/cmake)\n",
      "/usr/bin/cmake: /opt/conda/lib/libcurl.so.4: no version information available (required by /usr/bin/cmake)\n",
      "/usr/bin/cmake: /opt/conda/lib/libcurl.so.4: no version information available (required by /usr/bin/cmake)\n",
      "/usr/bin/cmake: /opt/conda/lib/libcurl.so.4: no version information available (required by /usr/bin/cmake)\n",
      "/usr/bin/cmake: /opt/conda/lib/libcurl.so.4: no version information available (required by /usr/bin/cmake)\n",
      "/usr/bin/cmake: /opt/conda/lib/libcurl.so.4: no version information available (required by /usr/bin/cmake)\n",
      "/usr/bin/cmake: /opt/conda/lib/libcurl.so.4: no version information available (required by /usr/bin/cmake)\n",
      "/usr/bin/cmake: /opt/conda/lib/libcurl.so.4: no version information available (required by /usr/bin/cmake)\n",
      "/usr/bin/cmake: /opt/conda/lib/libcurl.so.4: no version information available (required by /usr/bin/cmake)\n",
      "/usr/bin/cmake: /opt/conda/lib/libcurl.so.4: no version information available (required by /usr/bin/cmake)\n",
      "/usr/bin/cmake: /opt/conda/lib/libcurl.so.4: no version information available (required by /usr/bin/cmake)\n",
      "/usr/bin/cmake: /opt/conda/lib/libcurl.so.4: no version information available (required by /usr/bin/cmake)\n",
      "/usr/bin/cmake: /opt/conda/lib/libcurl.so.4: no version information available (required by /usr/bin/cmake)\n",
      "/usr/bin/cmake: /opt/conda/lib/libcurl.so.4: no version information available (required by /usr/bin/cmake)\n",
      "/usr/bin/cmake: /opt/conda/lib/libcurl.so.4: no version information available (required by /usr/bin/cmake)\n",
      "/usr/bin/cmake: /opt/conda/lib/libcurl.so.4: no version information available (required by /usr/bin/cmake)\n",
      "/usr/bin/cmake: /opt/conda/lib/libcurl.so.4: no version information available (required by /usr/bin/cmake)\n",
      "/usr/bin/cmake: /opt/conda/lib/libcurl.so.4: no version information available (required by /usr/bin/cmake)\n",
      "/usr/bin/cmake: /opt/conda/lib/libcurl.so.4: no version information available (required by /usr/bin/cmake)\n",
      "/usr/bin/cmake: /opt/conda/lib/libcurl.so.4: no version information available (required by /usr/bin/cmake)\n",
      "/usr/bin/cmake: /opt/conda/lib/libcurl.so.4: no version information available (required by /usr/bin/cmake)\n",
      "/usr/bin/cmake: /opt/conda/lib/libcurl.so.4: no version information available (required by /usr/bin/cmake)\n",
      "/usr/bin/cmake: /opt/conda/lib/libcurl.so.4: no version information available (required by /usr/bin/cmake)\n",
      "/usr/bin/cmake: /opt/conda/lib/libcurl.so.4: no version information available (required by /usr/bin/cmake)\n",
      "/usr/bin/cmake: /opt/conda/lib/libcurl.so.4: no version information available (required by /usr/bin/cmake)\n",
      "/usr/bin/cmake: /opt/conda/lib/libcurl.so.4: no version information available (required by /usr/bin/cmake)\n",
      "/usr/bin/cmake: /opt/conda/lib/libcurl.so.4: no version information available (required by /usr/bin/cmake)\n",
      "/usr/bin/cmake: /opt/conda/lib/libcurl.so.4: no version information available (required by /usr/bin/cmake)\n"
     ]
    },
    {
     "name": "stdout",
     "output_type": "stream",
     "text": [
      "CPU times: user 41.4 ms, sys: 32.1 ms, total: 73.5 ms\n",
      "Wall time: 5min 8s\n"
     ]
    }
   ],
   "source": [
    "%%time\n",
    "%%bash\n",
    "cd LightGBM\n",
    "rm -r build\n",
    "mkdir build\n",
    "cd build\n",
    "cmake -DUSE_GPU=1 -DOpenCL_LIBRARY=/usr/local/cuda/lib64/libOpenCL.so -DOpenCL_INCLUDE_DIR=/usr/local/cuda/include/ ..\n",
    "make -j$(nproc)"
   ]
  },
  {
   "cell_type": "code",
   "execution_count": 4,
   "metadata": {
    "execution": {
     "iopub.execute_input": "2020-12-31T12:26:21.157603Z",
     "iopub.status.busy": "2020-12-31T12:26:21.156761Z",
     "iopub.status.idle": "2020-12-31T12:26:22.976808Z",
     "shell.execute_reply": "2020-12-31T12:26:22.975525Z"
    },
    "papermill": {
     "duration": 1.935384,
     "end_time": "2020-12-31T12:26:22.976921",
     "exception": false,
     "start_time": "2020-12-31T12:26:21.041537",
     "status": "completed"
    },
    "tags": []
   },
   "outputs": [
    {
     "name": "stdout",
     "output_type": "stream",
     "text": [
      "running install\r\n",
      "running build\r\n",
      "running build_py\r\n",
      "creating build\r\n",
      "creating build/lib\r\n",
      "creating build/lib/lightgbm\r\n",
      "copying lightgbm/plotting.py -> build/lib/lightgbm\r\n",
      "copying lightgbm/basic.py -> build/lib/lightgbm\r\n",
      "copying lightgbm/engine.py -> build/lib/lightgbm\r\n",
      "copying lightgbm/callback.py -> build/lib/lightgbm\r\n",
      "copying lightgbm/libpath.py -> build/lib/lightgbm\r\n",
      "copying lightgbm/compat.py -> build/lib/lightgbm\r\n",
      "copying lightgbm/sklearn.py -> build/lib/lightgbm\r\n",
      "copying lightgbm/dask.py -> build/lib/lightgbm\r\n",
      "copying lightgbm/__init__.py -> build/lib/lightgbm\r\n",
      "running egg_info\r\n",
      "creating lightgbm.egg-info\r\n",
      "writing lightgbm.egg-info/PKG-INFO\r\n",
      "writing dependency_links to lightgbm.egg-info/dependency_links.txt\r\n",
      "writing requirements to lightgbm.egg-info/requires.txt\r\n",
      "writing top-level names to lightgbm.egg-info/top_level.txt\r\n",
      "writing manifest file 'lightgbm.egg-info/SOURCES.txt'\r\n",
      "reading manifest template 'MANIFEST.in'\r\n",
      "no previously-included directories found matching 'build'\r\n",
      "warning: no files found matching 'LICENSE'\r\n",
      "warning: no files found matching '*.txt'\r\n",
      "warning: no files found matching '*.so' under directory 'lightgbm'\r\n",
      "warning: no files found matching 'compile/CMakeLists.txt'\r\n",
      "warning: no files found matching 'compile/CMakeIntegratedOpenCL.cmake'\r\n",
      "warning: no files found matching '*.so' under directory 'compile'\r\n",
      "warning: no files found matching '*.dll' under directory 'compile/Release'\r\n",
      "warning: no files found matching 'compile/compute/CMakeLists.txt'\r\n",
      "warning: no files found matching '*' under directory 'compile/compute/cmake'\r\n",
      "warning: no files found matching '*' under directory 'compile/compute/include'\r\n",
      "warning: no files found matching '*' under directory 'compile/compute/meta'\r\n",
      "warning: no files found matching 'compile/eigen/CMakeLists.txt'\r\n",
      "warning: no files found matching 'compile/eigen/Eigen/CMakeLists.txt'\r\n",
      "warning: no files found matching 'compile/eigen/Eigen/Cholesky'\r\n",
      "warning: no files found matching 'compile/eigen/Eigen/Core'\r\n",
      "warning: no files found matching 'compile/eigen/Eigen/Dense'\r\n",
      "warning: no files found matching 'compile/eigen/Eigen/Eigenvalues'\r\n",
      "warning: no files found matching 'compile/eigen/Eigen/Geometry'\r\n",
      "warning: no files found matching 'compile/eigen/Eigen/Householder'\r\n",
      "warning: no files found matching 'compile/eigen/Eigen/Jacobi'\r\n",
      "warning: no files found matching 'compile/eigen/Eigen/LU'\r\n",
      "warning: no files found matching 'compile/eigen/Eigen/QR'\r\n",
      "warning: no files found matching 'compile/eigen/Eigen/SVD'\r\n",
      "warning: no files found matching '*' under directory 'compile/eigen/Eigen/src/Cholesky'\r\n",
      "warning: no files found matching '*' under directory 'compile/eigen/Eigen/src/Core'\r\n",
      "warning: no files found matching '*' under directory 'compile/eigen/Eigen/src/Eigenvalues'\r\n",
      "warning: no files found matching '*' under directory 'compile/eigen/Eigen/src/Geometry'\r\n",
      "warning: no files found matching '*' under directory 'compile/eigen/Eigen/src/Householder'\r\n",
      "warning: no files found matching '*' under directory 'compile/eigen/Eigen/src/Jacobi'\r\n",
      "warning: no files found matching '*' under directory 'compile/eigen/Eigen/src/LU'\r\n",
      "warning: no files found matching '*' under directory 'compile/eigen/Eigen/src/misc'\r\n",
      "warning: no files found matching '*' under directory 'compile/eigen/Eigen/src/plugins'\r\n",
      "warning: no files found matching '*' under directory 'compile/eigen/Eigen/src/QR'\r\n",
      "warning: no files found matching '*' under directory 'compile/eigen/Eigen/src/SVD'\r\n",
      "warning: no files found matching 'compile/external_libs/fast_double_parser/CMakeLists.txt'\r\n",
      "warning: no files found matching 'compile/external_libs/fast_double_parser/LICENSE'\r\n",
      "warning: no files found matching 'compile/external_libs/fast_double_parser/LICENSE.BSL'\r\n",
      "warning: no files found matching '*' under directory 'compile/external_libs/fast_double_parser/include'\r\n",
      "warning: no files found matching 'compile/external_libs/fmt/CMakeLists.txt'\r\n",
      "warning: no files found matching 'compile/external_libs/fmt/LICENSE.rst'\r\n",
      "warning: no files found matching '*' under directory 'compile/external_libs/fmt/include'\r\n",
      "warning: no files found matching '*' under directory 'compile/include'\r\n",
      "warning: no files found matching '*' under directory 'compile/src'\r\n",
      "warning: no files found matching 'LightGBM.sln' under directory 'compile/windows'\r\n",
      "warning: no files found matching 'LightGBM.vcxproj' under directory 'compile/windows'\r\n",
      "warning: no files found matching '*.dll' under directory 'compile/windows/x64/DLL'\r\n",
      "warning: no previously-included files matching '*.py[co]' found anywhere in distribution\r\n",
      "warning: no previously-included files found matching 'compile/compute/.git'\r\n",
      "writing manifest file 'lightgbm.egg-info/SOURCES.txt'\r\n",
      "copying lightgbm/VERSION.txt -> build/lib/lightgbm\r\n",
      "running install_lib\r\n",
      "copying build/lib/lightgbm/plotting.py -> /opt/conda/lib/python3.7/site-packages/lightgbm\r\n",
      "copying build/lib/lightgbm/basic.py -> /opt/conda/lib/python3.7/site-packages/lightgbm\r\n",
      "copying build/lib/lightgbm/engine.py -> /opt/conda/lib/python3.7/site-packages/lightgbm\r\n",
      "copying build/lib/lightgbm/callback.py -> /opt/conda/lib/python3.7/site-packages/lightgbm\r\n",
      "copying build/lib/lightgbm/VERSION.txt -> /opt/conda/lib/python3.7/site-packages/lightgbm\r\n",
      "copying build/lib/lightgbm/libpath.py -> /opt/conda/lib/python3.7/site-packages/lightgbm\r\n",
      "copying build/lib/lightgbm/compat.py -> /opt/conda/lib/python3.7/site-packages/lightgbm\r\n",
      "copying build/lib/lightgbm/sklearn.py -> /opt/conda/lib/python3.7/site-packages/lightgbm\r\n",
      "copying build/lib/lightgbm/dask.py -> /opt/conda/lib/python3.7/site-packages/lightgbm\r\n",
      "copying build/lib/lightgbm/__init__.py -> /opt/conda/lib/python3.7/site-packages/lightgbm\r\n",
      "copying ../lib_lightgbm.so -> /opt/conda/lib/python3.7/site-packages/lightgbm\r\n",
      "byte-compiling /opt/conda/lib/python3.7/site-packages/lightgbm/plotting.py to plotting.cpython-37.pyc\r\n",
      "byte-compiling /opt/conda/lib/python3.7/site-packages/lightgbm/basic.py to basic.cpython-37.pyc\r\n",
      "byte-compiling /opt/conda/lib/python3.7/site-packages/lightgbm/engine.py to engine.cpython-37.pyc\r\n",
      "byte-compiling /opt/conda/lib/python3.7/site-packages/lightgbm/callback.py to callback.cpython-37.pyc\r\n",
      "byte-compiling /opt/conda/lib/python3.7/site-packages/lightgbm/libpath.py to libpath.cpython-37.pyc\r\n",
      "byte-compiling /opt/conda/lib/python3.7/site-packages/lightgbm/compat.py to compat.cpython-37.pyc\r\n",
      "byte-compiling /opt/conda/lib/python3.7/site-packages/lightgbm/sklearn.py to sklearn.cpython-37.pyc\r\n",
      "byte-compiling /opt/conda/lib/python3.7/site-packages/lightgbm/dask.py to dask.cpython-37.pyc\r\n",
      "byte-compiling /opt/conda/lib/python3.7/site-packages/lightgbm/__init__.py to __init__.cpython-37.pyc\r\n",
      "running install_egg_info\r\n",
      "Copying lightgbm.egg-info to /opt/conda/lib/python3.7/site-packages/lightgbm-3.1.1.99-py3.7.egg-info\r\n",
      "running install_scripts\r\n",
      "CPU times: user 28.3 ms, sys: 14.2 ms, total: 42.5 ms\n",
      "Wall time: 1.81 s\n"
     ]
    }
   ],
   "source": [
    "%%time\n",
    "!cd LightGBM/python-package/;python3 setup.py install --precompile"
   ]
  },
  {
   "cell_type": "code",
   "execution_count": 5,
   "metadata": {
    "execution": {
     "iopub.execute_input": "2020-12-31T12:26:23.210068Z",
     "iopub.status.busy": "2020-12-31T12:26:23.209220Z",
     "iopub.status.idle": "2020-12-31T12:26:24.893736Z",
     "shell.execute_reply": "2020-12-31T12:26:24.892158Z"
    },
    "papermill": {
     "duration": 1.798799,
     "end_time": "2020-12-31T12:26:24.893879",
     "exception": false,
     "start_time": "2020-12-31T12:26:23.095080",
     "status": "completed"
    },
    "tags": []
   },
   "outputs": [
    {
     "name": "stdout",
     "output_type": "stream",
     "text": [
      "CPU times: user 8.13 ms, sys: 8.18 ms, total: 16.3 ms\n",
      "Wall time: 1.67 s\n"
     ]
    }
   ],
   "source": [
    "%%time\n",
    "!mkdir -p /etc/OpenCL/vendors && echo \"libnvidia-opencl.so.1\" > /etc/OpenCL/vendors/nvidia.icd\n",
    "!rm -r LightGBM"
   ]
  },
  {
   "cell_type": "markdown",
   "metadata": {
    "papermill": {
     "duration": 0.110308,
     "end_time": "2020-12-31T12:26:25.167352",
     "exception": false,
     "start_time": "2020-12-31T12:26:25.057044",
     "status": "completed"
    },
    "tags": []
   },
   "source": [
    "# Required library"
   ]
  },
  {
   "cell_type": "code",
   "execution_count": 6,
   "metadata": {
    "execution": {
     "iopub.execute_input": "2020-12-31T12:26:25.394112Z",
     "iopub.status.busy": "2020-12-31T12:26:25.393245Z",
     "iopub.status.idle": "2020-12-31T12:26:30.235935Z",
     "shell.execute_reply": "2020-12-31T12:26:30.237074Z"
    },
    "papermill": {
     "duration": 4.959519,
     "end_time": "2020-12-31T12:26:30.237257",
     "exception": false,
     "start_time": "2020-12-31T12:26:25.277738",
     "status": "completed"
    },
    "tags": []
   },
   "outputs": [
    {
     "data": {
      "text/html": [
       "<style type='text/css'>\n",
       ".datatable table.frame { margin-bottom: 0; }\n",
       ".datatable table.frame thead { border-bottom: none; }\n",
       ".datatable table.frame tr.coltypes td {  color: #FFFFFF;  line-height: 6px;  padding: 0 0.5em;}\n",
       ".datatable .bool    { background: #DDDD99; }\n",
       ".datatable .object  { background: #565656; }\n",
       ".datatable .int     { background: #5D9E5D; }\n",
       ".datatable .float   { background: #4040CC; }\n",
       ".datatable .str     { background: #CC4040; }\n",
       ".datatable .row_index {  background: var(--jp-border-color3);  border-right: 1px solid var(--jp-border-color0);  color: var(--jp-ui-font-color3);  font-size: 9px;}\n",
       ".datatable .frame tr.coltypes .row_index {  background: var(--jp-border-color0);}\n",
       ".datatable th:nth-child(2) { padding-left: 12px; }\n",
       ".datatable .hellipsis {  color: var(--jp-cell-editor-border-color);}\n",
       ".datatable .vellipsis {  background: var(--jp-layout-color0);  color: var(--jp-cell-editor-border-color);}\n",
       ".datatable .na {  color: var(--jp-cell-editor-border-color);  font-size: 80%;}\n",
       ".datatable .footer { font-size: 9px; }\n",
       ".datatable .frame_dimensions {  background: var(--jp-border-color3);  border-top: 1px solid var(--jp-border-color0);  color: var(--jp-ui-font-color3);  display: inline-block;  opacity: 0.6;  padding: 1px 10px 1px 5px;}\n",
       ".datatable .frame thead tr.colnames {  background-image: url('data:image/png;base64,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');  background-repeat: repeat-x;  background-size: 14px;  height: 28px;}\n",
       "</style>\n"
      ],
      "text/plain": [
       "<IPython.core.display.HTML object>"
      ]
     },
     "metadata": {},
     "output_type": "display_data"
    },
    {
     "name": "stdout",
     "output_type": "stream",
     "text": [
      "CPU times: user 1.48 s, sys: 525 ms, total: 2.01 s\n",
      "Wall time: 4.84 s\n"
     ]
    }
   ],
   "source": [
    "%%time\n",
    "import warnings\n",
    "warnings.filterwarnings('ignore')\n",
    "import pandas as pd\n",
    "import numpy as np\n",
    "import os\n",
    "import random\n",
    "import datatable as dt\n",
    "import seaborn as sns\n",
    "from tqdm.notebook import tqdm\n",
    "import plotly.graph_objects as go\n",
    "from sklearn.model_selection import TimeSeriesSplit, KFold, train_test_split\n",
    "from sklearn.model_selection._split import _BaseKFold, indexable, _num_samples\n",
    "from sklearn.utils.validation import _deprecate_positional_args\n",
    "import re\n",
    "import pickle\n",
    "from tqdm.notebook import tqdm\n",
    "import lightgbm as lgb\n",
    "import optuna\n",
    "from optuna.samplers import TPESampler\n",
    "import multiprocessing\n",
    "import numba\n",
    "import datatable as dtable\n",
    "from functools import partial\n",
    "from sklearn import preprocessing\n",
    "import gc\n",
    "from sklearn.metrics import roc_auc_score\n",
    "import cudf"
   ]
  },
  {
   "cell_type": "markdown",
   "metadata": {
    "papermill": {
     "duration": 0.110598,
     "end_time": "2020-12-31T12:26:30.460940",
     "exception": false,
     "start_time": "2020-12-31T12:26:30.350342",
     "status": "completed"
    },
    "tags": []
   },
   "source": [
    "# Initial conditions"
   ]
  },
  {
   "cell_type": "code",
   "execution_count": 7,
   "metadata": {
    "execution": {
     "iopub.execute_input": "2020-12-31T12:26:30.691517Z",
     "iopub.status.busy": "2020-12-31T12:26:30.690668Z",
     "iopub.status.idle": "2020-12-31T12:26:30.696198Z",
     "shell.execute_reply": "2020-12-31T12:26:30.696828Z"
    },
    "papermill": {
     "duration": 0.123823,
     "end_time": "2020-12-31T12:26:30.697030",
     "exception": false,
     "start_time": "2020-12-31T12:26:30.573207",
     "status": "completed"
    },
    "tags": []
   },
   "outputs": [
    {
     "name": "stdout",
     "output_type": "stream",
     "text": [
      "CPU times: user 5 µs, sys: 2 µs, total: 7 µs\n",
      "Wall time: 10.5 µs\n"
     ]
    }
   ],
   "source": [
    "%%time\n",
    "SEED = 20\n",
    "num_boost_round = int(20)\n",
    "early_stopping_rounds = int(20)\n",
    "n_trials = int(1)"
   ]
  },
  {
   "cell_type": "code",
   "execution_count": 8,
   "metadata": {
    "execution": {
     "iopub.execute_input": "2020-12-31T12:26:30.932550Z",
     "iopub.status.busy": "2020-12-31T12:26:30.931796Z",
     "iopub.status.idle": "2020-12-31T12:26:30.936423Z",
     "shell.execute_reply": "2020-12-31T12:26:30.937110Z"
    },
    "papermill": {
     "duration": 0.128173,
     "end_time": "2020-12-31T12:26:30.937272",
     "exception": false,
     "start_time": "2020-12-31T12:26:30.809099",
     "status": "completed"
    },
    "tags": []
   },
   "outputs": [
    {
     "name": "stdout",
     "output_type": "stream",
     "text": [
      "CPU times: user 132 µs, sys: 0 ns, total: 132 µs\n",
      "Wall time: 154 µs\n"
     ]
    }
   ],
   "source": [
    "%%time\n",
    "# Function to seed everything\n",
    "def seed_everything(seed):\n",
    "    random.seed(seed)\n",
    "    np.random.seed(seed)\n",
    "    os.environ['PYTHONHASHSEED'] = str(seed)\n",
    "seed_everything(SEED)"
   ]
  },
  {
   "cell_type": "markdown",
   "metadata": {
    "papermill": {
     "duration": 0.114191,
     "end_time": "2020-12-31T12:26:31.166000",
     "exception": false,
     "start_time": "2020-12-31T12:26:31.051809",
     "status": "completed"
    },
    "tags": []
   },
   "source": [
    "# Preprocess"
   ]
  },
  {
   "cell_type": "code",
   "execution_count": 9,
   "metadata": {
    "execution": {
     "iopub.execute_input": "2020-12-31T12:26:31.396242Z",
     "iopub.status.busy": "2020-12-31T12:26:31.395633Z",
     "iopub.status.idle": "2020-12-31T12:27:52.852655Z",
     "shell.execute_reply": "2020-12-31T12:27:52.853742Z"
    },
    "papermill": {
     "duration": 81.575543,
     "end_time": "2020-12-31T12:27:52.854005",
     "exception": false,
     "start_time": "2020-12-31T12:26:31.278462",
     "status": "completed"
    },
    "tags": []
   },
   "outputs": [
    {
     "name": "stdout",
     "output_type": "stream",
     "text": [
      "Data is loaded!\n",
      "CPU times: user 9.4 s, sys: 6.22 s, total: 15.6 s\n",
      "Wall time: 1min 21s\n"
     ]
    }
   ],
   "source": [
    "%%time\n",
    "train_cudf  = cudf.read_csv('/kaggle/input/jane-street-market-prediction/train.csv')\n",
    "train = train_cudf.to_pandas()\n",
    "del train_cudf\n",
    "print (\"Data is loaded!\")"
   ]
  },
  {
   "cell_type": "code",
   "execution_count": 10,
   "metadata": {
    "execution": {
     "iopub.execute_input": "2020-12-31T12:27:53.201343Z",
     "iopub.status.busy": "2020-12-31T12:27:53.199423Z",
     "iopub.status.idle": "2020-12-31T12:27:55.708275Z",
     "shell.execute_reply": "2020-12-31T12:27:55.707261Z"
    },
    "papermill": {
     "duration": 2.687402,
     "end_time": "2020-12-31T12:27:55.708429",
     "exception": false,
     "start_time": "2020-12-31T12:27:53.021027",
     "status": "completed"
    },
    "tags": []
   },
   "outputs": [
    {
     "name": "stdout",
     "output_type": "stream",
     "text": [
      "CPU times: user 890 ms, sys: 1.68 s, total: 2.57 s\n",
      "Wall time: 2.51 s\n"
     ]
    }
   ],
   "source": [
    "%%time\n",
    "train = train[train['weight'] != 0]\n",
    "train['action'] = (train['resp'] > 0).astype('int')\n",
    "X_train = train.loc[:, train.columns.str.contains('feature')]\n",
    "y_train = train.loc[:, 'action']\n",
    "groups = train['date'].values\n",
    "weightes = train['weight'].values\n",
    "resps = train['resp'].values\n",
    "del train"
   ]
  },
  {
   "cell_type": "markdown",
   "metadata": {
    "papermill": {
     "duration": 0.112613,
     "end_time": "2020-12-31T12:27:55.935484",
     "exception": false,
     "start_time": "2020-12-31T12:27:55.822871",
     "status": "completed"
    },
    "tags": []
   },
   "source": [
    "# Functions"
   ]
  },
  {
   "cell_type": "code",
   "execution_count": 11,
   "metadata": {
    "execution": {
     "iopub.execute_input": "2020-12-31T12:27:56.181979Z",
     "iopub.status.busy": "2020-12-31T12:27:56.180926Z",
     "iopub.status.idle": "2020-12-31T12:27:56.185259Z",
     "shell.execute_reply": "2020-12-31T12:27:56.185858Z"
    },
    "papermill": {
     "duration": 0.1367,
     "end_time": "2020-12-31T12:27:56.186019",
     "exception": false,
     "start_time": "2020-12-31T12:27:56.049319",
     "status": "completed"
    },
    "tags": []
   },
   "outputs": [
    {
     "name": "stdout",
     "output_type": "stream",
     "text": [
      "CPU times: user 6 µs, sys: 3 µs, total: 9 µs\n",
      "Wall time: 12.9 µs\n"
     ]
    }
   ],
   "source": [
    "%%time\n",
    "def group_time_split(groups: np.ndarray, splits, X):\n",
    "    group_list = np.unique(groups)\n",
    "    n_samples = len(X)\n",
    "    n_groups = len(group_list)\n",
    "    indices = np.arange(n_samples)\n",
    "    test_size = n_groups // splits\n",
    "    test_starts = range(test_size + n_groups % splits, n_groups, test_size)\n",
    "    test_starts = list(test_starts)\n",
    "    for test_start in test_starts:\n",
    "        yield (\n",
    "            indices[np.isin(groups, group_list[:test_start])],\n",
    "            indices[np.isin(groups, group_list[test_start:])],\n",
    "        )\n",
    "\n",
    "\n",
    "def utility_score_last(date, weight, resp, action):\n",
    "    count_i = date[-1] + 1\n",
    "    Pi = np.bincount(date, weight * resp * action)\n",
    "    t = np.sum(Pi) / np.sqrt(np.sum(Pi ** 2)) * np.sqrt(250 / count_i)\n",
    "    u = np.clip(t, 0, 6) * np.sum(Pi)\n",
    "    return u\n",
    "\n",
    "\n",
    "def get_opt_threshold(pred, y_true, groups, weights, bins=50):\n",
    "    p_min, p_max = pred.min(), pred.max()\n",
    "    opt_u = 0\n",
    "    opt_th = p_min\n",
    "    for th in np.linspace(p_min, p_max, endpoint=False, num=bins):\n",
    "        act = np.where(pred > th, 1, 0)\n",
    "        u = utility_score_last(groups, weights, y_true, act)\n",
    "        if u > opt_u:\n",
    "            opt_u = u\n",
    "            print(u)\n",
    "            opt_th = th\n",
    "    return opt_th\n",
    "\n",
    "def optimize(params, X_train: pd.DataFrame, y_train: pd.DataFrame, groups: np.ndarray, splits=5):\n",
    "    print(params)\n",
    "    weighted_auc = 0\n",
    "    div = splits * (splits - 1) / 2\n",
    "\n",
    "    for i, (tr_idx, val_idx) in enumerate(group_time_split(groups, splits, X_train)):\n",
    "        tr_X = X_train.iloc[tr_idx]\n",
    "        tr_y = y_train.iloc[tr_idx]\n",
    "        val_X = X_train.iloc[val_idx]\n",
    "        val_y = y_train.iloc[val_idx]\n",
    "        \n",
    "        clf = lgb.LGBMClassifier(\n",
    "            task = 'train',\n",
    "            boosting_type = 'gbdt',\n",
    "            objective = 'binary',\n",
    "            random_state = SEED,\n",
    "            importance_type = 'gain',\n",
    "            n_estimators = num_boost_round,\n",
    "            n_jobs = multiprocessing.cpu_count(),\n",
    "            metric = 'auc'\n",
    "        )\n",
    "        clf.set_params(**params)\n",
    "        clf.fit(\n",
    "            tr_X, \n",
    "            tr_y, \n",
    "            eval_set=[(val_X, val_y)], \n",
    "            eval_metric='auc',\n",
    "            early_stopping_rounds=early_stopping_rounds,\n",
    "            verbose=False\n",
    "        )\n",
    "        val_pred = clf.predict_proba(val_X)[:, 1]\n",
    "\n",
    "        weighted_auc += (i + 1) * roc_auc_score(val_y, val_pred) / div\n",
    "\n",
    "        gc.collect()\n",
    "\n",
    "    return - weighted_auc"
   ]
  },
  {
   "cell_type": "markdown",
   "metadata": {
    "papermill": {
     "duration": 0.113942,
     "end_time": "2020-12-31T12:27:56.413329",
     "exception": false,
     "start_time": "2020-12-31T12:27:56.299387",
     "status": "completed"
    },
    "tags": []
   },
   "source": [
    "# Optimisation"
   ]
  },
  {
   "cell_type": "code",
   "execution_count": 12,
   "metadata": {
    "execution": {
     "iopub.execute_input": "2020-12-31T12:27:56.655603Z",
     "iopub.status.busy": "2020-12-31T12:27:56.654618Z",
     "iopub.status.idle": "2020-12-31T12:27:56.658861Z",
     "shell.execute_reply": "2020-12-31T12:27:56.658291Z"
    },
    "papermill": {
     "duration": 0.128928,
     "end_time": "2020-12-31T12:27:56.658966",
     "exception": false,
     "start_time": "2020-12-31T12:27:56.530038",
     "status": "completed"
    },
    "tags": []
   },
   "outputs": [
    {
     "name": "stdout",
     "output_type": "stream",
     "text": [
      "CPU times: user 3 µs, sys: 1e+03 ns, total: 4 µs\n",
      "Wall time: 7.63 µs\n"
     ]
    }
   ],
   "source": [
    "%%time\n",
    "def objective(trial):\n",
    "    params = {\n",
    "        'lambda_l1': trial.suggest_loguniform('lambda_l1', 0.1, 0.9),\n",
    "        'lambda_l2': trial.suggest_loguniform('lambda_l2', 0.1, 0.9),\n",
    "        'num_leaves': trial.suggest_int('num_leaves', 2, 256),\n",
    "        'feature_fraction': trial.suggest_uniform('feature_fraction', 0.4, 1.0),\n",
    "        'bagging_fraction': trial.suggest_uniform('bagging_fraction', 0.4, 1.0),\n",
    "        'bagging_freq': trial.suggest_int('bagging_freq', 1, 7),\n",
    "        'min_child_samples': trial.suggest_int('min_child_samples', 5, 100),\n",
    "        'device': 'gpu',\n",
    "        'gpu_platform_id': 0,\n",
    "        'gpu_device_id': 0\n",
    "    }\n",
    "    return optimize(params, X_train, y_train, groups, splits=5)"
   ]
  },
  {
   "cell_type": "code",
   "execution_count": 13,
   "metadata": {
    "execution": {
     "iopub.execute_input": "2020-12-31T12:27:56.897245Z",
     "iopub.status.busy": "2020-12-31T12:27:56.896597Z",
     "iopub.status.idle": "2020-12-31T12:30:46.501660Z",
     "shell.execute_reply": "2020-12-31T12:30:46.500788Z"
    },
    "papermill": {
     "duration": 169.727617,
     "end_time": "2020-12-31T12:30:46.501824",
     "exception": false,
     "start_time": "2020-12-31T12:27:56.774207",
     "status": "completed"
    },
    "tags": []
   },
   "outputs": [
    {
     "name": "stderr",
     "output_type": "stream",
     "text": [
      "\u001b[32m[I 2020-12-31 12:27:56,894]\u001b[0m A new study created in memory with name: no-name-87130736-80fc-48e7-8437-cb8ceb5f6b88\u001b[0m\n"
     ]
    },
    {
     "name": "stdout",
     "output_type": "stream",
     "text": [
      "{'lambda_l1': 0.7755443155940888, 'lambda_l2': 0.43260585448507877, 'num_leaves': 198, 'feature_fraction': 0.6304512045259768, 'bagging_fraction': 0.6878990226261725, 'bagging_freq': 3, 'min_child_samples': 23, 'device': 'gpu', 'gpu_platform_id': 0, 'gpu_device_id': 0}\n"
     ]
    },
    {
     "name": "stderr",
     "output_type": "stream",
     "text": [
      "\u001b[32m[I 2020-12-31 12:30:46,375]\u001b[0m Trial 0 finished with value: -0.5218277457478044 and parameters: {'lambda_l1': 0.7755443155940888, 'lambda_l2': 0.43260585448507877, 'num_leaves': 198, 'feature_fraction': 0.6304512045259768, 'bagging_fraction': 0.6878990226261725, 'bagging_freq': 3, 'min_child_samples': 23}. Best is trial 0 with value: -0.5218277457478044.\u001b[0m\n"
     ]
    },
    {
     "name": "stdout",
     "output_type": "stream",
     "text": [
      "CPU times: user 4min 29s, sys: 14 s, total: 4min 43s\n",
      "Wall time: 2min 49s\n"
     ]
    }
   ],
   "source": [
    "%%time\n",
    "# Optimize Hyperparameters.\n",
    "study = optuna.create_study(direction = 'maximize', sampler = TPESampler(seed=int(SEED)))\n",
    "study.optimize(objective, n_trials = n_trials, n_jobs = multiprocessing.cpu_count())"
   ]
  },
  {
   "cell_type": "markdown",
   "metadata": {
    "papermill": {
     "duration": 0.115841,
     "end_time": "2020-12-31T12:30:46.732577",
     "exception": false,
     "start_time": "2020-12-31T12:30:46.616736",
     "status": "completed"
    },
    "tags": []
   },
   "source": [
    "# Baseline Classifier Model"
   ]
  },
  {
   "cell_type": "code",
   "execution_count": 14,
   "metadata": {
    "execution": {
     "iopub.execute_input": "2020-12-31T12:30:47.008706Z",
     "iopub.status.busy": "2020-12-31T12:30:47.007515Z",
     "iopub.status.idle": "2020-12-31T12:33:00.060384Z",
     "shell.execute_reply": "2020-12-31T12:33:00.059484Z"
    },
    "papermill": {
     "duration": 133.209594,
     "end_time": "2020-12-31T12:33:00.060537",
     "exception": false,
     "start_time": "2020-12-31T12:30:46.850943",
     "status": "completed"
    },
    "tags": []
   },
   "outputs": [
    {
     "name": "stdout",
     "output_type": "stream",
     "text": [
      "[LightGBM] [Warning] lambda_l1 is set=0.7755443155940888, reg_alpha=0.0 will be ignored. Current value: lambda_l1=0.7755443155940888\n",
      "[LightGBM] [Warning] feature_fraction is set=0.6304512045259768, colsample_bytree=1.0 will be ignored. Current value: feature_fraction=0.6304512045259768\n",
      "[LightGBM] [Warning] bagging_freq is set=3, subsample_freq=0 will be ignored. Current value: bagging_freq=3\n",
      "[LightGBM] [Warning] lambda_l2 is set=0.43260585448507877, reg_lambda=0.0 will be ignored. Current value: lambda_l2=0.43260585448507877\n",
      "[LightGBM] [Warning] bagging_fraction is set=0.6878990226261725, subsample=1.0 will be ignored. Current value: bagging_fraction=0.6878990226261725\n",
      "CPU times: user 4min 1s, sys: 2.34 s, total: 4min 3s\n",
      "Wall time: 2min 12s\n"
     ]
    },
    {
     "data": {
      "text/plain": [
       "LGBMClassifier(bagging_fraction=0.6878990226261725, bagging_freq=3,\n",
       "               feature_fraction=0.6304512045259768,\n",
       "               lambda_l1=0.7755443155940888, lambda_l2=0.43260585448507877,\n",
       "               min_child_samples=23, num_leaves=198)"
      ]
     },
     "execution_count": 14,
     "metadata": {},
     "output_type": "execute_result"
    }
   ],
   "source": [
    "%%time\n",
    "Class = lgb.LGBMClassifier()\n",
    "Class.set_params(**study.best_trial.params)\n",
    "Class.fit(\n",
    "    X_train,\n",
    "    y_train\n",
    ")"
   ]
  },
  {
   "cell_type": "markdown",
   "metadata": {
    "papermill": {
     "duration": 0.116153,
     "end_time": "2020-12-31T12:33:00.300055",
     "exception": false,
     "start_time": "2020-12-31T12:33:00.183902",
     "status": "completed"
    },
    "tags": []
   },
   "source": [
    "# Predict & Submit"
   ]
  },
  {
   "cell_type": "code",
   "execution_count": 15,
   "metadata": {
    "execution": {
     "iopub.execute_input": "2020-12-31T12:33:00.543362Z",
     "iopub.status.busy": "2020-12-31T12:33:00.542751Z",
     "iopub.status.idle": "2020-12-31T12:37:11.030094Z",
     "shell.execute_reply": "2020-12-31T12:37:11.030907Z"
    },
    "papermill": {
     "duration": 250.613029,
     "end_time": "2020-12-31T12:37:11.031119",
     "exception": false,
     "start_time": "2020-12-31T12:33:00.418090",
     "status": "completed"
    },
    "tags": []
   },
   "outputs": [
    {
     "name": "stdout",
     "output_type": "stream",
     "text": [
      "CPU times: user 7min 31s, sys: 9.43 s, total: 7min 41s\n",
      "Wall time: 4min 10s\n"
     ]
    }
   ],
   "source": [
    "%%time\n",
    "weighted_opt = 0.5\n",
    "\n",
    "import janestreet\n",
    "env = janestreet.make_env() # initialize the environment\n",
    "iter_test = env.iter_test() # an iterator which loops over the test set\n",
    "\n",
    "for (test_df, sample_prediction_df) in iter_test:\n",
    "    if test_df['weight'].item() > 0:\n",
    "        X_test = test_df.loc[:, test_df.columns.str.contains('feature')]\n",
    "        y_preds = Class.predict_proba(X_test)\n",
    "        y_preds = np.where(y_preds>weighted_opt, 1, 0)\n",
    "        sample_prediction_df.action = y_preds\n",
    "    else:\n",
    "        sample_prediction_df.action = 0\n",
    "    env.predict(sample_prediction_df)"
   ]
  },
  {
   "cell_type": "markdown",
   "metadata": {
    "papermill": {
     "duration": 0.115464,
     "end_time": "2020-12-31T12:37:11.263554",
     "exception": false,
     "start_time": "2020-12-31T12:37:11.148090",
     "status": "completed"
    },
    "tags": []
   },
   "source": [
    "# Save files"
   ]
  },
  {
   "cell_type": "code",
   "execution_count": 16,
   "metadata": {
    "execution": {
     "iopub.execute_input": "2020-12-31T12:37:11.499859Z",
     "iopub.status.busy": "2020-12-31T12:37:11.498626Z",
     "iopub.status.idle": "2020-12-31T12:37:16.756003Z",
     "shell.execute_reply": "2020-12-31T12:37:16.756822Z"
    },
    "papermill": {
     "duration": 5.382838,
     "end_time": "2020-12-31T12:37:16.761054",
     "exception": false,
     "start_time": "2020-12-31T12:37:11.378216",
     "status": "completed"
    },
    "tags": []
   },
   "outputs": [
    {
     "name": "stdout",
     "output_type": "stream",
     "text": [
      "CPU times: user 673 ms, sys: 3.03 s, total: 3.71 s\n",
      "Wall time: 5.22 s\n"
     ]
    }
   ],
   "source": [
    "%%time\n",
    "pickle.dump(study.best_trial.params, open('the_best_hyperparameter.pickle', 'wb'))\n",
    "pickle.dump(X_train, open('X_train.pickle', 'wb'))\n",
    "pickle.dump(y_train, open('y_train.pickle', 'wb'))\n",
    "pickle.dump(groups, open('groups.pickle', 'wb'))\n",
    "pickle.dump(weightes, open('weightes.pickle', 'wb'))\n",
    "pickle.dump(resps, open('resps.pickle', 'wb'))"
   ]
  },
  {
   "cell_type": "markdown",
   "metadata": {
    "papermill": {
     "duration": 2.38833,
     "end_time": "2020-12-31T12:37:24.568933",
     "exception": false,
     "start_time": "2020-12-31T12:37:22.180603",
     "status": "completed"
    },
    "tags": []
   },
   "source": [
    "# References\n",
    "1. Notebooks\n",
    "    - [Expanding-window & Sharp Weighted Return](https://www.kaggle.com/haozhuai/expanding-window-sharp-weighted-return)\n",
    "    - [xgb_classifier + validation + utility scoring func](https://www.kaggle.com/rpygamer/xgb-classifier-validation-utility-scoring-func)\n",
    "    - [Optimized LightGBM Classifier on Utility Score](https://www.kaggle.com/satorushibata/optimized-lightgbm-classifier-on-utility-score)\n",
    "    - [Market Prediction: XGBoost with GPU (Fit in 1min)](https://www.kaggle.com/hamditarek/market-prediction-xgboost-with-gpu-fit-in-1min)\n",
    "    - [GPU-accelerated LightGBM full](https://www.kaggle.com/dromosys/gpu-accelerated-lightgbm-full)\n",
    "1. Discussion\n",
    "    - [Customized Sharp weighted return for Lightgbm & Xgboost](https://www.kaggle.com/c/jane-street-market-prediction/discussion/200915)\n",
    "    - [Kaggle kernel LightGBM gpu](https://www.kaggle.com/c/avito-demand-prediction/discussion/56852)"
   ]
  },
  {
   "cell_type": "markdown",
   "metadata": {
    "papermill": {
     "duration": 1.162227,
     "end_time": "2020-12-31T12:37:25.864130",
     "exception": false,
     "start_time": "2020-12-31T12:37:24.701903",
     "status": "completed"
    },
    "tags": []
   },
   "source": [
    "# Acknowledgment\n",
    "### [@WangMH](https://www.kaggle.com/haozhuai), I'm really thankful to you !\n",
    "### And your Notebook: [Expanding-window & Sharp Weighted Return](https://www.kaggle.com/haozhuai/expanding-window-sharp-weighted-return) is a great work for me."
   ]
  }
 ],
 "metadata": {
  "kernelspec": {
   "display_name": "Python 3",
   "language": "python",
   "name": "python3"
  },
  "language_info": {
   "codemirror_mode": {
    "name": "ipython",
    "version": 3
   },
   "file_extension": ".py",
   "mimetype": "text/x-python",
   "name": "python",
   "nbconvert_exporter": "python",
   "pygments_lexer": "ipython3",
   "version": "3.7.6"
  },
  "papermill": {
   "duration": 1003.612187,
   "end_time": "2020-12-31T12:37:27.506106",
   "environment_variables": {},
   "exception": null,
   "input_path": "__notebook__.ipynb",
   "output_path": "__notebook__.ipynb",
   "parameters": {},
   "start_time": "2020-12-31T12:20:43.893919",
   "version": "2.1.0"
  }
 },
 "nbformat": 4,
 "nbformat_minor": 4
}

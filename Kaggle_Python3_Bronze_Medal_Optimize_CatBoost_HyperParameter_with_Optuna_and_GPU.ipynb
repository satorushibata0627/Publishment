{
 "cells": [
  {
   "cell_type": "code",
   "execution_count": 1,
   "metadata": {
    "_cell_guid": "79c7e3d0-c299-4dcb-8224-4455121ee9b0",
    "_uuid": "d629ff2d2480ee46fbb7e2d37f6b5fab8052498a",
    "execution": {
     "iopub.execute_input": "2021-01-10T04:47:46.242340Z",
     "iopub.status.busy": "2021-01-10T04:47:46.241616Z",
     "iopub.status.idle": "2021-01-10T04:47:47.990287Z",
     "shell.execute_reply": "2021-01-10T04:47:47.990798Z"
    },
    "papermill": {
     "duration": 1.766348,
     "end_time": "2021-01-10T04:47:47.990976",
     "exception": false,
     "start_time": "2021-01-10T04:47:46.224628",
     "status": "completed"
    },
    "tags": []
   },
   "outputs": [
    {
     "name": "stdout",
     "output_type": "stream",
     "text": [
      "CPU times: user 671 ms, sys: 142 ms, total: 812 ms\n",
      "Wall time: 1.74 s\n"
     ]
    }
   ],
   "source": [
    "%%time\n",
    "import warnings\n",
    "warnings.filterwarnings('ignore')\n",
    "import pandas as pd\n",
    "import numpy as np\n",
    "import os\n",
    "import random\n",
    "from optuna.samplers import TPESampler\n",
    "import multiprocessing\n",
    "import catboost as cat\n",
    "import optuna\n",
    "from sklearn.model_selection import train_test_split\n",
    "from sklearn.metrics import roc_auc_score\n",
    "import pickle\n",
    "from sklearn.utils import resample\n",
    "from catboost import Pool\n",
    "import sklearn.metrics"
   ]
  },
  {
   "cell_type": "markdown",
   "metadata": {
    "papermill": {
     "duration": 0.00879,
     "end_time": "2021-01-10T04:47:48.009511",
     "exception": false,
     "start_time": "2021-01-10T04:47:48.000721",
     "status": "completed"
    },
    "tags": []
   },
   "source": [
    "# Initial conditions"
   ]
  },
  {
   "cell_type": "code",
   "execution_count": 2,
   "metadata": {
    "execution": {
     "iopub.execute_input": "2021-01-10T04:47:48.032334Z",
     "iopub.status.busy": "2021-01-10T04:47:48.031613Z",
     "iopub.status.idle": "2021-01-10T04:47:48.035512Z",
     "shell.execute_reply": "2021-01-10T04:47:48.036216Z"
    },
    "papermill": {
     "duration": 0.018309,
     "end_time": "2021-01-10T04:47:48.036362",
     "exception": false,
     "start_time": "2021-01-10T04:47:48.018053",
     "status": "completed"
    },
    "tags": []
   },
   "outputs": [
    {
     "name": "stdout",
     "output_type": "stream",
     "text": [
      "CPU times: user 4 µs, sys: 0 ns, total: 4 µs\n",
      "Wall time: 8.11 µs\n"
     ]
    }
   ],
   "source": [
    "%%time\n",
    "n_trials = int(1)\n",
    "SEED = 123"
   ]
  },
  {
   "cell_type": "code",
   "execution_count": 3,
   "metadata": {
    "execution": {
     "iopub.execute_input": "2021-01-10T04:47:48.060351Z",
     "iopub.status.busy": "2021-01-10T04:47:48.059539Z",
     "iopub.status.idle": "2021-01-10T04:47:48.063049Z",
     "shell.execute_reply": "2021-01-10T04:47:48.063576Z"
    },
    "papermill": {
     "duration": 0.017888,
     "end_time": "2021-01-10T04:47:48.063700",
     "exception": false,
     "start_time": "2021-01-10T04:47:48.045812",
     "status": "completed"
    },
    "tags": []
   },
   "outputs": [
    {
     "name": "stdout",
     "output_type": "stream",
     "text": [
      "CPU times: user 114 µs, sys: 0 ns, total: 114 µs\n",
      "Wall time: 117 µs\n"
     ]
    }
   ],
   "source": [
    "%%time\n",
    "# Function to seed everything\n",
    "def seed_everything(seed):\n",
    "    random.seed(seed)\n",
    "    np.random.seed(seed)\n",
    "    os.environ['PYTHONHASHSEED'] = str(seed)\n",
    "seed_everything(SEED)"
   ]
  },
  {
   "cell_type": "markdown",
   "metadata": {
    "papermill": {
     "duration": 0.009388,
     "end_time": "2021-01-10T04:47:48.082634",
     "exception": false,
     "start_time": "2021-01-10T04:47:48.073246",
     "status": "completed"
    },
    "tags": []
   },
   "source": [
    "# Preprocess"
   ]
  },
  {
   "cell_type": "code",
   "execution_count": 4,
   "metadata": {
    "execution": {
     "iopub.execute_input": "2021-01-10T04:47:48.107357Z",
     "iopub.status.busy": "2021-01-10T04:47:48.106727Z",
     "iopub.status.idle": "2021-01-10T04:48:12.563380Z",
     "shell.execute_reply": "2021-01-10T04:48:12.562852Z"
    },
    "papermill": {
     "duration": 24.471163,
     "end_time": "2021-01-10T04:48:12.563494",
     "exception": false,
     "start_time": "2021-01-10T04:47:48.092331",
     "status": "completed"
    },
    "tags": []
   },
   "outputs": [
    {
     "name": "stdout",
     "output_type": "stream",
     "text": [
      "CPU times: user 1.56 s, sys: 4.35 s, total: 5.91 s\n",
      "Wall time: 24.5 s\n"
     ]
    }
   ],
   "source": [
    "%%time\n",
    "X_train = pd.read_pickle('../input/research-with-customized-sharp-weighted/X_train.pickle')\n",
    "y_train = pd.read_pickle('../input/research-with-customized-sharp-weighted/y_train.pickle')\n",
    "X = np.array(X_train)\n",
    "y = np.array(y_train)\n",
    "\n",
    "del X_train, y_train"
   ]
  },
  {
   "cell_type": "markdown",
   "metadata": {
    "papermill": {
     "duration": 0.010082,
     "end_time": "2021-01-10T04:48:12.584083",
     "exception": false,
     "start_time": "2021-01-10T04:48:12.574001",
     "status": "completed"
    },
    "tags": []
   },
   "source": [
    "# Functions"
   ]
  },
  {
   "cell_type": "code",
   "execution_count": 5,
   "metadata": {
    "execution": {
     "iopub.execute_input": "2021-01-10T04:48:12.615142Z",
     "iopub.status.busy": "2021-01-10T04:48:12.614384Z",
     "iopub.status.idle": "2021-01-10T04:48:12.618551Z",
     "shell.execute_reply": "2021-01-10T04:48:12.619491Z"
    },
    "papermill": {
     "duration": 0.024882,
     "end_time": "2021-01-10T04:48:12.619655",
     "exception": false,
     "start_time": "2021-01-10T04:48:12.594773",
     "status": "completed"
    },
    "tags": []
   },
   "outputs": [
    {
     "name": "stdout",
     "output_type": "stream",
     "text": [
      "CPU times: user 6 µs, sys: 0 ns, total: 6 µs\n",
      "Wall time: 10.5 µs\n"
     ]
    }
   ],
   "source": [
    "%%time\n",
    "def objective(trial):\n",
    "    train_x, test_x, train_y, test_y = train_test_split(X, y, test_size=0.33, random_state=int(SEED), shuffle=True)\n",
    "    train_pool = Pool(train_x, train_y)\n",
    "    test_pool = Pool(test_x, test_y)\n",
    "    \n",
    "    # Parameters\n",
    "    params = {\n",
    "        'iterations' : trial.suggest_int('iterations', 50, 300),                         \n",
    "        'depth' : trial.suggest_int('depth', 4, 10),                                       \n",
    "        'learning_rate' : trial.suggest_loguniform('learning_rate', 0.01, 0.3),               \n",
    "        'random_strength' :trial.suggest_int('random_strength', 0, 100),                       \n",
    "        'bagging_temperature' :trial.suggest_loguniform('bagging_temperature', 0.01, 100.00),\n",
    "        'learning_rate' :trial.suggest_loguniform('learning_rate', 1e-3, 1e-1),\n",
    "        'od_type': trial.suggest_categorical('od_type', ['IncToDec', 'Iter'])\n",
    "    }\n",
    "    # Learning\n",
    "    model = cat.CatBoostClassifier(\n",
    "        loss_function=\"Logloss\",\n",
    "        eval_metric=\"AUC\",\n",
    "        task_type=\"GPU\",\n",
    "        l2_leaf_reg=50,\n",
    "        random_seed=SEED,\n",
    "        border_count=64,\n",
    "        **params\n",
    "    )        \n",
    "    model.fit(train_pool)\n",
    "    # Predict\n",
    "    preds = model.predict(test_pool)\n",
    "    pred_labels = np.rint(preds)\n",
    "    y_pred_boot = resample(pred_labels, n_samples = len(train_y))\n",
    "    # Evaluation\n",
    "    ROC_AUC_Score = roc_auc_score(train_y, y_pred_boot)\n",
    "    print('ROC AUC Score of CatBoost =', ROC_AUC_Score)\n",
    "    return ROC_AUC_Score"
   ]
  },
  {
   "cell_type": "markdown",
   "metadata": {
    "papermill": {
     "duration": 0.010493,
     "end_time": "2021-01-10T04:48:12.641491",
     "exception": false,
     "start_time": "2021-01-10T04:48:12.630998",
     "status": "completed"
    },
    "tags": []
   },
   "source": [
    "# Optimisation"
   ]
  },
  {
   "cell_type": "code",
   "execution_count": 6,
   "metadata": {
    "execution": {
     "iopub.execute_input": "2021-01-10T04:48:12.669639Z",
     "iopub.status.busy": "2021-01-10T04:48:12.668828Z",
     "iopub.status.idle": "2021-01-10T04:50:44.391572Z",
     "shell.execute_reply": "2021-01-10T04:50:44.390782Z"
    },
    "papermill": {
     "duration": 151.739607,
     "end_time": "2021-01-10T04:50:44.391743",
     "exception": false,
     "start_time": "2021-01-10T04:48:12.652136",
     "status": "completed"
    },
    "tags": []
   },
   "outputs": [
    {
     "name": "stderr",
     "output_type": "stream",
     "text": [
      "\u001b[32m[I 2021-01-10 04:48:12,667]\u001b[0m A new study created in memory with name: no-name-ac4565c1-1d08-4560-b0b8-1a6971a88369\u001b[0m\n"
     ]
    },
    {
     "name": "stdout",
     "output_type": "stream",
     "text": [
      "0:\tlearn: 0.5203668\ttotal: 39.6ms\tremaining: 4.24s\n",
      "1:\tlearn: 0.5281540\ttotal: 90.3ms\tremaining: 4.79s\n",
      "2:\tlearn: 0.5304306\ttotal: 135ms\tremaining: 4.73s\n",
      "3:\tlearn: 0.5292732\ttotal: 160ms\tremaining: 4.17s\n",
      "4:\tlearn: 0.5295894\ttotal: 190ms\tremaining: 3.92s\n",
      "5:\tlearn: 0.5299858\ttotal: 230ms\tremaining: 3.91s\n",
      "6:\tlearn: 0.5294706\ttotal: 285ms\tremaining: 4.11s\n",
      "7:\tlearn: 0.5303692\ttotal: 330ms\tremaining: 4.13s\n",
      "8:\tlearn: 0.5303210\ttotal: 355ms\tremaining: 3.91s\n",
      "9:\tlearn: 0.5298588\ttotal: 378ms\tremaining: 3.71s\n",
      "10:\tlearn: 0.5295048\ttotal: 398ms\tremaining: 3.51s\n",
      "11:\tlearn: 0.5289159\ttotal: 414ms\tremaining: 3.31s\n",
      "12:\tlearn: 0.5293042\ttotal: 446ms\tremaining: 3.26s\n",
      "13:\tlearn: 0.5293765\ttotal: 475ms\tremaining: 3.19s\n",
      "14:\tlearn: 0.5290437\ttotal: 503ms\tremaining: 3.12s\n",
      "15:\tlearn: 0.5291359\ttotal: 529ms\tremaining: 3.04s\n",
      "16:\tlearn: 0.5299930\ttotal: 574ms\tremaining: 3.08s\n",
      "17:\tlearn: 0.5296179\ttotal: 591ms\tremaining: 2.95s\n",
      "18:\tlearn: 0.5295179\ttotal: 614ms\tremaining: 2.88s\n",
      "19:\tlearn: 0.5297691\ttotal: 654ms\tremaining: 2.88s\n",
      "20:\tlearn: 0.5304873\ttotal: 701ms\tremaining: 2.9s\n",
      "21:\tlearn: 0.5309543\ttotal: 755ms\tremaining: 2.95s\n",
      "22:\tlearn: 0.5311920\ttotal: 789ms\tremaining: 2.92s\n",
      "23:\tlearn: 0.5313690\ttotal: 824ms\tremaining: 2.88s\n",
      "24:\tlearn: 0.5312119\ttotal: 843ms\tremaining: 2.8s\n",
      "25:\tlearn: 0.5315773\ttotal: 872ms\tremaining: 2.75s\n",
      "26:\tlearn: 0.5313980\ttotal: 897ms\tremaining: 2.69s\n",
      "27:\tlearn: 0.5311928\ttotal: 913ms\tremaining: 2.61s\n",
      "28:\tlearn: 0.5315728\ttotal: 965ms\tremaining: 2.63s\n",
      "29:\tlearn: 0.5315066\ttotal: 989ms\tremaining: 2.57s\n",
      "30:\tlearn: 0.5319147\ttotal: 1.02s\tremaining: 2.54s\n",
      "31:\tlearn: 0.5318093\ttotal: 1.04s\tremaining: 2.48s\n",
      "32:\tlearn: 0.5317999\ttotal: 1.07s\tremaining: 2.43s\n",
      "33:\tlearn: 0.5318266\ttotal: 1.1s\tremaining: 2.4s\n",
      "34:\tlearn: 0.5316698\ttotal: 1.12s\tremaining: 2.33s\n",
      "35:\tlearn: 0.5322324\ttotal: 1.17s\tremaining: 2.34s\n",
      "36:\tlearn: 0.5321659\ttotal: 1.19s\tremaining: 2.29s\n",
      "37:\tlearn: 0.5320215\ttotal: 1.21s\tremaining: 2.23s\n",
      "38:\tlearn: 0.5319843\ttotal: 1.23s\tremaining: 2.18s\n",
      "39:\tlearn: 0.5319285\ttotal: 1.25s\tremaining: 2.13s\n",
      "40:\tlearn: 0.5322838\ttotal: 1.3s\tremaining: 2.12s\n",
      "41:\tlearn: 0.5321490\ttotal: 1.32s\tremaining: 2.07s\n",
      "42:\tlearn: 0.5322806\ttotal: 1.36s\tremaining: 2.06s\n",
      "43:\tlearn: 0.5321942\ttotal: 1.39s\tremaining: 2.02s\n",
      "44:\tlearn: 0.5325666\ttotal: 1.43s\tremaining: 2.01s\n",
      "45:\tlearn: 0.5328681\ttotal: 1.48s\tremaining: 2s\n",
      "46:\tlearn: 0.5330136\ttotal: 1.51s\tremaining: 1.96s\n",
      "47:\tlearn: 0.5333068\ttotal: 1.56s\tremaining: 1.95s\n",
      "48:\tlearn: 0.5335599\ttotal: 1.6s\tremaining: 1.93s\n",
      "49:\tlearn: 0.5335399\ttotal: 1.63s\tremaining: 1.89s\n",
      "50:\tlearn: 0.5337679\ttotal: 1.68s\tremaining: 1.88s\n",
      "51:\tlearn: 0.5340388\ttotal: 1.73s\tremaining: 1.86s\n",
      "52:\tlearn: 0.5339511\ttotal: 1.74s\tremaining: 1.81s\n",
      "53:\tlearn: 0.5342586\ttotal: 1.79s\tremaining: 1.79s\n",
      "54:\tlearn: 0.5347378\ttotal: 1.84s\tremaining: 1.77s\n",
      "55:\tlearn: 0.5349151\ttotal: 1.89s\tremaining: 1.75s\n",
      "56:\tlearn: 0.5348755\ttotal: 1.91s\tremaining: 1.71s\n",
      "57:\tlearn: 0.5348602\ttotal: 1.94s\tremaining: 1.67s\n",
      "58:\tlearn: 0.5348523\ttotal: 1.96s\tremaining: 1.63s\n",
      "59:\tlearn: 0.5348980\ttotal: 1.98s\tremaining: 1.59s\n",
      "60:\tlearn: 0.5348854\ttotal: 2.01s\tremaining: 1.55s\n",
      "61:\tlearn: 0.5348150\ttotal: 2.03s\tremaining: 1.5s\n",
      "62:\tlearn: 0.5348580\ttotal: 2.08s\tremaining: 1.48s\n",
      "63:\tlearn: 0.5348748\ttotal: 2.11s\tremaining: 1.45s\n",
      "64:\tlearn: 0.5350268\ttotal: 2.15s\tremaining: 1.42s\n",
      "65:\tlearn: 0.5349610\ttotal: 2.17s\tremaining: 1.38s\n",
      "66:\tlearn: 0.5348917\ttotal: 2.19s\tremaining: 1.34s\n",
      "67:\tlearn: 0.5349640\ttotal: 2.21s\tremaining: 1.3s\n",
      "68:\tlearn: 0.5352783\ttotal: 2.26s\tremaining: 1.28s\n",
      "69:\tlearn: 0.5355834\ttotal: 2.33s\tremaining: 1.26s\n",
      "70:\tlearn: 0.5356918\ttotal: 2.37s\tremaining: 1.24s\n",
      "71:\tlearn: 0.5357082\ttotal: 2.4s\tremaining: 1.2s\n",
      "72:\tlearn: 0.5359507\ttotal: 2.44s\tremaining: 1.17s\n",
      "73:\tlearn: 0.5359604\ttotal: 2.46s\tremaining: 1.13s\n",
      "74:\tlearn: 0.5359690\ttotal: 2.49s\tremaining: 1.09s\n",
      "75:\tlearn: 0.5359243\ttotal: 2.51s\tremaining: 1.05s\n",
      "76:\tlearn: 0.5358536\ttotal: 2.53s\tremaining: 1.02s\n",
      "77:\tlearn: 0.5360312\ttotal: 2.56s\tremaining: 986ms\n",
      "78:\tlearn: 0.5362864\ttotal: 2.6s\tremaining: 956ms\n",
      "79:\tlearn: 0.5364757\ttotal: 2.65s\tremaining: 927ms\n",
      "80:\tlearn: 0.5365305\ttotal: 2.67s\tremaining: 892ms\n",
      "81:\tlearn: 0.5365856\ttotal: 2.71s\tremaining: 861ms\n",
      "82:\tlearn: 0.5365433\ttotal: 2.74s\tremaining: 825ms\n",
      "83:\tlearn: 0.5365859\ttotal: 2.76s\tremaining: 789ms\n",
      "84:\tlearn: 0.5365857\ttotal: 2.78s\tremaining: 752ms\n",
      "85:\tlearn: 0.5367008\ttotal: 2.82s\tremaining: 721ms\n",
      "86:\tlearn: 0.5369549\ttotal: 2.87s\tremaining: 692ms\n",
      "87:\tlearn: 0.5369969\ttotal: 2.91s\tremaining: 661ms\n",
      "88:\tlearn: 0.5369587\ttotal: 2.93s\tremaining: 626ms\n",
      "89:\tlearn: 0.5369328\ttotal: 2.96s\tremaining: 593ms\n",
      "90:\tlearn: 0.5369259\ttotal: 3s\tremaining: 561ms\n",
      "91:\tlearn: 0.5369661\ttotal: 3.04s\tremaining: 529ms\n",
      "92:\tlearn: 0.5371725\ttotal: 3.09s\tremaining: 499ms\n",
      "93:\tlearn: 0.5373033\ttotal: 3.14s\tremaining: 468ms\n",
      "94:\tlearn: 0.5372693\ttotal: 3.16s\tremaining: 432ms\n",
      "95:\tlearn: 0.5372599\ttotal: 3.2s\tremaining: 400ms\n",
      "96:\tlearn: 0.5372757\ttotal: 3.23s\tremaining: 366ms\n",
      "97:\tlearn: 0.5372538\ttotal: 3.26s\tremaining: 333ms\n",
      "98:\tlearn: 0.5372139\ttotal: 3.28s\tremaining: 298ms\n",
      "99:\tlearn: 0.5374216\ttotal: 3.33s\tremaining: 266ms\n",
      "100:\tlearn: 0.5373981\ttotal: 3.35s\tremaining: 232ms\n",
      "101:\tlearn: 0.5374672\ttotal: 3.37s\tremaining: 198ms\n",
      "102:\tlearn: 0.5374387\ttotal: 3.39s\tremaining: 165ms\n",
      "103:\tlearn: 0.5373976\ttotal: 3.42s\tremaining: 132ms\n",
      "104:\tlearn: 0.5375053\ttotal: 3.47s\tremaining: 99.1ms\n",
      "105:\tlearn: 0.5375575\ttotal: 3.5s\tremaining: 66ms\n",
      "106:\tlearn: 0.5375308\ttotal: 3.52s\tremaining: 32.9ms\n",
      "107:\tlearn: 0.5378307\ttotal: 3.56s\tremaining: 0us\n"
     ]
    },
    {
     "name": "stderr",
     "output_type": "stream",
     "text": [
      "\u001b[32m[I 2021-01-10 04:50:44,289]\u001b[0m Trial 0 finished with value: 0.5001952015525651 and parameters: {'iterations': 108, 'depth': 10, 'learning_rate': 0.017870608749031732, 'random_strength': 90, 'bagging_temperature': 0.22061030692011427, 'od_type': 'Iter'}. Best is trial 0 with value: 0.5001952015525651.\u001b[0m\n"
     ]
    },
    {
     "name": "stdout",
     "output_type": "stream",
     "text": [
      "ROC AUC Score of CatBoost = 0.5001952015525651\n",
      "CPU times: user 2min 33s, sys: 3.8 s, total: 2min 37s\n",
      "Wall time: 2min 31s\n"
     ]
    }
   ],
   "source": [
    "%%time\n",
    "study = optuna.create_study(direction = \"maximize\", sampler = TPESampler(seed=int(SEED)))\n",
    "study.optimize(objective, n_trials = n_trials, n_jobs = multiprocessing.cpu_count())"
   ]
  },
  {
   "cell_type": "code",
   "execution_count": 7,
   "metadata": {
    "execution": {
     "iopub.execute_input": "2021-01-10T04:50:44.432880Z",
     "iopub.status.busy": "2021-01-10T04:50:44.431792Z",
     "iopub.status.idle": "2021-01-10T04:50:44.437998Z",
     "shell.execute_reply": "2021-01-10T04:50:44.437131Z"
    },
    "papermill": {
     "duration": 0.028388,
     "end_time": "2021-01-10T04:50:44.438097",
     "exception": false,
     "start_time": "2021-01-10T04:50:44.409709",
     "status": "completed"
    },
    "tags": []
   },
   "outputs": [
    {
     "name": "stdout",
     "output_type": "stream",
     "text": [
      "CatBoost Hyperparameter: {'iterations': 108, 'depth': 10, 'learning_rate': 0.017870608749031732, 'random_strength': 90, 'bagging_temperature': 0.22061030692011427, 'od_type': 'Iter'}\n",
      "CPU times: user 1.29 ms, sys: 16 µs, total: 1.31 ms\n",
      "Wall time: 1.08 ms\n"
     ]
    }
   ],
   "source": [
    "%%time\n",
    "# Save\n",
    "pickle.dump(study.best_trial.params, open('CatBoost_Hyperparameter.pickle', 'wb'))\n",
    "print('CatBoost Hyperparameter:', study.best_trial.params)"
   ]
  },
  {
   "cell_type": "markdown",
   "metadata": {
    "papermill": {
     "duration": 0.018585,
     "end_time": "2021-01-10T04:50:44.474719",
     "exception": false,
     "start_time": "2021-01-10T04:50:44.456134",
     "status": "completed"
    },
    "tags": []
   },
   "source": [
    "# References\n",
    "- [CatBoost HyperParameter Tuning with Optuna!](https://www.kaggle.com/saurabhshahane/catboost-hyperparameter-tuning-with-optuna)\n",
    "- [Research with Customized Sharp Weighted](https://www.kaggle.com/satorushibata/research-with-customized-sharp-weighted)\n",
    "- [catboost.predict](https://catboost.ai/docs/concepts/r-reference_catboost-predict.html)\n",
    "- [CatBoost GPU](https://www.kaggle.com/zxspectrum/catboost-gpu)\n",
    "- [catboostとOptunaでハイパーパラメータ自動最適化](https://qiita.com/shin_mura/items/8f1aa1ec90fa4ad6253e)\n",
    "- [Python: CatBoost を GPU で学習させる](https://blog.amedama.jp/entry/catboost-gpu)"
   ]
  }
 ],
 "metadata": {
  "kernelspec": {
   "display_name": "Python 3",
   "language": "python",
   "name": "python3"
  },
  "language_info": {
   "codemirror_mode": {
    "name": "ipython",
    "version": 3
   },
   "file_extension": ".py",
   "mimetype": "text/x-python",
   "name": "python",
   "nbconvert_exporter": "python",
   "pygments_lexer": "ipython3",
   "version": "3.7.6"
  },
  "papermill": {
   "duration": 183.412643,
   "end_time": "2021-01-10T04:50:44.902271",
   "environment_variables": {},
   "exception": null,
   "input_path": "__notebook__.ipynb",
   "output_path": "__notebook__.ipynb",
   "parameters": {},
   "start_time": "2021-01-10T04:47:41.489628",
   "version": "2.1.0"
  }
 },
 "nbformat": 4,
 "nbformat_minor": 4
}

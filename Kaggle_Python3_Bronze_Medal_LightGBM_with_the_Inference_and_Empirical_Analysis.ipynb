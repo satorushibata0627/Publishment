{
 "cells": [
  {
   "cell_type": "markdown",
   "metadata": {
    "papermill": {
     "duration": 0.016477,
     "end_time": "2020-12-23T13:52:38.233051",
     "exception": false,
     "start_time": "2020-12-23T13:52:38.216574",
     "status": "completed"
    },
    "tags": []
   },
   "source": [
    "# Source Kernel\n",
    "This kernel generates and submits a prediction using the model: [\"LightGBM on GPU with Feature Engineering, Optuna, and , Visualization\"](https://github.com/satorushibata0627/Publishment/blob/main/Kaggle_Python3_LightGBM_on_GPU_with_Feature_Engineering_Optuna_and_Visualization.ipynb)."
   ]
  },
  {
   "cell_type": "code",
   "execution_count": 1,
   "metadata": {
    "execution": {
     "iopub.execute_input": "2020-12-23T13:52:38.270827Z",
     "iopub.status.busy": "2020-12-23T13:52:38.270146Z",
     "iopub.status.idle": "2020-12-23T13:52:39.249789Z",
     "shell.execute_reply": "2020-12-23T13:52:39.249141Z"
    },
    "lines_to_next_cell": 2,
    "papermill": {
     "duration": 1.001369,
     "end_time": "2020-12-23T13:52:39.249937",
     "exception": false,
     "start_time": "2020-12-23T13:52:38.248568",
     "status": "completed"
    },
    "scrolled": true,
    "tags": []
   },
   "outputs": [],
   "source": [
    "import warnings\n",
    "warnings.simplefilter('ignore')\n",
    "import pandas as pd\n",
    "import numpy as np\n",
    "import matplotlib.pyplot as plt\n",
    "import seaborn as sns\n",
    "from collections import defaultdict\n",
    "import gc\n",
    "from tqdm.notebook import tqdm\n",
    "import riiideducation\n",
    "from scipy import stats\n",
    "import random\n",
    "import os"
   ]
  },
  {
   "cell_type": "markdown",
   "metadata": {
    "papermill": {
     "duration": 0.015231,
     "end_time": "2020-12-23T13:52:39.281518",
     "exception": false,
     "start_time": "2020-12-23T13:52:39.266287",
     "status": "completed"
    },
    "tags": []
   },
   "source": [
    "This idea of random seeed generation was based on this notebook: [Riiid model LGBM](https://www.kaggle.com/ragnar123/riiid-model-lgbm)."
   ]
  },
  {
   "cell_type": "code",
   "execution_count": 2,
   "metadata": {
    "execution": {
     "iopub.execute_input": "2020-12-23T13:52:39.319096Z",
     "iopub.status.busy": "2020-12-23T13:52:39.318315Z",
     "iopub.status.idle": "2020-12-23T13:52:39.320686Z",
     "shell.execute_reply": "2020-12-23T13:52:39.321211Z"
    },
    "papermill": {
     "duration": 0.024528,
     "end_time": "2020-12-23T13:52:39.321345",
     "exception": false,
     "start_time": "2020-12-23T13:52:39.296817",
     "status": "completed"
    },
    "tags": []
   },
   "outputs": [],
   "source": [
    "# Random seed\n",
    "SEED = 123\n",
    "# Function to seed everything\n",
    "def seed_everything(seed):\n",
    "    random.seed(seed)\n",
    "    np.random.seed(seed)\n",
    "    os.environ['PYTHONHASHSEED'] = str(seed)\n",
    "seed_everything(SEED)"
   ]
  },
  {
   "cell_type": "markdown",
   "metadata": {
    "papermill": {
     "duration": 0.015007,
     "end_time": "2020-12-23T13:52:39.352067",
     "exception": false,
     "start_time": "2020-12-23T13:52:39.337060",
     "status": "completed"
    },
    "tags": []
   },
   "source": [
    "# Load the model and parameters."
   ]
  },
  {
   "cell_type": "code",
   "execution_count": 3,
   "metadata": {
    "execution": {
     "iopub.execute_input": "2020-12-23T13:52:39.388225Z",
     "iopub.status.busy": "2020-12-23T13:52:39.387524Z",
     "iopub.status.idle": "2020-12-23T13:52:40.001679Z",
     "shell.execute_reply": "2020-12-23T13:52:40.002568Z"
    },
    "papermill": {
     "duration": 0.635463,
     "end_time": "2020-12-23T13:52:40.002793",
     "exception": false,
     "start_time": "2020-12-23T13:52:39.367330",
     "status": "completed"
    },
    "scrolled": true,
    "tags": []
   },
   "outputs": [
    {
     "name": "stdout",
     "output_type": "stream",
     "text": [
      "Load model: <lightgbm.basic.Booster object at 0x7fe42cfdf450>\n"
     ]
    }
   ],
   "source": [
    "model = pd.read_pickle('../input/the-best-of-model-on-lightgbm/The_best_of_model_on_LightGBM.pickle')\n",
    "print('Load model:', model)"
   ]
  },
  {
   "cell_type": "code",
   "execution_count": 4,
   "metadata": {
    "execution": {
     "iopub.execute_input": "2020-12-23T13:52:40.051027Z",
     "iopub.status.busy": "2020-12-23T13:52:40.050227Z",
     "iopub.status.idle": "2020-12-23T13:52:40.062069Z",
     "shell.execute_reply": "2020-12-23T13:52:40.061310Z"
    },
    "papermill": {
     "duration": 0.03766,
     "end_time": "2020-12-23T13:52:40.062197",
     "exception": false,
     "start_time": "2020-12-23T13:52:40.024537",
     "status": "completed"
    },
    "tags": []
   },
   "outputs": [
    {
     "name": "stdout",
     "output_type": "stream",
     "text": [
      "Parameters: {'objective': 'binary', 'seed': 123, 'metric': 'AUC', 'boosting_type': 'gbdt', 'lambda_l1': 0.23094442978103413, 'lambda_l2': 0.10970746111051044, 'num_leaves': 206, 'feature_fraction': 0.7548698723252225, 'bagging_fraction': 0.7186994268081899, 'bagging_freq': 7, 'min_child_samples': 45}\n"
     ]
    }
   ],
   "source": [
    "params = pd.read_pickle('../input/the-best-of-all-parameters-on-lightgbm/The_best_of_all_parameters_on_LightGBM.pickle')\n",
    "print('Parameters:', params)"
   ]
  },
  {
   "cell_type": "markdown",
   "metadata": {
    "papermill": {
     "duration": 0.020657,
     "end_time": "2020-12-23T13:52:40.103829",
     "exception": false,
     "start_time": "2020-12-23T13:52:40.083172",
     "status": "completed"
    },
    "tags": []
   },
   "source": [
    "# Setting\n",
    "CV files are generated by [this notebook](https://www.kaggle.com/its7171/cv-strategy)"
   ]
  },
  {
   "cell_type": "code",
   "execution_count": 5,
   "metadata": {
    "execution": {
     "iopub.execute_input": "2020-12-23T13:52:40.154482Z",
     "iopub.status.busy": "2020-12-23T13:52:40.153534Z",
     "iopub.status.idle": "2020-12-23T13:52:40.155843Z",
     "shell.execute_reply": "2020-12-23T13:52:40.155187Z"
    },
    "papermill": {
     "duration": 0.030866,
     "end_time": "2020-12-23T13:52:40.155983",
     "exception": false,
     "start_time": "2020-12-23T13:52:40.125117",
     "status": "completed"
    },
    "scrolled": true,
    "tags": []
   },
   "outputs": [],
   "source": [
    "train_pickle  = '../input/riiid-cross-validation-files/cv1_train.pickle'\n",
    "valid_pickle  = '../input/riiid-cross-validation-files/cv1_valid.pickle'\n",
    "question_file = '../input/riiid-test-answer-prediction/questions.csv'"
   ]
  },
  {
   "cell_type": "markdown",
   "metadata": {
    "papermill": {
     "duration": 0.018706,
     "end_time": "2020-12-23T13:52:40.195880",
     "exception": false,
     "start_time": "2020-12-23T13:52:40.177174",
     "status": "completed"
    },
    "tags": []
   },
   "source": [
    "# Feature engineering"
   ]
  },
  {
   "cell_type": "code",
   "execution_count": 6,
   "metadata": {
    "execution": {
     "iopub.execute_input": "2020-12-23T13:52:40.247428Z",
     "iopub.status.busy": "2020-12-23T13:52:40.246749Z",
     "iopub.status.idle": "2020-12-23T13:52:40.248606Z",
     "shell.execute_reply": "2020-12-23T13:52:40.249088Z"
    },
    "papermill": {
     "duration": 0.036378,
     "end_time": "2020-12-23T13:52:40.249224",
     "exception": false,
     "start_time": "2020-12-23T13:52:40.212846",
     "status": "completed"
    },
    "scrolled": true,
    "tags": []
   },
   "outputs": [],
   "source": [
    "# funcs for user stats with loop\n",
    "def add_user_feats(df, answered_correctly_sum_u_dict, count_u_dict):\n",
    "    acsu = np.zeros(len(df), dtype=np.int32)\n",
    "    cu = np.zeros(len(df), dtype=np.int32)\n",
    "    for cnt,row in enumerate(tqdm(df[['user_id','answered_correctly']].values)):\n",
    "        acsu[cnt] = answered_correctly_sum_u_dict[row[0]]\n",
    "        cu[cnt] = count_u_dict[row[0]]\n",
    "        answered_correctly_sum_u_dict[row[0]] += row[1]\n",
    "        count_u_dict[row[0]] += 1\n",
    "    user_feats_df = pd.DataFrame({'answered_correctly_sum_u':acsu, 'count_u':cu})\n",
    "    user_feats_df['answered_correctly_avg_u'] = user_feats_df['answered_correctly_sum_u'] / user_feats_df['count_u']\n",
    "    df = pd.concat([df, user_feats_df], axis=1)\n",
    "    return df\n",
    "\n",
    "def add_user_feats_without_update(df, answered_correctly_sum_u_dict, count_u_dict):\n",
    "    acsu = np.zeros(len(df), dtype=np.int32)\n",
    "    cu = np.zeros(len(df), dtype=np.int32)\n",
    "    for cnt,row in enumerate(df[['user_id']].values):\n",
    "        acsu[cnt] = answered_correctly_sum_u_dict[row[0]]\n",
    "        cu[cnt] = count_u_dict[row[0]]\n",
    "    user_feats_df = pd.DataFrame({'answered_correctly_sum_u':acsu, 'count_u':cu})\n",
    "    user_feats_df['answered_correctly_avg_u'] = user_feats_df['answered_correctly_sum_u'] / user_feats_df['count_u']\n",
    "    df = pd.concat([df, user_feats_df], axis=1)\n",
    "    return df\n",
    "\n",
    "def update_user_feats(df, answered_correctly_sum_u_dict, count_u_dict):\n",
    "    for row in df[['user_id','answered_correctly','content_type_id']].values:\n",
    "        if row[2] == 0:\n",
    "            answered_correctly_sum_u_dict[row[0]] += row[1]\n",
    "            count_u_dict[row[0]] += 1"
   ]
  },
  {
   "cell_type": "code",
   "execution_count": 7,
   "metadata": {
    "execution": {
     "iopub.execute_input": "2020-12-23T13:52:40.286264Z",
     "iopub.status.busy": "2020-12-23T13:52:40.285554Z",
     "iopub.status.idle": "2020-12-23T14:02:01.311066Z",
     "shell.execute_reply": "2020-12-23T14:02:01.310463Z"
    },
    "papermill": {
     "duration": 561.04479,
     "end_time": "2020-12-23T14:02:01.311217",
     "exception": false,
     "start_time": "2020-12-23T13:52:40.266427",
     "status": "completed"
    },
    "scrolled": true,
    "tags": []
   },
   "outputs": [
    {
     "data": {
      "application/vnd.jupyter.widget-view+json": {
       "model_id": "050e2a1c913a4de084f107f63df61876",
       "version_major": 2,
       "version_minor": 0
      },
      "text/plain": [
       "HBox(children=(FloatProgress(value=0.0, max=96817414.0), HTML(value='')))"
      ]
     },
     "metadata": {},
     "output_type": "display_data"
    },
    {
     "name": "stdout",
     "output_type": "stream",
     "text": [
      "\n"
     ]
    },
    {
     "data": {
      "application/vnd.jupyter.widget-view+json": {
       "model_id": "4eda9ed6f7c24ad5a2774ee152633b5c",
       "version_major": 2,
       "version_minor": 0
      },
      "text/plain": [
       "HBox(children=(FloatProgress(value=0.0, max=2453886.0), HTML(value='')))"
      ]
     },
     "metadata": {},
     "output_type": "display_data"
    },
    {
     "name": "stdout",
     "output_type": "stream",
     "text": [
      "\n"
     ]
    }
   ],
   "source": [
    "# read data\n",
    "feld_needed = ['row_id', 'user_id', 'content_id', 'content_type_id', 'answered_correctly', 'prior_question_elapsed_time', 'prior_question_had_explanation']\n",
    "train = pd.read_pickle(train_pickle)[feld_needed]\n",
    "valid = pd.read_pickle(valid_pickle)[feld_needed]\n",
    "train = train.loc[train.content_type_id == False].reset_index(drop=True)\n",
    "valid = valid.loc[valid.content_type_id == False].reset_index(drop=True)\n",
    "\n",
    "# answered correctly average for each content\n",
    "content_df = train[['content_id','answered_correctly']].groupby(['content_id']).agg(['mean']).reset_index()\n",
    "content_df.columns = ['content_id', 'answered_correctly_avg_c']\n",
    "train = pd.merge(train, content_df, on=['content_id'], how=\"left\")\n",
    "valid = pd.merge(valid, content_df, on=['content_id'], how=\"left\")\n",
    "\n",
    "# user stats features with loops\n",
    "answered_correctly_sum_u_dict = defaultdict(int)\n",
    "count_u_dict = defaultdict(int)\n",
    "train = add_user_feats(train, answered_correctly_sum_u_dict, count_u_dict)\n",
    "valid = add_user_feats(valid, answered_correctly_sum_u_dict, count_u_dict)\n",
    "\n",
    "# fill with mean value for prior_question_elapsed_time\n",
    "# note that `train.prior_question_elapsed_time.mean()` dose not work!\n",
    "# please refer https://www.kaggle.com/its7171/can-we-trust-pandas-mean for detail.\n",
    "prior_question_elapsed_time_mean = train.prior_question_elapsed_time.dropna().values.mean()\n",
    "train['prior_question_elapsed_time_mean'] = train.prior_question_elapsed_time.fillna(prior_question_elapsed_time_mean)\n",
    "valid['prior_question_elapsed_time_mean'] = valid.prior_question_elapsed_time.fillna(prior_question_elapsed_time_mean)\n",
    "\n",
    "# part\n",
    "questions_df = pd.read_csv(question_file)\n",
    "train = pd.merge(train, questions_df[['question_id', 'part']], left_on = 'content_id', right_on = 'question_id', how = 'left')\n",
    "valid = pd.merge(valid, questions_df[['question_id', 'part']], left_on = 'content_id', right_on = 'question_id', how = 'left')\n",
    "\n",
    "# changing dtype to avoid lightgbm error\n",
    "train['prior_question_had_explanation'] = train.prior_question_had_explanation.fillna(False).astype('int8')\n",
    "valid['prior_question_had_explanation'] = valid.prior_question_had_explanation.fillna(False).astype('int8')"
   ]
  },
  {
   "cell_type": "code",
   "execution_count": 8,
   "metadata": {
    "_kg_hide-input": true,
    "execution": {
     "iopub.execute_input": "2020-12-23T14:02:01.361045Z",
     "iopub.status.busy": "2020-12-23T14:02:01.359500Z",
     "iopub.status.idle": "2020-12-23T14:02:09.720560Z",
     "shell.execute_reply": "2020-12-23T14:02:09.721716Z"
    },
    "papermill": {
     "duration": 8.390438,
     "end_time": "2020-12-23T14:02:09.721951",
     "exception": false,
     "start_time": "2020-12-23T14:02:01.331513",
     "status": "completed"
    },
    "scrolled": true,
    "tags": []
   },
   "outputs": [],
   "source": [
    "TARGET = 'answered_correctly'\n",
    "FEATS = ['answered_correctly_avg_u', 'answered_correctly_sum_u', 'count_u', 'answered_correctly_avg_c', 'part', 'prior_question_had_explanation', 'prior_question_elapsed_time']\n",
    "dro_cols = list(set(train.columns) - set(FEATS))\n",
    "y_tr = train[TARGET]\n",
    "y_va = valid[TARGET]\n",
    "train.drop(dro_cols, axis=1, inplace=True)\n",
    "valid.drop(dro_cols, axis=1, inplace=True)\n",
    "_=gc.collect()"
   ]
  },
  {
   "cell_type": "markdown",
   "metadata": {
    "papermill": {
     "duration": 0.018996,
     "end_time": "2020-12-23T14:02:09.766625",
     "exception": false,
     "start_time": "2020-12-23T14:02:09.747629",
     "status": "completed"
    },
    "tags": []
   },
   "source": [
    "# Inference"
   ]
  },
  {
   "cell_type": "code",
   "execution_count": 9,
   "metadata": {
    "_kg_hide-input": true,
    "execution": {
     "iopub.execute_input": "2020-12-23T14:02:09.830376Z",
     "iopub.status.busy": "2020-12-23T14:02:09.829281Z",
     "iopub.status.idle": "2020-12-23T14:02:09.832017Z",
     "shell.execute_reply": "2020-12-23T14:02:09.832539Z"
    },
    "papermill": {
     "duration": 0.047138,
     "end_time": "2020-12-23T14:02:09.832680",
     "exception": false,
     "start_time": "2020-12-23T14:02:09.785542",
     "status": "completed"
    },
    "scrolled": true,
    "tags": []
   },
   "outputs": [],
   "source": [
    "class Iter_Valid(object):\n",
    "    def __init__(self, df, max_user=1000):\n",
    "        df = df.reset_index(drop=True)\n",
    "        self.df = df\n",
    "        self.user_answer = df['user_answer'].astype(str).values\n",
    "        self.answered_correctly = df['answered_correctly'].astype(str).values\n",
    "        df['prior_group_responses'] = \"[]\"\n",
    "        df['prior_group_answers_correct'] = \"[]\"\n",
    "        self.sample_df = df[df['content_type_id'] == 0][['row_id']]\n",
    "        self.sample_df['answered_correctly'] = 0\n",
    "        self.len = len(df)\n",
    "        self.user_id = df.user_id.values\n",
    "        self.task_container_id = df.task_container_id.values\n",
    "        self.content_type_id = df.content_type_id.values\n",
    "        self.max_user = max_user\n",
    "        self.current = 0\n",
    "        self.pre_user_answer_list = []\n",
    "        self.pre_answered_correctly_list = []\n",
    "\n",
    "    def __iter__(self):\n",
    "        return self\n",
    "    \n",
    "    def fix_df(self, user_answer_list, answered_correctly_list, pre_start):\n",
    "        df= self.df[pre_start:self.current].copy()\n",
    "        sample_df = self.sample_df[pre_start:self.current].copy()\n",
    "        df.loc[pre_start,'prior_group_responses'] = '[' + \",\".join(self.pre_user_answer_list) + ']'\n",
    "        df.loc[pre_start,'prior_group_answers_correct'] = '[' + \",\".join(self.pre_answered_correctly_list) + ']'\n",
    "        self.pre_user_answer_list = user_answer_list\n",
    "        self.pre_answered_correctly_list = answered_correctly_list\n",
    "        return df, sample_df\n",
    "\n",
    "    def __next__(self):\n",
    "        added_user = set()\n",
    "        pre_start = self.current\n",
    "        pre_added_user = -1\n",
    "        pre_task_container_id = -1\n",
    "        pre_content_type_id = -1\n",
    "        user_answer_list = []\n",
    "        answered_correctly_list = []\n",
    "        while self.current < self.len:\n",
    "            crr_user_id = self.user_id[self.current]\n",
    "            crr_task_container_id = self.task_container_id[self.current]\n",
    "            crr_content_type_id = self.content_type_id[self.current]\n",
    "            if crr_user_id in added_user and (crr_user_id != pre_added_user or (crr_task_container_id != pre_task_container_id and crr_content_type_id == 0 and pre_content_type_id == 0)):\n",
    "                # known user(not prev user or (differnt task container and both question))\n",
    "                return self.fix_df(user_answer_list, answered_correctly_list, pre_start)\n",
    "            if len(added_user) == self.max_user:\n",
    "                if  crr_user_id == pre_added_user and (crr_task_container_id == pre_task_container_id or crr_content_type_id == 1):\n",
    "                    user_answer_list.append(self.user_answer[self.current])\n",
    "                    answered_correctly_list.append(self.answered_correctly[self.current])\n",
    "                    self.current += 1\n",
    "                    continue\n",
    "                else:\n",
    "                    return self.fix_df(user_answer_list, answered_correctly_list, pre_start)\n",
    "            added_user.add(crr_user_id)\n",
    "            pre_added_user = crr_user_id\n",
    "            pre_task_container_id = crr_task_container_id\n",
    "            pre_content_type_id = crr_content_type_id\n",
    "            user_answer_list.append(self.user_answer[self.current])\n",
    "            answered_correctly_list.append(self.answered_correctly[self.current])\n",
    "            self.current += 1\n",
    "        if pre_start < self.current:\n",
    "            return self.fix_df(user_answer_list, answered_correctly_list, pre_start)\n",
    "        else:\n",
    "            raise StopIteration()"
   ]
  },
  {
   "cell_type": "markdown",
   "metadata": {
    "papermill": {
     "duration": 0.018387,
     "end_time": "2020-12-23T14:02:09.870781",
     "exception": false,
     "start_time": "2020-12-23T14:02:09.852394",
     "status": "completed"
    },
    "tags": []
   },
   "source": [
    "# Prediction and submission"
   ]
  },
  {
   "cell_type": "code",
   "execution_count": 10,
   "metadata": {
    "execution": {
     "iopub.execute_input": "2020-12-23T14:02:09.912056Z",
     "iopub.status.busy": "2020-12-23T14:02:09.911080Z",
     "iopub.status.idle": "2020-12-23T14:02:09.915800Z",
     "shell.execute_reply": "2020-12-23T14:02:09.916391Z"
    },
    "papermill": {
     "duration": 0.027025,
     "end_time": "2020-12-23T14:02:09.916524",
     "exception": false,
     "start_time": "2020-12-23T14:02:09.889499",
     "status": "completed"
    },
    "tags": []
   },
   "outputs": [],
   "source": [
    "env = riiideducation.make_env()\n",
    "iter_test = env.iter_test()\n",
    "set_predict = env.predict"
   ]
  },
  {
   "cell_type": "code",
   "execution_count": 11,
   "metadata": {
    "execution": {
     "iopub.execute_input": "2020-12-23T14:02:09.957575Z",
     "iopub.status.busy": "2020-12-23T14:02:09.956601Z",
     "iopub.status.idle": "2020-12-23T14:02:10.134403Z",
     "shell.execute_reply": "2020-12-23T14:02:10.135106Z"
    },
    "papermill": {
     "duration": 0.200071,
     "end_time": "2020-12-23T14:02:10.135290",
     "exception": false,
     "start_time": "2020-12-23T14:02:09.935219",
     "status": "completed"
    },
    "scrolled": false,
    "tags": []
   },
   "outputs": [],
   "source": [
    "previous_test_df = None\n",
    "for (test_df, sample_prediction_df) in iter_test:\n",
    "    if previous_test_df is not None:\n",
    "        previous_test_df[TARGET] = eval(test_df[\"prior_group_answers_correct\"].iloc[0])\n",
    "        update_user_feats(previous_test_df, answered_correctly_sum_u_dict, count_u_dict)\n",
    "    previous_test_df = test_df.copy()\n",
    "    test_df = test_df[test_df['content_type_id'] == 0].reset_index(drop=True)\n",
    "    test_df = add_user_feats_without_update(test_df, answered_correctly_sum_u_dict, count_u_dict)\n",
    "    test_df = pd.merge(test_df, content_df, on='content_id',  how=\"left\")\n",
    "    test_df = pd.merge(test_df, questions_df, left_on='content_id', right_on='question_id', how='left')\n",
    "    test_df['prior_question_had_explanation'] = test_df.prior_question_had_explanation.fillna(False).astype('int8')\n",
    "    test_df['prior_question_elapsed_time_mean'] = test_df.prior_question_elapsed_time.fillna(prior_question_elapsed_time_mean)\n",
    "    # Prediction with LightGBM\n",
    "    test_df[TARGET] = model.predict(test_df[FEATS], num_iteration=model.best_iteration)\n",
    "    # Submit\n",
    "    set_predict(test_df[['row_id', TARGET]])"
   ]
  },
  {
   "cell_type": "markdown",
   "metadata": {
    "papermill": {
     "duration": 0.023817,
     "end_time": "2020-12-23T14:02:10.183778",
     "exception": false,
     "start_time": "2020-12-23T14:02:10.159961",
     "status": "completed"
    },
    "tags": []
   },
   "source": [
    "# Empirical analysis\n",
    "- [Bootstrap](https://qiita.com/katsu1110/items/23b8a37ac400dd0eaad2#%E3%83%96%E3%83%BC%E3%83%88%E3%82%B9%E3%83%88%E3%83%A9%E3%83%83%E3%83%97%E3%81%A8%E3%81%AF)\n",
    "- [Histogram](https://seaborn.pydata.org/generated/seaborn.distplot.html)\n",
    "- [統計的有意差検定](https://qiita.com/suaaa7/items/745ac1ca0a8d6753cf60)"
   ]
  },
  {
   "cell_type": "code",
   "execution_count": 12,
   "metadata": {
    "execution": {
     "iopub.execute_input": "2020-12-23T14:02:10.244830Z",
     "iopub.status.busy": "2020-12-23T14:02:10.244030Z",
     "iopub.status.idle": "2020-12-23T14:02:10.251056Z",
     "shell.execute_reply": "2020-12-23T14:02:10.251640Z"
    },
    "papermill": {
     "duration": 0.043465,
     "end_time": "2020-12-23T14:02:10.251835",
     "exception": false,
     "start_time": "2020-12-23T14:02:10.208370",
     "status": "completed"
    },
    "tags": []
   },
   "outputs": [
    {
     "data": {
      "text/plain": [
       "0    0.403990\n",
       "1    0.888715\n",
       "2    0.747603\n",
       "3    0.857809\n",
       "4    0.356513\n",
       "Name: answered_correctly, dtype: float64"
      ]
     },
     "execution_count": 12,
     "metadata": {},
     "output_type": "execute_result"
    }
   ],
   "source": [
    "simulation = pd.read_csv('./submission.csv')\n",
    "simulation = simulation['answered_correctly']\n",
    "simulation.head()"
   ]
  },
  {
   "cell_type": "code",
   "execution_count": 13,
   "metadata": {
    "execution": {
     "iopub.execute_input": "2020-12-23T14:02:10.315807Z",
     "iopub.status.busy": "2020-12-23T14:02:10.315010Z",
     "iopub.status.idle": "2020-12-23T14:02:10.319744Z",
     "shell.execute_reply": "2020-12-23T14:02:10.320452Z"
    },
    "papermill": {
     "duration": 0.04373,
     "end_time": "2020-12-23T14:02:10.320607",
     "exception": false,
     "start_time": "2020-12-23T14:02:10.276877",
     "status": "completed"
    },
    "tags": []
   },
   "outputs": [],
   "source": [
    "# Bootstrap to compute SEM of the median\n",
    "def bootstrap(x, repeats):\n",
    "    # Compute mean, SEM(Standard Error of the Mean) and, median\n",
    "    mean_x = np.average(x)\n",
    "    sem_x = np.std(x)/np.sqrt(len(x))\n",
    "    median_x = np.median(x)\n",
    "    # Placeholder (column1: mean, column2: median)\n",
    "    vec = np.zeros((2, repeats))\n",
    "    for i in np.arange(repeats):\n",
    "        # Resample data with replacement\n",
    "        re = np.random.choice(len(x),len(x),replace=True)\n",
    "        re_x = x[re]\n",
    "        # Compute mean and median of the \"new\" dataset\n",
    "        vec[0,i] = np.mean(re_x)\n",
    "        vec[1,i] = np.median(re_x)\n",
    "    # Histogram of median from resampled datasets\n",
    "    sns.distplot(vec[1,:], kde=True, rug=True, hist=True, norm_hist=True, axlabel='Frequency distribution')\n",
    "    plt.show()\n",
    "    # Compute bootstrapped standard error of the mean and standard error of the median\n",
    "    b_mean_sem = np.std(vec[0,:])\n",
    "    b_median_sem = np.std(vec[1,:])\n",
    "    return b_mean_sem, b_median_sem"
   ]
  },
  {
   "cell_type": "code",
   "execution_count": 14,
   "metadata": {
    "execution": {
     "iopub.execute_input": "2020-12-23T14:02:10.373355Z",
     "iopub.status.busy": "2020-12-23T14:02:10.372356Z",
     "iopub.status.idle": "2020-12-23T14:02:10.375962Z",
     "shell.execute_reply": "2020-12-23T14:02:10.375432Z"
    },
    "papermill": {
     "duration": 0.035954,
     "end_time": "2020-12-23T14:02:10.376104",
     "exception": false,
     "start_time": "2020-12-23T14:02:10.340150",
     "status": "completed"
    },
    "tags": []
   },
   "outputs": [],
   "source": [
    "def Statistical_significance_test(A, B):\n",
    "    A = np.array(A)\n",
    "    B = np.array(B)\n",
    "    # Paired t-test\n",
    "    print('Paired t-test:', stats.ttest_rel(A, B))\n",
    "    # Student's t-test\n",
    "    A_var = np.var(A, ddof=1)  # Aの不偏分散\n",
    "    B_var = np.var(B, ddof=1)  # Bの不偏分散\n",
    "    A_df = len(A) - 1  # Aの自由度\n",
    "    B_df = len(B) - 1  # Bの自由度\n",
    "    f = A_var / B_var  # F比の値\n",
    "    one_sided_pval1 = stats.f.cdf(f, A_df, B_df)  # 片側検定のp値 1\n",
    "    one_sided_pval2 = stats.f.sf(f, A_df, B_df)   # 片側検定のp値 2\n",
    "    two_sided_pval = min(one_sided_pval1, one_sided_pval2) * 2  # 両側検定のp値\n",
    "    print(\"Student's t-test:\")\n",
    "    print('F:       ', round(f, 3))\n",
    "    print('p-value: ', round(two_sided_pval, 3))\n",
    "    # Welch's t-test\n",
    "    two_sided_pval = min(one_sided_pval1, one_sided_pval2) * 2  # 両側検定のp値\n",
    "    print(\"Welch's t-test:\")\n",
    "    print('F:       ', round(f, 3))\n",
    "    print('p-value: ', round(two_sided_pval, 4))\n",
    "    # Mann-Whitney's U-test\n",
    "    print(\"Mann-Whitney's U-test:\", stats.mannwhitneyu(A, B, alternative='two-sided'))\n",
    "    # Wilcoxon signed rank sum test\n",
    "    print(\"Wilcoxon signed rank sum test:\", stats.wilcoxon(A, B))\n",
    "    return None"
   ]
  },
  {
   "cell_type": "code",
   "execution_count": 15,
   "metadata": {
    "execution": {
     "iopub.execute_input": "2020-12-23T14:02:10.422435Z",
     "iopub.status.busy": "2020-12-23T14:02:10.421296Z",
     "iopub.status.idle": "2020-12-23T14:04:00.231039Z",
     "shell.execute_reply": "2020-12-23T14:04:00.230125Z"
    },
    "papermill": {
     "duration": 109.834654,
     "end_time": "2020-12-23T14:04:00.231239",
     "exception": false,
     "start_time": "2020-12-23T14:02:10.396585",
     "status": "completed"
    },
    "tags": []
   },
   "outputs": [
    {
     "data": {
      "image/png": "[encoded data removed]",
      "text/plain": [
       "<Figure size 432x288 with 1 Axes>"
      ]
     },
     "metadata": {
      "needs_background": "light"
     },
     "output_type": "display_data"
    },
    {
     "name": "stdout",
     "output_type": "stream",
     "text": [
      "Paired t-test: Ttest_relResult(statistic=33.879514529499076, pvalue=1.1703467677300927e-57)\n",
      "Student's t-test:\n",
      "F:        7.36077410064683e+32\n",
      "p-value:  0.0\n",
      "Welch's t-test:\n",
      "F:        7.36077410064683e+32\n",
      "p-value:  0.0\n",
      "Mann-Whitney's U-test: MannwhitneyuResult(statistic=10816.0, pvalue=1.7928395567775997e-40)\n",
      "Wilcoxon signed rank sum test: WilcoxonResult(statistic=0.0, pvalue=8.530137789278572e-19)\n"
     ]
    }
   ],
   "source": [
    "b_mean_sem, b_median_sem = bootstrap(np.array(simulation), 1000000) \n",
    "Statistical_significance_test(A = simulation, B = np.repeat(b_mean_sem, len(simulation)))"
   ]
  },
  {
   "cell_type": "code",
   "execution_count": 16,
   "metadata": {
    "execution": {
     "iopub.execute_input": "2020-12-23T14:04:00.279796Z",
     "iopub.status.busy": "2020-12-23T14:04:00.279140Z",
     "iopub.status.idle": "2020-12-23T14:04:00.282600Z",
     "shell.execute_reply": "2020-12-23T14:04:00.283185Z"
    },
    "papermill": {
     "duration": 0.030218,
     "end_time": "2020-12-23T14:04:00.283321",
     "exception": false,
     "start_time": "2020-12-23T14:04:00.253103",
     "status": "completed"
    },
    "tags": []
   },
   "outputs": [
    {
     "name": "stdout",
     "output_type": "stream",
     "text": [
      "Operation completed.\n"
     ]
    }
   ],
   "source": [
    "print('Operation completed.')"
   ]
  }
 ],
 "metadata": {
  "kernelspec": {
   "display_name": "Python 3",
   "language": "python",
   "name": "python3"
  },
  "language_info": {
   "codemirror_mode": {
    "name": "ipython",
    "version": 3
   },
   "file_extension": ".py",
   "mimetype": "text/x-python",
   "name": "python",
   "nbconvert_exporter": "python",
   "pygments_lexer": "ipython3",
   "version": "3.7.6"
  },
  "papermill": {
   "duration": 686.798168,
   "end_time": "2020-12-23T14:04:00.414529",
   "environment_variables": {},
   "exception": null,
   "input_path": "__notebook__.ipynb",
   "output_path": "__notebook__.ipynb",
   "parameters": {},
   "start_time": "2020-12-23T13:52:33.616361",
   "version": "2.1.0"
  },
  "widgets": {
   "application/vnd.jupyter.widget-state+json": {
    "state": {
     "050e2a1c913a4de084f107f63df61876": {
      "model_module": "@jupyter-widgets/controls",
      "model_module_version": "1.5.0",
      "model_name": "HBoxModel",
      "state": {
       "_dom_classes": [],
       "_model_module": "@jupyter-widgets/controls",
       "_model_module_version": "1.5.0",
       "_model_name": "HBoxModel",
       "_view_count": null,
       "_view_module": "@jupyter-widgets/controls",
       "_view_module_version": "1.5.0",
       "_view_name": "HBoxView",
       "box_style": "",
       "children": [
        "IPY_MODEL_5f3ceeb2474e49d389f7dd9ef3f71232",
        "IPY_MODEL_63ac44ad2eab4b1a89213447732dd333"
       ],
       "layout": "IPY_MODEL_375f1748d79d4f0b8d1e5b87bdc5c98b"
      }
     },
     "10b7a972fc254992ac9c7680240b8ba7": {
      "model_module": "@jupyter-widgets/base",
      "model_module_version": "1.2.0",
      "model_name": "LayoutModel",
      "state": {
       "_model_module": "@jupyter-widgets/base",
       "_model_module_version": "1.2.0",
       "_model_name": "LayoutModel",
       "_view_count": null,
       "_view_module": "@jupyter-widgets/base",
       "_view_module_version": "1.2.0",
       "_view_name": "LayoutView",
       "align_content": null,
       "align_items": null,
       "align_self": null,
       "border": null,
       "bottom": null,
       "display": null,
       "flex": null,
       "flex_flow": null,
       "grid_area": null,
       "grid_auto_columns": null,
       "grid_auto_flow": null,
       "grid_auto_rows": null,
       "grid_column": null,
       "grid_gap": null,
       "grid_row": null,
       "grid_template_areas": null,
       "grid_template_columns": null,
       "grid_template_rows": null,
       "height": null,
       "justify_content": null,
       "justify_items": null,
       "left": null,
       "margin": null,
       "max_height": null,
       "max_width": null,
       "min_height": null,
       "min_width": null,
       "object_fit": null,
       "object_position": null,
       "order": null,
       "overflow": null,
       "overflow_x": null,
       "overflow_y": null,
       "padding": null,
       "right": null,
       "top": null,
       "visibility": null,
       "width": null
      }
     },
     "13721207b517460caeb868f2181ef35f": {
      "model_module": "@jupyter-widgets/controls",
      "model_module_version": "1.5.0",
      "model_name": "ProgressStyleModel",
      "state": {
       "_model_module": "@jupyter-widgets/controls",
       "_model_module_version": "1.5.0",
       "_model_name": "ProgressStyleModel",
       "_view_count": null,
       "_view_module": "@jupyter-widgets/base",
       "_view_module_version": "1.2.0",
       "_view_name": "StyleView",
       "bar_color": null,
       "description_width": "initial"
      }
     },
     "31b1f521bbed45d28c27800af60c68ad": {
      "model_module": "@jupyter-widgets/base",
      "model_module_version": "1.2.0",
      "model_name": "LayoutModel",
      "state": {
       "_model_module": "@jupyter-widgets/base",
       "_model_module_version": "1.2.0",
       "_model_name": "LayoutModel",
       "_view_count": null,
       "_view_module": "@jupyter-widgets/base",
       "_view_module_version": "1.2.0",
       "_view_name": "LayoutView",
       "align_content": null,
       "align_items": null,
       "align_self": null,
       "border": null,
       "bottom": null,
       "display": null,
       "flex": null,
       "flex_flow": null,
       "grid_area": null,
       "grid_auto_columns": null,
       "grid_auto_flow": null,
       "grid_auto_rows": null,
       "grid_column": null,
       "grid_gap": null,
       "grid_row": null,
       "grid_template_areas": null,
       "grid_template_columns": null,
       "grid_template_rows": null,
       "height": null,
       "justify_content": null,
       "justify_items": null,
       "left": null,
       "margin": null,
       "max_height": null,
       "max_width": null,
       "min_height": null,
       "min_width": null,
       "object_fit": null,
       "object_position": null,
       "order": null,
       "overflow": null,
       "overflow_x": null,
       "overflow_y": null,
       "padding": null,
       "right": null,
       "top": null,
       "visibility": null,
       "width": null
      }
     },
     "375f1748d79d4f0b8d1e5b87bdc5c98b": {
      "model_module": "@jupyter-widgets/base",
      "model_module_version": "1.2.0",
      "model_name": "LayoutModel",
      "state": {
       "_model_module": "@jupyter-widgets/base",
       "_model_module_version": "1.2.0",
       "_model_name": "LayoutModel",
       "_view_count": null,
       "_view_module": "@jupyter-widgets/base",
       "_view_module_version": "1.2.0",
       "_view_name": "LayoutView",
       "align_content": null,
       "align_items": null,
       "align_self": null,
       "border": null,
       "bottom": null,
       "display": null,
       "flex": null,
       "flex_flow": null,
       "grid_area": null,
       "grid_auto_columns": null,
       "grid_auto_flow": null,
       "grid_auto_rows": null,
       "grid_column": null,
       "grid_gap": null,
       "grid_row": null,
       "grid_template_areas": null,
       "grid_template_columns": null,
       "grid_template_rows": null,
       "height": null,
       "justify_content": null,
       "justify_items": null,
       "left": null,
       "margin": null,
       "max_height": null,
       "max_width": null,
       "min_height": null,
       "min_width": null,
       "object_fit": null,
       "object_position": null,
       "order": null,
       "overflow": null,
       "overflow_x": null,
       "overflow_y": null,
       "padding": null,
       "right": null,
       "top": null,
       "visibility": null,
       "width": null
      }
     },
     "4eda9ed6f7c24ad5a2774ee152633b5c": {
      "model_module": "@jupyter-widgets/controls",
      "model_module_version": "1.5.0",
      "model_name": "HBoxModel",
      "state": {
       "_dom_classes": [],
       "_model_module": "@jupyter-widgets/controls",
       "_model_module_version": "1.5.0",
       "_model_name": "HBoxModel",
       "_view_count": null,
       "_view_module": "@jupyter-widgets/controls",
       "_view_module_version": "1.5.0",
       "_view_name": "HBoxView",
       "box_style": "",
       "children": [
        "IPY_MODEL_7e388f3365c8499bb40184cc5a44c3db",
        "IPY_MODEL_f99e9a38b1724d9eac5d444e8a597bae"
       ],
       "layout": "IPY_MODEL_579dc10806f6484eaf6affdcb73874c8"
      }
     },
     "56d1b2ebcb18483195b765f9feb3eef7": {
      "model_module": "@jupyter-widgets/controls",
      "model_module_version": "1.5.0",
      "model_name": "DescriptionStyleModel",
      "state": {
       "_model_module": "@jupyter-widgets/controls",
       "_model_module_version": "1.5.0",
       "_model_name": "DescriptionStyleModel",
       "_view_count": null,
       "_view_module": "@jupyter-widgets/base",
       "_view_module_version": "1.2.0",
       "_view_name": "StyleView",
       "description_width": ""
      }
     },
     "579dc10806f6484eaf6affdcb73874c8": {
      "model_module": "@jupyter-widgets/base",
      "model_module_version": "1.2.0",
      "model_name": "LayoutModel",
      "state": {
       "_model_module": "@jupyter-widgets/base",
       "_model_module_version": "1.2.0",
       "_model_name": "LayoutModel",
       "_view_count": null,
       "_view_module": "@jupyter-widgets/base",
       "_view_module_version": "1.2.0",
       "_view_name": "LayoutView",
       "align_content": null,
       "align_items": null,
       "align_self": null,
       "border": null,
       "bottom": null,
       "display": null,
       "flex": null,
       "flex_flow": null,
       "grid_area": null,
       "grid_auto_columns": null,
       "grid_auto_flow": null,
       "grid_auto_rows": null,
       "grid_column": null,
       "grid_gap": null,
       "grid_row": null,
       "grid_template_areas": null,
       "grid_template_columns": null,
       "grid_template_rows": null,
       "height": null,
       "justify_content": null,
       "justify_items": null,
       "left": null,
       "margin": null,
       "max_height": null,
       "max_width": null,
       "min_height": null,
       "min_width": null,
       "object_fit": null,
       "object_position": null,
       "order": null,
       "overflow": null,
       "overflow_x": null,
       "overflow_y": null,
       "padding": null,
       "right": null,
       "top": null,
       "visibility": null,
       "width": null
      }
     },
     "5f3ceeb2474e49d389f7dd9ef3f71232": {
      "model_module": "@jupyter-widgets/controls",
      "model_module_version": "1.5.0",
      "model_name": "FloatProgressModel",
      "state": {
       "_dom_classes": [],
       "_model_module": "@jupyter-widgets/controls",
       "_model_module_version": "1.5.0",
       "_model_name": "FloatProgressModel",
       "_view_count": null,
       "_view_module": "@jupyter-widgets/controls",
       "_view_module_version": "1.5.0",
       "_view_name": "ProgressView",
       "bar_style": "success",
       "description": "100%",
       "description_tooltip": null,
       "layout": "IPY_MODEL_bbf4a21b6d2e404da822cef229d21296",
       "max": 96817414.0,
       "min": 0.0,
       "orientation": "horizontal",
       "style": "IPY_MODEL_e5c0df6b44cc49afb8008d35cb3668e1",
       "value": 96817414.0
      }
     },
     "63ac44ad2eab4b1a89213447732dd333": {
      "model_module": "@jupyter-widgets/controls",
      "model_module_version": "1.5.0",
      "model_name": "HTMLModel",
      "state": {
       "_dom_classes": [],
       "_model_module": "@jupyter-widgets/controls",
       "_model_module_version": "1.5.0",
       "_model_name": "HTMLModel",
       "_view_count": null,
       "_view_module": "@jupyter-widgets/controls",
       "_view_module_version": "1.5.0",
       "_view_name": "HTMLView",
       "description": "",
       "description_tooltip": null,
       "layout": "IPY_MODEL_31b1f521bbed45d28c27800af60c68ad",
       "placeholder": "​",
       "style": "IPY_MODEL_f8bd1732fe864405a2aba31a6a5e9ad4",
       "value": " 96817414/96817414 [07:57&lt;00:00, 202711.86it/s]"
      }
     },
     "7e388f3365c8499bb40184cc5a44c3db": {
      "model_module": "@jupyter-widgets/controls",
      "model_module_version": "1.5.0",
      "model_name": "FloatProgressModel",
      "state": {
       "_dom_classes": [],
       "_model_module": "@jupyter-widgets/controls",
       "_model_module_version": "1.5.0",
       "_model_name": "FloatProgressModel",
       "_view_count": null,
       "_view_module": "@jupyter-widgets/controls",
       "_view_module_version": "1.5.0",
       "_view_name": "ProgressView",
       "bar_style": "success",
       "description": "100%",
       "description_tooltip": null,
       "layout": "IPY_MODEL_10b7a972fc254992ac9c7680240b8ba7",
       "max": 2453886.0,
       "min": 0.0,
       "orientation": "horizontal",
       "style": "IPY_MODEL_13721207b517460caeb868f2181ef35f",
       "value": 2453886.0
      }
     },
     "bbf4a21b6d2e404da822cef229d21296": {
      "model_module": "@jupyter-widgets/base",
      "model_module_version": "1.2.0",
      "model_name": "LayoutModel",
      "state": {
       "_model_module": "@jupyter-widgets/base",
       "_model_module_version": "1.2.0",
       "_model_name": "LayoutModel",
       "_view_count": null,
       "_view_module": "@jupyter-widgets/base",
       "_view_module_version": "1.2.0",
       "_view_name": "LayoutView",
       "align_content": null,
       "align_items": null,
       "align_self": null,
       "border": null,
       "bottom": null,
       "display": null,
       "flex": null,
       "flex_flow": null,
       "grid_area": null,
       "grid_auto_columns": null,
       "grid_auto_flow": null,
       "grid_auto_rows": null,
       "grid_column": null,
       "grid_gap": null,
       "grid_row": null,
       "grid_template_areas": null,
       "grid_template_columns": null,
       "grid_template_rows": null,
       "height": null,
       "justify_content": null,
       "justify_items": null,
       "left": null,
       "margin": null,
       "max_height": null,
       "max_width": null,
       "min_height": null,
       "min_width": null,
       "object_fit": null,
       "object_position": null,
       "order": null,
       "overflow": null,
       "overflow_x": null,
       "overflow_y": null,
       "padding": null,
       "right": null,
       "top": null,
       "visibility": null,
       "width": null
      }
     },
     "c911a7803fe646a789b5a98903605cb0": {
      "model_module": "@jupyter-widgets/base",
      "model_module_version": "1.2.0",
      "model_name": "LayoutModel",
      "state": {
       "_model_module": "@jupyter-widgets/base",
       "_model_module_version": "1.2.0",
       "_model_name": "LayoutModel",
       "_view_count": null,
       "_view_module": "@jupyter-widgets/base",
       "_view_module_version": "1.2.0",
       "_view_name": "LayoutView",
       "align_content": null,
       "align_items": null,
       "align_self": null,
       "border": null,
       "bottom": null,
       "display": null,
       "flex": null,
       "flex_flow": null,
       "grid_area": null,
       "grid_auto_columns": null,
       "grid_auto_flow": null,
       "grid_auto_rows": null,
       "grid_column": null,
       "grid_gap": null,
       "grid_row": null,
       "grid_template_areas": null,
       "grid_template_columns": null,
       "grid_template_rows": null,
       "height": null,
       "justify_content": null,
       "justify_items": null,
       "left": null,
       "margin": null,
       "max_height": null,
       "max_width": null,
       "min_height": null,
       "min_width": null,
       "object_fit": null,
       "object_position": null,
       "order": null,
       "overflow": null,
       "overflow_x": null,
       "overflow_y": null,
       "padding": null,
       "right": null,
       "top": null,
       "visibility": null,
       "width": null
      }
     },
     "e5c0df6b44cc49afb8008d35cb3668e1": {
      "model_module": "@jupyter-widgets/controls",
      "model_module_version": "1.5.0",
      "model_name": "ProgressStyleModel",
      "state": {
       "_model_module": "@jupyter-widgets/controls",
       "_model_module_version": "1.5.0",
       "_model_name": "ProgressStyleModel",
       "_view_count": null,
       "_view_module": "@jupyter-widgets/base",
       "_view_module_version": "1.2.0",
       "_view_name": "StyleView",
       "bar_color": null,
       "description_width": "initial"
      }
     },
     "f8bd1732fe864405a2aba31a6a5e9ad4": {
      "model_module": "@jupyter-widgets/controls",
      "model_module_version": "1.5.0",
      "model_name": "DescriptionStyleModel",
      "state": {
       "_model_module": "@jupyter-widgets/controls",
       "_model_module_version": "1.5.0",
       "_model_name": "DescriptionStyleModel",
       "_view_count": null,
       "_view_module": "@jupyter-widgets/base",
       "_view_module_version": "1.2.0",
       "_view_name": "StyleView",
       "description_width": ""
      }
     },
     "f99e9a38b1724d9eac5d444e8a597bae": {
      "model_module": "@jupyter-widgets/controls",
      "model_module_version": "1.5.0",
      "model_name": "HTMLModel",
      "state": {
       "_dom_classes": [],
       "_model_module": "@jupyter-widgets/controls",
       "_model_module_version": "1.5.0",
       "_model_name": "HTMLModel",
       "_view_count": null,
       "_view_module": "@jupyter-widgets/controls",
       "_view_module_version": "1.5.0",
       "_view_name": "HTMLView",
       "description": "",
       "description_tooltip": null,
       "layout": "IPY_MODEL_c911a7803fe646a789b5a98903605cb0",
       "placeholder": "​",
       "style": "IPY_MODEL_56d1b2ebcb18483195b765f9feb3eef7",
       "value": " 2453886/2453886 [00:12&lt;00:00, 203483.88it/s]"
      }
     }
    },
    "version_major": 2,
    "version_minor": 0
   }
  }
 },
 "nbformat": 4,
 "nbformat_minor": 4
}

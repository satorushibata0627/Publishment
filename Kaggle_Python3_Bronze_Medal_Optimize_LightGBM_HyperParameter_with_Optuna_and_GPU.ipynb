{
 "cells": [
  {
   "cell_type": "markdown",
   "metadata": {
    "papermill": {
     "duration": 0.017855,
     "end_time": "2021-01-09T23:08:00.760111",
     "exception": false,
     "start_time": "2021-01-09T23:08:00.742256",
     "status": "completed"
    },
    "tags": []
   },
   "source": [
    "# Table of Contents:\n",
    "1. [Apply GPU to LightGBM](#Apply-GPU-to-LightGBM)\n",
    "1. [Required library](#Required-library)\n",
    "1. [Preprocess](#Preprocess)\n",
    "1. [Initial conditions](#Initial-conditions)\n",
    "1. [Utility Score](#Utility-Score)\n",
    "1. [LightGBM Training with GPU](#LightGBM-Training-with-GPU)\n",
    "1. [Optimisation](#Optimisation)\n",
    "1. [References](#References)"
   ]
  },
  {
   "cell_type": "markdown",
   "metadata": {
    "papermill": {
     "duration": 0.014624,
     "end_time": "2021-01-09T23:08:00.790200",
     "exception": false,
     "start_time": "2021-01-09T23:08:00.775576",
     "status": "completed"
    },
    "tags": []
   },
   "source": [
    "# Apply GPU to LightGBM\n",
    "## See also [GPU-accelerated LightGBM full](https://www.kaggle.com/dromosys/gpu-accelerated-lightgbm-full)\n",
    "### Procedure:\n",
    "1. Change Accelerator to GPU;\n",
    "1. Change Internet to ON;\n",
    "1. Add parameters of LightGBM:\n",
    "    ```\n",
    "    'device': 'gpu',\n",
    "    'gpu_platform_id': 0,\n",
    "    'gpu_device_id': 0\n",
    "    ```\n",
    "1. Run execute the cell below."
   ]
  },
  {
   "cell_type": "code",
   "execution_count": 1,
   "metadata": {
    "execution": {
     "iopub.execute_input": "2021-01-09T23:08:00.829647Z",
     "iopub.status.busy": "2021-01-09T23:08:00.828877Z",
     "iopub.status.idle": "2021-01-09T23:08:21.983494Z",
     "shell.execute_reply": "2021-01-09T23:08:21.983987Z"
    },
    "papermill": {
     "duration": 21.178833,
     "end_time": "2021-01-09T23:08:21.984162",
     "exception": false,
     "start_time": "2021-01-09T23:08:00.805329",
     "status": "completed"
    },
    "tags": []
   },
   "outputs": [
    {
     "name": "stdout",
     "output_type": "stream",
     "text": [
      "rm: cannot remove '/opt/conda/lib/python3.6/site-packages/lightgbm': No such file or directory\r\n",
      "Cloning into 'LightGBM'...\r\n",
      "remote: Enumerating objects: 56, done.\u001b[K\r\n",
      "remote: Counting objects: 100% (56/56), done.\u001b[K\r\n",
      "remote: Compressing objects: 100% (48/48), done.\u001b[K\r\n",
      "remote: Total 20886 (delta 22), reused 17 (delta 7), pack-reused 20830\u001b[K\r\n",
      "Receiving objects: 100% (20886/20886), 16.48 MiB | 18.01 MiB/s, done.\r\n",
      "Resolving deltas: 100% (15242/15242), done.\r\n",
      "Submodule 'include/boost/compute' (https://github.com/boostorg/compute) registered for path 'compute'\r\n",
      "Submodule 'eigen' (https://gitlab.com/libeigen/eigen.git) registered for path 'eigen'\r\n",
      "Submodule 'external_libs/fast_double_parser' (https://github.com/lemire/fast_double_parser.git) registered for path 'external_libs/fast_double_parser'\r\n",
      "Submodule 'external_libs/fmt' (https://github.com/fmtlib/fmt.git) registered for path 'external_libs/fmt'\r\n",
      "Cloning into '/kaggle/working/LightGBM/compute'...\r\n",
      "remote: Enumerating objects: 21728, done.        \r\n",
      "remote: Total 21728 (delta 0), reused 0 (delta 0), pack-reused 21728        \r\n",
      "Receiving objects: 100% (21728/21728), 8.51 MiB | 22.57 MiB/s, done.\r\n",
      "Resolving deltas: 100% (17566/17566), done.\r\n",
      "Cloning into '/kaggle/working/LightGBM/eigen'...\r\n",
      "remote: Enumerating objects: 553, done.        \r\n",
      "remote: Counting objects: 100% (553/553), done.        \r\n",
      "remote: Compressing objects: 100% (241/241), done.        \r\n",
      "remote: Total 107852 (delta 369), reused 473 (delta 309), pack-reused 107299\r\n",
      "Receiving objects: 100% (107852/107852), 102.10 MiB | 25.22 MiB/s, done.\r\n",
      "Resolving deltas: 100% (88210/88210), done.\r\n",
      "Cloning into '/kaggle/working/LightGBM/external_libs/fast_double_parser'...\r\n",
      "remote: Enumerating objects: 146, done.        \r\n",
      "remote: Counting objects: 100% (146/146), done.        \r\n",
      "remote: Compressing objects: 100% (89/89), done.        \r\n",
      "remote: Total 646 (delta 70), reused 87 (delta 34), pack-reused 500        \r\n",
      "Receiving objects: 100% (646/646), 792.85 KiB | 7.62 MiB/s, done.\r\n",
      "Resolving deltas: 100% (324/324), done.\r\n",
      "Cloning into '/kaggle/working/LightGBM/external_libs/fmt'...\r\n",
      "remote: Enumerating objects: 28, done.        \r\n",
      "remote: Counting objects: 100% (28/28), done.\r\n",
      "remote: Compressing objects: 100% (19/19), done.        \r\n",
      "remote: Total 24340 (delta 9), reused 16 (delta 5), pack-reused 24312        \r\n",
      "Receiving objects: 100% (24340/24340), 12.02 MiB | 22.97 MiB/s, done.\r\n",
      "Resolving deltas: 100% (16484/16484), done.\r\n",
      "Submodule path 'compute': checked out '36c89134d4013b2e5e45bc55656a18bd6141995a'\r\n",
      "Submodule path 'eigen': checked out '8ba1b0f41a7950dc3e1d4ed75859e36c73311235'\r\n",
      "Submodule path 'external_libs/fast_double_parser': checked out 'ace60646c02dc54c57f19d644e49a61e7e7758ec'\r\n",
      "Submodule 'benchmark/dependencies/abseil-cpp' (https://github.com/abseil/abseil-cpp.git) registered for path 'external_libs/fast_double_parser/benchmarks/dependencies/abseil-cpp'\r\n",
      "Submodule 'benchmark/dependencies/double-conversion' (https://github.com/google/double-conversion.git) registered for path 'external_libs/fast_double_parser/benchmarks/dependencies/double-conversion'\r\n",
      "Cloning into '/kaggle/working/LightGBM/external_libs/fast_double_parser/benchmarks/dependencies/abseil-cpp'...\r\n",
      "remote: Enumerating objects: 9, done.        \r\n",
      "remote: Counting objects: 100% (9/9), done.        \r\n",
      "remote: Compressing objects: 100% (9/9), done.        \r\n",
      "remote: Total 13580 (delta 0), reused 9 (delta 0), pack-reused 13571        \r\n",
      "Receiving objects: 100% (13580/13580), 8.77 MiB | 19.44 MiB/s, done.\r\n",
      "Resolving deltas: 100% (10320/10320), done.\r\n",
      "Cloning into '/kaggle/working/LightGBM/external_libs/fast_double_parser/benchmarks/dependencies/double-conversion'...\r\n",
      "remote: Enumerating objects: 8, done.        \r\n",
      "remote: Counting objects: 100% (8/8), done.        \r\n",
      "remote: Compressing objects: 100% (6/6), done.        \r\n",
      "remote: Total 1164 (delta 2), reused 4 (delta 2), pack-reused 1156        \r\n",
      "Receiving objects: 100% (1164/1164), 7.01 MiB | 17.65 MiB/s, done.\r\n",
      "Resolving deltas: 100% (774/774), done.\r\n",
      "Submodule path 'external_libs/fast_double_parser/benchmarks/dependencies/abseil-cpp': checked out 'd936052d32a5b7ca08b0199a6724724aea432309'\r\n",
      "Submodule path 'external_libs/fast_double_parser/benchmarks/dependencies/double-conversion': checked out 'f4cb2384efa55dee0e6652f8674b05763441ab09'\r\n",
      "Submodule path 'external_libs/fmt': checked out 'cc09f1a6798c085c325569ef466bcdcffdc266d4'\r\n",
      "CPU times: user 499 ms, sys: 147 ms, total: 646 ms\n",
      "Wall time: 21.2 s\n"
     ]
    }
   ],
   "source": [
    "%%time\n",
    "!rm -r /opt/conda/lib/python3.6/site-packages/lightgbm\n",
    "!git clone --recursive https://github.com/Microsoft/LightGBM"
   ]
  },
  {
   "cell_type": "code",
   "execution_count": 2,
   "metadata": {
    "execution": {
     "iopub.execute_input": "2021-01-09T23:08:22.195705Z",
     "iopub.status.busy": "2021-01-09T23:08:22.191651Z",
     "iopub.status.idle": "2021-01-09T23:08:24.547337Z",
     "shell.execute_reply": "2021-01-09T23:08:24.546539Z"
    },
    "papermill": {
     "duration": 2.45807,
     "end_time": "2021-01-09T23:08:24.547455",
     "exception": false,
     "start_time": "2021-01-09T23:08:22.089385",
     "status": "completed"
    },
    "tags": []
   },
   "outputs": [
    {
     "name": "stdout",
     "output_type": "stream",
     "text": [
      "CPU times: user 30.1 ms, sys: 9.77 ms, total: 39.9 ms\n",
      "Wall time: 2.35 s\n"
     ]
    }
   ],
   "source": [
    "%%time\n",
    "!apt-get install -y -qq libboost-all-dev"
   ]
  },
  {
   "cell_type": "code",
   "execution_count": 3,
   "metadata": {
    "execution": {
     "iopub.execute_input": "2021-01-09T23:08:24.752411Z",
     "iopub.status.busy": "2021-01-09T23:08:24.751463Z",
     "iopub.status.idle": "2021-01-09T23:13:37.019547Z",
     "shell.execute_reply": "2021-01-09T23:13:37.017297Z"
    },
    "papermill": {
     "duration": 312.374568,
     "end_time": "2021-01-09T23:13:37.019709",
     "exception": false,
     "start_time": "2021-01-09T23:08:24.645141",
     "status": "completed"
    },
    "tags": []
   },
   "outputs": [
    {
     "name": "stdout",
     "output_type": "stream",
     "text": [
      "-- The C compiler identification is GNU 7.5.0\n",
      "-- The CXX compiler identification is GNU 7.5.0\n",
      "-- Check for working C compiler: /usr/bin/cc\n",
      "-- Check for working C compiler: /usr/bin/cc -- works\n",
      "-- Detecting C compiler ABI info\n",
      "-- Detecting C compiler ABI info - done\n",
      "-- Detecting C compile features\n",
      "-- Detecting C compile features - done\n",
      "-- Check for working CXX compiler: /usr/bin/c++\n",
      "-- Check for working CXX compiler: /usr/bin/c++ -- works\n",
      "-- Detecting CXX compiler ABI info\n",
      "-- Detecting CXX compiler ABI info - done\n",
      "-- Detecting CXX compile features\n",
      "-- Detecting CXX compile features - done\n",
      "-- Found OpenMP_C: -fopenmp (found version \"4.5\") \n",
      "-- Found OpenMP_CXX: -fopenmp (found version \"4.5\") \n",
      "-- Found OpenMP: TRUE (found version \"4.5\")  \n",
      "-- Looking for CL_VERSION_2_2\n",
      "-- Looking for CL_VERSION_2_2 - not found\n",
      "-- Looking for CL_VERSION_2_1\n",
      "-- Looking for CL_VERSION_2_1 - not found\n",
      "-- Looking for CL_VERSION_2_0\n",
      "-- Looking for CL_VERSION_2_0 - not found\n",
      "-- Looking for CL_VERSION_1_2\n",
      "-- Looking for CL_VERSION_1_2 - found\n",
      "-- Found OpenCL: /usr/local/cuda/lib64/libOpenCL.so (found version \"1.2\") \n",
      "-- OpenCL include directory: /usr/local/cuda/include\n",
      "-- Boost 1.56.0 found.\n",
      "-- Found Boost components:\n",
      "   filesystem;system\n",
      "-- Performing Test MM_PREFETCH\n",
      "-- Performing Test MM_PREFETCH - Success\n",
      "-- Using _mm_prefetch\n",
      "-- Performing Test MM_MALLOC\n",
      "-- Performing Test MM_MALLOC - Success\n",
      "-- Using _mm_malloc\n",
      "-- Configuring done\n",
      "-- Generating done\n",
      "-- Build files have been written to: /kaggle/working/LightGBM/build\n",
      "Scanning dependencies of target lightgbm\n",
      "Scanning dependencies of target _lightgbm\n",
      "[  2%] Building CXX object CMakeFiles/_lightgbm.dir/src/boosting/boosting.cpp.o\n",
      "[  2%] Building CXX object CMakeFiles/lightgbm.dir/src/main.cpp.o\n",
      "[  4%] Building CXX object CMakeFiles/lightgbm.dir/src/application/application.cpp.o\n",
      "[  5%] Building CXX object CMakeFiles/_lightgbm.dir/src/boosting/gbdt.cpp.o\n",
      "[  7%] Building CXX object CMakeFiles/lightgbm.dir/src/boosting/boosting.cpp.o\n",
      "[  8%] Building CXX object CMakeFiles/_lightgbm.dir/src/boosting/gbdt_model_text.cpp.o\n",
      "[ 10%] Building CXX object CMakeFiles/lightgbm.dir/src/boosting/gbdt.cpp.o\n",
      "[ 11%] Building CXX object CMakeFiles/_lightgbm.dir/src/boosting/gbdt_prediction.cpp.o\n",
      "[ 13%] Building CXX object CMakeFiles/lightgbm.dir/src/boosting/gbdt_model_text.cpp.o\n",
      "[ 14%] Building CXX object CMakeFiles/_lightgbm.dir/src/boosting/prediction_early_stop.cpp.o\n",
      "[ 15%] Building CXX object CMakeFiles/_lightgbm.dir/src/io/bin.cpp.o\n",
      "[ 17%] Building CXX object CMakeFiles/lightgbm.dir/src/boosting/gbdt_prediction.cpp.o\n",
      "[ 18%] Building CXX object CMakeFiles/lightgbm.dir/src/boosting/prediction_early_stop.cpp.o\n",
      "[ 20%] Building CXX object CMakeFiles/lightgbm.dir/src/io/bin.cpp.o\n",
      "[ 21%] Building CXX object CMakeFiles/_lightgbm.dir/src/io/config.cpp.o\n",
      "[ 23%] Building CXX object CMakeFiles/_lightgbm.dir/src/io/config_auto.cpp.o\n",
      "[ 24%] Building CXX object CMakeFiles/lightgbm.dir/src/io/config.cpp.o\n",
      "[ 26%] Building CXX object CMakeFiles/_lightgbm.dir/src/io/dataset.cpp.o\n",
      "[ 27%] Building CXX object CMakeFiles/lightgbm.dir/src/io/config_auto.cpp.o\n",
      "[ 28%] Building CXX object CMakeFiles/_lightgbm.dir/src/io/dataset_loader.cpp.o\n",
      "[ 30%] Building CXX object CMakeFiles/lightgbm.dir/src/io/dataset.cpp.o\n",
      "[ 31%] Building CXX object CMakeFiles/_lightgbm.dir/src/io/file_io.cpp.o\n",
      "[ 33%] Building CXX object CMakeFiles/_lightgbm.dir/src/io/json11.cpp.o\n",
      "[ 34%] Building CXX object CMakeFiles/lightgbm.dir/src/io/dataset_loader.cpp.o\n",
      "[ 36%] Building CXX object CMakeFiles/_lightgbm.dir/src/io/metadata.cpp.o\n",
      "[ 37%] Building CXX object CMakeFiles/_lightgbm.dir/src/io/parser.cpp.o\n",
      "[ 39%] Building CXX object CMakeFiles/lightgbm.dir/src/io/file_io.cpp.o\n",
      "[ 40%] Building CXX object CMakeFiles/lightgbm.dir/src/io/json11.cpp.o\n",
      "[ 42%] Building CXX object CMakeFiles/_lightgbm.dir/src/io/train_share_states.cpp.o\n",
      "[ 43%] Building CXX object CMakeFiles/lightgbm.dir/src/io/metadata.cpp.o\n",
      "[ 44%] Building CXX object CMakeFiles/_lightgbm.dir/src/io/tree.cpp.o\n",
      "[ 46%] Building CXX object CMakeFiles/lightgbm.dir/src/io/parser.cpp.o\n",
      "[ 47%] Building CXX object CMakeFiles/lightgbm.dir/src/io/train_share_states.cpp.o\n",
      "[ 49%] Building CXX object CMakeFiles/lightgbm.dir/src/io/tree.cpp.o\n",
      "[ 50%] Building CXX object CMakeFiles/_lightgbm.dir/src/metric/dcg_calculator.cpp.o\n",
      "[ 52%] Building CXX object CMakeFiles/_lightgbm.dir/src/metric/metric.cpp.o\n",
      "[ 53%] Building CXX object CMakeFiles/lightgbm.dir/src/metric/dcg_calculator.cpp.o\n",
      "[ 55%] Building CXX object CMakeFiles/_lightgbm.dir/src/objective/objective_function.cpp.o\n",
      "[ 56%] Building CXX object CMakeFiles/lightgbm.dir/src/metric/metric.cpp.o\n",
      "[ 57%] Building CXX object CMakeFiles/lightgbm.dir/src/objective/objective_function.cpp.o\n",
      "[ 59%] Building CXX object CMakeFiles/_lightgbm.dir/src/network/ifaddrs_patch.cpp.o\n",
      "[ 60%] Building CXX object CMakeFiles/_lightgbm.dir/src/network/linker_topo.cpp.o\n",
      "[ 62%] Building CXX object CMakeFiles/_lightgbm.dir/src/network/linkers_mpi.cpp.o\n",
      "[ 63%] Building CXX object CMakeFiles/_lightgbm.dir/src/network/linkers_socket.cpp.o\n",
      "[ 65%] Building CXX object CMakeFiles/_lightgbm.dir/src/network/network.cpp.o\n",
      "[ 66%] Building CXX object CMakeFiles/_lightgbm.dir/src/treelearner/cuda_tree_learner.cpp.o\n",
      "[ 68%] Building CXX object CMakeFiles/_lightgbm.dir/src/treelearner/data_parallel_tree_learner.cpp.o\n",
      "[ 69%] Building CXX object CMakeFiles/lightgbm.dir/src/network/ifaddrs_patch.cpp.o\n",
      "[ 71%] Building CXX object CMakeFiles/lightgbm.dir/src/network/linker_topo.cpp.o\n",
      "[ 72%] Building CXX object CMakeFiles/lightgbm.dir/src/network/linkers_mpi.cpp.o\n",
      "[ 73%] Building CXX object CMakeFiles/lightgbm.dir/src/network/linkers_socket.cpp.o\n",
      "[ 75%] Building CXX object CMakeFiles/lightgbm.dir/src/network/network.cpp.o\n",
      "[ 76%] Building CXX object CMakeFiles/lightgbm.dir/src/treelearner/cuda_tree_learner.cpp.o\n",
      "[ 78%] Building CXX object CMakeFiles/lightgbm.dir/src/treelearner/data_parallel_tree_learner.cpp.o\n",
      "[ 79%] Building CXX object CMakeFiles/_lightgbm.dir/src/treelearner/feature_parallel_tree_learner.cpp.o\n",
      "[ 81%] Building CXX object CMakeFiles/lightgbm.dir/src/treelearner/feature_parallel_tree_learner.cpp.o\n",
      "[ 82%] Building CXX object CMakeFiles/_lightgbm.dir/src/treelearner/gpu_tree_learner.cpp.o\n",
      "[ 84%] Building CXX object CMakeFiles/lightgbm.dir/src/treelearner/gpu_tree_learner.cpp.o\n",
      "[ 85%] Building CXX object CMakeFiles/_lightgbm.dir/src/treelearner/linear_tree_learner.cpp.o\n",
      "[ 86%] Building CXX object CMakeFiles/lightgbm.dir/src/treelearner/linear_tree_learner.cpp.o\n",
      "[ 88%] Building CXX object CMakeFiles/_lightgbm.dir/src/treelearner/serial_tree_learner.cpp.o\n",
      "[ 89%] Building CXX object CMakeFiles/lightgbm.dir/src/treelearner/serial_tree_learner.cpp.o\n",
      "[ 91%] Building CXX object CMakeFiles/_lightgbm.dir/src/treelearner/tree_learner.cpp.o\n",
      "[ 92%] Building CXX object CMakeFiles/lightgbm.dir/src/treelearner/tree_learner.cpp.o\n",
      "[ 94%] Building CXX object CMakeFiles/_lightgbm.dir/src/treelearner/voting_parallel_tree_learner.cpp.o\n",
      "[ 95%] Building CXX object CMakeFiles/lightgbm.dir/src/treelearner/voting_parallel_tree_learner.cpp.o\n",
      "[ 97%] Building CXX object CMakeFiles/_lightgbm.dir/src/c_api.cpp.o\n",
      "[ 98%] Linking CXX executable ../lightgbm\n",
      "[ 98%] Built target lightgbm\n",
      "[100%] Linking CXX shared library ../lib_lightgbm.so\n",
      "[100%] Built target _lightgbm\n"
     ]
    },
    {
     "name": "stderr",
     "output_type": "stream",
     "text": [
      "rm: cannot remove 'build': No such file or directory\n",
      "cmake: /opt/conda/lib/libcurl.so.4: no version information available (required by cmake)\n",
      "/usr/bin/cmake: /opt/conda/lib/libcurl.so.4: no version information available (required by /usr/bin/cmake)\n",
      "/usr/bin/cmake: /opt/conda/lib/libcurl.so.4: no version information available (required by /usr/bin/cmake)\n",
      "/usr/bin/cmake: /opt/conda/lib/libcurl.so.4: no version information available (required by /usr/bin/cmake)\n",
      "/usr/bin/cmake: /opt/conda/lib/libcurl.so.4: no version information available (required by /usr/bin/cmake)\n",
      "/usr/bin/cmake: /opt/conda/lib/libcurl.so.4: no version information available (required by /usr/bin/cmake)\n",
      "/usr/bin/cmake: /opt/conda/lib/libcurl.so.4: no version information available (required by /usr/bin/cmake)\n",
      "/usr/bin/cmake: /opt/conda/lib/libcurl.so.4: no version information available (required by /usr/bin/cmake)\n",
      "/usr/bin/cmake: /opt/conda/lib/libcurl.so.4: no version information available (required by /usr/bin/cmake)\n",
      "/usr/bin/cmake: /opt/conda/lib/libcurl.so.4: no version information available (required by /usr/bin/cmake)\n",
      "/usr/bin/cmake: /opt/conda/lib/libcurl.so.4: no version information available (required by /usr/bin/cmake)\n",
      "/usr/bin/cmake: /opt/conda/lib/libcurl.so.4: no version information available (required by /usr/bin/cmake)\n",
      "/usr/bin/cmake: /opt/conda/lib/libcurl.so.4: no version information available (required by /usr/bin/cmake)\n",
      "/usr/bin/cmake: /opt/conda/lib/libcurl.so.4: no version information available (required by /usr/bin/cmake)\n",
      "/usr/bin/cmake: /opt/conda/lib/libcurl.so.4: no version information available (required by /usr/bin/cmake)\n",
      "/usr/bin/cmake: /opt/conda/lib/libcurl.so.4: no version information available (required by /usr/bin/cmake)\n",
      "/usr/bin/cmake: /opt/conda/lib/libcurl.so.4: no version information available (required by /usr/bin/cmake)\n",
      "/usr/bin/cmake: /opt/conda/lib/libcurl.so.4: no version information available (required by /usr/bin/cmake)\n",
      "/usr/bin/cmake: /opt/conda/lib/libcurl.so.4: no version information available (required by /usr/bin/cmake)\n",
      "/usr/bin/cmake: /opt/conda/lib/libcurl.so.4: no version information available (required by /usr/bin/cmake)\n",
      "/usr/bin/cmake: /opt/conda/lib/libcurl.so.4: no version information available (required by /usr/bin/cmake)\n",
      "/usr/bin/cmake: /opt/conda/lib/libcurl.so.4: no version information available (required by /usr/bin/cmake)\n",
      "/usr/bin/cmake: /opt/conda/lib/libcurl.so.4: no version information available (required by /usr/bin/cmake)\n",
      "/usr/bin/cmake: /opt/conda/lib/libcurl.so.4: no version information available (required by /usr/bin/cmake)\n",
      "/usr/bin/cmake: /opt/conda/lib/libcurl.so.4: no version information available (required by /usr/bin/cmake)\n",
      "/usr/bin/cmake: /opt/conda/lib/libcurl.so.4: no version information available (required by /usr/bin/cmake)\n",
      "/usr/bin/cmake: /opt/conda/lib/libcurl.so.4: no version information available (required by /usr/bin/cmake)\n",
      "/usr/bin/cmake: /opt/conda/lib/libcurl.so.4: no version information available (required by /usr/bin/cmake)\n",
      "/usr/bin/cmake: /opt/conda/lib/libcurl.so.4: no version information available (required by /usr/bin/cmake)\n",
      "/usr/bin/cmake: /opt/conda/lib/libcurl.so.4: no version information available (required by /usr/bin/cmake)\n",
      "/usr/bin/cmake: /opt/conda/lib/libcurl.so.4: no version information available (required by /usr/bin/cmake)\n",
      "/usr/bin/cmake: /opt/conda/lib/libcurl.so.4: no version information available (required by /usr/bin/cmake)\n",
      "/usr/bin/cmake: /opt/conda/lib/libcurl.so.4: no version information available (required by /usr/bin/cmake)\n",
      "/usr/bin/cmake: /opt/conda/lib/libcurl.so.4: no version information available (required by /usr/bin/cmake)\n",
      "/usr/bin/cmake: /opt/conda/lib/libcurl.so.4: no version information available (required by /usr/bin/cmake)\n",
      "/usr/bin/cmake: /opt/conda/lib/libcurl.so.4: no version information available (required by /usr/bin/cmake)\n",
      "/usr/bin/cmake: /opt/conda/lib/libcurl.so.4: no version information available (required by /usr/bin/cmake)\n",
      "/usr/bin/cmake: /opt/conda/lib/libcurl.so.4: no version information available (required by /usr/bin/cmake)\n",
      "/usr/bin/cmake: /opt/conda/lib/libcurl.so.4: no version information available (required by /usr/bin/cmake)\n",
      "/usr/bin/cmake: /opt/conda/lib/libcurl.so.4: no version information available (required by /usr/bin/cmake)\n",
      "/usr/bin/cmake: /opt/conda/lib/libcurl.so.4: no version information available (required by /usr/bin/cmake)\n",
      "/usr/bin/cmake: /opt/conda/lib/libcurl.so.4: no version information available (required by /usr/bin/cmake)\n",
      "/usr/bin/cmake: /opt/conda/lib/libcurl.so.4: no version information available (required by /usr/bin/cmake)\n",
      "/usr/bin/cmake: /opt/conda/lib/libcurl.so.4: no version information available (required by /usr/bin/cmake)\n",
      "/usr/bin/cmake: /opt/conda/lib/libcurl.so.4: no version information available (required by /usr/bin/cmake)\n",
      "/usr/bin/cmake: /opt/conda/lib/libcurl.so.4: no version information available (required by /usr/bin/cmake)\n",
      "/usr/bin/cmake: /opt/conda/lib/libcurl.so.4: no version information available (required by /usr/bin/cmake)\n",
      "/usr/bin/cmake: /opt/conda/lib/libcurl.so.4: no version information available (required by /usr/bin/cmake)\n",
      "/usr/bin/cmake: /opt/conda/lib/libcurl.so.4: no version information available (required by /usr/bin/cmake)\n",
      "/usr/bin/cmake: /opt/conda/lib/libcurl.so.4: no version information available (required by /usr/bin/cmake)\n",
      "/usr/bin/cmake: /opt/conda/lib/libcurl.so.4: no version information available (required by /usr/bin/cmake)\n",
      "/usr/bin/cmake: /opt/conda/lib/libcurl.so.4: no version information available (required by /usr/bin/cmake)\n",
      "/usr/bin/cmake: /opt/conda/lib/libcurl.so.4: no version information available (required by /usr/bin/cmake)\n",
      "/usr/bin/cmake: /opt/conda/lib/libcurl.so.4: no version information available (required by /usr/bin/cmake)\n",
      "/usr/bin/cmake: /opt/conda/lib/libcurl.so.4: no version information available (required by /usr/bin/cmake)\n",
      "/usr/bin/cmake: /opt/conda/lib/libcurl.so.4: no version information available (required by /usr/bin/cmake)\n",
      "/usr/bin/cmake: /opt/conda/lib/libcurl.so.4: no version information available (required by /usr/bin/cmake)\n",
      "/usr/bin/cmake: /opt/conda/lib/libcurl.so.4: no version information available (required by /usr/bin/cmake)\n",
      "/usr/bin/cmake: /opt/conda/lib/libcurl.so.4: no version information available (required by /usr/bin/cmake)\n",
      "/usr/bin/cmake: /opt/conda/lib/libcurl.so.4: no version information available (required by /usr/bin/cmake)\n",
      "/usr/bin/cmake: /opt/conda/lib/libcurl.so.4: no version information available (required by /usr/bin/cmake)\n",
      "/usr/bin/cmake: /opt/conda/lib/libcurl.so.4: no version information available (required by /usr/bin/cmake)\n",
      "/usr/bin/cmake: /opt/conda/lib/libcurl.so.4: no version information available (required by /usr/bin/cmake)\n",
      "/usr/bin/cmake: /opt/conda/lib/libcurl.so.4: no version information available (required by /usr/bin/cmake)\n",
      "/usr/bin/cmake: /opt/conda/lib/libcurl.so.4: no version information available (required by /usr/bin/cmake)\n",
      "/usr/bin/cmake: /opt/conda/lib/libcurl.so.4: no version information available (required by /usr/bin/cmake)\n",
      "/usr/bin/cmake: /opt/conda/lib/libcurl.so.4: no version information available (required by /usr/bin/cmake)\n",
      "/usr/bin/cmake: /opt/conda/lib/libcurl.so.4: no version information available (required by /usr/bin/cmake)\n",
      "/usr/bin/cmake: /opt/conda/lib/libcurl.so.4: no version information available (required by /usr/bin/cmake)\n",
      "/usr/bin/cmake: /opt/conda/lib/libcurl.so.4: no version information available (required by /usr/bin/cmake)\n",
      "/usr/bin/cmake: /opt/conda/lib/libcurl.so.4: no version information available (required by /usr/bin/cmake)\n",
      "/usr/bin/cmake: /opt/conda/lib/libcurl.so.4: no version information available (required by /usr/bin/cmake)\n",
      "/usr/bin/cmake: /opt/conda/lib/libcurl.so.4: no version information available (required by /usr/bin/cmake)\n",
      "/usr/bin/cmake: /opt/conda/lib/libcurl.so.4: no version information available (required by /usr/bin/cmake)\n",
      "/usr/bin/cmake: /opt/conda/lib/libcurl.so.4: no version information available (required by /usr/bin/cmake)\n",
      "/usr/bin/cmake: /opt/conda/lib/libcurl.so.4: no version information available (required by /usr/bin/cmake)\n",
      "/usr/bin/cmake: /opt/conda/lib/libcurl.so.4: no version information available (required by /usr/bin/cmake)\n",
      "/usr/bin/cmake: /opt/conda/lib/libcurl.so.4: no version information available (required by /usr/bin/cmake)\n",
      "/usr/bin/cmake: /opt/conda/lib/libcurl.so.4: no version information available (required by /usr/bin/cmake)\n"
     ]
    },
    {
     "name": "stdout",
     "output_type": "stream",
     "text": [
      "CPU times: user 44.1 ms, sys: 30 ms, total: 74.1 ms\n",
      "Wall time: 5min 12s\n"
     ]
    }
   ],
   "source": [
    "%%time\n",
    "%%bash\n",
    "cd LightGBM\n",
    "rm -r build\n",
    "mkdir build\n",
    "cd build\n",
    "cmake -DUSE_GPU=1 -DOpenCL_LIBRARY=/usr/local/cuda/lib64/libOpenCL.so -DOpenCL_INCLUDE_DIR=/usr/local/cuda/include/ ..\n",
    "make -j$(nproc)"
   ]
  },
  {
   "cell_type": "code",
   "execution_count": 4,
   "metadata": {
    "execution": {
     "iopub.execute_input": "2021-01-09T23:13:37.267354Z",
     "iopub.status.busy": "2021-01-09T23:13:37.262925Z",
     "iopub.status.idle": "2021-01-09T23:13:38.915160Z",
     "shell.execute_reply": "2021-01-09T23:13:38.915657Z"
    },
    "papermill": {
     "duration": 1.761087,
     "end_time": "2021-01-09T23:13:38.915797",
     "exception": false,
     "start_time": "2021-01-09T23:13:37.154710",
     "status": "completed"
    },
    "tags": []
   },
   "outputs": [
    {
     "name": "stdout",
     "output_type": "stream",
     "text": [
      "running install\r\n",
      "running build\r\n",
      "running build_py\r\n",
      "creating build\r\n",
      "creating build/lib\r\n",
      "creating build/lib/lightgbm\r\n",
      "copying lightgbm/engine.py -> build/lib/lightgbm\r\n",
      "copying lightgbm/dask.py -> build/lib/lightgbm\r\n",
      "copying lightgbm/compat.py -> build/lib/lightgbm\r\n",
      "copying lightgbm/basic.py -> build/lib/lightgbm\r\n",
      "copying lightgbm/sklearn.py -> build/lib/lightgbm\r\n",
      "copying lightgbm/plotting.py -> build/lib/lightgbm\r\n",
      "copying lightgbm/callback.py -> build/lib/lightgbm\r\n",
      "copying lightgbm/__init__.py -> build/lib/lightgbm\r\n",
      "copying lightgbm/libpath.py -> build/lib/lightgbm\r\n",
      "running egg_info\r\n",
      "creating lightgbm.egg-info\r\n",
      "writing lightgbm.egg-info/PKG-INFO\r\n",
      "writing dependency_links to lightgbm.egg-info/dependency_links.txt\r\n",
      "writing requirements to lightgbm.egg-info/requires.txt\r\n",
      "writing top-level names to lightgbm.egg-info/top_level.txt\r\n",
      "writing manifest file 'lightgbm.egg-info/SOURCES.txt'\r\n",
      "reading manifest template 'MANIFEST.in'\r\n",
      "no previously-included directories found matching 'build'\r\n",
      "warning: no files found matching 'LICENSE'\r\n",
      "warning: no files found matching '*.txt'\r\n",
      "warning: no files found matching '*.so' under directory 'lightgbm'\r\n",
      "warning: no files found matching 'compile/CMakeLists.txt'\r\n",
      "warning: no files found matching 'compile/CMakeIntegratedOpenCL.cmake'\r\n",
      "warning: no files found matching '*.so' under directory 'compile'\r\n",
      "warning: no files found matching '*.dll' under directory 'compile/Release'\r\n",
      "warning: no files found matching 'compile/compute/CMakeLists.txt'\r\n",
      "warning: no files found matching '*' under directory 'compile/compute/cmake'\r\n",
      "warning: no files found matching '*' under directory 'compile/compute/include'\r\n",
      "warning: no files found matching '*' under directory 'compile/compute/meta'\r\n",
      "warning: no files found matching 'compile/eigen/CMakeLists.txt'\r\n",
      "warning: no files found matching 'compile/eigen/Eigen/Cholesky'\r\n",
      "warning: no files found matching 'compile/eigen/Eigen/Core'\r\n",
      "warning: no files found matching 'compile/eigen/Eigen/Dense'\r\n",
      "warning: no files found matching 'compile/eigen/Eigen/Eigenvalues'\r\n",
      "warning: no files found matching 'compile/eigen/Eigen/Geometry'\r\n",
      "warning: no files found matching 'compile/eigen/Eigen/Householder'\r\n",
      "warning: no files found matching 'compile/eigen/Eigen/Jacobi'\r\n",
      "warning: no files found matching 'compile/eigen/Eigen/LU'\r\n",
      "warning: no files found matching 'compile/eigen/Eigen/QR'\r\n",
      "warning: no files found matching 'compile/eigen/Eigen/SVD'\r\n",
      "warning: no files found matching '*' under directory 'compile/eigen/Eigen/src/Cholesky'\r\n",
      "warning: no files found matching '*' under directory 'compile/eigen/Eigen/src/Core'\r\n",
      "warning: no files found matching '*' under directory 'compile/eigen/Eigen/src/Eigenvalues'\r\n",
      "warning: no files found matching '*' under directory 'compile/eigen/Eigen/src/Geometry'\r\n",
      "warning: no files found matching '*' under directory 'compile/eigen/Eigen/src/Householder'\r\n",
      "warning: no files found matching '*' under directory 'compile/eigen/Eigen/src/Jacobi'\r\n",
      "warning: no files found matching '*' under directory 'compile/eigen/Eigen/src/LU'\r\n",
      "warning: no files found matching '*' under directory 'compile/eigen/Eigen/src/misc'\r\n",
      "warning: no files found matching '*' under directory 'compile/eigen/Eigen/src/plugins'\r\n",
      "warning: no files found matching '*' under directory 'compile/eigen/Eigen/src/QR'\r\n",
      "warning: no files found matching '*' under directory 'compile/eigen/Eigen/src/SVD'\r\n",
      "warning: no files found matching 'compile/external_libs/fast_double_parser/CMakeLists.txt'\r\n",
      "warning: no files found matching 'compile/external_libs/fast_double_parser/LICENSE'\r\n",
      "warning: no files found matching 'compile/external_libs/fast_double_parser/LICENSE.BSL'\r\n",
      "warning: no files found matching '*' under directory 'compile/external_libs/fast_double_parser/include'\r\n",
      "warning: no files found matching 'compile/external_libs/fmt/CMakeLists.txt'\r\n",
      "warning: no files found matching 'compile/external_libs/fmt/LICENSE.rst'\r\n",
      "warning: no files found matching '*' under directory 'compile/external_libs/fmt/include'\r\n",
      "warning: no files found matching '*' under directory 'compile/include'\r\n",
      "warning: no files found matching '*' under directory 'compile/src'\r\n",
      "warning: no files found matching 'LightGBM.sln' under directory 'compile/windows'\r\n",
      "warning: no files found matching 'LightGBM.vcxproj' under directory 'compile/windows'\r\n",
      "warning: no files found matching '*.dll' under directory 'compile/windows/x64/DLL'\r\n",
      "warning: no previously-included files matching '*.py[co]' found anywhere in distribution\r\n",
      "warning: no previously-included files found matching 'compile/compute/.git'\r\n",
      "writing manifest file 'lightgbm.egg-info/SOURCES.txt'\r\n",
      "copying lightgbm/VERSION.txt -> build/lib/lightgbm\r\n",
      "running install_lib\r\n",
      "copying build/lib/lightgbm/engine.py -> /opt/conda/lib/python3.7/site-packages/lightgbm\r\n",
      "copying build/lib/lightgbm/dask.py -> /opt/conda/lib/python3.7/site-packages/lightgbm\r\n",
      "copying build/lib/lightgbm/compat.py -> /opt/conda/lib/python3.7/site-packages/lightgbm\r\n",
      "copying build/lib/lightgbm/basic.py -> /opt/conda/lib/python3.7/site-packages/lightgbm\r\n",
      "copying build/lib/lightgbm/VERSION.txt -> /opt/conda/lib/python3.7/site-packages/lightgbm\r\n",
      "copying build/lib/lightgbm/sklearn.py -> /opt/conda/lib/python3.7/site-packages/lightgbm\r\n",
      "copying build/lib/lightgbm/plotting.py -> /opt/conda/lib/python3.7/site-packages/lightgbm\r\n",
      "copying build/lib/lightgbm/callback.py -> /opt/conda/lib/python3.7/site-packages/lightgbm\r\n",
      "copying build/lib/lightgbm/__init__.py -> /opt/conda/lib/python3.7/site-packages/lightgbm\r\n",
      "copying build/lib/lightgbm/libpath.py -> /opt/conda/lib/python3.7/site-packages/lightgbm\r\n",
      "copying ../lib_lightgbm.so -> /opt/conda/lib/python3.7/site-packages/lightgbm\r\n",
      "byte-compiling /opt/conda/lib/python3.7/site-packages/lightgbm/engine.py to engine.cpython-37.pyc\r\n",
      "byte-compiling /opt/conda/lib/python3.7/site-packages/lightgbm/dask.py to dask.cpython-37.pyc\r\n",
      "byte-compiling /opt/conda/lib/python3.7/site-packages/lightgbm/compat.py to compat.cpython-37.pyc\r\n",
      "byte-compiling /opt/conda/lib/python3.7/site-packages/lightgbm/basic.py to basic.cpython-37.pyc\r\n",
      "byte-compiling /opt/conda/lib/python3.7/site-packages/lightgbm/sklearn.py to sklearn.cpython-37.pyc\r\n",
      "byte-compiling /opt/conda/lib/python3.7/site-packages/lightgbm/plotting.py to plotting.cpython-37.pyc\r\n",
      "byte-compiling /opt/conda/lib/python3.7/site-packages/lightgbm/callback.py to callback.cpython-37.pyc\r\n",
      "byte-compiling /opt/conda/lib/python3.7/site-packages/lightgbm/__init__.py to __init__.cpython-37.pyc\r\n",
      "byte-compiling /opt/conda/lib/python3.7/site-packages/lightgbm/libpath.py to libpath.cpython-37.pyc\r\n",
      "running install_egg_info\r\n",
      "Copying lightgbm.egg-info to /opt/conda/lib/python3.7/site-packages/lightgbm-3.1.1.99-py3.7.egg-info\r\n",
      "running install_scripts\r\n",
      "CPU times: user 22.8 ms, sys: 9.23 ms, total: 32 ms\n",
      "Wall time: 1.65 s\n"
     ]
    }
   ],
   "source": [
    "%%time\n",
    "!cd LightGBM/python-package/;python3 setup.py install --precompile"
   ]
  },
  {
   "cell_type": "code",
   "execution_count": 5,
   "metadata": {
    "execution": {
     "iopub.execute_input": "2021-01-09T23:13:39.127811Z",
     "iopub.status.busy": "2021-01-09T23:13:39.124497Z",
     "iopub.status.idle": "2021-01-09T23:13:40.578560Z",
     "shell.execute_reply": "2021-01-09T23:13:40.577937Z"
    },
    "papermill": {
     "duration": 1.560995,
     "end_time": "2021-01-09T23:13:40.578667",
     "exception": false,
     "start_time": "2021-01-09T23:13:39.017672",
     "status": "completed"
    },
    "tags": []
   },
   "outputs": [
    {
     "name": "stdout",
     "output_type": "stream",
     "text": [
      "CPU times: user 8.96 ms, sys: 7.18 ms, total: 16.1 ms\n",
      "Wall time: 1.45 s\n"
     ]
    }
   ],
   "source": [
    "%%time\n",
    "!mkdir -p /etc/OpenCL/vendors && echo \"libnvidia-opencl.so.1\" > /etc/OpenCL/vendors/nvidia.icd\n",
    "!rm -r LightGBM"
   ]
  },
  {
   "cell_type": "markdown",
   "metadata": {
    "papermill": {
     "duration": 0.100233,
     "end_time": "2021-01-09T23:13:40.779249",
     "exception": false,
     "start_time": "2021-01-09T23:13:40.679016",
     "status": "completed"
    },
    "tags": []
   },
   "source": [
    "# Required library"
   ]
  },
  {
   "cell_type": "code",
   "execution_count": 6,
   "metadata": {
    "execution": {
     "iopub.execute_input": "2021-01-09T23:13:40.986459Z",
     "iopub.status.busy": "2021-01-09T23:13:40.985654Z",
     "iopub.status.idle": "2021-01-09T23:13:42.977967Z",
     "shell.execute_reply": "2021-01-09T23:13:42.977383Z"
    },
    "papermill": {
     "duration": 2.098081,
     "end_time": "2021-01-09T23:13:42.978095",
     "exception": false,
     "start_time": "2021-01-09T23:13:40.880014",
     "status": "completed"
    },
    "tags": []
   },
   "outputs": [
    {
     "data": {
      "text/html": [
       "<style type='text/css'>\n",
       ".datatable table.frame { margin-bottom: 0; }\n",
       ".datatable table.frame thead { border-bottom: none; }\n",
       ".datatable table.frame tr.coltypes td {  color: #FFFFFF;  line-height: 6px;  padding: 0 0.5em;}\n",
       ".datatable .bool    { background: #DDDD99; }\n",
       ".datatable .object  { background: #565656; }\n",
       ".datatable .int     { background: #5D9E5D; }\n",
       ".datatable .float   { background: #4040CC; }\n",
       ".datatable .str     { background: #CC4040; }\n",
       ".datatable .row_index {  background: var(--jp-border-color3);  border-right: 1px solid var(--jp-border-color0);  color: var(--jp-ui-font-color3);  font-size: 9px;}\n",
       ".datatable .frame tr.coltypes .row_index {  background: var(--jp-border-color0);}\n",
       ".datatable th:nth-child(2) { padding-left: 12px; }\n",
       ".datatable .hellipsis {  color: var(--jp-cell-editor-border-color);}\n",
       ".datatable .vellipsis {  background: var(--jp-layout-color0);  color: var(--jp-cell-editor-border-color);}\n",
       ".datatable .na {  color: var(--jp-cell-editor-border-color);  font-size: 80%;}\n",
       ".datatable .footer { font-size: 9px; }\n",
       ".datatable .frame_dimensions {  background: var(--jp-border-color3);  border-top: 1px solid var(--jp-border-color0);  color: var(--jp-ui-font-color3);  display: inline-block;  opacity: 0.6;  padding: 1px 10px 1px 5px;}\n",
       "</style>\n"
      ],
      "text/plain": [
       "<IPython.core.display.HTML object>"
      ]
     },
     "metadata": {},
     "output_type": "display_data"
    },
    {
     "name": "stdout",
     "output_type": "stream",
     "text": [
      "CPU times: user 709 ms, sys: 161 ms, total: 870 ms\n",
      "Wall time: 1.99 s\n"
     ]
    }
   ],
   "source": [
    "%%time\n",
    "import warnings\n",
    "warnings.filterwarnings('ignore')\n",
    "import pandas as pd\n",
    "import numpy as np\n",
    "import os\n",
    "import random\n",
    "from optuna.samplers import TPESampler\n",
    "import multiprocessing\n",
    "import lightgbm as lgb\n",
    "import optuna\n",
    "from sklearn.model_selection import train_test_split\n",
    "from sklearn.metrics import roc_auc_score\n",
    "import pickle\n",
    "from sklearn.utils import resample"
   ]
  },
  {
   "cell_type": "markdown",
   "metadata": {
    "papermill": {
     "duration": 0.109335,
     "end_time": "2021-01-09T23:13:43.194694",
     "exception": false,
     "start_time": "2021-01-09T23:13:43.085359",
     "status": "completed"
    },
    "tags": []
   },
   "source": [
    "# Initial conditions"
   ]
  },
  {
   "cell_type": "code",
   "execution_count": 7,
   "metadata": {
    "_cell_guid": "79c7e3d0-c299-4dcb-8224-4455121ee9b0",
    "_uuid": "d629ff2d2480ee46fbb7e2d37f6b5fab8052498a",
    "execution": {
     "iopub.execute_input": "2021-01-09T23:13:43.422992Z",
     "iopub.status.busy": "2021-01-09T23:13:43.422139Z",
     "iopub.status.idle": "2021-01-09T23:13:43.426607Z",
     "shell.execute_reply": "2021-01-09T23:13:43.427153Z"
    },
    "papermill": {
     "duration": 0.123946,
     "end_time": "2021-01-09T23:13:43.427283",
     "exception": false,
     "start_time": "2021-01-09T23:13:43.303337",
     "status": "completed"
    },
    "tags": []
   },
   "outputs": [
    {
     "name": "stdout",
     "output_type": "stream",
     "text": [
      "CPU times: user 5 µs, sys: 1 µs, total: 6 µs\n",
      "Wall time: 11.2 µs\n"
     ]
    }
   ],
   "source": [
    "%%time\n",
    "n_trials = int(3)\n",
    "num_boost_round = int(300)\n",
    "early_stopping_rounds = int(30)\n",
    "verbose_eval = int(30)\n",
    "SEED = 2000"
   ]
  },
  {
   "cell_type": "code",
   "execution_count": 8,
   "metadata": {
    "execution": {
     "iopub.execute_input": "2021-01-09T23:13:43.661239Z",
     "iopub.status.busy": "2021-01-09T23:13:43.660456Z",
     "iopub.status.idle": "2021-01-09T23:13:43.664538Z",
     "shell.execute_reply": "2021-01-09T23:13:43.665109Z"
    },
    "papermill": {
     "duration": 0.124624,
     "end_time": "2021-01-09T23:13:43.665242",
     "exception": false,
     "start_time": "2021-01-09T23:13:43.540618",
     "status": "completed"
    },
    "tags": []
   },
   "outputs": [
    {
     "name": "stdout",
     "output_type": "stream",
     "text": [
      "CPU times: user 0 ns, sys: 143 µs, total: 143 µs\n",
      "Wall time: 147 µs\n"
     ]
    }
   ],
   "source": [
    "%%time\n",
    "# Function to seed everything\n",
    "def seed_everything(seed):\n",
    "    random.seed(seed)\n",
    "    np.random.seed(seed)\n",
    "    os.environ['PYTHONHASHSEED'] = str(seed)\n",
    "seed_everything(SEED)"
   ]
  },
  {
   "cell_type": "markdown",
   "metadata": {
    "papermill": {
     "duration": 0.104607,
     "end_time": "2021-01-09T23:13:43.879820",
     "exception": false,
     "start_time": "2021-01-09T23:13:43.775213",
     "status": "completed"
    },
    "tags": []
   },
   "source": [
    "# Preprocess"
   ]
  },
  {
   "cell_type": "code",
   "execution_count": 9,
   "metadata": {
    "execution": {
     "iopub.execute_input": "2021-01-09T23:13:44.111865Z",
     "iopub.status.busy": "2021-01-09T23:13:44.111048Z",
     "iopub.status.idle": "2021-01-09T23:14:23.533562Z",
     "shell.execute_reply": "2021-01-09T23:14:23.534095Z"
    },
    "papermill": {
     "duration": 39.54224,
     "end_time": "2021-01-09T23:14:23.534238",
     "exception": false,
     "start_time": "2021-01-09T23:13:43.991998",
     "status": "completed"
    },
    "tags": []
   },
   "outputs": [
    {
     "name": "stdout",
     "output_type": "stream",
     "text": [
      "CPU times: user 725 ms, sys: 2.87 s, total: 3.59 s\n",
      "Wall time: 39.3 s\n"
     ]
    }
   ],
   "source": [
    "%%time\n",
    "X_train = pd.read_pickle('../input/research-with-customized-sharp-weighted/X_train.pickle')\n",
    "y_train = pd.read_pickle('../input/research-with-customized-sharp-weighted/y_train.pickle')"
   ]
  },
  {
   "cell_type": "markdown",
   "metadata": {
    "papermill": {
     "duration": 0.165255,
     "end_time": "2021-01-09T23:14:23.830967",
     "exception": false,
     "start_time": "2021-01-09T23:14:23.665712",
     "status": "completed"
    },
    "tags": []
   },
   "source": [
    "# [Utility Score](https://www.kaggle.com/satorushibata/optimized-lightgbm-classifier-on-utility-score#Utility-Score)\n",
    "- See also [Approx. Utility score for Regression Objective Fnc](https://www.kaggle.com/anlgrbz/approx-utility-score-for-regress-weighted-traing#Custom-Objective-Function-Implementations-for-LGBM)"
   ]
  },
  {
   "cell_type": "code",
   "execution_count": 10,
   "metadata": {
    "execution": {
     "iopub.execute_input": "2021-01-09T23:14:24.145919Z",
     "iopub.status.busy": "2021-01-09T23:14:24.144980Z",
     "iopub.status.idle": "2021-01-09T23:14:24.151899Z",
     "shell.execute_reply": "2021-01-09T23:14:24.152807Z"
    },
    "papermill": {
     "duration": 0.16865,
     "end_time": "2021-01-09T23:14:24.153022",
     "exception": false,
     "start_time": "2021-01-09T23:14:23.984372",
     "status": "completed"
    },
    "tags": []
   },
   "outputs": [
    {
     "name": "stdout",
     "output_type": "stream",
     "text": [
      "CPU times: user 7 µs, sys: 0 ns, total: 7 µs\n",
      "Wall time: 12.2 µs\n"
     ]
    }
   ],
   "source": [
    "%%time\n",
    "def mse_modified_1(y_pred, y_train):\n",
    "    lmbda = 0.2\n",
    "    days = y_train.get_weight()\n",
    "    y_train = y_train.get_label()\n",
    "    residual = (y_train - y_pred).astype(\"float64\")\n",
    "    signs_matching = (y_train * y_pred) >= 0    \n",
    "    grad = np.where(signs_matching, -2 * residual,  -2 * residual - y_train*lmbda)\n",
    "    hess = np.where(signs_matching, 2 , 2 )\n",
    "    return grad, hess\n",
    "\n",
    "def Eval_mse_modified_1(y_pred, y_train):\n",
    "    lmbda = 0.2\n",
    "    #weight = y_train.get_weight()\n",
    "    y_train = y_train.get_label()\n",
    "    residual = (y_train - y_pred).astype(\"float\")\n",
    "    signs_matching = (y_train * y_pred) >= 0\n",
    "    mse_action_value = np.where(signs_matching,  residual**2, residual**2 - y_train*y_pred*lmbda)\n",
    "    return \"MSE_Modified_1\", np.mean(mse_action_value), False"
   ]
  },
  {
   "cell_type": "markdown",
   "metadata": {
    "papermill": {
     "duration": 0.157244,
     "end_time": "2021-01-09T23:14:24.477304",
     "exception": false,
     "start_time": "2021-01-09T23:14:24.320060",
     "status": "completed"
    },
    "tags": []
   },
   "source": [
    "# [LightGBM Training](https://lightgbm.readthedocs.io/en/latest/pythonapi/lightgbm.train.html) with GPU"
   ]
  },
  {
   "cell_type": "code",
   "execution_count": 11,
   "metadata": {
    "execution": {
     "iopub.execute_input": "2021-01-09T23:14:24.813742Z",
     "iopub.status.busy": "2021-01-09T23:14:24.808537Z",
     "iopub.status.idle": "2021-01-09T23:14:27.973880Z",
     "shell.execute_reply": "2021-01-09T23:14:27.973017Z"
    },
    "papermill": {
     "duration": 3.334459,
     "end_time": "2021-01-09T23:14:27.974012",
     "exception": false,
     "start_time": "2021-01-09T23:14:24.639553",
     "status": "completed"
    },
    "tags": []
   },
   "outputs": [
    {
     "name": "stdout",
     "output_type": "stream",
     "text": [
      "CPU times: user 2.76 s, sys: 396 ms, total: 3.16 s\n",
      "Wall time: 3.17 s\n"
     ]
    }
   ],
   "source": [
    "%%time\n",
    "X_train_adv, X_valid_adv, y_train_adv, y_valid_adv = \\\n",
    "    train_test_split(X_train, y_train, test_size=0.33, random_state=int(SEED), shuffle=True)"
   ]
  },
  {
   "cell_type": "code",
   "execution_count": 12,
   "metadata": {
    "execution": {
     "iopub.execute_input": "2021-01-09T23:14:28.211612Z",
     "iopub.status.busy": "2021-01-09T23:14:28.210800Z",
     "iopub.status.idle": "2021-01-09T23:14:28.215109Z",
     "shell.execute_reply": "2021-01-09T23:14:28.215604Z"
    },
    "papermill": {
     "duration": 0.126039,
     "end_time": "2021-01-09T23:14:28.215726",
     "exception": false,
     "start_time": "2021-01-09T23:14:28.089687",
     "status": "completed"
    },
    "tags": []
   },
   "outputs": [
    {
     "name": "stdout",
     "output_type": "stream",
     "text": [
      "CPU times: user 5 µs, sys: 0 ns, total: 5 µs\n",
      "Wall time: 8.11 µs\n"
     ]
    }
   ],
   "source": [
    "%%time\n",
    "# Make the model of LightGBM and plot results.\n",
    "def LightGBM(params, X_train_adv, X_valid_adv, y_train_adv, y_valid_adv):\n",
    "    # Set data\n",
    "    lgb_train = lgb.Dataset(X_train_adv, y_train_adv)\n",
    "    lgb_valid = lgb.Dataset(X_valid_adv, y_valid_adv, reference = lgb_train)\n",
    "    # Training\n",
    "    model = lgb.train(\n",
    "        params,\n",
    "        lgb_train,\n",
    "        valid_sets = [lgb_train, lgb_valid],\n",
    "        num_boost_round = num_boost_round,\n",
    "        early_stopping_rounds = early_stopping_rounds,\n",
    "        verbose_eval = verbose_eval,\n",
    "        fobj  = mse_modified_1,\n",
    "        feval = Eval_mse_modified_1\n",
    "    )\n",
    "    # Prediction\n",
    "    y_pred = model.predict(X_valid_adv, num_iteration = model.best_iteration)\n",
    "    y_pred_boot = resample(y_pred, n_samples = len(y_train_adv))\n",
    "    # Evaluation\n",
    "    ROC_AUC_Score = roc_auc_score(y_train_adv, y_pred_boot)\n",
    "    print('ROC AUC Score of LightGBM =', ROC_AUC_Score)\n",
    "    return ROC_AUC_Score"
   ]
  },
  {
   "cell_type": "markdown",
   "metadata": {
    "papermill": {
     "duration": 0.189027,
     "end_time": "2021-01-09T23:14:28.608150",
     "exception": false,
     "start_time": "2021-01-09T23:14:28.419123",
     "status": "completed"
    },
    "tags": []
   },
   "source": [
    "# [Optimisation](https://tech.preferred.jp/en/blog/lightgbm-tuner-new-optuna-integration-for-hyperparameter-optimization/)"
   ]
  },
  {
   "cell_type": "code",
   "execution_count": 13,
   "metadata": {
    "execution": {
     "iopub.execute_input": "2021-01-09T23:14:28.987297Z",
     "iopub.status.busy": "2021-01-09T23:14:28.986192Z",
     "iopub.status.idle": "2021-01-09T23:14:28.992608Z",
     "shell.execute_reply": "2021-01-09T23:14:28.993438Z"
    },
    "papermill": {
     "duration": 0.200236,
     "end_time": "2021-01-09T23:14:28.993628",
     "exception": false,
     "start_time": "2021-01-09T23:14:28.793392",
     "status": "completed"
    },
    "tags": []
   },
   "outputs": [
    {
     "name": "stdout",
     "output_type": "stream",
     "text": [
      "CPU times: user 7 µs, sys: 0 ns, total: 7 µs\n",
      "Wall time: 11.7 µs\n"
     ]
    }
   ],
   "source": [
    "%%time\n",
    "def objective(trial):\n",
    "    params = {\n",
    "        'task': 'train',\n",
    "        'objective': 'binary',\n",
    "        'boosting_type': 'gbdt',\n",
    "        'seed': SEED,\n",
    "        'metric': 'AUC',\n",
    "        'importance_type': 'gain',\n",
    "        'lambda_l1': trial.suggest_loguniform('lambda_l1', 0.1, 0.9),\n",
    "        'lambda_l2': trial.suggest_loguniform('lambda_l2', 0.1, 0.9),\n",
    "        'num_leaves': trial.suggest_int('num_leaves', 2, 256),\n",
    "        'feature_fraction': trial.suggest_uniform('feature_fraction', 0.4, 1.0),\n",
    "        'bagging_fraction': trial.suggest_uniform('bagging_fraction', 0.4, 1.0),\n",
    "        'bagging_freq': trial.suggest_int('bagging_freq', 1, 7),\n",
    "        'min_child_samples': trial.suggest_int('min_child_samples', 5, 100),\n",
    "        'learning_rate' :trial.suggest_loguniform('learning_rate', 1e-3, 1e-1),  # An additional item\n",
    "        'verbose': 0,\n",
    "        'num_threads': multiprocessing.cpu_count(),\n",
    "        'device': 'gpu',\n",
    "        'gpu_platform_id': 0,\n",
    "        'gpu_device_id': 0\n",
    "    }\n",
    "    \n",
    "    return LightGBM(params, X_train_adv, X_valid_adv, y_train_adv, y_valid_adv)"
   ]
  },
  {
   "cell_type": "code",
   "execution_count": 14,
   "metadata": {
    "execution": {
     "iopub.execute_input": "2021-01-09T23:14:29.376346Z",
     "iopub.status.busy": "2021-01-09T23:14:29.375443Z",
     "iopub.status.idle": "2021-01-09T23:23:39.551513Z",
     "shell.execute_reply": "2021-01-09T23:23:39.550728Z"
    },
    "papermill": {
     "duration": 550.35676,
     "end_time": "2021-01-09T23:23:39.551652",
     "exception": false,
     "start_time": "2021-01-09T23:14:29.194892",
     "status": "completed"
    },
    "tags": []
   },
   "outputs": [
    {
     "name": "stderr",
     "output_type": "stream",
     "text": [
      "\u001b[32m[I 2021-01-09 23:14:29,373]\u001b[0m A new study created in memory with name: no-name-64faa418-d60d-4348-8ad1-5bc232bd7786\u001b[0m\n"
     ]
    },
    {
     "name": "stdout",
     "output_type": "stream",
     "text": [
      "Training until validation scores don't improve for 30 rounds\n",
      "Training until validation scores don't improve for 30 rounds\n",
      "[30]\ttraining's auc: 0.531935\ttraining's MSE_Modified_1: 0.471598\tvalid_1's auc: 0.529964\tvalid_1's MSE_Modified_1: 0.472164\n",
      "[30]\ttraining's auc: 0.558059\ttraining's MSE_Modified_1: 0.26126\tvalid_1's auc: 0.550707\tvalid_1's MSE_Modified_1: 0.261711\n",
      "[60]\ttraining's auc: 0.532275\ttraining's MSE_Modified_1: 0.443152\tvalid_1's auc: 0.530123\tvalid_1's MSE_Modified_1: 0.443688\n",
      "[60]\ttraining's auc: 0.570289\ttraining's MSE_Modified_1: 0.246958\tvalid_1's auc: 0.558593\tvalid_1's MSE_Modified_1: 0.247615\n",
      "[90]\ttraining's auc: 0.532597\ttraining's MSE_Modified_1: 0.418331\tvalid_1's auc: 0.530403\tvalid_1's MSE_Modified_1: 0.41884\n",
      "[90]\ttraining's auc: 0.582245\ttraining's MSE_Modified_1: 0.245071\tvalid_1's auc: 0.566469\tvalid_1's MSE_Modified_1: 0.246001\n",
      "[120]\ttraining's auc: 0.532809\ttraining's MSE_Modified_1: 0.396682\tvalid_1's auc: 0.530646\tvalid_1's MSE_Modified_1: 0.397165\n",
      "[150]\ttraining's auc: 0.534297\ttraining's MSE_Modified_1: 0.377779\tvalid_1's auc: 0.532105\tvalid_1's MSE_Modified_1: 0.378237\n",
      "[120]\ttraining's auc: 0.592019\ttraining's MSE_Modified_1: 0.244075\tvalid_1's auc: 0.571942\tvalid_1's MSE_Modified_1: 0.245301\n",
      "[180]\ttraining's auc: 0.535336\ttraining's MSE_Modified_1: 0.361291\tvalid_1's auc: 0.533185\tvalid_1's MSE_Modified_1: 0.361725\n",
      "[150]\ttraining's auc: 0.599486\ttraining's MSE_Modified_1: 0.243315\tvalid_1's auc: 0.575055\tvalid_1's MSE_Modified_1: 0.244872\n",
      "[210]\ttraining's auc: 0.535809\ttraining's MSE_Modified_1: 0.346905\tvalid_1's auc: 0.533668\tvalid_1's MSE_Modified_1: 0.347318\n",
      "[180]\ttraining's auc: 0.606663\ttraining's MSE_Modified_1: 0.242551\tvalid_1's auc: 0.578285\tvalid_1's MSE_Modified_1: 0.244421\n",
      "[240]\ttraining's auc: 0.536292\ttraining's MSE_Modified_1: 0.334355\tvalid_1's auc: 0.53412\tvalid_1's MSE_Modified_1: 0.334748\n",
      "[210]\ttraining's auc: 0.613904\ttraining's MSE_Modified_1: 0.241838\tvalid_1's auc: 0.581334\tvalid_1's MSE_Modified_1: 0.244035\n",
      "[270]\ttraining's auc: 0.536685\ttraining's MSE_Modified_1: 0.323398\tvalid_1's auc: 0.534476\tvalid_1's MSE_Modified_1: 0.323774\n",
      "[240]\ttraining's auc: 0.62034\ttraining's MSE_Modified_1: 0.241194\tvalid_1's auc: 0.583576\tvalid_1's MSE_Modified_1: 0.243718\n",
      "[300]\ttraining's auc: 0.537147\ttraining's MSE_Modified_1: 0.313832\tvalid_1's auc: 0.534933\tvalid_1's MSE_Modified_1: 0.314191\n",
      "Did not meet early stopping. Best iteration is:\n",
      "[300]\ttraining's auc: 0.537147\ttraining's MSE_Modified_1: 0.313832\tvalid_1's auc: 0.534933\tvalid_1's MSE_Modified_1: 0.314191\n",
      "[270]\ttraining's auc: 0.626909\ttraining's MSE_Modified_1: 0.240526\tvalid_1's auc: 0.586234\tvalid_1's MSE_Modified_1: 0.243362\n"
     ]
    },
    {
     "name": "stderr",
     "output_type": "stream",
     "text": [
      "\u001b[32m[I 2021-01-09 23:20:09,139]\u001b[0m Trial 0 finished with value: 0.5006588997279999 and parameters: {'lambda_l1': 0.16596310765880176, 'lambda_l2': 0.7014968236195287, 'num_leaves': 24, 'feature_fraction': 0.8612281686109593, 'bagging_fraction': 0.8740167598632683, 'bagging_freq': 4, 'min_child_samples': 38, 'learning_rate': 0.002277832161590344}. Best is trial 0 with value: 0.5006588997279999.\u001b[0m\n"
     ]
    },
    {
     "name": "stdout",
     "output_type": "stream",
     "text": [
      "ROC AUC Score of LightGBM = 0.5006588997279999\n",
      "[300]\ttraining's auc: 0.632565\ttraining's MSE_Modified_1: 0.239827\tvalid_1's auc: 0.588873\tvalid_1's MSE_Modified_1: 0.242957\n",
      "Did not meet early stopping. Best iteration is:\n",
      "[300]\ttraining's auc: 0.632565\ttraining's MSE_Modified_1: 0.239827\tvalid_1's auc: 0.588873\tvalid_1's MSE_Modified_1: 0.242957\n"
     ]
    },
    {
     "name": "stderr",
     "output_type": "stream",
     "text": [
      "\u001b[32m[I 2021-01-09 23:20:55,449]\u001b[0m Trial 1 finished with value: 0.49972937371510107 and parameters: {'lambda_l1': 0.3693474339071541, 'lambda_l2': 0.11610430896144414, 'num_leaves': 67, 'feature_fraction': 0.44850996974606466, 'bagging_fraction': 0.5113115123586354, 'bagging_freq': 6, 'min_child_samples': 74, 'learning_rate': 0.04755150399193334}. Best is trial 0 with value: 0.5006588997279999.\u001b[0m\n"
     ]
    },
    {
     "name": "stdout",
     "output_type": "stream",
     "text": [
      "ROC AUC Score of LightGBM = 0.49972937371510107\n",
      "Training until validation scores don't improve for 30 rounds\n",
      "[30]\ttraining's auc: 0.547703\ttraining's MSE_Modified_1: 0.332735\tvalid_1's auc: 0.543812\tvalid_1's MSE_Modified_1: 0.333171\n",
      "[60]\ttraining's auc: 0.553683\ttraining's MSE_Modified_1: 0.27577\tvalid_1's auc: 0.548125\tvalid_1's MSE_Modified_1: 0.27616\n",
      "[90]\ttraining's auc: 0.558277\ttraining's MSE_Modified_1: 0.25664\tvalid_1's auc: 0.551244\tvalid_1's MSE_Modified_1: 0.257047\n",
      "[120]\ttraining's auc: 0.56319\ttraining's MSE_Modified_1: 0.250032\tvalid_1's auc: 0.554631\tvalid_1's MSE_Modified_1: 0.250494\n",
      "[150]\ttraining's auc: 0.567134\ttraining's MSE_Modified_1: 0.24763\tvalid_1's auc: 0.556985\tvalid_1's MSE_Modified_1: 0.248169\n",
      "[180]\ttraining's auc: 0.571084\ttraining's MSE_Modified_1: 0.246556\tvalid_1's auc: 0.55974\tvalid_1's MSE_Modified_1: 0.24717\n",
      "[210]\ttraining's auc: 0.575084\ttraining's MSE_Modified_1: 0.245944\tvalid_1's auc: 0.562346\tvalid_1's MSE_Modified_1: 0.246646\n",
      "[240]\ttraining's auc: 0.578952\ttraining's MSE_Modified_1: 0.245478\tvalid_1's auc: 0.565134\tvalid_1's MSE_Modified_1: 0.246261\n",
      "[270]\ttraining's auc: 0.582764\ttraining's MSE_Modified_1: 0.245111\tvalid_1's auc: 0.567533\tvalid_1's MSE_Modified_1: 0.245987\n",
      "[300]\ttraining's auc: 0.586342\ttraining's MSE_Modified_1: 0.244748\tvalid_1's auc: 0.569824\tvalid_1's MSE_Modified_1: 0.245715\n",
      "Did not meet early stopping. Best iteration is:\n",
      "[300]\ttraining's auc: 0.586342\ttraining's MSE_Modified_1: 0.244748\tvalid_1's auc: 0.569824\tvalid_1's MSE_Modified_1: 0.245715\n"
     ]
    },
    {
     "name": "stderr",
     "output_type": "stream",
     "text": [
      "\u001b[32m[I 2021-01-09 23:23:39,314]\u001b[0m Trial 2 finished with value: 0.5000911941447237 and parameters: {'lambda_l1': 0.22362622590522555, 'lambda_l2': 0.5911957446525865, 'num_leaves': 53, 'feature_fraction': 0.5741729577906235, 'bagging_fraction': 0.43216525403335093, 'bagging_freq': 2, 'min_child_samples': 49, 'learning_rate': 0.018322486355592714}. Best is trial 0 with value: 0.5006588997279999.\u001b[0m\n"
     ]
    },
    {
     "name": "stdout",
     "output_type": "stream",
     "text": [
      "ROC AUC Score of LightGBM = 0.5000911941447237\n",
      "CPU times: user 14min 41s, sys: 1min 57s, total: 16min 38s\n",
      "Wall time: 9min 10s\n"
     ]
    }
   ],
   "source": [
    "%%time\n",
    "# Optimize Hyperparameters.\n",
    "study = optuna.create_study(direction = 'maximize', sampler = TPESampler(seed=int(SEED)))\n",
    "study.optimize(objective, n_trials = n_trials, n_jobs = multiprocessing.cpu_count(), timeout=60*60*2)"
   ]
  },
  {
   "cell_type": "code",
   "execution_count": 15,
   "metadata": {
    "execution": {
     "iopub.execute_input": "2021-01-09T23:23:39.902212Z",
     "iopub.status.busy": "2021-01-09T23:23:39.901521Z",
     "iopub.status.idle": "2021-01-09T23:23:39.904371Z",
     "shell.execute_reply": "2021-01-09T23:23:39.905479Z"
    },
    "papermill": {
     "duration": 0.170219,
     "end_time": "2021-01-09T23:23:39.905606",
     "exception": false,
     "start_time": "2021-01-09T23:23:39.735387",
     "status": "completed"
    },
    "tags": []
   },
   "outputs": [
    {
     "name": "stdout",
     "output_type": "stream",
     "text": [
      "CPU times: user 0 ns, sys: 779 µs, total: 779 µs\n",
      "Wall time: 623 µs\n"
     ]
    }
   ],
   "source": [
    "%%time\n",
    "# Save\n",
    "pickle.dump(study.best_trial.params, open('LightGBM_Hyperparameter.pickle', 'wb'))"
   ]
  },
  {
   "cell_type": "markdown",
   "metadata": {
    "papermill": {
     "duration": 0.119484,
     "end_time": "2021-01-09T23:23:40.145401",
     "exception": false,
     "start_time": "2021-01-09T23:23:40.025917",
     "status": "completed"
    },
    "tags": []
   },
   "source": [
    "# References:\n",
    "- [LightGBM Tuner: New Optuna Integration for Hyperparameter Optimization](https://tech.preferred.jp/en/blog/lightgbm-tuner-new-optuna-integration-for-hyperparameter-optimization/)\n",
    "- [Optimized LightGBM Classifier on Utility Score](https://www.kaggle.com/satorushibata/optimized-lightgbm-classifier-on-utility-score)\n",
    "- [Research with Customized Sharp Weighted](https://www.kaggle.com/satorushibata/research-with-customized-sharp-weighted)\n",
    "- [GPU-accelerated LightGBM full](https://www.kaggle.com/dromosys/gpu-accelerated-lightgbm-full)\n",
    "- [lightgbm.LGBMModel](https://lightgbm.readthedocs.io/en/latest/pythonapi/lightgbm.LGBMModel.html)"
   ]
  }
 ],
 "metadata": {
  "kernelspec": {
   "display_name": "Python 3",
   "language": "python",
   "name": "python3"
  },
  "language_info": {
   "codemirror_mode": {
    "name": "ipython",
    "version": 3
   },
   "file_extension": ".py",
   "mimetype": "text/x-python",
   "name": "python",
   "nbconvert_exporter": "python",
   "pygments_lexer": "ipython3",
   "version": "3.7.6"
  },
  "papermill": {
   "duration": 945.447182,
   "end_time": "2021-01-09T23:23:41.463802",
   "environment_variables": {},
   "exception": null,
   "input_path": "__notebook__.ipynb",
   "output_path": "__notebook__.ipynb",
   "parameters": {},
   "start_time": "2021-01-09T23:07:56.016620",
   "version": "2.1.0"
  }
 },
 "nbformat": 4,
 "nbformat_minor": 4
}

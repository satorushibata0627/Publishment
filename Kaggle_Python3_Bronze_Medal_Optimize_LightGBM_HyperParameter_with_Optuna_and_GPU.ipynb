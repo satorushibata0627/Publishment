{
 "cells": [
  {
   "cell_type": "markdown",
   "metadata": {
    "papermill": {
     "duration": 0.015394,
     "end_time": "2021-01-03T00:37:32.729932",
     "exception": false,
     "start_time": "2021-01-03T00:37:32.714538",
     "status": "completed"
    },
    "tags": []
   },
   "source": [
    "# Table of Contents:\n",
    "1. [Apply GPU to LightGBM](#1)\n",
    "1. [Required library](#2)\n",
    "1. [Preprocess](#3)\n",
    "1. [Initial conditions](#4)\n",
    "1. [Utility Score](#5)\n",
    "1. [LightGBM Training with GPU](#6)\n",
    "1. [Optimisation](#7)\n",
    "1. [References](#8)"
   ]
  },
  {
   "cell_type": "markdown",
   "metadata": {
    "papermill": {
     "duration": 0.014057,
     "end_time": "2021-01-03T00:37:32.758249",
     "exception": false,
     "start_time": "2021-01-03T00:37:32.744192",
     "status": "completed"
    },
    "tags": []
   },
   "source": [
    "# Apply GPU to LightGBM\n",
    "## See also [GPU-accelerated LightGBM full](https://www.kaggle.com/dromosys/gpu-accelerated-lightgbm-full)\n",
    "### Procedure:\n",
    "1. Change Accelerator to GPU;\n",
    "1. Change Internet to ON;\n",
    "1. Add parameters of LightGBM:\n",
    "    ```\n",
    "    'device': 'gpu',\n",
    "    'gpu_platform_id': 0,\n",
    "    'gpu_device_id': 0\n",
    "    ```\n",
    "1. Run execute the cell below."
   ]
  },
  {
   "cell_type": "code",
   "execution_count": 1,
   "metadata": {
    "execution": {
     "iopub.execute_input": "2021-01-03T00:37:32.795639Z",
     "iopub.status.busy": "2021-01-03T00:37:32.794782Z",
     "iopub.status.idle": "2021-01-03T00:37:56.615492Z",
     "shell.execute_reply": "2021-01-03T00:37:56.615986Z"
    },
    "papermill": {
     "duration": 23.843345,
     "end_time": "2021-01-03T00:37:56.616188",
     "exception": false,
     "start_time": "2021-01-03T00:37:32.772843",
     "status": "completed"
    },
    "tags": []
   },
   "outputs": [
    {
     "name": "stdout",
     "output_type": "stream",
     "text": [
      "rm: cannot remove '/opt/conda/lib/python3.6/site-packages/lightgbm': No such file or directory\r\n",
      "Cloning into 'LightGBM'...\r\n",
      "remote: Enumerating objects: 92, done.\u001b[K\r\n",
      "remote: Counting objects: 100% (92/92), done.\u001b[K\r\n",
      "remote: Compressing objects: 100% (60/60), done.\u001b[K\r\n",
      "remote: Total 20816 (delta 47), reused 54 (delta 31), pack-reused 20724\u001b[K\r\n",
      "Receiving objects: 100% (20816/20816), 16.43 MiB | 21.19 MiB/s, done.\r\n",
      "Resolving deltas: 100% (15173/15173), done.\r\n",
      "Submodule 'include/boost/compute' (https://github.com/boostorg/compute) registered for path 'compute'\r\n",
      "Submodule 'eigen' (https://gitlab.com/libeigen/eigen.git) registered for path 'eigen'\r\n",
      "Submodule 'external_libs/fast_double_parser' (https://github.com/lemire/fast_double_parser.git) registered for path 'external_libs/fast_double_parser'\r\n",
      "Submodule 'external_libs/fmt' (https://github.com/fmtlib/fmt.git) registered for path 'external_libs/fmt'\r\n",
      "Cloning into '/kaggle/working/LightGBM/compute'...\r\n",
      "remote: Enumerating objects: 21728, done.        \r\n",
      "remote: Total 21728 (delta 0), reused 0 (delta 0), pack-reused 21728        \r\n",
      "Receiving objects: 100% (21728/21728), 8.51 MiB | 15.61 MiB/s, done.\r\n",
      "Resolving deltas: 100% (17566/17566), done.\r\n",
      "Cloning into '/kaggle/working/LightGBM/eigen'...\r\n",
      "remote: Enumerating objects: 454, done.        \r\n",
      "remote: Counting objects: 100% (454/454), done.        \r\n",
      "remote: Compressing objects: 100% (172/172), done.        \r\n",
      "remote: Total 107753 (delta 304), reused 415 (delta 281), pack-reused 107299        \r\n",
      "Receiving objects: 100% (107753/107753), 102.02 MiB | 23.27 MiB/s, done.\r\n",
      "Resolving deltas: 100% (88145/88145), done.\r\n",
      "Cloning into '/kaggle/working/LightGBM/external_libs/fast_double_parser'...\r\n",
      "remote: Enumerating objects: 146, done.        \r\n",
      "remote: Counting objects: 100% (146/146), done.        \r\n",
      "remote: Compressing objects: 100% (89/89), done.        \r\n",
      "remote: Total 646 (delta 70), reused 87 (delta 34), pack-reused 500        \r\n",
      "Receiving objects: 100% (646/646), 792.85 KiB | 1.36 MiB/s, done.\r\n",
      "Resolving deltas: 100% (324/324), done.\r\n",
      "Cloning into '/kaggle/working/LightGBM/external_libs/fmt'...\r\n",
      "remote: Enumerating objects: 20, done.        \r\n",
      "remote: Counting objects: 100% (20/20), done.        \r\n",
      "remote: Compressing objects: 100% (14/14), done.        \r\n",
      "remote: Total 24332 (delta 6), reused 10 (delta 3), pack-reused 24312        \r\n",
      "Receiving objects: 100% (24332/24332), 11.99 MiB | 18.89 MiB/s, done.\r\n",
      "Resolving deltas: 100% (16481/16481), done.\r\n",
      "Submodule path 'compute': checked out '36c89134d4013b2e5e45bc55656a18bd6141995a'\r\n",
      "Submodule path 'eigen': checked out '8ba1b0f41a7950dc3e1d4ed75859e36c73311235'\r\n",
      "Submodule path 'external_libs/fast_double_parser': checked out 'ace60646c02dc54c57f19d644e49a61e7e7758ec'\r\n",
      "Submodule 'benchmark/dependencies/abseil-cpp' (https://github.com/abseil/abseil-cpp.git) registered for path 'external_libs/fast_double_parser/benchmarks/dependencies/abseil-cpp'\r\n",
      "Submodule 'benchmark/dependencies/double-conversion' (https://github.com/google/double-conversion.git) registered for path 'external_libs/fast_double_parser/benchmarks/dependencies/double-conversion'\r\n",
      "Cloning into '/kaggle/working/LightGBM/external_libs/fast_double_parser/benchmarks/dependencies/abseil-cpp'...\r\n",
      "remote: Enumerating objects: 44, done.        \r\n",
      "remote: Counting objects: 100% (44/44), done.        \r\n",
      "remote: Compressing objects: 100% (42/42), done.        \r\n",
      "remote: Total 13518 (delta 9), reused 36 (delta 1), pack-reused 13474        \r\n",
      "Receiving objects: 100% (13518/13518), 8.79 MiB | 15.38 MiB/s, done.\r\n",
      "Resolving deltas: 100% (10253/10253), done.\r\n",
      "Cloning into '/kaggle/working/LightGBM/external_libs/fast_double_parser/benchmarks/dependencies/double-conversion'...\r\n",
      "remote: Enumerating objects: 8, done.        \r\n",
      "remote: Counting objects: 100% (8/8), done.        \r\n",
      "remote: Compressing objects: 100% (6/6), done.        \r\n",
      "remote: Total 1164 (delta 2), reused 4 (delta 2), pack-reused 1156        \r\n",
      "Receiving objects: 100% (1164/1164), 7.01 MiB | 12.03 MiB/s, done.\r\n",
      "Resolving deltas: 100% (774/774), done.\r\n",
      "Submodule path 'external_libs/fast_double_parser/benchmarks/dependencies/abseil-cpp': checked out 'd936052d32a5b7ca08b0199a6724724aea432309'\r\n",
      "Submodule path 'external_libs/fast_double_parser/benchmarks/dependencies/double-conversion': checked out 'f4cb2384efa55dee0e6652f8674b05763441ab09'\r\n",
      "Submodule path 'external_libs/fmt': checked out 'cc09f1a6798c085c325569ef466bcdcffdc266d4'\r\n",
      "CPU times: user 559 ms, sys: 166 ms, total: 725 ms\n",
      "Wall time: 23.8 s\n"
     ]
    }
   ],
   "source": [
    "%%time\n",
    "!rm -r /opt/conda/lib/python3.6/site-packages/lightgbm\n",
    "!git clone --recursive https://github.com/Microsoft/LightGBM"
   ]
  },
  {
   "cell_type": "code",
   "execution_count": 2,
   "metadata": {
    "execution": {
     "iopub.execute_input": "2021-01-03T00:37:56.839583Z",
     "iopub.status.busy": "2021-01-03T00:37:56.835361Z",
     "iopub.status.idle": "2021-01-03T00:37:59.439116Z",
     "shell.execute_reply": "2021-01-03T00:37:59.438100Z"
    },
    "papermill": {
     "duration": 2.714921,
     "end_time": "2021-01-03T00:37:59.439253",
     "exception": false,
     "start_time": "2021-01-03T00:37:56.724332",
     "status": "completed"
    },
    "tags": []
   },
   "outputs": [
    {
     "name": "stdout",
     "output_type": "stream",
     "text": [
      "CPU times: user 32.8 ms, sys: 6.99 ms, total: 39.8 ms\n",
      "Wall time: 2.6 s\n"
     ]
    }
   ],
   "source": [
    "%%time\n",
    "!apt-get install -y -qq libboost-all-dev"
   ]
  },
  {
   "cell_type": "code",
   "execution_count": 3,
   "metadata": {
    "execution": {
     "iopub.execute_input": "2021-01-03T00:37:59.663763Z",
     "iopub.status.busy": "2021-01-03T00:37:59.662910Z",
     "iopub.status.idle": "2021-01-03T00:43:12.043283Z",
     "shell.execute_reply": "2021-01-03T00:43:12.040858Z"
    },
    "papermill": {
     "duration": 312.493747,
     "end_time": "2021-01-03T00:43:12.043455",
     "exception": false,
     "start_time": "2021-01-03T00:37:59.549708",
     "status": "completed"
    },
    "tags": []
   },
   "outputs": [
    {
     "name": "stdout",
     "output_type": "stream",
     "text": [
      "-- The C compiler identification is GNU 7.5.0\n",
      "-- The CXX compiler identification is GNU 7.5.0\n",
      "-- Check for working C compiler: /usr/bin/cc\n",
      "-- Check for working C compiler: /usr/bin/cc -- works\n",
      "-- Detecting C compiler ABI info\n",
      "-- Detecting C compiler ABI info - done\n",
      "-- Detecting C compile features\n",
      "-- Detecting C compile features - done\n",
      "-- Check for working CXX compiler: /usr/bin/c++\n",
      "-- Check for working CXX compiler: /usr/bin/c++ -- works\n",
      "-- Detecting CXX compiler ABI info\n",
      "-- Detecting CXX compiler ABI info - done\n",
      "-- Detecting CXX compile features\n",
      "-- Detecting CXX compile features - done\n",
      "-- Found OpenMP_C: -fopenmp (found version \"4.5\") \n",
      "-- Found OpenMP_CXX: -fopenmp (found version \"4.5\") \n",
      "-- Found OpenMP: TRUE (found version \"4.5\")  \n",
      "-- Looking for CL_VERSION_2_2\n",
      "-- Looking for CL_VERSION_2_2 - not found\n",
      "-- Looking for CL_VERSION_2_1\n",
      "-- Looking for CL_VERSION_2_1 - not found\n",
      "-- Looking for CL_VERSION_2_0\n",
      "-- Looking for CL_VERSION_2_0 - not found\n",
      "-- Looking for CL_VERSION_1_2\n",
      "-- Looking for CL_VERSION_1_2 - found\n",
      "-- Found OpenCL: /usr/local/cuda/lib64/libOpenCL.so (found version \"1.2\") \n",
      "-- OpenCL include directory: /usr/local/cuda/include\n",
      "-- Boost 1.56.0 found.\n",
      "-- Found Boost components:\n",
      "   filesystem;system\n",
      "-- Performing Test MM_PREFETCH\n",
      "-- Performing Test MM_PREFETCH - Success\n",
      "-- Using _mm_prefetch\n",
      "-- Performing Test MM_MALLOC\n",
      "-- Performing Test MM_MALLOC - Success\n",
      "-- Using _mm_malloc\n",
      "-- Configuring done\n",
      "-- Generating done\n",
      "-- Build files have been written to: /kaggle/working/LightGBM/build\n",
      "Scanning dependencies of target _lightgbm\n",
      "Scanning dependencies of target lightgbm\n",
      "[  1%] Building CXX object CMakeFiles/_lightgbm.dir/src/boosting/boosting.cpp.o\n",
      "[  2%] Building CXX object CMakeFiles/lightgbm.dir/src/main.cpp.o\n",
      "[  4%] Building CXX object CMakeFiles/lightgbm.dir/src/application/application.cpp.o\n",
      "[  5%] Building CXX object CMakeFiles/_lightgbm.dir/src/boosting/gbdt.cpp.o\n",
      "[  7%] Building CXX object CMakeFiles/lightgbm.dir/src/boosting/boosting.cpp.o\n",
      "[  8%] Building CXX object CMakeFiles/_lightgbm.dir/src/boosting/gbdt_model_text.cpp.o\n",
      "[ 10%] Building CXX object CMakeFiles/lightgbm.dir/src/boosting/gbdt.cpp.o\n",
      "[ 11%] Building CXX object CMakeFiles/_lightgbm.dir/src/boosting/gbdt_prediction.cpp.o\n",
      "[ 13%] Building CXX object CMakeFiles/lightgbm.dir/src/boosting/gbdt_model_text.cpp.o\n",
      "[ 14%] Building CXX object CMakeFiles/_lightgbm.dir/src/boosting/prediction_early_stop.cpp.o\n",
      "[ 15%] Building CXX object CMakeFiles/_lightgbm.dir/src/io/bin.cpp.o\n",
      "[ 17%] Building CXX object CMakeFiles/lightgbm.dir/src/boosting/gbdt_prediction.cpp.o\n",
      "[ 18%] Building CXX object CMakeFiles/lightgbm.dir/src/boosting/prediction_early_stop.cpp.o\n",
      "[ 20%] Building CXX object CMakeFiles/lightgbm.dir/src/io/bin.cpp.o\n",
      "[ 21%] Building CXX object CMakeFiles/_lightgbm.dir/src/io/config.cpp.o\n",
      "[ 23%] Building CXX object CMakeFiles/_lightgbm.dir/src/io/config_auto.cpp.o\n",
      "[ 24%] Building CXX object CMakeFiles/lightgbm.dir/src/io/config.cpp.o\n",
      "[ 26%] Building CXX object CMakeFiles/_lightgbm.dir/src/io/dataset.cpp.o\n",
      "[ 27%] Building CXX object CMakeFiles/lightgbm.dir/src/io/config_auto.cpp.o\n",
      "[ 28%] Building CXX object CMakeFiles/lightgbm.dir/src/io/dataset.cpp.o\n",
      "[ 30%] Building CXX object CMakeFiles/_lightgbm.dir/src/io/dataset_loader.cpp.o\n",
      "[ 31%] Building CXX object CMakeFiles/_lightgbm.dir/src/io/file_io.cpp.o\n",
      "[ 33%] Building CXX object CMakeFiles/lightgbm.dir/src/io/dataset_loader.cpp.o\n",
      "[ 34%] Building CXX object CMakeFiles/_lightgbm.dir/src/io/json11.cpp.o\n",
      "[ 36%] Building CXX object CMakeFiles/_lightgbm.dir/src/io/metadata.cpp.o\n",
      "[ 37%] Building CXX object CMakeFiles/lightgbm.dir/src/io/file_io.cpp.o\n",
      "[ 39%] Building CXX object CMakeFiles/_lightgbm.dir/src/io/parser.cpp.o\n",
      "[ 40%] Building CXX object CMakeFiles/lightgbm.dir/src/io/json11.cpp.o\n",
      "[ 42%] Building CXX object CMakeFiles/_lightgbm.dir/src/io/train_share_states.cpp.o\n",
      "[ 43%] Building CXX object CMakeFiles/lightgbm.dir/src/io/metadata.cpp.o\n",
      "[ 44%] Building CXX object CMakeFiles/_lightgbm.dir/src/io/tree.cpp.o\n",
      "[ 46%] Building CXX object CMakeFiles/lightgbm.dir/src/io/parser.cpp.o\n",
      "[ 47%] Building CXX object CMakeFiles/lightgbm.dir/src/io/train_share_states.cpp.o\n",
      "[ 49%] Building CXX object CMakeFiles/lightgbm.dir/src/io/tree.cpp.o\n",
      "[ 50%] Building CXX object CMakeFiles/_lightgbm.dir/src/metric/dcg_calculator.cpp.o\n",
      "[ 52%] Building CXX object CMakeFiles/_lightgbm.dir/src/metric/metric.cpp.o\n",
      "[ 53%] Building CXX object CMakeFiles/lightgbm.dir/src/metric/dcg_calculator.cpp.o\n",
      "[ 55%] Building CXX object CMakeFiles/lightgbm.dir/src/metric/metric.cpp.o\n",
      "[ 56%] Building CXX object CMakeFiles/_lightgbm.dir/src/objective/objective_function.cpp.o\n",
      "[ 57%] Building CXX object CMakeFiles/lightgbm.dir/src/objective/objective_function.cpp.o\n",
      "[ 59%] Building CXX object CMakeFiles/_lightgbm.dir/src/network/ifaddrs_patch.cpp.o\n",
      "[ 60%] Building CXX object CMakeFiles/_lightgbm.dir/src/network/linker_topo.cpp.o\n",
      "[ 62%] Building CXX object CMakeFiles/_lightgbm.dir/src/network/linkers_mpi.cpp.o\n",
      "[ 63%] Building CXX object CMakeFiles/_lightgbm.dir/src/network/linkers_socket.cpp.o\n",
      "[ 65%] Building CXX object CMakeFiles/_lightgbm.dir/src/network/network.cpp.o\n",
      "[ 66%] Building CXX object CMakeFiles/_lightgbm.dir/src/treelearner/cuda_tree_learner.cpp.o\n",
      "[ 68%] Building CXX object CMakeFiles/_lightgbm.dir/src/treelearner/data_parallel_tree_learner.cpp.o\n",
      "[ 69%] Building CXX object CMakeFiles/lightgbm.dir/src/network/ifaddrs_patch.cpp.o\n",
      "[ 71%] Building CXX object CMakeFiles/lightgbm.dir/src/network/linker_topo.cpp.o\n",
      "[ 72%] Building CXX object CMakeFiles/lightgbm.dir/src/network/linkers_mpi.cpp.o\n",
      "[ 73%] Building CXX object CMakeFiles/lightgbm.dir/src/network/linkers_socket.cpp.o\n",
      "[ 75%] Building CXX object CMakeFiles/lightgbm.dir/src/network/network.cpp.o\n",
      "[ 76%] Building CXX object CMakeFiles/lightgbm.dir/src/treelearner/cuda_tree_learner.cpp.o\n",
      "[ 78%] Building CXX object CMakeFiles/lightgbm.dir/src/treelearner/data_parallel_tree_learner.cpp.o\n",
      "[ 79%] Building CXX object CMakeFiles/_lightgbm.dir/src/treelearner/feature_parallel_tree_learner.cpp.o\n",
      "[ 81%] Building CXX object CMakeFiles/lightgbm.dir/src/treelearner/feature_parallel_tree_learner.cpp.o\n",
      "[ 82%] Building CXX object CMakeFiles/_lightgbm.dir/src/treelearner/gpu_tree_learner.cpp.o\n",
      "[ 84%] Building CXX object CMakeFiles/lightgbm.dir/src/treelearner/gpu_tree_learner.cpp.o\n",
      "[ 85%] Building CXX object CMakeFiles/_lightgbm.dir/src/treelearner/linear_tree_learner.cpp.o\n",
      "[ 86%] Building CXX object CMakeFiles/lightgbm.dir/src/treelearner/linear_tree_learner.cpp.o\n",
      "[ 88%] Building CXX object CMakeFiles/_lightgbm.dir/src/treelearner/serial_tree_learner.cpp.o\n",
      "[ 89%] Building CXX object CMakeFiles/lightgbm.dir/src/treelearner/serial_tree_learner.cpp.o\n",
      "[ 91%] Building CXX object CMakeFiles/_lightgbm.dir/src/treelearner/tree_learner.cpp.o\n",
      "[ 92%] Building CXX object CMakeFiles/lightgbm.dir/src/treelearner/tree_learner.cpp.o\n",
      "[ 94%] Building CXX object CMakeFiles/_lightgbm.dir/src/treelearner/voting_parallel_tree_learner.cpp.o\n",
      "[ 95%] Building CXX object CMakeFiles/lightgbm.dir/src/treelearner/voting_parallel_tree_learner.cpp.o\n",
      "[ 97%] Building CXX object CMakeFiles/_lightgbm.dir/src/c_api.cpp.o\n",
      "[ 98%] Linking CXX executable ../lightgbm\n",
      "[ 98%] Built target lightgbm\n",
      "[100%] Linking CXX shared library ../lib_lightgbm.so\n",
      "[100%] Built target _lightgbm\n"
     ]
    },
    {
     "name": "stderr",
     "output_type": "stream",
     "text": [
      "rm: cannot remove 'build': No such file or directory\n",
      "cmake: /opt/conda/lib/libcurl.so.4: no version information available (required by cmake)\n",
      "/usr/bin/cmake: /opt/conda/lib/libcurl.so.4: no version information available (required by /usr/bin/cmake)\n",
      "/usr/bin/cmake: /opt/conda/lib/libcurl.so.4: no version information available (required by /usr/bin/cmake)\n",
      "/usr/bin/cmake: /opt/conda/lib/libcurl.so.4: no version information available (required by /usr/bin/cmake)\n",
      "/usr/bin/cmake: /opt/conda/lib/libcurl.so.4: no version information available (required by /usr/bin/cmake)\n",
      "/usr/bin/cmake: /opt/conda/lib/libcurl.so.4: no version information available (required by /usr/bin/cmake)\n",
      "/usr/bin/cmake: /opt/conda/lib/libcurl.so.4: no version information available (required by /usr/bin/cmake)\n",
      "/usr/bin/cmake: /opt/conda/lib/libcurl.so.4: no version information available (required by /usr/bin/cmake)\n",
      "/usr/bin/cmake: /opt/conda/lib/libcurl.so.4: no version information available (required by /usr/bin/cmake)\n",
      "/usr/bin/cmake: /opt/conda/lib/libcurl.so.4: no version information available (required by /usr/bin/cmake)\n",
      "/usr/bin/cmake: /opt/conda/lib/libcurl.so.4: no version information available (required by /usr/bin/cmake)\n",
      "/usr/bin/cmake: /opt/conda/lib/libcurl.so.4: no version information available (required by /usr/bin/cmake)\n",
      "/usr/bin/cmake: /opt/conda/lib/libcurl.so.4: no version information available (required by /usr/bin/cmake)\n",
      "/usr/bin/cmake: /opt/conda/lib/libcurl.so.4: no version information available (required by /usr/bin/cmake)\n",
      "/usr/bin/cmake: /opt/conda/lib/libcurl.so.4: no version information available (required by /usr/bin/cmake)\n",
      "/usr/bin/cmake: /opt/conda/lib/libcurl.so.4: no version information available (required by /usr/bin/cmake)\n",
      "/usr/bin/cmake: /opt/conda/lib/libcurl.so.4: no version information available (required by /usr/bin/cmake)\n",
      "/usr/bin/cmake: /opt/conda/lib/libcurl.so.4: no version information available (required by /usr/bin/cmake)\n",
      "/usr/bin/cmake: /opt/conda/lib/libcurl.so.4: no version information available (required by /usr/bin/cmake)\n",
      "/usr/bin/cmake: /opt/conda/lib/libcurl.so.4: no version information available (required by /usr/bin/cmake)\n",
      "/usr/bin/cmake: /opt/conda/lib/libcurl.so.4: no version information available (required by /usr/bin/cmake)\n",
      "/usr/bin/cmake: /opt/conda/lib/libcurl.so.4: no version information available (required by /usr/bin/cmake)\n",
      "/usr/bin/cmake: /opt/conda/lib/libcurl.so.4: no version information available (required by /usr/bin/cmake)\n",
      "/usr/bin/cmake: /opt/conda/lib/libcurl.so.4: no version information available (required by /usr/bin/cmake)\n",
      "/usr/bin/cmake: /opt/conda/lib/libcurl.so.4: no version information available (required by /usr/bin/cmake)\n",
      "/usr/bin/cmake: /opt/conda/lib/libcurl.so.4: no version information available (required by /usr/bin/cmake)\n",
      "/usr/bin/cmake: /opt/conda/lib/libcurl.so.4: no version information available (required by /usr/bin/cmake)\n",
      "/usr/bin/cmake: /opt/conda/lib/libcurl.so.4: no version information available (required by /usr/bin/cmake)\n",
      "/usr/bin/cmake: /opt/conda/lib/libcurl.so.4: no version information available (required by /usr/bin/cmake)\n",
      "/usr/bin/cmake: /opt/conda/lib/libcurl.so.4: no version information available (required by /usr/bin/cmake)\n",
      "/usr/bin/cmake: /opt/conda/lib/libcurl.so.4: no version information available (required by /usr/bin/cmake)\n",
      "/usr/bin/cmake: /opt/conda/lib/libcurl.so.4: no version information available (required by /usr/bin/cmake)\n",
      "/usr/bin/cmake: /opt/conda/lib/libcurl.so.4: no version information available (required by /usr/bin/cmake)\n",
      "/usr/bin/cmake: /opt/conda/lib/libcurl.so.4: no version information available (required by /usr/bin/cmake)\n",
      "/usr/bin/cmake: /opt/conda/lib/libcurl.so.4: no version information available (required by /usr/bin/cmake)\n",
      "/usr/bin/cmake: /opt/conda/lib/libcurl.so.4: no version information available (required by /usr/bin/cmake)\n",
      "/usr/bin/cmake: /opt/conda/lib/libcurl.so.4: no version information available (required by /usr/bin/cmake)\n",
      "/usr/bin/cmake: /opt/conda/lib/libcurl.so.4: no version information available (required by /usr/bin/cmake)\n",
      "/usr/bin/cmake: /opt/conda/lib/libcurl.so.4: no version information available (required by /usr/bin/cmake)\n",
      "/usr/bin/cmake: /opt/conda/lib/libcurl.so.4: no version information available (required by /usr/bin/cmake)\n",
      "/usr/bin/cmake: /opt/conda/lib/libcurl.so.4: no version information available (required by /usr/bin/cmake)\n",
      "/usr/bin/cmake: /opt/conda/lib/libcurl.so.4: no version information available (required by /usr/bin/cmake)\n",
      "/usr/bin/cmake: /opt/conda/lib/libcurl.so.4: no version information available (required by /usr/bin/cmake)\n",
      "/usr/bin/cmake: /opt/conda/lib/libcurl.so.4: no version information available (required by /usr/bin/cmake)\n",
      "/usr/bin/cmake: /opt/conda/lib/libcurl.so.4: no version information available (required by /usr/bin/cmake)\n",
      "/usr/bin/cmake: /opt/conda/lib/libcurl.so.4: no version information available (required by /usr/bin/cmake)\n",
      "/usr/bin/cmake: /opt/conda/lib/libcurl.so.4: no version information available (required by /usr/bin/cmake)\n",
      "/usr/bin/cmake: /opt/conda/lib/libcurl.so.4: no version information available (required by /usr/bin/cmake)\n",
      "/usr/bin/cmake: /opt/conda/lib/libcurl.so.4: no version information available (required by /usr/bin/cmake)\n",
      "/usr/bin/cmake: /opt/conda/lib/libcurl.so.4: no version information available (required by /usr/bin/cmake)\n",
      "/usr/bin/cmake: /opt/conda/lib/libcurl.so.4: no version information available (required by /usr/bin/cmake)\n",
      "/usr/bin/cmake: /opt/conda/lib/libcurl.so.4: no version information available (required by /usr/bin/cmake)\n",
      "/usr/bin/cmake: /opt/conda/lib/libcurl.so.4: no version information available (required by /usr/bin/cmake)\n",
      "/usr/bin/cmake: /opt/conda/lib/libcurl.so.4: no version information available (required by /usr/bin/cmake)\n",
      "/usr/bin/cmake: /opt/conda/lib/libcurl.so.4: no version information available (required by /usr/bin/cmake)\n",
      "/usr/bin/cmake: /opt/conda/lib/libcurl.so.4: no version information available (required by /usr/bin/cmake)\n",
      "/usr/bin/cmake: /opt/conda/lib/libcurl.so.4: no version information available (required by /usr/bin/cmake)\n",
      "/usr/bin/cmake: /opt/conda/lib/libcurl.so.4: no version information available (required by /usr/bin/cmake)\n",
      "/usr/bin/cmake: /opt/conda/lib/libcurl.so.4: no version information available (required by /usr/bin/cmake)\n",
      "/usr/bin/cmake: /opt/conda/lib/libcurl.so.4: no version information available (required by /usr/bin/cmake)\n",
      "/usr/bin/cmake: /opt/conda/lib/libcurl.so.4: no version information available (required by /usr/bin/cmake)\n",
      "/usr/bin/cmake: /opt/conda/lib/libcurl.so.4: no version information available (required by /usr/bin/cmake)\n",
      "/usr/bin/cmake: /opt/conda/lib/libcurl.so.4: no version information available (required by /usr/bin/cmake)\n",
      "/usr/bin/cmake: /opt/conda/lib/libcurl.so.4: no version information available (required by /usr/bin/cmake)\n",
      "/usr/bin/cmake: /opt/conda/lib/libcurl.so.4: no version information available (required by /usr/bin/cmake)\n",
      "/usr/bin/cmake: /opt/conda/lib/libcurl.so.4: no version information available (required by /usr/bin/cmake)\n",
      "/usr/bin/cmake: /opt/conda/lib/libcurl.so.4: no version information available (required by /usr/bin/cmake)\n",
      "/usr/bin/cmake: /opt/conda/lib/libcurl.so.4: no version information available (required by /usr/bin/cmake)\n",
      "/usr/bin/cmake: /opt/conda/lib/libcurl.so.4: no version information available (required by /usr/bin/cmake)\n",
      "/usr/bin/cmake: /opt/conda/lib/libcurl.so.4: no version information available (required by /usr/bin/cmake)\n",
      "/usr/bin/cmake: /opt/conda/lib/libcurl.so.4: no version information available (required by /usr/bin/cmake)\n",
      "/usr/bin/cmake: /opt/conda/lib/libcurl.so.4: no version information available (required by /usr/bin/cmake)\n",
      "/usr/bin/cmake: /opt/conda/lib/libcurl.so.4: no version information available (required by /usr/bin/cmake)\n",
      "/usr/bin/cmake: /opt/conda/lib/libcurl.so.4: no version information available (required by /usr/bin/cmake)\n",
      "/usr/bin/cmake: /opt/conda/lib/libcurl.so.4: no version information available (required by /usr/bin/cmake)\n",
      "/usr/bin/cmake: /opt/conda/lib/libcurl.so.4: no version information available (required by /usr/bin/cmake)\n",
      "/usr/bin/cmake: /opt/conda/lib/libcurl.so.4: no version information available (required by /usr/bin/cmake)\n",
      "/usr/bin/cmake: /opt/conda/lib/libcurl.so.4: no version information available (required by /usr/bin/cmake)\n",
      "/usr/bin/cmake: /opt/conda/lib/libcurl.so.4: no version information available (required by /usr/bin/cmake)\n"
     ]
    },
    {
     "name": "stdout",
     "output_type": "stream",
     "text": [
      "CPU times: user 47.2 ms, sys: 28.9 ms, total: 76.2 ms\n",
      "Wall time: 5min 12s\n"
     ]
    }
   ],
   "source": [
    "%%time\n",
    "%%bash\n",
    "cd LightGBM\n",
    "rm -r build\n",
    "mkdir build\n",
    "cd build\n",
    "cmake -DUSE_GPU=1 -DOpenCL_LIBRARY=/usr/local/cuda/lib64/libOpenCL.so -DOpenCL_INCLUDE_DIR=/usr/local/cuda/include/ ..\n",
    "make -j$(nproc)"
   ]
  },
  {
   "cell_type": "code",
   "execution_count": 4,
   "metadata": {
    "execution": {
     "iopub.execute_input": "2021-01-03T00:43:12.319248Z",
     "iopub.status.busy": "2021-01-03T00:43:12.317999Z",
     "iopub.status.idle": "2021-01-03T00:43:14.017421Z",
     "shell.execute_reply": "2021-01-03T00:43:14.018007Z"
    },
    "papermill": {
     "duration": 1.835447,
     "end_time": "2021-01-03T00:43:14.018185",
     "exception": false,
     "start_time": "2021-01-03T00:43:12.182738",
     "status": "completed"
    },
    "tags": []
   },
   "outputs": [
    {
     "name": "stdout",
     "output_type": "stream",
     "text": [
      "running install\r\n",
      "running build\r\n",
      "running build_py\r\n",
      "creating build\r\n",
      "creating build/lib\r\n",
      "creating build/lib/lightgbm\r\n",
      "copying lightgbm/sklearn.py -> build/lib/lightgbm\r\n",
      "copying lightgbm/compat.py -> build/lib/lightgbm\r\n",
      "copying lightgbm/libpath.py -> build/lib/lightgbm\r\n",
      "copying lightgbm/callback.py -> build/lib/lightgbm\r\n",
      "copying lightgbm/dask.py -> build/lib/lightgbm\r\n",
      "copying lightgbm/engine.py -> build/lib/lightgbm\r\n",
      "copying lightgbm/plotting.py -> build/lib/lightgbm\r\n",
      "copying lightgbm/__init__.py -> build/lib/lightgbm\r\n",
      "copying lightgbm/basic.py -> build/lib/lightgbm\r\n",
      "running egg_info\r\n",
      "creating lightgbm.egg-info\r\n",
      "writing lightgbm.egg-info/PKG-INFO\r\n",
      "writing dependency_links to lightgbm.egg-info/dependency_links.txt\r\n",
      "writing requirements to lightgbm.egg-info/requires.txt\r\n",
      "writing top-level names to lightgbm.egg-info/top_level.txt\r\n",
      "writing manifest file 'lightgbm.egg-info/SOURCES.txt'\r\n",
      "reading manifest template 'MANIFEST.in'\r\n",
      "no previously-included directories found matching 'build'\r\n",
      "warning: no files found matching 'LICENSE'\r\n",
      "warning: no files found matching '*.txt'\r\n",
      "warning: no files found matching '*.so' under directory 'lightgbm'\r\n",
      "warning: no files found matching 'compile/CMakeLists.txt'\r\n",
      "warning: no files found matching 'compile/CMakeIntegratedOpenCL.cmake'\r\n",
      "warning: no files found matching '*.so' under directory 'compile'\r\n",
      "warning: no files found matching '*.dll' under directory 'compile/Release'\r\n",
      "warning: no files found matching 'compile/compute/CMakeLists.txt'\r\n",
      "warning: no files found matching '*' under directory 'compile/compute/cmake'\r\n",
      "warning: no files found matching '*' under directory 'compile/compute/include'\r\n",
      "warning: no files found matching '*' under directory 'compile/compute/meta'\r\n",
      "warning: no files found matching 'compile/eigen/CMakeLists.txt'\r\n",
      "warning: no files found matching 'compile/eigen/Eigen/CMakeLists.txt'\r\n",
      "warning: no files found matching 'compile/eigen/Eigen/Cholesky'\r\n",
      "warning: no files found matching 'compile/eigen/Eigen/Core'\r\n",
      "warning: no files found matching 'compile/eigen/Eigen/Dense'\r\n",
      "warning: no files found matching 'compile/eigen/Eigen/Eigenvalues'\r\n",
      "warning: no files found matching 'compile/eigen/Eigen/Geometry'\r\n",
      "warning: no files found matching 'compile/eigen/Eigen/Householder'\r\n",
      "warning: no files found matching 'compile/eigen/Eigen/Jacobi'\r\n",
      "warning: no files found matching 'compile/eigen/Eigen/LU'\r\n",
      "warning: no files found matching 'compile/eigen/Eigen/QR'\r\n",
      "warning: no files found matching 'compile/eigen/Eigen/SVD'\r\n",
      "warning: no files found matching '*' under directory 'compile/eigen/Eigen/src/Cholesky'\r\n",
      "warning: no files found matching '*' under directory 'compile/eigen/Eigen/src/Core'\r\n",
      "warning: no files found matching '*' under directory 'compile/eigen/Eigen/src/Eigenvalues'\r\n",
      "warning: no files found matching '*' under directory 'compile/eigen/Eigen/src/Geometry'\r\n",
      "warning: no files found matching '*' under directory 'compile/eigen/Eigen/src/Householder'\r\n",
      "warning: no files found matching '*' under directory 'compile/eigen/Eigen/src/Jacobi'\r\n",
      "warning: no files found matching '*' under directory 'compile/eigen/Eigen/src/LU'\r\n",
      "warning: no files found matching '*' under directory 'compile/eigen/Eigen/src/misc'\r\n",
      "warning: no files found matching '*' under directory 'compile/eigen/Eigen/src/plugins'\r\n",
      "warning: no files found matching '*' under directory 'compile/eigen/Eigen/src/QR'\r\n",
      "warning: no files found matching '*' under directory 'compile/eigen/Eigen/src/SVD'\r\n",
      "warning: no files found matching 'compile/external_libs/fast_double_parser/CMakeLists.txt'\r\n",
      "warning: no files found matching 'compile/external_libs/fast_double_parser/LICENSE'\r\n",
      "warning: no files found matching 'compile/external_libs/fast_double_parser/LICENSE.BSL'\r\n",
      "warning: no files found matching '*' under directory 'compile/external_libs/fast_double_parser/include'\r\n",
      "warning: no files found matching 'compile/external_libs/fmt/CMakeLists.txt'\r\n",
      "warning: no files found matching 'compile/external_libs/fmt/LICENSE.rst'\r\n",
      "warning: no files found matching '*' under directory 'compile/external_libs/fmt/include'\r\n",
      "warning: no files found matching '*' under directory 'compile/include'\r\n",
      "warning: no files found matching '*' under directory 'compile/src'\r\n",
      "warning: no files found matching 'LightGBM.sln' under directory 'compile/windows'\r\n",
      "warning: no files found matching 'LightGBM.vcxproj' under directory 'compile/windows'\r\n",
      "warning: no files found matching '*.dll' under directory 'compile/windows/x64/DLL'\r\n",
      "warning: no previously-included files matching '*.py[co]' found anywhere in distribution\r\n",
      "warning: no previously-included files found matching 'compile/compute/.git'\r\n",
      "writing manifest file 'lightgbm.egg-info/SOURCES.txt'\r\n",
      "copying lightgbm/VERSION.txt -> build/lib/lightgbm\r\n",
      "running install_lib\r\n",
      "copying build/lib/lightgbm/sklearn.py -> /opt/conda/lib/python3.7/site-packages/lightgbm\r\n",
      "copying build/lib/lightgbm/compat.py -> /opt/conda/lib/python3.7/site-packages/lightgbm\r\n",
      "copying build/lib/lightgbm/libpath.py -> /opt/conda/lib/python3.7/site-packages/lightgbm\r\n",
      "copying build/lib/lightgbm/callback.py -> /opt/conda/lib/python3.7/site-packages/lightgbm\r\n",
      "copying build/lib/lightgbm/VERSION.txt -> /opt/conda/lib/python3.7/site-packages/lightgbm\r\n",
      "copying build/lib/lightgbm/dask.py -> /opt/conda/lib/python3.7/site-packages/lightgbm\r\n",
      "copying build/lib/lightgbm/engine.py -> /opt/conda/lib/python3.7/site-packages/lightgbm\r\n",
      "copying build/lib/lightgbm/plotting.py -> /opt/conda/lib/python3.7/site-packages/lightgbm\r\n",
      "copying build/lib/lightgbm/__init__.py -> /opt/conda/lib/python3.7/site-packages/lightgbm\r\n",
      "copying build/lib/lightgbm/basic.py -> /opt/conda/lib/python3.7/site-packages/lightgbm\r\n",
      "copying ../lib_lightgbm.so -> /opt/conda/lib/python3.7/site-packages/lightgbm\r\n",
      "byte-compiling /opt/conda/lib/python3.7/site-packages/lightgbm/sklearn.py to sklearn.cpython-37.pyc\r\n",
      "byte-compiling /opt/conda/lib/python3.7/site-packages/lightgbm/compat.py to compat.cpython-37.pyc\r\n",
      "byte-compiling /opt/conda/lib/python3.7/site-packages/lightgbm/libpath.py to libpath.cpython-37.pyc\r\n",
      "byte-compiling /opt/conda/lib/python3.7/site-packages/lightgbm/callback.py to callback.cpython-37.pyc\r\n",
      "byte-compiling /opt/conda/lib/python3.7/site-packages/lightgbm/dask.py to dask.cpython-37.pyc\r\n",
      "byte-compiling /opt/conda/lib/python3.7/site-packages/lightgbm/engine.py to engine.cpython-37.pyc\r\n",
      "byte-compiling /opt/conda/lib/python3.7/site-packages/lightgbm/plotting.py to plotting.cpython-37.pyc\r\n",
      "byte-compiling /opt/conda/lib/python3.7/site-packages/lightgbm/__init__.py to __init__.cpython-37.pyc\r\n",
      "byte-compiling /opt/conda/lib/python3.7/site-packages/lightgbm/basic.py to basic.cpython-37.pyc\r\n",
      "running install_egg_info\r\n",
      "Copying lightgbm.egg-info to /opt/conda/lib/python3.7/site-packages/lightgbm-3.1.1.99-py3.7.egg-info\r\n",
      "running install_scripts\r\n",
      "CPU times: user 26.7 ms, sys: 8.79 ms, total: 35.5 ms\n",
      "Wall time: 1.7 s\n"
     ]
    }
   ],
   "source": [
    "%%time\n",
    "!cd LightGBM/python-package/;python3 setup.py install --precompile"
   ]
  },
  {
   "cell_type": "code",
   "execution_count": 5,
   "metadata": {
    "execution": {
     "iopub.execute_input": "2021-01-03T00:43:14.249692Z",
     "iopub.status.busy": "2021-01-03T00:43:14.248820Z",
     "iopub.status.idle": "2021-01-03T00:43:15.824037Z",
     "shell.execute_reply": "2021-01-03T00:43:15.823475Z"
    },
    "papermill": {
     "duration": 1.693799,
     "end_time": "2021-01-03T00:43:15.824201",
     "exception": false,
     "start_time": "2021-01-03T00:43:14.130402",
     "status": "completed"
    },
    "tags": []
   },
   "outputs": [
    {
     "name": "stdout",
     "output_type": "stream",
     "text": [
      "CPU times: user 8.92 ms, sys: 6.94 ms, total: 15.9 ms\n",
      "Wall time: 1.57 s\n"
     ]
    }
   ],
   "source": [
    "%%time\n",
    "!mkdir -p /etc/OpenCL/vendors && echo \"libnvidia-opencl.so.1\" > /etc/OpenCL/vendors/nvidia.icd\n",
    "!rm -r LightGBM"
   ]
  },
  {
   "cell_type": "markdown",
   "metadata": {
    "papermill": {
     "duration": 0.120312,
     "end_time": "2021-01-03T00:43:16.065874",
     "exception": false,
     "start_time": "2021-01-03T00:43:15.945562",
     "status": "completed"
    },
    "tags": []
   },
   "source": [
    "# Required library"
   ]
  },
  {
   "cell_type": "code",
   "execution_count": 6,
   "metadata": {
    "execution": {
     "iopub.execute_input": "2021-01-03T00:43:16.306771Z",
     "iopub.status.busy": "2021-01-03T00:43:16.305757Z",
     "iopub.status.idle": "2021-01-03T00:43:18.052030Z",
     "shell.execute_reply": "2021-01-03T00:43:18.051473Z"
    },
    "papermill": {
     "duration": 1.868712,
     "end_time": "2021-01-03T00:43:18.052185",
     "exception": false,
     "start_time": "2021-01-03T00:43:16.183473",
     "status": "completed"
    },
    "tags": []
   },
   "outputs": [
    {
     "data": {
      "text/html": [
       "<style type='text/css'>\n",
       ".datatable table.frame { margin-bottom: 0; }\n",
       ".datatable table.frame thead { border-bottom: none; }\n",
       ".datatable table.frame tr.coltypes td {  color: #FFFFFF;  line-height: 6px;  padding: 0 0.5em;}\n",
       ".datatable .bool    { background: #DDDD99; }\n",
       ".datatable .object  { background: #565656; }\n",
       ".datatable .int     { background: #5D9E5D; }\n",
       ".datatable .float   { background: #4040CC; }\n",
       ".datatable .str     { background: #CC4040; }\n",
       ".datatable .row_index {  background: var(--jp-border-color3);  border-right: 1px solid var(--jp-border-color0);  color: var(--jp-ui-font-color3);  font-size: 9px;}\n",
       ".datatable .frame tr.coltypes .row_index {  background: var(--jp-border-color0);}\n",
       ".datatable th:nth-child(2) { padding-left: 12px; }\n",
       ".datatable .hellipsis {  color: var(--jp-cell-editor-border-color);}\n",
       ".datatable .vellipsis {  background: var(--jp-layout-color0);  color: var(--jp-cell-editor-border-color);}\n",
       ".datatable .na {  color: var(--jp-cell-editor-border-color);  font-size: 80%;}\n",
       ".datatable .footer { font-size: 9px; }\n",
       ".datatable .frame_dimensions {  background: var(--jp-border-color3);  border-top: 1px solid var(--jp-border-color0);  color: var(--jp-ui-font-color3);  display: inline-block;  opacity: 0.6;  padding: 1px 10px 1px 5px;}\n",
       "</style>\n"
      ],
      "text/plain": [
       "<IPython.core.display.HTML object>"
      ]
     },
     "metadata": {},
     "output_type": "display_data"
    },
    {
     "name": "stdout",
     "output_type": "stream",
     "text": [
      "CPU times: user 712 ms, sys: 151 ms, total: 863 ms\n",
      "Wall time: 1.74 s\n"
     ]
    }
   ],
   "source": [
    "%%time\n",
    "import warnings\n",
    "warnings.filterwarnings('ignore')\n",
    "import pandas as pd\n",
    "import numpy as np\n",
    "import os\n",
    "import random\n",
    "from optuna.samplers import TPESampler\n",
    "import multiprocessing\n",
    "import lightgbm as lgb\n",
    "import optuna\n",
    "from sklearn.model_selection import train_test_split\n",
    "from sklearn.metrics import roc_auc_score\n",
    "import pickle\n",
    "from sklearn.utils import resample"
   ]
  },
  {
   "cell_type": "markdown",
   "metadata": {
    "papermill": {
     "duration": 0.115131,
     "end_time": "2021-01-03T00:43:18.283612",
     "exception": false,
     "start_time": "2021-01-03T00:43:18.168481",
     "status": "completed"
    },
    "tags": []
   },
   "source": [
    "# Initial conditions"
   ]
  },
  {
   "cell_type": "code",
   "execution_count": 7,
   "metadata": {
    "_cell_guid": "79c7e3d0-c299-4dcb-8224-4455121ee9b0",
    "_uuid": "d629ff2d2480ee46fbb7e2d37f6b5fab8052498a",
    "execution": {
     "iopub.execute_input": "2021-01-03T00:43:18.513654Z",
     "iopub.status.busy": "2021-01-03T00:43:18.512804Z",
     "iopub.status.idle": "2021-01-03T00:43:18.517780Z",
     "shell.execute_reply": "2021-01-03T00:43:18.518338Z"
    },
    "papermill": {
     "duration": 0.123835,
     "end_time": "2021-01-03T00:43:18.518480",
     "exception": false,
     "start_time": "2021-01-03T00:43:18.394645",
     "status": "completed"
    },
    "tags": []
   },
   "outputs": [
    {
     "name": "stdout",
     "output_type": "stream",
     "text": [
      "CPU times: user 5 µs, sys: 1 µs, total: 6 µs\n",
      "Wall time: 10.3 µs\n"
     ]
    }
   ],
   "source": [
    "%%time\n",
    "n_trials = int(3)\n",
    "num_boost_round = int(300)\n",
    "early_stopping_rounds = int(30)\n",
    "verbose_eval = int(30)\n",
    "SEED = 2000"
   ]
  },
  {
   "cell_type": "code",
   "execution_count": 8,
   "metadata": {
    "execution": {
     "iopub.execute_input": "2021-01-03T00:43:18.778719Z",
     "iopub.status.busy": "2021-01-03T00:43:18.777380Z",
     "iopub.status.idle": "2021-01-03T00:43:18.799500Z",
     "shell.execute_reply": "2021-01-03T00:43:18.800326Z"
    },
    "papermill": {
     "duration": 0.168446,
     "end_time": "2021-01-03T00:43:18.800531",
     "exception": false,
     "start_time": "2021-01-03T00:43:18.632085",
     "status": "completed"
    },
    "tags": []
   },
   "outputs": [
    {
     "name": "stdout",
     "output_type": "stream",
     "text": [
      "CPU times: user 137 µs, sys: 27 µs, total: 164 µs\n",
      "Wall time: 169 µs\n"
     ]
    }
   ],
   "source": [
    "%%time\n",
    "# Function to seed everything\n",
    "def seed_everything(seed):\n",
    "    random.seed(seed)\n",
    "    np.random.seed(seed)\n",
    "    os.environ['PYTHONHASHSEED'] = str(seed)\n",
    "seed_everything(SEED)"
   ]
  },
  {
   "cell_type": "markdown",
   "metadata": {
    "papermill": {
     "duration": 0.164529,
     "end_time": "2021-01-03T00:43:19.169176",
     "exception": false,
     "start_time": "2021-01-03T00:43:19.004647",
     "status": "completed"
    },
    "tags": []
   },
   "source": [
    "# Preprocess"
   ]
  },
  {
   "cell_type": "code",
   "execution_count": 9,
   "metadata": {
    "execution": {
     "iopub.execute_input": "2021-01-03T00:43:19.564503Z",
     "iopub.status.busy": "2021-01-03T00:43:19.563577Z",
     "iopub.status.idle": "2021-01-03T00:43:46.317733Z",
     "shell.execute_reply": "2021-01-03T00:43:46.318333Z"
    },
    "papermill": {
     "duration": 26.977382,
     "end_time": "2021-01-03T00:43:46.318483",
     "exception": false,
     "start_time": "2021-01-03T00:43:19.341101",
     "status": "completed"
    },
    "tags": []
   },
   "outputs": [
    {
     "name": "stdout",
     "output_type": "stream",
     "text": [
      "CPU times: user 819 ms, sys: 2.89 s, total: 3.71 s\n",
      "Wall time: 26.7 s\n"
     ]
    }
   ],
   "source": [
    "%%time\n",
    "X_train = pd.read_pickle('../input/research-with-customized-sharp-weighted/X_train.pickle')\n",
    "y_train = pd.read_pickle('../input/research-with-customized-sharp-weighted/y_train.pickle')"
   ]
  },
  {
   "cell_type": "markdown",
   "metadata": {
    "papermill": {
     "duration": 0.121986,
     "end_time": "2021-01-03T00:43:46.563575",
     "exception": false,
     "start_time": "2021-01-03T00:43:46.441589",
     "status": "completed"
    },
    "tags": []
   },
   "source": [
    "# [Utility Score](https://www.kaggle.com/satorushibata/optimized-lightgbm-classifier-on-utility-score#Utility-Score)\n",
    "- See also [Approx. Utility score for Regression Objective Fnc](https://www.kaggle.com/anlgrbz/approx-utility-score-for-regress-weighted-traing#Custom-Objective-Function-Implementations-for-LGBM)"
   ]
  },
  {
   "cell_type": "code",
   "execution_count": 10,
   "metadata": {
    "execution": {
     "iopub.execute_input": "2021-01-03T00:43:46.819524Z",
     "iopub.status.busy": "2021-01-03T00:43:46.818654Z",
     "iopub.status.idle": "2021-01-03T00:43:46.823013Z",
     "shell.execute_reply": "2021-01-03T00:43:46.823525Z"
    },
    "papermill": {
     "duration": 0.135662,
     "end_time": "2021-01-03T00:43:46.823701",
     "exception": false,
     "start_time": "2021-01-03T00:43:46.688039",
     "status": "completed"
    },
    "tags": []
   },
   "outputs": [
    {
     "name": "stdout",
     "output_type": "stream",
     "text": [
      "CPU times: user 5 µs, sys: 0 ns, total: 5 µs\n",
      "Wall time: 8.34 µs\n"
     ]
    }
   ],
   "source": [
    "%%time\n",
    "def mse_modified_1(y_pred, y_train):\n",
    "    lmbda = 0.2\n",
    "    days = y_train.get_weight()\n",
    "    y_train = y_train.get_label()\n",
    "    residual = (y_train - y_pred).astype(\"float64\")\n",
    "    signs_matching = (y_train * y_pred) >= 0    \n",
    "    grad = np.where(signs_matching, -2 * residual,  -2 * residual - y_train*lmbda)\n",
    "    hess = np.where(signs_matching, 2 , 2 )\n",
    "    return grad, hess\n",
    "\n",
    "def Eval_mse_modified_1(y_pred, y_train):\n",
    "    lmbda = 0.2\n",
    "    #weight = y_train.get_weight()\n",
    "    y_train = y_train.get_label()\n",
    "    residual = (y_train - y_pred).astype(\"float\")\n",
    "    signs_matching = (y_train * y_pred) >= 0\n",
    "    mse_action_value = np.where(signs_matching,  residual**2, residual**2 - y_train*y_pred*lmbda)\n",
    "    return \"MSE_Modified_1\", np.mean(mse_action_value), False"
   ]
  },
  {
   "cell_type": "markdown",
   "metadata": {
    "papermill": {
     "duration": 0.119544,
     "end_time": "2021-01-03T00:43:47.062665",
     "exception": false,
     "start_time": "2021-01-03T00:43:46.943121",
     "status": "completed"
    },
    "tags": []
   },
   "source": [
    "# [LightGBM Training](https://lightgbm.readthedocs.io/en/latest/pythonapi/lightgbm.train.html) with GPU"
   ]
  },
  {
   "cell_type": "code",
   "execution_count": 11,
   "metadata": {
    "execution": {
     "iopub.execute_input": "2021-01-03T00:43:47.323314Z",
     "iopub.status.busy": "2021-01-03T00:43:47.322089Z",
     "iopub.status.idle": "2021-01-03T00:43:50.629198Z",
     "shell.execute_reply": "2021-01-03T00:43:50.628651Z"
    },
    "papermill": {
     "duration": 3.440589,
     "end_time": "2021-01-03T00:43:50.629320",
     "exception": false,
     "start_time": "2021-01-03T00:43:47.188731",
     "status": "completed"
    },
    "tags": []
   },
   "outputs": [
    {
     "name": "stdout",
     "output_type": "stream",
     "text": [
      "CPU times: user 2.94 s, sys: 369 ms, total: 3.3 s\n",
      "Wall time: 3.31 s\n"
     ]
    }
   ],
   "source": [
    "%%time\n",
    "X_train_adv, X_valid_adv, y_train_adv, y_valid_adv = \\\n",
    "    train_test_split(X_train, y_train, test_size=0.33, random_state=int(SEED), shuffle=True)"
   ]
  },
  {
   "cell_type": "code",
   "execution_count": 12,
   "metadata": {
    "execution": {
     "iopub.execute_input": "2021-01-03T00:43:50.894149Z",
     "iopub.status.busy": "2021-01-03T00:43:50.893336Z",
     "iopub.status.idle": "2021-01-03T00:43:50.898956Z",
     "shell.execute_reply": "2021-01-03T00:43:50.899749Z"
    },
    "papermill": {
     "duration": 0.139449,
     "end_time": "2021-01-03T00:43:50.899895",
     "exception": false,
     "start_time": "2021-01-03T00:43:50.760446",
     "status": "completed"
    },
    "tags": []
   },
   "outputs": [
    {
     "name": "stdout",
     "output_type": "stream",
     "text": [
      "CPU times: user 3 µs, sys: 2 µs, total: 5 µs\n",
      "Wall time: 8.58 µs\n"
     ]
    }
   ],
   "source": [
    "%%time\n",
    "# Make the model of LightGBM and plot results.\n",
    "def LightGBM(params, X_train_adv, X_valid_adv, y_train_adv, y_valid_adv):\n",
    "    # Set data\n",
    "    lgb_train = lgb.Dataset(X_train_adv, y_train_adv)\n",
    "    lgb_valid = lgb.Dataset(X_valid_adv, y_valid_adv, reference = lgb_train)\n",
    "    # Training\n",
    "    model = lgb.train(\n",
    "        params,\n",
    "        lgb_train,\n",
    "        valid_sets = [lgb_train, lgb_valid],\n",
    "        num_boost_round = num_boost_round,\n",
    "        early_stopping_rounds = early_stopping_rounds,\n",
    "        verbose_eval = verbose_eval,\n",
    "        fobj  = mse_modified_1,\n",
    "        feval = Eval_mse_modified_1\n",
    "    )\n",
    "    # Prediction\n",
    "    y_pred = model.predict(X_valid_adv, num_iteration = model.best_iteration)\n",
    "    y_pred_boot = resample(y_pred, n_samples = len(y_train_adv))\n",
    "    # Evaluation\n",
    "    ROC_AUC_Score = roc_auc_score(y_train_adv, y_pred_boot)\n",
    "    print('ROC AUC Score of LightGBM =', ROC_AUC_Score)\n",
    "    return ROC_AUC_Score"
   ]
  },
  {
   "cell_type": "markdown",
   "metadata": {
    "papermill": {
     "duration": 0.118138,
     "end_time": "2021-01-03T00:43:51.139357",
     "exception": false,
     "start_time": "2021-01-03T00:43:51.021219",
     "status": "completed"
    },
    "tags": []
   },
   "source": [
    "# [Optimisation](https://tech.preferred.jp/en/blog/lightgbm-tuner-new-optuna-integration-for-hyperparameter-optimization/)"
   ]
  },
  {
   "cell_type": "code",
   "execution_count": 13,
   "metadata": {
    "execution": {
     "iopub.execute_input": "2021-01-03T00:43:51.384107Z",
     "iopub.status.busy": "2021-01-03T00:43:51.383324Z",
     "iopub.status.idle": "2021-01-03T00:43:51.388122Z",
     "shell.execute_reply": "2021-01-03T00:43:51.388703Z"
    },
    "papermill": {
     "duration": 0.13038,
     "end_time": "2021-01-03T00:43:51.388834",
     "exception": false,
     "start_time": "2021-01-03T00:43:51.258454",
     "status": "completed"
    },
    "tags": []
   },
   "outputs": [
    {
     "name": "stdout",
     "output_type": "stream",
     "text": [
      "CPU times: user 4 µs, sys: 0 ns, total: 4 µs\n",
      "Wall time: 7.39 µs\n"
     ]
    }
   ],
   "source": [
    "%%time\n",
    "def objective(trial):\n",
    "    params = {\n",
    "        'task': 'train',\n",
    "        'objective': 'binary',\n",
    "        'boosting_type': 'gbdt',\n",
    "        'seed': SEED,\n",
    "        'metric': 'AUC',\n",
    "        'importance_type': 'gain',\n",
    "        'lambda_l1': trial.suggest_loguniform('lambda_l1', 0.1, 0.9),\n",
    "        'lambda_l2': trial.suggest_loguniform('lambda_l2', 0.1, 0.9),\n",
    "        'num_leaves': trial.suggest_int('num_leaves', 2, 256),\n",
    "        'feature_fraction': trial.suggest_uniform('feature_fraction', 0.4, 1.0),\n",
    "        'bagging_fraction': trial.suggest_uniform('bagging_fraction', 0.4, 1.0),\n",
    "        'bagging_freq': trial.suggest_int('bagging_freq', 1, 7),\n",
    "        'min_child_samples': trial.suggest_int('min_child_samples', 5, 100),\n",
    "        'verbose': 0,\n",
    "        'num_threads': multiprocessing.cpu_count(),\n",
    "        'device': 'gpu',\n",
    "        'gpu_platform_id': 0,\n",
    "        'gpu_device_id': 0\n",
    "    }\n",
    "    \n",
    "    return LightGBM(params, X_train_adv, X_valid_adv, y_train_adv, y_valid_adv)"
   ]
  },
  {
   "cell_type": "code",
   "execution_count": 14,
   "metadata": {
    "execution": {
     "iopub.execute_input": "2021-01-03T00:43:51.679632Z",
     "iopub.status.busy": "2021-01-03T00:43:51.676548Z",
     "iopub.status.idle": "2021-01-03T00:54:50.445873Z",
     "shell.execute_reply": "2021-01-03T00:54:50.446400Z"
    },
    "papermill": {
     "duration": 658.935228,
     "end_time": "2021-01-03T00:54:50.446550",
     "exception": false,
     "start_time": "2021-01-03T00:43:51.511322",
     "status": "completed"
    },
    "tags": []
   },
   "outputs": [
    {
     "name": "stderr",
     "output_type": "stream",
     "text": [
      "\u001b[32m[I 2021-01-03 00:43:51,674]\u001b[0m A new study created in memory with name: no-name-1330de3c-5193-4251-8bc7-1cfe975f5f93\u001b[0m\n"
     ]
    },
    {
     "name": "stdout",
     "output_type": "stream",
     "text": [
      "Training until validation scores don't improve for 30 rounds\n",
      "Training until validation scores don't improve for 30 rounds\n",
      "[30]\ttraining's auc: 0.617354\ttraining's MSE_Modified_1: 0.241895\tvalid_1's auc: 0.584778\tvalid_1's MSE_Modified_1: 0.244105\n",
      "[30]\ttraining's auc: 0.627747\ttraining's MSE_Modified_1: 0.240572\tvalid_1's auc: 0.595595\tvalid_1's MSE_Modified_1: 0.242909\n",
      "[60]\ttraining's auc: 0.657617\ttraining's MSE_Modified_1: 0.236449\tvalid_1's auc: 0.601122\tvalid_1's MSE_Modified_1: 0.240917\n",
      "[60]\ttraining's auc: 0.670702\ttraining's MSE_Modified_1: 0.234784\tvalid_1's auc: 0.612927\tvalid_1's MSE_Modified_1: 0.239551\n",
      "[90]\ttraining's auc: 0.688369\ttraining's MSE_Modified_1: 0.232513\tvalid_1's auc: 0.610426\tvalid_1's MSE_Modified_1: 0.239309\n",
      "[90]\ttraining's auc: 0.702956\ttraining's MSE_Modified_1: 0.230651\tvalid_1's auc: 0.62194\tvalid_1's MSE_Modified_1: 0.237899\n",
      "[120]\ttraining's auc: 0.713222\ttraining's MSE_Modified_1: 0.229081\tvalid_1's auc: 0.616837\tvalid_1's MSE_Modified_1: 0.238136\n",
      "[120]\ttraining's auc: 0.728182\ttraining's MSE_Modified_1: 0.226937\tvalid_1's auc: 0.627962\tvalid_1's MSE_Modified_1: 0.236588\n",
      "[150]\ttraining's auc: 0.735489\ttraining's MSE_Modified_1: 0.225774\tvalid_1's auc: 0.621965\tvalid_1's MSE_Modified_1: 0.237131\n",
      "[150]\ttraining's auc: 0.752001\ttraining's MSE_Modified_1: 0.223489\tvalid_1's auc: 0.632287\tvalid_1's MSE_Modified_1: 0.235643\n",
      "[180]\ttraining's auc: 0.754223\ttraining's MSE_Modified_1: 0.222904\tvalid_1's auc: 0.62439\tvalid_1's MSE_Modified_1: 0.236553\n",
      "[180]\ttraining's auc: 0.770651\ttraining's MSE_Modified_1: 0.220466\tvalid_1's auc: 0.634491\tvalid_1's MSE_Modified_1: 0.234989\n",
      "[210]\ttraining's auc: 0.770911\ttraining's MSE_Modified_1: 0.220109\tvalid_1's auc: 0.625853\tvalid_1's MSE_Modified_1: 0.236108\n",
      "[210]\ttraining's auc: 0.789726\ttraining's MSE_Modified_1: 0.217116\tvalid_1's auc: 0.638928\tvalid_1's MSE_Modified_1: 0.234074\n",
      "[240]\ttraining's auc: 0.786053\ttraining's MSE_Modified_1: 0.217473\tvalid_1's auc: 0.627197\tvalid_1's MSE_Modified_1: 0.235769\n",
      "[240]\ttraining's auc: 0.805205\ttraining's MSE_Modified_1: 0.214281\tvalid_1's auc: 0.64003\tvalid_1's MSE_Modified_1: 0.233662\n",
      "[270]\ttraining's auc: 0.799802\ttraining's MSE_Modified_1: 0.214864\tvalid_1's auc: 0.628519\tvalid_1's MSE_Modified_1: 0.235449\n",
      "[270]\ttraining's auc: 0.818868\ttraining's MSE_Modified_1: 0.211657\tvalid_1's auc: 0.640653\tvalid_1's MSE_Modified_1: 0.233375\n",
      "[300]\ttraining's auc: 0.811949\ttraining's MSE_Modified_1: 0.212321\tvalid_1's auc: 0.629565\tvalid_1's MSE_Modified_1: 0.235063\n",
      "Did not meet early stopping. Best iteration is:\n",
      "[300]\ttraining's auc: 0.811949\ttraining's MSE_Modified_1: 0.212321\tvalid_1's auc: 0.629565\tvalid_1's MSE_Modified_1: 0.235063\n",
      "[300]\ttraining's auc: 0.831736\ttraining's MSE_Modified_1: 0.208643\tvalid_1's auc: 0.644433\tvalid_1's MSE_Modified_1: 0.232543\n",
      "Did not meet early stopping. Best iteration is:\n",
      "[300]\ttraining's auc: 0.831736\ttraining's MSE_Modified_1: 0.208643\tvalid_1's auc: 0.644433\tvalid_1's MSE_Modified_1: 0.232543\n"
     ]
    },
    {
     "name": "stderr",
     "output_type": "stream",
     "text": [
      "\u001b[32m[I 2021-01-03 00:51:59,099]\u001b[0m Trial 1 finished with value: 0.49990132082423405 and parameters: {'lambda_l1': 0.8076200712613311, 'lambda_l2': 0.7661088764095041, 'num_leaves': 244, 'feature_fraction': 0.4315111154517529, 'bagging_fraction': 0.6640401673702919, 'bagging_freq': 4, 'min_child_samples': 13}. Best is trial 1 with value: 0.49990132082423405.\u001b[0m\n"
     ]
    },
    {
     "name": "stdout",
     "output_type": "stream",
     "text": [
      "ROC AUC Score of LightGBM = 0.49990132082423405\n"
     ]
    },
    {
     "name": "stderr",
     "output_type": "stream",
     "text": [
      "\u001b[32m[I 2021-01-03 00:52:24,578]\u001b[0m Trial 0 finished with value: 0.499274673997011 and parameters: {'lambda_l1': 0.1850879731094282, 'lambda_l2': 0.38161872695118404, 'num_leaves': 254, 'feature_fraction': 0.7254889593129901, 'bagging_fraction': 0.8134460938965464, 'bagging_freq': 3, 'min_child_samples': 42}. Best is trial 1 with value: 0.49990132082423405.\u001b[0m\n"
     ]
    },
    {
     "name": "stdout",
     "output_type": "stream",
     "text": [
      "ROC AUC Score of LightGBM = 0.499274673997011\n",
      "Training until validation scores don't improve for 30 rounds\n",
      "[30]\ttraining's auc: 0.542892\ttraining's MSE_Modified_1: 0.248771\tvalid_1's auc: 0.539496\tvalid_1's MSE_Modified_1: 0.248945\n",
      "[60]\ttraining's auc: 0.551848\ttraining's MSE_Modified_1: 0.247519\tvalid_1's auc: 0.546437\tvalid_1's MSE_Modified_1: 0.247811\n",
      "[90]\ttraining's auc: 0.558903\ttraining's MSE_Modified_1: 0.246791\tvalid_1's auc: 0.552001\tvalid_1's MSE_Modified_1: 0.247204\n",
      "[120]\ttraining's auc: 0.56553\ttraining's MSE_Modified_1: 0.246105\tvalid_1's auc: 0.557227\tvalid_1's MSE_Modified_1: 0.246632\n",
      "[150]\ttraining's auc: 0.570341\ttraining's MSE_Modified_1: 0.245546\tvalid_1's auc: 0.560159\tvalid_1's MSE_Modified_1: 0.246207\n",
      "[180]\ttraining's auc: 0.574627\ttraining's MSE_Modified_1: 0.245089\tvalid_1's auc: 0.563185\tvalid_1's MSE_Modified_1: 0.24586\n",
      "[210]\ttraining's auc: 0.579154\ttraining's MSE_Modified_1: 0.2446\tvalid_1's auc: 0.566369\tvalid_1's MSE_Modified_1: 0.245494\n",
      "[240]\ttraining's auc: 0.58294\ttraining's MSE_Modified_1: 0.244165\tvalid_1's auc: 0.568775\tvalid_1's MSE_Modified_1: 0.245181\n",
      "[270]\ttraining's auc: 0.586788\ttraining's MSE_Modified_1: 0.243736\tvalid_1's auc: 0.571021\tvalid_1's MSE_Modified_1: 0.244886\n",
      "[300]\ttraining's auc: 0.59017\ttraining's MSE_Modified_1: 0.243306\tvalid_1's auc: 0.572909\tvalid_1's MSE_Modified_1: 0.244584\n",
      "Did not meet early stopping. Best iteration is:\n",
      "[300]\ttraining's auc: 0.59017\ttraining's MSE_Modified_1: 0.243306\tvalid_1's auc: 0.572909\tvalid_1's MSE_Modified_1: 0.244584\n"
     ]
    },
    {
     "name": "stderr",
     "output_type": "stream",
     "text": [
      "\u001b[32m[I 2021-01-03 00:54:50,355]\u001b[0m Trial 2 finished with value: 0.5005389338954468 and parameters: {'lambda_l1': 0.12085936406119104, 'lambda_l2': 0.2078915827751604, 'num_leaves': 15, 'feature_fraction': 0.8317518572850652, 'bagging_fraction': 0.9444576212537554, 'bagging_freq': 2, 'min_child_samples': 55}. Best is trial 2 with value: 0.5005389338954468.\u001b[0m\n"
     ]
    },
    {
     "name": "stdout",
     "output_type": "stream",
     "text": [
      "ROC AUC Score of LightGBM = 0.5005389338954468\n",
      "CPU times: user 17min 17s, sys: 2min 34s, total: 19min 51s\n",
      "Wall time: 10min 58s\n"
     ]
    }
   ],
   "source": [
    "%%time\n",
    "# Optimize Hyperparameters.\n",
    "study = optuna.create_study(direction = 'maximize', sampler = TPESampler(seed=int(SEED)))\n",
    "study.optimize(objective, n_trials = n_trials, n_jobs = multiprocessing.cpu_count(), timeout=60*60*2)"
   ]
  },
  {
   "cell_type": "code",
   "execution_count": 15,
   "metadata": {
    "execution": {
     "iopub.execute_input": "2021-01-03T00:54:50.715918Z",
     "iopub.status.busy": "2021-01-03T00:54:50.714921Z",
     "iopub.status.idle": "2021-01-03T00:54:50.721523Z",
     "shell.execute_reply": "2021-01-03T00:54:50.721954Z"
    },
    "papermill": {
     "duration": 0.143886,
     "end_time": "2021-01-03T00:54:50.722113",
     "exception": false,
     "start_time": "2021-01-03T00:54:50.578227",
     "status": "completed"
    },
    "tags": []
   },
   "outputs": [
    {
     "name": "stdout",
     "output_type": "stream",
     "text": [
      "CPU times: user 789 µs, sys: 120 µs, total: 909 µs\n",
      "Wall time: 701 µs\n"
     ]
    }
   ],
   "source": [
    "%%time\n",
    "# Save\n",
    "pickle.dump(study.best_trial.params, open('LightGBM_Hyperparameter.pickle', 'wb'))"
   ]
  },
  {
   "cell_type": "markdown",
   "metadata": {
    "papermill": {
     "duration": 0.13109,
     "end_time": "2021-01-03T00:54:50.983967",
     "exception": false,
     "start_time": "2021-01-03T00:54:50.852877",
     "status": "completed"
    },
    "tags": []
   },
   "source": [
    "# References:\n",
    "- [LightGBM Tuner: New Optuna Integration for Hyperparameter Optimization](https://tech.preferred.jp/en/blog/lightgbm-tuner-new-optuna-integration-for-hyperparameter-optimization/)\n",
    "- [Optimized LightGBM Classifier on Utility Score](https://www.kaggle.com/satorushibata/optimized-lightgbm-classifier-on-utility-score)\n",
    "- [Research with Customized Sharp Weighted](https://www.kaggle.com/satorushibata/research-with-customized-sharp-weighted)\n",
    "- [GPU-accelerated LightGBM full](https://www.kaggle.com/dromosys/gpu-accelerated-lightgbm-full)"
   ]
  }
 ],
 "metadata": {
  "kernelspec": {
   "display_name": "Python 3",
   "language": "python",
   "name": "python3"
  },
  "language_info": {
   "codemirror_mode": {
    "name": "ipython",
    "version": 3
   },
   "file_extension": ".py",
   "mimetype": "text/x-python",
   "name": "python",
   "nbconvert_exporter": "python",
   "pygments_lexer": "ipython3",
   "version": "3.7.6"
  },
  "papermill": {
   "duration": 1043.392564,
   "end_time": "2021-01-03T00:54:51.641235",
   "environment_variables": {},
   "exception": null,
   "input_path": "__notebook__.ipynb",
   "output_path": "__notebook__.ipynb",
   "parameters": {},
   "start_time": "2021-01-03T00:37:28.248671",
   "version": "2.1.0"
  }
 },
 "nbformat": 4,
 "nbformat_minor": 4
}
